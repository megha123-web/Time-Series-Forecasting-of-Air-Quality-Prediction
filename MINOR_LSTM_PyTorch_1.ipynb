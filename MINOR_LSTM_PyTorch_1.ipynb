{
  "nbformat": 4,
  "nbformat_minor": 0,
  "metadata": {
    "colab": {
      "name": "MINOR_LSTM_PyTorch_ts7.ipynb",
      "provenance": [],
      "collapsed_sections": []
    },
    "kernelspec": {
      "name": "python3",
      "display_name": "Python 3"
    },
    "language_info": {
      "name": "python"
    }
  },
  "cells": [
    {
      "cell_type": "code",
      "metadata": {
        "id": "9awkdniJvbrC"
      },
      "source": [
        "import numpy as np\n",
        "import pandas as pd\n",
        "import matplotlib.pyplot as plt\n",
        "import seaborn as sns"
      ],
      "execution_count": null,
      "outputs": []
    },
    {
      "cell_type": "code",
      "metadata": {
        "colab": {
          "base_uri": "https://localhost:8080/"
        },
        "id": "Tl9qhC6Az9ge",
        "outputId": "34eafd6d-5697-4078-a5d2-5aaa528d9772"
      },
      "source": [
        "from google.colab import drive\n",
        "drive.mount('/content/drive')"
      ],
      "execution_count": null,
      "outputs": [
        {
          "output_type": "stream",
          "name": "stdout",
          "text": [
            "Drive already mounted at /content/drive; to attempt to forcibly remount, call drive.mount(\"/content/drive\", force_remount=True).\n"
          ]
        }
      ]
    },
    {
      "cell_type": "markdown",
      "metadata": {
        "id": "oscXDk4B5mMs"
      },
      "source": [
        "## Load Pollutants Dataset"
      ]
    },
    {
      "cell_type": "code",
      "metadata": {
        "colab": {
          "base_uri": "https://localhost:8080/",
          "height": 206
        },
        "id": "Ijsxzdeuz9dB",
        "outputId": "5a423b19-e8f5-4147-f6dc-51b2c4c69ede"
      },
      "source": [
        "pollutants = pd.read_csv('/content/drive/MyDrive/Datasets/city_day.csv')\n",
        "pollutants.head()"
      ],
      "execution_count": null,
      "outputs": [
        {
          "output_type": "execute_result",
          "data": {
            "text/html": [
              "<div>\n",
              "<style scoped>\n",
              "    .dataframe tbody tr th:only-of-type {\n",
              "        vertical-align: middle;\n",
              "    }\n",
              "\n",
              "    .dataframe tbody tr th {\n",
              "        vertical-align: top;\n",
              "    }\n",
              "\n",
              "    .dataframe thead th {\n",
              "        text-align: right;\n",
              "    }\n",
              "</style>\n",
              "<table border=\"1\" class=\"dataframe\">\n",
              "  <thead>\n",
              "    <tr style=\"text-align: right;\">\n",
              "      <th></th>\n",
              "      <th>City</th>\n",
              "      <th>Date</th>\n",
              "      <th>PM2.5</th>\n",
              "      <th>PM10</th>\n",
              "      <th>NO</th>\n",
              "      <th>NO2</th>\n",
              "      <th>NOx</th>\n",
              "      <th>NH3</th>\n",
              "      <th>CO</th>\n",
              "      <th>SO2</th>\n",
              "      <th>O3</th>\n",
              "      <th>Benzene</th>\n",
              "      <th>Toluene</th>\n",
              "      <th>Xylene</th>\n",
              "      <th>AQI</th>\n",
              "      <th>AQI_Bucket</th>\n",
              "    </tr>\n",
              "  </thead>\n",
              "  <tbody>\n",
              "    <tr>\n",
              "      <th>0</th>\n",
              "      <td>Ahmedabad</td>\n",
              "      <td>2015-01-01</td>\n",
              "      <td>NaN</td>\n",
              "      <td>NaN</td>\n",
              "      <td>0.92</td>\n",
              "      <td>18.22</td>\n",
              "      <td>17.15</td>\n",
              "      <td>NaN</td>\n",
              "      <td>0.92</td>\n",
              "      <td>27.64</td>\n",
              "      <td>133.36</td>\n",
              "      <td>0.00</td>\n",
              "      <td>0.02</td>\n",
              "      <td>0.00</td>\n",
              "      <td>NaN</td>\n",
              "      <td>NaN</td>\n",
              "    </tr>\n",
              "    <tr>\n",
              "      <th>1</th>\n",
              "      <td>Ahmedabad</td>\n",
              "      <td>2015-01-02</td>\n",
              "      <td>NaN</td>\n",
              "      <td>NaN</td>\n",
              "      <td>0.97</td>\n",
              "      <td>15.69</td>\n",
              "      <td>16.46</td>\n",
              "      <td>NaN</td>\n",
              "      <td>0.97</td>\n",
              "      <td>24.55</td>\n",
              "      <td>34.06</td>\n",
              "      <td>3.68</td>\n",
              "      <td>5.50</td>\n",
              "      <td>3.77</td>\n",
              "      <td>NaN</td>\n",
              "      <td>NaN</td>\n",
              "    </tr>\n",
              "    <tr>\n",
              "      <th>2</th>\n",
              "      <td>Ahmedabad</td>\n",
              "      <td>2015-01-03</td>\n",
              "      <td>NaN</td>\n",
              "      <td>NaN</td>\n",
              "      <td>17.40</td>\n",
              "      <td>19.30</td>\n",
              "      <td>29.70</td>\n",
              "      <td>NaN</td>\n",
              "      <td>17.40</td>\n",
              "      <td>29.07</td>\n",
              "      <td>30.70</td>\n",
              "      <td>6.80</td>\n",
              "      <td>16.40</td>\n",
              "      <td>2.25</td>\n",
              "      <td>NaN</td>\n",
              "      <td>NaN</td>\n",
              "    </tr>\n",
              "    <tr>\n",
              "      <th>3</th>\n",
              "      <td>Ahmedabad</td>\n",
              "      <td>2015-01-04</td>\n",
              "      <td>NaN</td>\n",
              "      <td>NaN</td>\n",
              "      <td>1.70</td>\n",
              "      <td>18.48</td>\n",
              "      <td>17.97</td>\n",
              "      <td>NaN</td>\n",
              "      <td>1.70</td>\n",
              "      <td>18.59</td>\n",
              "      <td>36.08</td>\n",
              "      <td>4.43</td>\n",
              "      <td>10.14</td>\n",
              "      <td>1.00</td>\n",
              "      <td>NaN</td>\n",
              "      <td>NaN</td>\n",
              "    </tr>\n",
              "    <tr>\n",
              "      <th>4</th>\n",
              "      <td>Ahmedabad</td>\n",
              "      <td>2015-01-05</td>\n",
              "      <td>NaN</td>\n",
              "      <td>NaN</td>\n",
              "      <td>22.10</td>\n",
              "      <td>21.42</td>\n",
              "      <td>37.76</td>\n",
              "      <td>NaN</td>\n",
              "      <td>22.10</td>\n",
              "      <td>39.33</td>\n",
              "      <td>39.31</td>\n",
              "      <td>7.01</td>\n",
              "      <td>18.89</td>\n",
              "      <td>2.78</td>\n",
              "      <td>NaN</td>\n",
              "      <td>NaN</td>\n",
              "    </tr>\n",
              "  </tbody>\n",
              "</table>\n",
              "</div>"
            ],
            "text/plain": [
              "        City        Date  PM2.5  PM10  ...  Toluene  Xylene  AQI  AQI_Bucket\n",
              "0  Ahmedabad  2015-01-01    NaN   NaN  ...     0.02    0.00  NaN         NaN\n",
              "1  Ahmedabad  2015-01-02    NaN   NaN  ...     5.50    3.77  NaN         NaN\n",
              "2  Ahmedabad  2015-01-03    NaN   NaN  ...    16.40    2.25  NaN         NaN\n",
              "3  Ahmedabad  2015-01-04    NaN   NaN  ...    10.14    1.00  NaN         NaN\n",
              "4  Ahmedabad  2015-01-05    NaN   NaN  ...    18.89    2.78  NaN         NaN\n",
              "\n",
              "[5 rows x 16 columns]"
            ]
          },
          "metadata": {},
          "execution_count": 3
        }
      ]
    },
    {
      "cell_type": "code",
      "metadata": {
        "id": "0rrv7jlRvt1y"
      },
      "source": [
        "# pollutants = pd.read_csv('city_day.csv')\n",
        "# pollutants.head()"
      ],
      "execution_count": null,
      "outputs": []
    },
    {
      "cell_type": "markdown",
      "metadata": {
        "id": "S8NBRoI5yZsk"
      },
      "source": [
        "### Pollutants training data (2016-19)"
      ]
    },
    {
      "cell_type": "code",
      "metadata": {
        "colab": {
          "base_uri": "https://localhost:8080/",
          "height": 423
        },
        "id": "1fSstGKaxfLt",
        "outputId": "2887c8a5-6135-4ec5-822d-c85fc6e13189"
      },
      "source": [
        "pollutants = pollutants[(pollutants['Date'] > '2015-12-31') & (pollutants['Date'] < '2020-01-01') & (pollutants['City'] == 'Bengaluru')]\n",
        "pollutants"
      ],
      "execution_count": null,
      "outputs": [
        {
          "output_type": "execute_result",
          "data": {
            "text/html": [
              "<div>\n",
              "<style scoped>\n",
              "    .dataframe tbody tr th:only-of-type {\n",
              "        vertical-align: middle;\n",
              "    }\n",
              "\n",
              "    .dataframe tbody tr th {\n",
              "        vertical-align: top;\n",
              "    }\n",
              "\n",
              "    .dataframe thead th {\n",
              "        text-align: right;\n",
              "    }\n",
              "</style>\n",
              "<table border=\"1\" class=\"dataframe\">\n",
              "  <thead>\n",
              "    <tr style=\"text-align: right;\">\n",
              "      <th></th>\n",
              "      <th>City</th>\n",
              "      <th>Date</th>\n",
              "      <th>PM2.5</th>\n",
              "      <th>PM10</th>\n",
              "      <th>NO</th>\n",
              "      <th>NO2</th>\n",
              "      <th>NOx</th>\n",
              "      <th>NH3</th>\n",
              "      <th>CO</th>\n",
              "      <th>SO2</th>\n",
              "      <th>O3</th>\n",
              "      <th>Benzene</th>\n",
              "      <th>Toluene</th>\n",
              "      <th>Xylene</th>\n",
              "      <th>AQI</th>\n",
              "      <th>AQI_Bucket</th>\n",
              "    </tr>\n",
              "  </thead>\n",
              "  <tbody>\n",
              "    <tr>\n",
              "      <th>4659</th>\n",
              "      <td>Bengaluru</td>\n",
              "      <td>2016-01-01</td>\n",
              "      <td>56.40</td>\n",
              "      <td>95.08</td>\n",
              "      <td>13.80</td>\n",
              "      <td>51.73</td>\n",
              "      <td>34.31</td>\n",
              "      <td>14.68</td>\n",
              "      <td>0.69</td>\n",
              "      <td>7.44</td>\n",
              "      <td>55.96</td>\n",
              "      <td>0.91</td>\n",
              "      <td>0.78</td>\n",
              "      <td>NaN</td>\n",
              "      <td>101.0</td>\n",
              "      <td>Moderate</td>\n",
              "    </tr>\n",
              "    <tr>\n",
              "      <th>4660</th>\n",
              "      <td>Bengaluru</td>\n",
              "      <td>2016-01-02</td>\n",
              "      <td>53.69</td>\n",
              "      <td>93.92</td>\n",
              "      <td>26.49</td>\n",
              "      <td>73.09</td>\n",
              "      <td>54.77</td>\n",
              "      <td>16.05</td>\n",
              "      <td>0.76</td>\n",
              "      <td>8.67</td>\n",
              "      <td>34.06</td>\n",
              "      <td>1.88</td>\n",
              "      <td>1.18</td>\n",
              "      <td>NaN</td>\n",
              "      <td>92.0</td>\n",
              "      <td>Satisfactory</td>\n",
              "    </tr>\n",
              "    <tr>\n",
              "      <th>4661</th>\n",
              "      <td>Bengaluru</td>\n",
              "      <td>2016-01-03</td>\n",
              "      <td>62.35</td>\n",
              "      <td>99.34</td>\n",
              "      <td>24.56</td>\n",
              "      <td>77.77</td>\n",
              "      <td>55.60</td>\n",
              "      <td>16.37</td>\n",
              "      <td>0.96</td>\n",
              "      <td>9.10</td>\n",
              "      <td>47.62</td>\n",
              "      <td>2.36</td>\n",
              "      <td>1.14</td>\n",
              "      <td>NaN</td>\n",
              "      <td>108.0</td>\n",
              "      <td>Moderate</td>\n",
              "    </tr>\n",
              "    <tr>\n",
              "      <th>4662</th>\n",
              "      <td>Bengaluru</td>\n",
              "      <td>2016-01-04</td>\n",
              "      <td>64.96</td>\n",
              "      <td>104.62</td>\n",
              "      <td>18.56</td>\n",
              "      <td>77.07</td>\n",
              "      <td>50.81</td>\n",
              "      <td>14.18</td>\n",
              "      <td>0.89</td>\n",
              "      <td>8.87</td>\n",
              "      <td>50.62</td>\n",
              "      <td>1.95</td>\n",
              "      <td>1.33</td>\n",
              "      <td>NaN</td>\n",
              "      <td>109.0</td>\n",
              "      <td>Moderate</td>\n",
              "    </tr>\n",
              "    <tr>\n",
              "      <th>4663</th>\n",
              "      <td>Bengaluru</td>\n",
              "      <td>2016-01-05</td>\n",
              "      <td>70.15</td>\n",
              "      <td>105.12</td>\n",
              "      <td>23.56</td>\n",
              "      <td>79.43</td>\n",
              "      <td>56.05</td>\n",
              "      <td>16.97</td>\n",
              "      <td>0.85</td>\n",
              "      <td>9.41</td>\n",
              "      <td>36.94</td>\n",
              "      <td>1.92</td>\n",
              "      <td>1.26</td>\n",
              "      <td>NaN</td>\n",
              "      <td>114.0</td>\n",
              "      <td>Moderate</td>\n",
              "    </tr>\n",
              "    <tr>\n",
              "      <th>...</th>\n",
              "      <td>...</td>\n",
              "      <td>...</td>\n",
              "      <td>...</td>\n",
              "      <td>...</td>\n",
              "      <td>...</td>\n",
              "      <td>...</td>\n",
              "      <td>...</td>\n",
              "      <td>...</td>\n",
              "      <td>...</td>\n",
              "      <td>...</td>\n",
              "      <td>...</td>\n",
              "      <td>...</td>\n",
              "      <td>...</td>\n",
              "      <td>...</td>\n",
              "      <td>...</td>\n",
              "      <td>...</td>\n",
              "    </tr>\n",
              "    <tr>\n",
              "      <th>6115</th>\n",
              "      <td>Bengaluru</td>\n",
              "      <td>2019-12-27</td>\n",
              "      <td>43.32</td>\n",
              "      <td>87.09</td>\n",
              "      <td>9.56</td>\n",
              "      <td>31.24</td>\n",
              "      <td>32.59</td>\n",
              "      <td>14.71</td>\n",
              "      <td>1.09</td>\n",
              "      <td>6.60</td>\n",
              "      <td>39.42</td>\n",
              "      <td>1.66</td>\n",
              "      <td>41.25</td>\n",
              "      <td>NaN</td>\n",
              "      <td>98.0</td>\n",
              "      <td>Satisfactory</td>\n",
              "    </tr>\n",
              "    <tr>\n",
              "      <th>6116</th>\n",
              "      <td>Bengaluru</td>\n",
              "      <td>2019-12-28</td>\n",
              "      <td>35.24</td>\n",
              "      <td>70.75</td>\n",
              "      <td>7.86</td>\n",
              "      <td>26.94</td>\n",
              "      <td>27.78</td>\n",
              "      <td>13.37</td>\n",
              "      <td>0.97</td>\n",
              "      <td>7.38</td>\n",
              "      <td>37.81</td>\n",
              "      <td>0.93</td>\n",
              "      <td>44.93</td>\n",
              "      <td>NaN</td>\n",
              "      <td>82.0</td>\n",
              "      <td>Satisfactory</td>\n",
              "    </tr>\n",
              "    <tr>\n",
              "      <th>6117</th>\n",
              "      <td>Bengaluru</td>\n",
              "      <td>2019-12-29</td>\n",
              "      <td>38.53</td>\n",
              "      <td>73.77</td>\n",
              "      <td>6.56</td>\n",
              "      <td>26.20</td>\n",
              "      <td>26.31</td>\n",
              "      <td>13.02</td>\n",
              "      <td>0.92</td>\n",
              "      <td>7.39</td>\n",
              "      <td>43.50</td>\n",
              "      <td>0.63</td>\n",
              "      <td>23.56</td>\n",
              "      <td>NaN</td>\n",
              "      <td>80.0</td>\n",
              "      <td>Satisfactory</td>\n",
              "    </tr>\n",
              "    <tr>\n",
              "      <th>6118</th>\n",
              "      <td>Bengaluru</td>\n",
              "      <td>2019-12-30</td>\n",
              "      <td>47.81</td>\n",
              "      <td>77.49</td>\n",
              "      <td>6.40</td>\n",
              "      <td>28.46</td>\n",
              "      <td>27.79</td>\n",
              "      <td>12.91</td>\n",
              "      <td>1.03</td>\n",
              "      <td>8.04</td>\n",
              "      <td>44.92</td>\n",
              "      <td>0.62</td>\n",
              "      <td>24.96</td>\n",
              "      <td>NaN</td>\n",
              "      <td>93.0</td>\n",
              "      <td>Satisfactory</td>\n",
              "    </tr>\n",
              "    <tr>\n",
              "      <th>6119</th>\n",
              "      <td>Bengaluru</td>\n",
              "      <td>2019-12-31</td>\n",
              "      <td>42.54</td>\n",
              "      <td>84.76</td>\n",
              "      <td>7.92</td>\n",
              "      <td>29.10</td>\n",
              "      <td>27.48</td>\n",
              "      <td>13.75</td>\n",
              "      <td>1.06</td>\n",
              "      <td>7.58</td>\n",
              "      <td>45.78</td>\n",
              "      <td>0.88</td>\n",
              "      <td>27.59</td>\n",
              "      <td>NaN</td>\n",
              "      <td>97.0</td>\n",
              "      <td>Satisfactory</td>\n",
              "    </tr>\n",
              "  </tbody>\n",
              "</table>\n",
              "<p>1461 rows × 16 columns</p>\n",
              "</div>"
            ],
            "text/plain": [
              "           City        Date  PM2.5  ...  Xylene    AQI    AQI_Bucket\n",
              "4659  Bengaluru  2016-01-01  56.40  ...     NaN  101.0      Moderate\n",
              "4660  Bengaluru  2016-01-02  53.69  ...     NaN   92.0  Satisfactory\n",
              "4661  Bengaluru  2016-01-03  62.35  ...     NaN  108.0      Moderate\n",
              "4662  Bengaluru  2016-01-04  64.96  ...     NaN  109.0      Moderate\n",
              "4663  Bengaluru  2016-01-05  70.15  ...     NaN  114.0      Moderate\n",
              "...         ...         ...    ...  ...     ...    ...           ...\n",
              "6115  Bengaluru  2019-12-27  43.32  ...     NaN   98.0  Satisfactory\n",
              "6116  Bengaluru  2019-12-28  35.24  ...     NaN   82.0  Satisfactory\n",
              "6117  Bengaluru  2019-12-29  38.53  ...     NaN   80.0  Satisfactory\n",
              "6118  Bengaluru  2019-12-30  47.81  ...     NaN   93.0  Satisfactory\n",
              "6119  Bengaluru  2019-12-31  42.54  ...     NaN   97.0  Satisfactory\n",
              "\n",
              "[1461 rows x 16 columns]"
            ]
          },
          "metadata": {},
          "execution_count": 5
        }
      ]
    },
    {
      "cell_type": "code",
      "metadata": {
        "colab": {
          "base_uri": "https://localhost:8080/",
          "height": 206
        },
        "id": "MoDcOXNsynIw",
        "outputId": "6ee026be-90f6-4004-9e33-4564e9e6f239"
      },
      "source": [
        "pollutants = pollutants.reset_index(drop=True)\n",
        "pollutants.head()"
      ],
      "execution_count": null,
      "outputs": [
        {
          "output_type": "execute_result",
          "data": {
            "text/html": [
              "<div>\n",
              "<style scoped>\n",
              "    .dataframe tbody tr th:only-of-type {\n",
              "        vertical-align: middle;\n",
              "    }\n",
              "\n",
              "    .dataframe tbody tr th {\n",
              "        vertical-align: top;\n",
              "    }\n",
              "\n",
              "    .dataframe thead th {\n",
              "        text-align: right;\n",
              "    }\n",
              "</style>\n",
              "<table border=\"1\" class=\"dataframe\">\n",
              "  <thead>\n",
              "    <tr style=\"text-align: right;\">\n",
              "      <th></th>\n",
              "      <th>City</th>\n",
              "      <th>Date</th>\n",
              "      <th>PM2.5</th>\n",
              "      <th>PM10</th>\n",
              "      <th>NO</th>\n",
              "      <th>NO2</th>\n",
              "      <th>NOx</th>\n",
              "      <th>NH3</th>\n",
              "      <th>CO</th>\n",
              "      <th>SO2</th>\n",
              "      <th>O3</th>\n",
              "      <th>Benzene</th>\n",
              "      <th>Toluene</th>\n",
              "      <th>Xylene</th>\n",
              "      <th>AQI</th>\n",
              "      <th>AQI_Bucket</th>\n",
              "    </tr>\n",
              "  </thead>\n",
              "  <tbody>\n",
              "    <tr>\n",
              "      <th>0</th>\n",
              "      <td>Bengaluru</td>\n",
              "      <td>2016-01-01</td>\n",
              "      <td>56.40</td>\n",
              "      <td>95.08</td>\n",
              "      <td>13.80</td>\n",
              "      <td>51.73</td>\n",
              "      <td>34.31</td>\n",
              "      <td>14.68</td>\n",
              "      <td>0.69</td>\n",
              "      <td>7.44</td>\n",
              "      <td>55.96</td>\n",
              "      <td>0.91</td>\n",
              "      <td>0.78</td>\n",
              "      <td>NaN</td>\n",
              "      <td>101.0</td>\n",
              "      <td>Moderate</td>\n",
              "    </tr>\n",
              "    <tr>\n",
              "      <th>1</th>\n",
              "      <td>Bengaluru</td>\n",
              "      <td>2016-01-02</td>\n",
              "      <td>53.69</td>\n",
              "      <td>93.92</td>\n",
              "      <td>26.49</td>\n",
              "      <td>73.09</td>\n",
              "      <td>54.77</td>\n",
              "      <td>16.05</td>\n",
              "      <td>0.76</td>\n",
              "      <td>8.67</td>\n",
              "      <td>34.06</td>\n",
              "      <td>1.88</td>\n",
              "      <td>1.18</td>\n",
              "      <td>NaN</td>\n",
              "      <td>92.0</td>\n",
              "      <td>Satisfactory</td>\n",
              "    </tr>\n",
              "    <tr>\n",
              "      <th>2</th>\n",
              "      <td>Bengaluru</td>\n",
              "      <td>2016-01-03</td>\n",
              "      <td>62.35</td>\n",
              "      <td>99.34</td>\n",
              "      <td>24.56</td>\n",
              "      <td>77.77</td>\n",
              "      <td>55.60</td>\n",
              "      <td>16.37</td>\n",
              "      <td>0.96</td>\n",
              "      <td>9.10</td>\n",
              "      <td>47.62</td>\n",
              "      <td>2.36</td>\n",
              "      <td>1.14</td>\n",
              "      <td>NaN</td>\n",
              "      <td>108.0</td>\n",
              "      <td>Moderate</td>\n",
              "    </tr>\n",
              "    <tr>\n",
              "      <th>3</th>\n",
              "      <td>Bengaluru</td>\n",
              "      <td>2016-01-04</td>\n",
              "      <td>64.96</td>\n",
              "      <td>104.62</td>\n",
              "      <td>18.56</td>\n",
              "      <td>77.07</td>\n",
              "      <td>50.81</td>\n",
              "      <td>14.18</td>\n",
              "      <td>0.89</td>\n",
              "      <td>8.87</td>\n",
              "      <td>50.62</td>\n",
              "      <td>1.95</td>\n",
              "      <td>1.33</td>\n",
              "      <td>NaN</td>\n",
              "      <td>109.0</td>\n",
              "      <td>Moderate</td>\n",
              "    </tr>\n",
              "    <tr>\n",
              "      <th>4</th>\n",
              "      <td>Bengaluru</td>\n",
              "      <td>2016-01-05</td>\n",
              "      <td>70.15</td>\n",
              "      <td>105.12</td>\n",
              "      <td>23.56</td>\n",
              "      <td>79.43</td>\n",
              "      <td>56.05</td>\n",
              "      <td>16.97</td>\n",
              "      <td>0.85</td>\n",
              "      <td>9.41</td>\n",
              "      <td>36.94</td>\n",
              "      <td>1.92</td>\n",
              "      <td>1.26</td>\n",
              "      <td>NaN</td>\n",
              "      <td>114.0</td>\n",
              "      <td>Moderate</td>\n",
              "    </tr>\n",
              "  </tbody>\n",
              "</table>\n",
              "</div>"
            ],
            "text/plain": [
              "        City        Date  PM2.5    PM10  ...  Toluene  Xylene    AQI    AQI_Bucket\n",
              "0  Bengaluru  2016-01-01  56.40   95.08  ...     0.78     NaN  101.0      Moderate\n",
              "1  Bengaluru  2016-01-02  53.69   93.92  ...     1.18     NaN   92.0  Satisfactory\n",
              "2  Bengaluru  2016-01-03  62.35   99.34  ...     1.14     NaN  108.0      Moderate\n",
              "3  Bengaluru  2016-01-04  64.96  104.62  ...     1.33     NaN  109.0      Moderate\n",
              "4  Bengaluru  2016-01-05  70.15  105.12  ...     1.26     NaN  114.0      Moderate\n",
              "\n",
              "[5 rows x 16 columns]"
            ]
          },
          "metadata": {},
          "execution_count": 6
        }
      ]
    },
    {
      "cell_type": "code",
      "metadata": {
        "id": "uvIbHpf7gjOE"
      },
      "source": [
        "pollutants['Date'] = pd.to_datetime(pollutants['Date'], format='%Y-%m-%d')"
      ],
      "execution_count": null,
      "outputs": []
    },
    {
      "cell_type": "code",
      "metadata": {
        "colab": {
          "base_uri": "https://localhost:8080/",
          "height": 238
        },
        "id": "-hZFI10neQq6",
        "outputId": "a103802a-bed2-4056-ad40-768f69a93bdd"
      },
      "source": [
        "pollutants = pollutants.set_index('Date')\n",
        "pollutants.head()"
      ],
      "execution_count": null,
      "outputs": [
        {
          "output_type": "execute_result",
          "data": {
            "text/html": [
              "<div>\n",
              "<style scoped>\n",
              "    .dataframe tbody tr th:only-of-type {\n",
              "        vertical-align: middle;\n",
              "    }\n",
              "\n",
              "    .dataframe tbody tr th {\n",
              "        vertical-align: top;\n",
              "    }\n",
              "\n",
              "    .dataframe thead th {\n",
              "        text-align: right;\n",
              "    }\n",
              "</style>\n",
              "<table border=\"1\" class=\"dataframe\">\n",
              "  <thead>\n",
              "    <tr style=\"text-align: right;\">\n",
              "      <th></th>\n",
              "      <th>City</th>\n",
              "      <th>PM2.5</th>\n",
              "      <th>PM10</th>\n",
              "      <th>NO</th>\n",
              "      <th>NO2</th>\n",
              "      <th>NOx</th>\n",
              "      <th>NH3</th>\n",
              "      <th>CO</th>\n",
              "      <th>SO2</th>\n",
              "      <th>O3</th>\n",
              "      <th>Benzene</th>\n",
              "      <th>Toluene</th>\n",
              "      <th>Xylene</th>\n",
              "      <th>AQI</th>\n",
              "      <th>AQI_Bucket</th>\n",
              "    </tr>\n",
              "    <tr>\n",
              "      <th>Date</th>\n",
              "      <th></th>\n",
              "      <th></th>\n",
              "      <th></th>\n",
              "      <th></th>\n",
              "      <th></th>\n",
              "      <th></th>\n",
              "      <th></th>\n",
              "      <th></th>\n",
              "      <th></th>\n",
              "      <th></th>\n",
              "      <th></th>\n",
              "      <th></th>\n",
              "      <th></th>\n",
              "      <th></th>\n",
              "      <th></th>\n",
              "    </tr>\n",
              "  </thead>\n",
              "  <tbody>\n",
              "    <tr>\n",
              "      <th>2016-01-01</th>\n",
              "      <td>Bengaluru</td>\n",
              "      <td>56.40</td>\n",
              "      <td>95.08</td>\n",
              "      <td>13.80</td>\n",
              "      <td>51.73</td>\n",
              "      <td>34.31</td>\n",
              "      <td>14.68</td>\n",
              "      <td>0.69</td>\n",
              "      <td>7.44</td>\n",
              "      <td>55.96</td>\n",
              "      <td>0.91</td>\n",
              "      <td>0.78</td>\n",
              "      <td>NaN</td>\n",
              "      <td>101.0</td>\n",
              "      <td>Moderate</td>\n",
              "    </tr>\n",
              "    <tr>\n",
              "      <th>2016-01-02</th>\n",
              "      <td>Bengaluru</td>\n",
              "      <td>53.69</td>\n",
              "      <td>93.92</td>\n",
              "      <td>26.49</td>\n",
              "      <td>73.09</td>\n",
              "      <td>54.77</td>\n",
              "      <td>16.05</td>\n",
              "      <td>0.76</td>\n",
              "      <td>8.67</td>\n",
              "      <td>34.06</td>\n",
              "      <td>1.88</td>\n",
              "      <td>1.18</td>\n",
              "      <td>NaN</td>\n",
              "      <td>92.0</td>\n",
              "      <td>Satisfactory</td>\n",
              "    </tr>\n",
              "    <tr>\n",
              "      <th>2016-01-03</th>\n",
              "      <td>Bengaluru</td>\n",
              "      <td>62.35</td>\n",
              "      <td>99.34</td>\n",
              "      <td>24.56</td>\n",
              "      <td>77.77</td>\n",
              "      <td>55.60</td>\n",
              "      <td>16.37</td>\n",
              "      <td>0.96</td>\n",
              "      <td>9.10</td>\n",
              "      <td>47.62</td>\n",
              "      <td>2.36</td>\n",
              "      <td>1.14</td>\n",
              "      <td>NaN</td>\n",
              "      <td>108.0</td>\n",
              "      <td>Moderate</td>\n",
              "    </tr>\n",
              "    <tr>\n",
              "      <th>2016-01-04</th>\n",
              "      <td>Bengaluru</td>\n",
              "      <td>64.96</td>\n",
              "      <td>104.62</td>\n",
              "      <td>18.56</td>\n",
              "      <td>77.07</td>\n",
              "      <td>50.81</td>\n",
              "      <td>14.18</td>\n",
              "      <td>0.89</td>\n",
              "      <td>8.87</td>\n",
              "      <td>50.62</td>\n",
              "      <td>1.95</td>\n",
              "      <td>1.33</td>\n",
              "      <td>NaN</td>\n",
              "      <td>109.0</td>\n",
              "      <td>Moderate</td>\n",
              "    </tr>\n",
              "    <tr>\n",
              "      <th>2016-01-05</th>\n",
              "      <td>Bengaluru</td>\n",
              "      <td>70.15</td>\n",
              "      <td>105.12</td>\n",
              "      <td>23.56</td>\n",
              "      <td>79.43</td>\n",
              "      <td>56.05</td>\n",
              "      <td>16.97</td>\n",
              "      <td>0.85</td>\n",
              "      <td>9.41</td>\n",
              "      <td>36.94</td>\n",
              "      <td>1.92</td>\n",
              "      <td>1.26</td>\n",
              "      <td>NaN</td>\n",
              "      <td>114.0</td>\n",
              "      <td>Moderate</td>\n",
              "    </tr>\n",
              "  </tbody>\n",
              "</table>\n",
              "</div>"
            ],
            "text/plain": [
              "                 City  PM2.5    PM10  ...  Xylene    AQI    AQI_Bucket\n",
              "Date                                  ...                             \n",
              "2016-01-01  Bengaluru  56.40   95.08  ...     NaN  101.0      Moderate\n",
              "2016-01-02  Bengaluru  53.69   93.92  ...     NaN   92.0  Satisfactory\n",
              "2016-01-03  Bengaluru  62.35   99.34  ...     NaN  108.0      Moderate\n",
              "2016-01-04  Bengaluru  64.96  104.62  ...     NaN  109.0      Moderate\n",
              "2016-01-05  Bengaluru  70.15  105.12  ...     NaN  114.0      Moderate\n",
              "\n",
              "[5 rows x 15 columns]"
            ]
          },
          "metadata": {},
          "execution_count": 8
        }
      ]
    },
    {
      "cell_type": "code",
      "metadata": {
        "colab": {
          "base_uri": "https://localhost:8080/",
          "height": 238
        },
        "id": "mDAtWUVrynLA",
        "outputId": "77da205f-9f5e-4a44-fcae-53270b6160e2"
      },
      "source": [
        "pollutants = pollutants.drop(columns=['City', 'NH3','NO', 'Benzene',\t'Toluene',\t'Xylene', 'AQI_Bucket'])\n",
        "pollutants.head()"
      ],
      "execution_count": null,
      "outputs": [
        {
          "output_type": "execute_result",
          "data": {
            "text/html": [
              "<div>\n",
              "<style scoped>\n",
              "    .dataframe tbody tr th:only-of-type {\n",
              "        vertical-align: middle;\n",
              "    }\n",
              "\n",
              "    .dataframe tbody tr th {\n",
              "        vertical-align: top;\n",
              "    }\n",
              "\n",
              "    .dataframe thead th {\n",
              "        text-align: right;\n",
              "    }\n",
              "</style>\n",
              "<table border=\"1\" class=\"dataframe\">\n",
              "  <thead>\n",
              "    <tr style=\"text-align: right;\">\n",
              "      <th></th>\n",
              "      <th>PM2.5</th>\n",
              "      <th>PM10</th>\n",
              "      <th>NO2</th>\n",
              "      <th>NOx</th>\n",
              "      <th>CO</th>\n",
              "      <th>SO2</th>\n",
              "      <th>O3</th>\n",
              "      <th>AQI</th>\n",
              "    </tr>\n",
              "    <tr>\n",
              "      <th>Date</th>\n",
              "      <th></th>\n",
              "      <th></th>\n",
              "      <th></th>\n",
              "      <th></th>\n",
              "      <th></th>\n",
              "      <th></th>\n",
              "      <th></th>\n",
              "      <th></th>\n",
              "    </tr>\n",
              "  </thead>\n",
              "  <tbody>\n",
              "    <tr>\n",
              "      <th>2016-01-01</th>\n",
              "      <td>56.40</td>\n",
              "      <td>95.08</td>\n",
              "      <td>51.73</td>\n",
              "      <td>34.31</td>\n",
              "      <td>0.69</td>\n",
              "      <td>7.44</td>\n",
              "      <td>55.96</td>\n",
              "      <td>101.0</td>\n",
              "    </tr>\n",
              "    <tr>\n",
              "      <th>2016-01-02</th>\n",
              "      <td>53.69</td>\n",
              "      <td>93.92</td>\n",
              "      <td>73.09</td>\n",
              "      <td>54.77</td>\n",
              "      <td>0.76</td>\n",
              "      <td>8.67</td>\n",
              "      <td>34.06</td>\n",
              "      <td>92.0</td>\n",
              "    </tr>\n",
              "    <tr>\n",
              "      <th>2016-01-03</th>\n",
              "      <td>62.35</td>\n",
              "      <td>99.34</td>\n",
              "      <td>77.77</td>\n",
              "      <td>55.60</td>\n",
              "      <td>0.96</td>\n",
              "      <td>9.10</td>\n",
              "      <td>47.62</td>\n",
              "      <td>108.0</td>\n",
              "    </tr>\n",
              "    <tr>\n",
              "      <th>2016-01-04</th>\n",
              "      <td>64.96</td>\n",
              "      <td>104.62</td>\n",
              "      <td>77.07</td>\n",
              "      <td>50.81</td>\n",
              "      <td>0.89</td>\n",
              "      <td>8.87</td>\n",
              "      <td>50.62</td>\n",
              "      <td>109.0</td>\n",
              "    </tr>\n",
              "    <tr>\n",
              "      <th>2016-01-05</th>\n",
              "      <td>70.15</td>\n",
              "      <td>105.12</td>\n",
              "      <td>79.43</td>\n",
              "      <td>56.05</td>\n",
              "      <td>0.85</td>\n",
              "      <td>9.41</td>\n",
              "      <td>36.94</td>\n",
              "      <td>114.0</td>\n",
              "    </tr>\n",
              "  </tbody>\n",
              "</table>\n",
              "</div>"
            ],
            "text/plain": [
              "            PM2.5    PM10    NO2    NOx    CO   SO2     O3    AQI\n",
              "Date                                                             \n",
              "2016-01-01  56.40   95.08  51.73  34.31  0.69  7.44  55.96  101.0\n",
              "2016-01-02  53.69   93.92  73.09  54.77  0.76  8.67  34.06   92.0\n",
              "2016-01-03  62.35   99.34  77.77  55.60  0.96  9.10  47.62  108.0\n",
              "2016-01-04  64.96  104.62  77.07  50.81  0.89  8.87  50.62  109.0\n",
              "2016-01-05  70.15  105.12  79.43  56.05  0.85  9.41  36.94  114.0"
            ]
          },
          "metadata": {},
          "execution_count": 9
        }
      ]
    },
    {
      "cell_type": "code",
      "metadata": {
        "colab": {
          "base_uri": "https://localhost:8080/",
          "height": 238
        },
        "id": "kgqxI7Ciegqy",
        "outputId": "170c7f79-8316-4e4c-fe86-c86708b21a46"
      },
      "source": [
        "pollutants.tail()"
      ],
      "execution_count": null,
      "outputs": [
        {
          "output_type": "execute_result",
          "data": {
            "text/html": [
              "<div>\n",
              "<style scoped>\n",
              "    .dataframe tbody tr th:only-of-type {\n",
              "        vertical-align: middle;\n",
              "    }\n",
              "\n",
              "    .dataframe tbody tr th {\n",
              "        vertical-align: top;\n",
              "    }\n",
              "\n",
              "    .dataframe thead th {\n",
              "        text-align: right;\n",
              "    }\n",
              "</style>\n",
              "<table border=\"1\" class=\"dataframe\">\n",
              "  <thead>\n",
              "    <tr style=\"text-align: right;\">\n",
              "      <th></th>\n",
              "      <th>PM2.5</th>\n",
              "      <th>PM10</th>\n",
              "      <th>NO2</th>\n",
              "      <th>NOx</th>\n",
              "      <th>CO</th>\n",
              "      <th>SO2</th>\n",
              "      <th>O3</th>\n",
              "      <th>AQI</th>\n",
              "    </tr>\n",
              "    <tr>\n",
              "      <th>Date</th>\n",
              "      <th></th>\n",
              "      <th></th>\n",
              "      <th></th>\n",
              "      <th></th>\n",
              "      <th></th>\n",
              "      <th></th>\n",
              "      <th></th>\n",
              "      <th></th>\n",
              "    </tr>\n",
              "  </thead>\n",
              "  <tbody>\n",
              "    <tr>\n",
              "      <th>2019-12-27</th>\n",
              "      <td>43.32</td>\n",
              "      <td>87.09</td>\n",
              "      <td>31.24</td>\n",
              "      <td>32.59</td>\n",
              "      <td>1.09</td>\n",
              "      <td>6.60</td>\n",
              "      <td>39.42</td>\n",
              "      <td>98.0</td>\n",
              "    </tr>\n",
              "    <tr>\n",
              "      <th>2019-12-28</th>\n",
              "      <td>35.24</td>\n",
              "      <td>70.75</td>\n",
              "      <td>26.94</td>\n",
              "      <td>27.78</td>\n",
              "      <td>0.97</td>\n",
              "      <td>7.38</td>\n",
              "      <td>37.81</td>\n",
              "      <td>82.0</td>\n",
              "    </tr>\n",
              "    <tr>\n",
              "      <th>2019-12-29</th>\n",
              "      <td>38.53</td>\n",
              "      <td>73.77</td>\n",
              "      <td>26.20</td>\n",
              "      <td>26.31</td>\n",
              "      <td>0.92</td>\n",
              "      <td>7.39</td>\n",
              "      <td>43.50</td>\n",
              "      <td>80.0</td>\n",
              "    </tr>\n",
              "    <tr>\n",
              "      <th>2019-12-30</th>\n",
              "      <td>47.81</td>\n",
              "      <td>77.49</td>\n",
              "      <td>28.46</td>\n",
              "      <td>27.79</td>\n",
              "      <td>1.03</td>\n",
              "      <td>8.04</td>\n",
              "      <td>44.92</td>\n",
              "      <td>93.0</td>\n",
              "    </tr>\n",
              "    <tr>\n",
              "      <th>2019-12-31</th>\n",
              "      <td>42.54</td>\n",
              "      <td>84.76</td>\n",
              "      <td>29.10</td>\n",
              "      <td>27.48</td>\n",
              "      <td>1.06</td>\n",
              "      <td>7.58</td>\n",
              "      <td>45.78</td>\n",
              "      <td>97.0</td>\n",
              "    </tr>\n",
              "  </tbody>\n",
              "</table>\n",
              "</div>"
            ],
            "text/plain": [
              "            PM2.5   PM10    NO2    NOx    CO   SO2     O3   AQI\n",
              "Date                                                           \n",
              "2019-12-27  43.32  87.09  31.24  32.59  1.09  6.60  39.42  98.0\n",
              "2019-12-28  35.24  70.75  26.94  27.78  0.97  7.38  37.81  82.0\n",
              "2019-12-29  38.53  73.77  26.20  26.31  0.92  7.39  43.50  80.0\n",
              "2019-12-30  47.81  77.49  28.46  27.79  1.03  8.04  44.92  93.0\n",
              "2019-12-31  42.54  84.76  29.10  27.48  1.06  7.58  45.78  97.0"
            ]
          },
          "metadata": {},
          "execution_count": 10
        }
      ]
    },
    {
      "cell_type": "code",
      "metadata": {
        "colab": {
          "base_uri": "https://localhost:8080/"
        },
        "id": "E6r_psyZynNR",
        "outputId": "8bf3c0de-f091-44f7-9775-2ce52fef9d4e"
      },
      "source": [
        "pollutants.shape\n",
        "# 2016=leap year, so (365*3)+366 = 1461 days i.e. 1461 rows in dataset"
      ],
      "execution_count": null,
      "outputs": [
        {
          "output_type": "execute_result",
          "data": {
            "text/plain": [
              "(1461, 8)"
            ]
          },
          "metadata": {},
          "execution_count": 11
        }
      ]
    },
    {
      "cell_type": "markdown",
      "metadata": {
        "id": "zxg8PbhX5vEH"
      },
      "source": [
        "## Load Climate Dataset"
      ]
    },
    {
      "cell_type": "code",
      "metadata": {
        "colab": {
          "base_uri": "https://localhost:8080/",
          "height": 423
        },
        "id": "i5RSpkmFwXOk",
        "outputId": "b6967d7b-71a7-402e-81e2-1385c5185f28"
      },
      "source": [
        "climate = pd.read_csv('/content/drive/MyDrive/Datasets/climate-training-dataset.csv')\n",
        "climate"
      ],
      "execution_count": null,
      "outputs": [
        {
          "output_type": "execute_result",
          "data": {
            "text/html": [
              "<div>\n",
              "<style scoped>\n",
              "    .dataframe tbody tr th:only-of-type {\n",
              "        vertical-align: middle;\n",
              "    }\n",
              "\n",
              "    .dataframe tbody tr th {\n",
              "        vertical-align: top;\n",
              "    }\n",
              "\n",
              "    .dataframe thead th {\n",
              "        text-align: right;\n",
              "    }\n",
              "</style>\n",
              "<table border=\"1\" class=\"dataframe\">\n",
              "  <thead>\n",
              "    <tr style=\"text-align: right;\">\n",
              "      <th></th>\n",
              "      <th>Date</th>\n",
              "      <th>T</th>\n",
              "      <th>TM</th>\n",
              "      <th>Tm</th>\n",
              "      <th>H</th>\n",
              "      <th>VV</th>\n",
              "      <th>V</th>\n",
              "      <th>VM</th>\n",
              "    </tr>\n",
              "  </thead>\n",
              "  <tbody>\n",
              "    <tr>\n",
              "      <th>0</th>\n",
              "      <td>01-01-2016</td>\n",
              "      <td>20.1</td>\n",
              "      <td>28.4</td>\n",
              "      <td>15.7</td>\n",
              "      <td>54</td>\n",
              "      <td>6</td>\n",
              "      <td>3</td>\n",
              "      <td>5.4</td>\n",
              "    </tr>\n",
              "    <tr>\n",
              "      <th>1</th>\n",
              "      <td>02-01-2016</td>\n",
              "      <td>20.8</td>\n",
              "      <td>28.3</td>\n",
              "      <td>12.9</td>\n",
              "      <td>45</td>\n",
              "      <td>6.3</td>\n",
              "      <td>1.1</td>\n",
              "      <td>5.4</td>\n",
              "    </tr>\n",
              "    <tr>\n",
              "      <th>2</th>\n",
              "      <td>03-01-2016</td>\n",
              "      <td>21.4</td>\n",
              "      <td>29</td>\n",
              "      <td>13.7</td>\n",
              "      <td>45</td>\n",
              "      <td>6.3</td>\n",
              "      <td>0.4</td>\n",
              "      <td>3.5</td>\n",
              "    </tr>\n",
              "    <tr>\n",
              "      <th>3</th>\n",
              "      <td>04-01-2016</td>\n",
              "      <td>21.5</td>\n",
              "      <td>29</td>\n",
              "      <td>15.2</td>\n",
              "      <td>47</td>\n",
              "      <td>6.9</td>\n",
              "      <td>2.2</td>\n",
              "      <td>5.4</td>\n",
              "    </tr>\n",
              "    <tr>\n",
              "      <th>4</th>\n",
              "      <td>05-01-2016</td>\n",
              "      <td>20.9</td>\n",
              "      <td>28.4</td>\n",
              "      <td>14.7</td>\n",
              "      <td>51</td>\n",
              "      <td>6.3</td>\n",
              "      <td>1.1</td>\n",
              "      <td>5.4</td>\n",
              "    </tr>\n",
              "    <tr>\n",
              "      <th>...</th>\n",
              "      <td>...</td>\n",
              "      <td>...</td>\n",
              "      <td>...</td>\n",
              "      <td>...</td>\n",
              "      <td>...</td>\n",
              "      <td>...</td>\n",
              "      <td>...</td>\n",
              "      <td>...</td>\n",
              "    </tr>\n",
              "    <tr>\n",
              "      <th>1456</th>\n",
              "      <td>27-12-2019</td>\n",
              "      <td>23.4</td>\n",
              "      <td>29.6</td>\n",
              "      <td>18</td>\n",
              "      <td>66</td>\n",
              "      <td>6.6</td>\n",
              "      <td>2.2</td>\n",
              "      <td>5.4</td>\n",
              "    </tr>\n",
              "    <tr>\n",
              "      <th>1457</th>\n",
              "      <td>28-12-2019</td>\n",
              "      <td>21.9</td>\n",
              "      <td>29.8</td>\n",
              "      <td>17.6</td>\n",
              "      <td>67</td>\n",
              "      <td>6.9</td>\n",
              "      <td>2.8</td>\n",
              "      <td>5.4</td>\n",
              "    </tr>\n",
              "    <tr>\n",
              "      <th>1458</th>\n",
              "      <td>29-12-2019</td>\n",
              "      <td>21.8</td>\n",
              "      <td>28.2</td>\n",
              "      <td>16.8</td>\n",
              "      <td>66</td>\n",
              "      <td>6.9</td>\n",
              "      <td>3.1</td>\n",
              "      <td>3.5</td>\n",
              "    </tr>\n",
              "    <tr>\n",
              "      <th>1459</th>\n",
              "      <td>30-12-2019</td>\n",
              "      <td>21.7</td>\n",
              "      <td>27.6</td>\n",
              "      <td>17.5</td>\n",
              "      <td>70</td>\n",
              "      <td>6.3</td>\n",
              "      <td>3.9</td>\n",
              "      <td>7.6</td>\n",
              "    </tr>\n",
              "    <tr>\n",
              "      <th>1460</th>\n",
              "      <td>31-12-2019</td>\n",
              "      <td>21.9</td>\n",
              "      <td>28.1</td>\n",
              "      <td>17.5</td>\n",
              "      <td>74</td>\n",
              "      <td>6.3</td>\n",
              "      <td>4.8</td>\n",
              "      <td>7.6</td>\n",
              "    </tr>\n",
              "  </tbody>\n",
              "</table>\n",
              "<p>1461 rows × 8 columns</p>\n",
              "</div>"
            ],
            "text/plain": [
              "            Date     T    TM    Tm   H   VV    V   VM\n",
              "0     01-01-2016  20.1  28.4  15.7  54    6    3  5.4\n",
              "1     02-01-2016  20.8  28.3  12.9  45  6.3  1.1  5.4\n",
              "2     03-01-2016  21.4    29  13.7  45  6.3  0.4  3.5\n",
              "3     04-01-2016  21.5    29  15.2  47  6.9  2.2  5.4\n",
              "4     05-01-2016  20.9  28.4  14.7  51  6.3  1.1  5.4\n",
              "...          ...   ...   ...   ...  ..  ...  ...  ...\n",
              "1456  27-12-2019  23.4  29.6    18  66  6.6  2.2  5.4\n",
              "1457  28-12-2019  21.9  29.8  17.6  67  6.9  2.8  5.4\n",
              "1458  29-12-2019  21.8  28.2  16.8  66  6.9  3.1  3.5\n",
              "1459  30-12-2019  21.7  27.6  17.5  70  6.3  3.9  7.6\n",
              "1460  31-12-2019  21.9  28.1  17.5  74  6.3  4.8  7.6\n",
              "\n",
              "[1461 rows x 8 columns]"
            ]
          },
          "metadata": {},
          "execution_count": 12
        }
      ]
    },
    {
      "cell_type": "code",
      "metadata": {
        "id": "lOr7fn5yg06s"
      },
      "source": [
        "climate['Date'] = pd.to_datetime(climate['Date'], format='%d-%m-%Y')"
      ],
      "execution_count": null,
      "outputs": []
    },
    {
      "cell_type": "code",
      "metadata": {
        "colab": {
          "base_uri": "https://localhost:8080/",
          "height": 238
        },
        "id": "y1FsPA_0f7N3",
        "outputId": "7ce262f9-6f21-45e6-dbf8-867986ef41c5"
      },
      "source": [
        "climate = climate.set_index('Date')\n",
        "climate.head()"
      ],
      "execution_count": null,
      "outputs": [
        {
          "output_type": "execute_result",
          "data": {
            "text/html": [
              "<div>\n",
              "<style scoped>\n",
              "    .dataframe tbody tr th:only-of-type {\n",
              "        vertical-align: middle;\n",
              "    }\n",
              "\n",
              "    .dataframe tbody tr th {\n",
              "        vertical-align: top;\n",
              "    }\n",
              "\n",
              "    .dataframe thead th {\n",
              "        text-align: right;\n",
              "    }\n",
              "</style>\n",
              "<table border=\"1\" class=\"dataframe\">\n",
              "  <thead>\n",
              "    <tr style=\"text-align: right;\">\n",
              "      <th></th>\n",
              "      <th>T</th>\n",
              "      <th>TM</th>\n",
              "      <th>Tm</th>\n",
              "      <th>H</th>\n",
              "      <th>VV</th>\n",
              "      <th>V</th>\n",
              "      <th>VM</th>\n",
              "    </tr>\n",
              "    <tr>\n",
              "      <th>Date</th>\n",
              "      <th></th>\n",
              "      <th></th>\n",
              "      <th></th>\n",
              "      <th></th>\n",
              "      <th></th>\n",
              "      <th></th>\n",
              "      <th></th>\n",
              "    </tr>\n",
              "  </thead>\n",
              "  <tbody>\n",
              "    <tr>\n",
              "      <th>2016-01-01</th>\n",
              "      <td>20.1</td>\n",
              "      <td>28.4</td>\n",
              "      <td>15.7</td>\n",
              "      <td>54</td>\n",
              "      <td>6</td>\n",
              "      <td>3</td>\n",
              "      <td>5.4</td>\n",
              "    </tr>\n",
              "    <tr>\n",
              "      <th>2016-01-02</th>\n",
              "      <td>20.8</td>\n",
              "      <td>28.3</td>\n",
              "      <td>12.9</td>\n",
              "      <td>45</td>\n",
              "      <td>6.3</td>\n",
              "      <td>1.1</td>\n",
              "      <td>5.4</td>\n",
              "    </tr>\n",
              "    <tr>\n",
              "      <th>2016-01-03</th>\n",
              "      <td>21.4</td>\n",
              "      <td>29</td>\n",
              "      <td>13.7</td>\n",
              "      <td>45</td>\n",
              "      <td>6.3</td>\n",
              "      <td>0.4</td>\n",
              "      <td>3.5</td>\n",
              "    </tr>\n",
              "    <tr>\n",
              "      <th>2016-01-04</th>\n",
              "      <td>21.5</td>\n",
              "      <td>29</td>\n",
              "      <td>15.2</td>\n",
              "      <td>47</td>\n",
              "      <td>6.9</td>\n",
              "      <td>2.2</td>\n",
              "      <td>5.4</td>\n",
              "    </tr>\n",
              "    <tr>\n",
              "      <th>2016-01-05</th>\n",
              "      <td>20.9</td>\n",
              "      <td>28.4</td>\n",
              "      <td>14.7</td>\n",
              "      <td>51</td>\n",
              "      <td>6.3</td>\n",
              "      <td>1.1</td>\n",
              "      <td>5.4</td>\n",
              "    </tr>\n",
              "  </tbody>\n",
              "</table>\n",
              "</div>"
            ],
            "text/plain": [
              "               T    TM    Tm   H   VV    V   VM\n",
              "Date                                           \n",
              "2016-01-01  20.1  28.4  15.7  54    6    3  5.4\n",
              "2016-01-02  20.8  28.3  12.9  45  6.3  1.1  5.4\n",
              "2016-01-03  21.4    29  13.7  45  6.3  0.4  3.5\n",
              "2016-01-04  21.5    29  15.2  47  6.9  2.2  5.4\n",
              "2016-01-05  20.9  28.4  14.7  51  6.3  1.1  5.4"
            ]
          },
          "metadata": {},
          "execution_count": 14
        }
      ]
    },
    {
      "cell_type": "code",
      "metadata": {
        "colab": {
          "base_uri": "https://localhost:8080/"
        },
        "id": "pISqRZdeesm0",
        "outputId": "6e1a7fae-7d26-45e8-bece-cf8f02d6540b"
      },
      "source": [
        "climate.shape"
      ],
      "execution_count": null,
      "outputs": [
        {
          "output_type": "execute_result",
          "data": {
            "text/plain": [
              "(1461, 7)"
            ]
          },
          "metadata": {},
          "execution_count": 15
        }
      ]
    },
    {
      "cell_type": "code",
      "metadata": {
        "colab": {
          "base_uri": "https://localhost:8080/",
          "height": 238
        },
        "id": "xv7ZQCC3wq0K",
        "outputId": "a15982d3-634e-4141-bee3-0ef85df07318"
      },
      "source": [
        "climate = climate.drop(columns=['VM'])\n",
        "climate.head()"
      ],
      "execution_count": null,
      "outputs": [
        {
          "output_type": "execute_result",
          "data": {
            "text/html": [
              "<div>\n",
              "<style scoped>\n",
              "    .dataframe tbody tr th:only-of-type {\n",
              "        vertical-align: middle;\n",
              "    }\n",
              "\n",
              "    .dataframe tbody tr th {\n",
              "        vertical-align: top;\n",
              "    }\n",
              "\n",
              "    .dataframe thead th {\n",
              "        text-align: right;\n",
              "    }\n",
              "</style>\n",
              "<table border=\"1\" class=\"dataframe\">\n",
              "  <thead>\n",
              "    <tr style=\"text-align: right;\">\n",
              "      <th></th>\n",
              "      <th>T</th>\n",
              "      <th>TM</th>\n",
              "      <th>Tm</th>\n",
              "      <th>H</th>\n",
              "      <th>VV</th>\n",
              "      <th>V</th>\n",
              "    </tr>\n",
              "    <tr>\n",
              "      <th>Date</th>\n",
              "      <th></th>\n",
              "      <th></th>\n",
              "      <th></th>\n",
              "      <th></th>\n",
              "      <th></th>\n",
              "      <th></th>\n",
              "    </tr>\n",
              "  </thead>\n",
              "  <tbody>\n",
              "    <tr>\n",
              "      <th>2016-01-01</th>\n",
              "      <td>20.1</td>\n",
              "      <td>28.4</td>\n",
              "      <td>15.7</td>\n",
              "      <td>54</td>\n",
              "      <td>6</td>\n",
              "      <td>3</td>\n",
              "    </tr>\n",
              "    <tr>\n",
              "      <th>2016-01-02</th>\n",
              "      <td>20.8</td>\n",
              "      <td>28.3</td>\n",
              "      <td>12.9</td>\n",
              "      <td>45</td>\n",
              "      <td>6.3</td>\n",
              "      <td>1.1</td>\n",
              "    </tr>\n",
              "    <tr>\n",
              "      <th>2016-01-03</th>\n",
              "      <td>21.4</td>\n",
              "      <td>29</td>\n",
              "      <td>13.7</td>\n",
              "      <td>45</td>\n",
              "      <td>6.3</td>\n",
              "      <td>0.4</td>\n",
              "    </tr>\n",
              "    <tr>\n",
              "      <th>2016-01-04</th>\n",
              "      <td>21.5</td>\n",
              "      <td>29</td>\n",
              "      <td>15.2</td>\n",
              "      <td>47</td>\n",
              "      <td>6.9</td>\n",
              "      <td>2.2</td>\n",
              "    </tr>\n",
              "    <tr>\n",
              "      <th>2016-01-05</th>\n",
              "      <td>20.9</td>\n",
              "      <td>28.4</td>\n",
              "      <td>14.7</td>\n",
              "      <td>51</td>\n",
              "      <td>6.3</td>\n",
              "      <td>1.1</td>\n",
              "    </tr>\n",
              "  </tbody>\n",
              "</table>\n",
              "</div>"
            ],
            "text/plain": [
              "               T    TM    Tm   H   VV    V\n",
              "Date                                      \n",
              "2016-01-01  20.1  28.4  15.7  54    6    3\n",
              "2016-01-02  20.8  28.3  12.9  45  6.3  1.1\n",
              "2016-01-03  21.4    29  13.7  45  6.3  0.4\n",
              "2016-01-04  21.5    29  15.2  47  6.9  2.2\n",
              "2016-01-05  20.9  28.4  14.7  51  6.3  1.1"
            ]
          },
          "metadata": {},
          "execution_count": 16
        }
      ]
    },
    {
      "cell_type": "markdown",
      "metadata": {
        "id": "JplI4l-s5z6w"
      },
      "source": [
        "## Feature Engineering"
      ]
    },
    {
      "cell_type": "markdown",
      "metadata": {
        "id": "Nm872Fss4d4k"
      },
      "source": [
        "#### Concatenate the two dataframes"
      ]
    },
    {
      "cell_type": "code",
      "metadata": {
        "colab": {
          "base_uri": "https://localhost:8080/"
        },
        "id": "vxlgwfUDgK6g",
        "outputId": "4d809248-6fa9-409d-fde2-7102f4b41225"
      },
      "source": [
        "(climate.index==pollutants.index).all() "
      ],
      "execution_count": null,
      "outputs": [
        {
          "output_type": "execute_result",
          "data": {
            "text/plain": [
              "True"
            ]
          },
          "metadata": {},
          "execution_count": 17
        }
      ]
    },
    {
      "cell_type": "code",
      "metadata": {
        "colab": {
          "base_uri": "https://localhost:8080/",
          "height": 238
        },
        "id": "T-a3NNv02kjL",
        "outputId": "2138d1bc-6526-451d-ecf6-7be2f452dbb7"
      },
      "source": [
        "df = pd.concat([pollutants, climate], axis = 1)\n",
        "df.head()"
      ],
      "execution_count": null,
      "outputs": [
        {
          "output_type": "execute_result",
          "data": {
            "text/html": [
              "<div>\n",
              "<style scoped>\n",
              "    .dataframe tbody tr th:only-of-type {\n",
              "        vertical-align: middle;\n",
              "    }\n",
              "\n",
              "    .dataframe tbody tr th {\n",
              "        vertical-align: top;\n",
              "    }\n",
              "\n",
              "    .dataframe thead th {\n",
              "        text-align: right;\n",
              "    }\n",
              "</style>\n",
              "<table border=\"1\" class=\"dataframe\">\n",
              "  <thead>\n",
              "    <tr style=\"text-align: right;\">\n",
              "      <th></th>\n",
              "      <th>PM2.5</th>\n",
              "      <th>PM10</th>\n",
              "      <th>NO2</th>\n",
              "      <th>NOx</th>\n",
              "      <th>CO</th>\n",
              "      <th>SO2</th>\n",
              "      <th>O3</th>\n",
              "      <th>AQI</th>\n",
              "      <th>T</th>\n",
              "      <th>TM</th>\n",
              "      <th>Tm</th>\n",
              "      <th>H</th>\n",
              "      <th>VV</th>\n",
              "      <th>V</th>\n",
              "    </tr>\n",
              "    <tr>\n",
              "      <th>Date</th>\n",
              "      <th></th>\n",
              "      <th></th>\n",
              "      <th></th>\n",
              "      <th></th>\n",
              "      <th></th>\n",
              "      <th></th>\n",
              "      <th></th>\n",
              "      <th></th>\n",
              "      <th></th>\n",
              "      <th></th>\n",
              "      <th></th>\n",
              "      <th></th>\n",
              "      <th></th>\n",
              "      <th></th>\n",
              "    </tr>\n",
              "  </thead>\n",
              "  <tbody>\n",
              "    <tr>\n",
              "      <th>2016-01-01</th>\n",
              "      <td>56.40</td>\n",
              "      <td>95.08</td>\n",
              "      <td>51.73</td>\n",
              "      <td>34.31</td>\n",
              "      <td>0.69</td>\n",
              "      <td>7.44</td>\n",
              "      <td>55.96</td>\n",
              "      <td>101.0</td>\n",
              "      <td>20.1</td>\n",
              "      <td>28.4</td>\n",
              "      <td>15.7</td>\n",
              "      <td>54</td>\n",
              "      <td>6</td>\n",
              "      <td>3</td>\n",
              "    </tr>\n",
              "    <tr>\n",
              "      <th>2016-01-02</th>\n",
              "      <td>53.69</td>\n",
              "      <td>93.92</td>\n",
              "      <td>73.09</td>\n",
              "      <td>54.77</td>\n",
              "      <td>0.76</td>\n",
              "      <td>8.67</td>\n",
              "      <td>34.06</td>\n",
              "      <td>92.0</td>\n",
              "      <td>20.8</td>\n",
              "      <td>28.3</td>\n",
              "      <td>12.9</td>\n",
              "      <td>45</td>\n",
              "      <td>6.3</td>\n",
              "      <td>1.1</td>\n",
              "    </tr>\n",
              "    <tr>\n",
              "      <th>2016-01-03</th>\n",
              "      <td>62.35</td>\n",
              "      <td>99.34</td>\n",
              "      <td>77.77</td>\n",
              "      <td>55.60</td>\n",
              "      <td>0.96</td>\n",
              "      <td>9.10</td>\n",
              "      <td>47.62</td>\n",
              "      <td>108.0</td>\n",
              "      <td>21.4</td>\n",
              "      <td>29</td>\n",
              "      <td>13.7</td>\n",
              "      <td>45</td>\n",
              "      <td>6.3</td>\n",
              "      <td>0.4</td>\n",
              "    </tr>\n",
              "    <tr>\n",
              "      <th>2016-01-04</th>\n",
              "      <td>64.96</td>\n",
              "      <td>104.62</td>\n",
              "      <td>77.07</td>\n",
              "      <td>50.81</td>\n",
              "      <td>0.89</td>\n",
              "      <td>8.87</td>\n",
              "      <td>50.62</td>\n",
              "      <td>109.0</td>\n",
              "      <td>21.5</td>\n",
              "      <td>29</td>\n",
              "      <td>15.2</td>\n",
              "      <td>47</td>\n",
              "      <td>6.9</td>\n",
              "      <td>2.2</td>\n",
              "    </tr>\n",
              "    <tr>\n",
              "      <th>2016-01-05</th>\n",
              "      <td>70.15</td>\n",
              "      <td>105.12</td>\n",
              "      <td>79.43</td>\n",
              "      <td>56.05</td>\n",
              "      <td>0.85</td>\n",
              "      <td>9.41</td>\n",
              "      <td>36.94</td>\n",
              "      <td>114.0</td>\n",
              "      <td>20.9</td>\n",
              "      <td>28.4</td>\n",
              "      <td>14.7</td>\n",
              "      <td>51</td>\n",
              "      <td>6.3</td>\n",
              "      <td>1.1</td>\n",
              "    </tr>\n",
              "  </tbody>\n",
              "</table>\n",
              "</div>"
            ],
            "text/plain": [
              "            PM2.5    PM10    NO2    NOx    CO  ...    TM    Tm   H   VV    V\n",
              "Date                                           ...                          \n",
              "2016-01-01  56.40   95.08  51.73  34.31  0.69  ...  28.4  15.7  54    6    3\n",
              "2016-01-02  53.69   93.92  73.09  54.77  0.76  ...  28.3  12.9  45  6.3  1.1\n",
              "2016-01-03  62.35   99.34  77.77  55.60  0.96  ...    29  13.7  45  6.3  0.4\n",
              "2016-01-04  64.96  104.62  77.07  50.81  0.89  ...    29  15.2  47  6.9  2.2\n",
              "2016-01-05  70.15  105.12  79.43  56.05  0.85  ...  28.4  14.7  51  6.3  1.1\n",
              "\n",
              "[5 rows x 14 columns]"
            ]
          },
          "metadata": {},
          "execution_count": 18
        }
      ]
    },
    {
      "cell_type": "code",
      "metadata": {
        "colab": {
          "base_uri": "https://localhost:8080/"
        },
        "id": "WPtso_pmfU52",
        "outputId": "cac8a853-1f8c-42ee-f7a4-e29429e98083"
      },
      "source": [
        "df.shape"
      ],
      "execution_count": null,
      "outputs": [
        {
          "output_type": "execute_result",
          "data": {
            "text/plain": [
              "(1461, 14)"
            ]
          },
          "metadata": {},
          "execution_count": 19
        }
      ]
    },
    {
      "cell_type": "code",
      "metadata": {
        "id": "B26HqAzW3hT-",
        "colab": {
          "base_uri": "https://localhost:8080/"
        },
        "outputId": "978de469-9efb-49d7-93ae-9f02d56edca6"
      },
      "source": [
        "target = df['AQI']\n",
        "target.head()"
      ],
      "execution_count": null,
      "outputs": [
        {
          "output_type": "execute_result",
          "data": {
            "text/plain": [
              "Date\n",
              "2016-01-01    101.0\n",
              "2016-01-02     92.0\n",
              "2016-01-03    108.0\n",
              "2016-01-04    109.0\n",
              "2016-01-05    114.0\n",
              "Name: AQI, dtype: float64"
            ]
          },
          "metadata": {},
          "execution_count": 20
        }
      ]
    },
    {
      "cell_type": "code",
      "metadata": {
        "colab": {
          "base_uri": "https://localhost:8080/"
        },
        "id": "vnO4FS0u4Clf",
        "outputId": "6a300856-ad8a-40e9-a05d-38aa5896b15c"
      },
      "source": [
        "target.shape"
      ],
      "execution_count": null,
      "outputs": [
        {
          "output_type": "execute_result",
          "data": {
            "text/plain": [
              "(1461,)"
            ]
          },
          "metadata": {},
          "execution_count": 21
        }
      ]
    },
    {
      "cell_type": "code",
      "metadata": {
        "id": "m9D-xFCwjZ-e"
      },
      "source": [
        "# df = df.drop(columns=['AQI'])\n",
        "# df['AQI'] = target.values"
      ],
      "execution_count": null,
      "outputs": []
    },
    {
      "cell_type": "code",
      "metadata": {
        "colab": {
          "base_uri": "https://localhost:8080/",
          "height": 238
        },
        "id": "tdZwuqq44DH0",
        "outputId": "92ce799a-df52-4493-c921-72123f6c60d0"
      },
      "source": [
        "df.head()"
      ],
      "execution_count": null,
      "outputs": [
        {
          "output_type": "execute_result",
          "data": {
            "text/html": [
              "<div>\n",
              "<style scoped>\n",
              "    .dataframe tbody tr th:only-of-type {\n",
              "        vertical-align: middle;\n",
              "    }\n",
              "\n",
              "    .dataframe tbody tr th {\n",
              "        vertical-align: top;\n",
              "    }\n",
              "\n",
              "    .dataframe thead th {\n",
              "        text-align: right;\n",
              "    }\n",
              "</style>\n",
              "<table border=\"1\" class=\"dataframe\">\n",
              "  <thead>\n",
              "    <tr style=\"text-align: right;\">\n",
              "      <th></th>\n",
              "      <th>PM2.5</th>\n",
              "      <th>PM10</th>\n",
              "      <th>NO2</th>\n",
              "      <th>NOx</th>\n",
              "      <th>CO</th>\n",
              "      <th>SO2</th>\n",
              "      <th>O3</th>\n",
              "      <th>AQI</th>\n",
              "      <th>T</th>\n",
              "      <th>TM</th>\n",
              "      <th>Tm</th>\n",
              "      <th>H</th>\n",
              "      <th>VV</th>\n",
              "      <th>V</th>\n",
              "    </tr>\n",
              "    <tr>\n",
              "      <th>Date</th>\n",
              "      <th></th>\n",
              "      <th></th>\n",
              "      <th></th>\n",
              "      <th></th>\n",
              "      <th></th>\n",
              "      <th></th>\n",
              "      <th></th>\n",
              "      <th></th>\n",
              "      <th></th>\n",
              "      <th></th>\n",
              "      <th></th>\n",
              "      <th></th>\n",
              "      <th></th>\n",
              "      <th></th>\n",
              "    </tr>\n",
              "  </thead>\n",
              "  <tbody>\n",
              "    <tr>\n",
              "      <th>2016-01-01</th>\n",
              "      <td>56.40</td>\n",
              "      <td>95.08</td>\n",
              "      <td>51.73</td>\n",
              "      <td>34.31</td>\n",
              "      <td>0.69</td>\n",
              "      <td>7.44</td>\n",
              "      <td>55.96</td>\n",
              "      <td>101.0</td>\n",
              "      <td>20.1</td>\n",
              "      <td>28.4</td>\n",
              "      <td>15.7</td>\n",
              "      <td>54</td>\n",
              "      <td>6</td>\n",
              "      <td>3</td>\n",
              "    </tr>\n",
              "    <tr>\n",
              "      <th>2016-01-02</th>\n",
              "      <td>53.69</td>\n",
              "      <td>93.92</td>\n",
              "      <td>73.09</td>\n",
              "      <td>54.77</td>\n",
              "      <td>0.76</td>\n",
              "      <td>8.67</td>\n",
              "      <td>34.06</td>\n",
              "      <td>92.0</td>\n",
              "      <td>20.8</td>\n",
              "      <td>28.3</td>\n",
              "      <td>12.9</td>\n",
              "      <td>45</td>\n",
              "      <td>6.3</td>\n",
              "      <td>1.1</td>\n",
              "    </tr>\n",
              "    <tr>\n",
              "      <th>2016-01-03</th>\n",
              "      <td>62.35</td>\n",
              "      <td>99.34</td>\n",
              "      <td>77.77</td>\n",
              "      <td>55.60</td>\n",
              "      <td>0.96</td>\n",
              "      <td>9.10</td>\n",
              "      <td>47.62</td>\n",
              "      <td>108.0</td>\n",
              "      <td>21.4</td>\n",
              "      <td>29</td>\n",
              "      <td>13.7</td>\n",
              "      <td>45</td>\n",
              "      <td>6.3</td>\n",
              "      <td>0.4</td>\n",
              "    </tr>\n",
              "    <tr>\n",
              "      <th>2016-01-04</th>\n",
              "      <td>64.96</td>\n",
              "      <td>104.62</td>\n",
              "      <td>77.07</td>\n",
              "      <td>50.81</td>\n",
              "      <td>0.89</td>\n",
              "      <td>8.87</td>\n",
              "      <td>50.62</td>\n",
              "      <td>109.0</td>\n",
              "      <td>21.5</td>\n",
              "      <td>29</td>\n",
              "      <td>15.2</td>\n",
              "      <td>47</td>\n",
              "      <td>6.9</td>\n",
              "      <td>2.2</td>\n",
              "    </tr>\n",
              "    <tr>\n",
              "      <th>2016-01-05</th>\n",
              "      <td>70.15</td>\n",
              "      <td>105.12</td>\n",
              "      <td>79.43</td>\n",
              "      <td>56.05</td>\n",
              "      <td>0.85</td>\n",
              "      <td>9.41</td>\n",
              "      <td>36.94</td>\n",
              "      <td>114.0</td>\n",
              "      <td>20.9</td>\n",
              "      <td>28.4</td>\n",
              "      <td>14.7</td>\n",
              "      <td>51</td>\n",
              "      <td>6.3</td>\n",
              "      <td>1.1</td>\n",
              "    </tr>\n",
              "  </tbody>\n",
              "</table>\n",
              "</div>"
            ],
            "text/plain": [
              "            PM2.5    PM10    NO2    NOx    CO  ...    TM    Tm   H   VV    V\n",
              "Date                                           ...                          \n",
              "2016-01-01  56.40   95.08  51.73  34.31  0.69  ...  28.4  15.7  54    6    3\n",
              "2016-01-02  53.69   93.92  73.09  54.77  0.76  ...  28.3  12.9  45  6.3  1.1\n",
              "2016-01-03  62.35   99.34  77.77  55.60  0.96  ...    29  13.7  45  6.3  0.4\n",
              "2016-01-04  64.96  104.62  77.07  50.81  0.89  ...    29  15.2  47  6.9  2.2\n",
              "2016-01-05  70.15  105.12  79.43  56.05  0.85  ...  28.4  14.7  51  6.3  1.1\n",
              "\n",
              "[5 rows x 14 columns]"
            ]
          },
          "metadata": {},
          "execution_count": 23
        }
      ]
    },
    {
      "cell_type": "code",
      "metadata": {
        "colab": {
          "base_uri": "https://localhost:8080/"
        },
        "id": "yNe-CILkiPs-",
        "outputId": "b838b330-f5e1-4571-ee98-f1cdb373b687"
      },
      "source": [
        "df.shape"
      ],
      "execution_count": null,
      "outputs": [
        {
          "output_type": "execute_result",
          "data": {
            "text/plain": [
              "(1461, 14)"
            ]
          },
          "metadata": {},
          "execution_count": 24
        }
      ]
    },
    {
      "cell_type": "code",
      "metadata": {
        "id": "MNMKbf0rWmGs"
      },
      "source": [
        "# df.to_csv('x_train_data.csv')\n",
        "# target.to_csv('y_train_data.csv')"
      ],
      "execution_count": null,
      "outputs": []
    },
    {
      "cell_type": "code",
      "metadata": {
        "id": "U6dXnV1e4jly"
      },
      "source": [
        "temp_df = df\n",
        "temp_target = target"
      ],
      "execution_count": null,
      "outputs": []
    },
    {
      "cell_type": "markdown",
      "metadata": {
        "id": "K6J7FteS54OV"
      },
      "source": [
        "#### Rename column names"
      ]
    },
    {
      "cell_type": "code",
      "metadata": {
        "colab": {
          "base_uri": "https://localhost:8080/",
          "height": 238
        },
        "id": "G6nPeO-34D3b",
        "outputId": "40d1a496-d7c8-4183-c941-c9ce21eee7a7"
      },
      "source": [
        "df.rename(columns={'T':'temp', 'TM':'max_temp','Tm':'min_temp','H':'humid','VV':'visible','V':'wind'}, inplace = True)\n",
        "df.head()"
      ],
      "execution_count": null,
      "outputs": [
        {
          "output_type": "execute_result",
          "data": {
            "text/html": [
              "<div>\n",
              "<style scoped>\n",
              "    .dataframe tbody tr th:only-of-type {\n",
              "        vertical-align: middle;\n",
              "    }\n",
              "\n",
              "    .dataframe tbody tr th {\n",
              "        vertical-align: top;\n",
              "    }\n",
              "\n",
              "    .dataframe thead th {\n",
              "        text-align: right;\n",
              "    }\n",
              "</style>\n",
              "<table border=\"1\" class=\"dataframe\">\n",
              "  <thead>\n",
              "    <tr style=\"text-align: right;\">\n",
              "      <th></th>\n",
              "      <th>PM2.5</th>\n",
              "      <th>PM10</th>\n",
              "      <th>NO2</th>\n",
              "      <th>NOx</th>\n",
              "      <th>CO</th>\n",
              "      <th>SO2</th>\n",
              "      <th>O3</th>\n",
              "      <th>AQI</th>\n",
              "      <th>temp</th>\n",
              "      <th>max_temp</th>\n",
              "      <th>min_temp</th>\n",
              "      <th>humid</th>\n",
              "      <th>visible</th>\n",
              "      <th>wind</th>\n",
              "    </tr>\n",
              "    <tr>\n",
              "      <th>Date</th>\n",
              "      <th></th>\n",
              "      <th></th>\n",
              "      <th></th>\n",
              "      <th></th>\n",
              "      <th></th>\n",
              "      <th></th>\n",
              "      <th></th>\n",
              "      <th></th>\n",
              "      <th></th>\n",
              "      <th></th>\n",
              "      <th></th>\n",
              "      <th></th>\n",
              "      <th></th>\n",
              "      <th></th>\n",
              "    </tr>\n",
              "  </thead>\n",
              "  <tbody>\n",
              "    <tr>\n",
              "      <th>2016-01-01</th>\n",
              "      <td>56.40</td>\n",
              "      <td>95.08</td>\n",
              "      <td>51.73</td>\n",
              "      <td>34.31</td>\n",
              "      <td>0.69</td>\n",
              "      <td>7.44</td>\n",
              "      <td>55.96</td>\n",
              "      <td>101.0</td>\n",
              "      <td>20.1</td>\n",
              "      <td>28.4</td>\n",
              "      <td>15.7</td>\n",
              "      <td>54</td>\n",
              "      <td>6</td>\n",
              "      <td>3</td>\n",
              "    </tr>\n",
              "    <tr>\n",
              "      <th>2016-01-02</th>\n",
              "      <td>53.69</td>\n",
              "      <td>93.92</td>\n",
              "      <td>73.09</td>\n",
              "      <td>54.77</td>\n",
              "      <td>0.76</td>\n",
              "      <td>8.67</td>\n",
              "      <td>34.06</td>\n",
              "      <td>92.0</td>\n",
              "      <td>20.8</td>\n",
              "      <td>28.3</td>\n",
              "      <td>12.9</td>\n",
              "      <td>45</td>\n",
              "      <td>6.3</td>\n",
              "      <td>1.1</td>\n",
              "    </tr>\n",
              "    <tr>\n",
              "      <th>2016-01-03</th>\n",
              "      <td>62.35</td>\n",
              "      <td>99.34</td>\n",
              "      <td>77.77</td>\n",
              "      <td>55.60</td>\n",
              "      <td>0.96</td>\n",
              "      <td>9.10</td>\n",
              "      <td>47.62</td>\n",
              "      <td>108.0</td>\n",
              "      <td>21.4</td>\n",
              "      <td>29</td>\n",
              "      <td>13.7</td>\n",
              "      <td>45</td>\n",
              "      <td>6.3</td>\n",
              "      <td>0.4</td>\n",
              "    </tr>\n",
              "    <tr>\n",
              "      <th>2016-01-04</th>\n",
              "      <td>64.96</td>\n",
              "      <td>104.62</td>\n",
              "      <td>77.07</td>\n",
              "      <td>50.81</td>\n",
              "      <td>0.89</td>\n",
              "      <td>8.87</td>\n",
              "      <td>50.62</td>\n",
              "      <td>109.0</td>\n",
              "      <td>21.5</td>\n",
              "      <td>29</td>\n",
              "      <td>15.2</td>\n",
              "      <td>47</td>\n",
              "      <td>6.9</td>\n",
              "      <td>2.2</td>\n",
              "    </tr>\n",
              "    <tr>\n",
              "      <th>2016-01-05</th>\n",
              "      <td>70.15</td>\n",
              "      <td>105.12</td>\n",
              "      <td>79.43</td>\n",
              "      <td>56.05</td>\n",
              "      <td>0.85</td>\n",
              "      <td>9.41</td>\n",
              "      <td>36.94</td>\n",
              "      <td>114.0</td>\n",
              "      <td>20.9</td>\n",
              "      <td>28.4</td>\n",
              "      <td>14.7</td>\n",
              "      <td>51</td>\n",
              "      <td>6.3</td>\n",
              "      <td>1.1</td>\n",
              "    </tr>\n",
              "  </tbody>\n",
              "</table>\n",
              "</div>"
            ],
            "text/plain": [
              "            PM2.5    PM10    NO2    NOx  ...  min_temp  humid  visible  wind\n",
              "Date                                     ...                                \n",
              "2016-01-01  56.40   95.08  51.73  34.31  ...      15.7     54        6     3\n",
              "2016-01-02  53.69   93.92  73.09  54.77  ...      12.9     45      6.3   1.1\n",
              "2016-01-03  62.35   99.34  77.77  55.60  ...      13.7     45      6.3   0.4\n",
              "2016-01-04  64.96  104.62  77.07  50.81  ...      15.2     47      6.9   2.2\n",
              "2016-01-05  70.15  105.12  79.43  56.05  ...      14.7     51      6.3   1.1\n",
              "\n",
              "[5 rows x 14 columns]"
            ]
          },
          "metadata": {},
          "execution_count": 27
        }
      ]
    },
    {
      "cell_type": "code",
      "metadata": {
        "colab": {
          "base_uri": "https://localhost:8080/"
        },
        "id": "CZIaLtsc5eEs",
        "outputId": "40ad074d-904a-43cd-f9f5-7a085e214d72"
      },
      "source": [
        "df.info()"
      ],
      "execution_count": null,
      "outputs": [
        {
          "output_type": "stream",
          "name": "stdout",
          "text": [
            "<class 'pandas.core.frame.DataFrame'>\n",
            "DatetimeIndex: 1461 entries, 2016-01-01 to 2019-12-31\n",
            "Data columns (total 14 columns):\n",
            " #   Column    Non-Null Count  Dtype  \n",
            "---  ------    --------------  -----  \n",
            " 0   PM2.5     1394 non-null   float64\n",
            " 1   PM10      1416 non-null   float64\n",
            " 2   NO2       1455 non-null   float64\n",
            " 3   NOx       1457 non-null   float64\n",
            " 4   CO        1457 non-null   float64\n",
            " 5   SO2       1455 non-null   float64\n",
            " 6   O3        1324 non-null   float64\n",
            " 7   AQI       1441 non-null   float64\n",
            " 8   temp      1461 non-null   object \n",
            " 9   max_temp  1461 non-null   object \n",
            " 10  min_temp  1461 non-null   object \n",
            " 11  humid     1461 non-null   object \n",
            " 12  visible   1461 non-null   object \n",
            " 13  wind      1461 non-null   object \n",
            "dtypes: float64(8), object(6)\n",
            "memory usage: 171.2+ KB\n"
          ]
        }
      ]
    },
    {
      "cell_type": "code",
      "metadata": {
        "id": "Vv7VwwTu8OgO"
      },
      "source": [
        "for column in df.columns[7:]:\n",
        "  df[column] = pd.to_numeric(df[column], errors='coerce')"
      ],
      "execution_count": null,
      "outputs": []
    },
    {
      "cell_type": "code",
      "metadata": {
        "colab": {
          "base_uri": "https://localhost:8080/"
        },
        "id": "Vix_ZdrTkVeI",
        "outputId": "82ea10c9-7a3c-4ead-f63b-be0d1f066401"
      },
      "source": [
        "df.info()"
      ],
      "execution_count": null,
      "outputs": [
        {
          "output_type": "stream",
          "name": "stdout",
          "text": [
            "<class 'pandas.core.frame.DataFrame'>\n",
            "DatetimeIndex: 1461 entries, 2016-01-01 to 2019-12-31\n",
            "Data columns (total 14 columns):\n",
            " #   Column    Non-Null Count  Dtype  \n",
            "---  ------    --------------  -----  \n",
            " 0   PM2.5     1394 non-null   float64\n",
            " 1   PM10      1416 non-null   float64\n",
            " 2   NO2       1455 non-null   float64\n",
            " 3   NOx       1457 non-null   float64\n",
            " 4   CO        1457 non-null   float64\n",
            " 5   SO2       1455 non-null   float64\n",
            " 6   O3        1324 non-null   float64\n",
            " 7   AQI       1441 non-null   float64\n",
            " 8   temp      1446 non-null   float64\n",
            " 9   max_temp  1446 non-null   float64\n",
            " 10  min_temp  1446 non-null   float64\n",
            " 11  humid     1446 non-null   float64\n",
            " 12  visible   1446 non-null   float64\n",
            " 13  wind      1446 non-null   float64\n",
            "dtypes: float64(14)\n",
            "memory usage: 171.2 KB\n"
          ]
        }
      ]
    },
    {
      "cell_type": "code",
      "metadata": {
        "id": "x_jOoTmP8Oap",
        "colab": {
          "base_uri": "https://localhost:8080/",
          "height": 300
        },
        "outputId": "79215527-fb9d-43a7-c69c-b14008c40c4a"
      },
      "source": [
        "df.describe()"
      ],
      "execution_count": null,
      "outputs": [
        {
          "output_type": "execute_result",
          "data": {
            "text/html": [
              "<div>\n",
              "<style scoped>\n",
              "    .dataframe tbody tr th:only-of-type {\n",
              "        vertical-align: middle;\n",
              "    }\n",
              "\n",
              "    .dataframe tbody tr th {\n",
              "        vertical-align: top;\n",
              "    }\n",
              "\n",
              "    .dataframe thead th {\n",
              "        text-align: right;\n",
              "    }\n",
              "</style>\n",
              "<table border=\"1\" class=\"dataframe\">\n",
              "  <thead>\n",
              "    <tr style=\"text-align: right;\">\n",
              "      <th></th>\n",
              "      <th>PM2.5</th>\n",
              "      <th>PM10</th>\n",
              "      <th>NO2</th>\n",
              "      <th>NOx</th>\n",
              "      <th>CO</th>\n",
              "      <th>SO2</th>\n",
              "      <th>O3</th>\n",
              "      <th>AQI</th>\n",
              "      <th>temp</th>\n",
              "      <th>max_temp</th>\n",
              "      <th>min_temp</th>\n",
              "      <th>humid</th>\n",
              "      <th>visible</th>\n",
              "      <th>wind</th>\n",
              "    </tr>\n",
              "  </thead>\n",
              "  <tbody>\n",
              "    <tr>\n",
              "      <th>count</th>\n",
              "      <td>1394.000000</td>\n",
              "      <td>1416.000000</td>\n",
              "      <td>1455.000000</td>\n",
              "      <td>1457.000000</td>\n",
              "      <td>1457.000000</td>\n",
              "      <td>1455.000000</td>\n",
              "      <td>1324.000000</td>\n",
              "      <td>1441.000000</td>\n",
              "      <td>1446.000000</td>\n",
              "      <td>1446.000000</td>\n",
              "      <td>1446.000000</td>\n",
              "      <td>1446.000000</td>\n",
              "      <td>1446.000000</td>\n",
              "      <td>1446.000000</td>\n",
              "    </tr>\n",
              "    <tr>\n",
              "      <th>mean</th>\n",
              "      <td>37.978293</td>\n",
              "      <td>85.900028</td>\n",
              "      <td>30.848027</td>\n",
              "      <td>20.310981</td>\n",
              "      <td>1.046706</td>\n",
              "      <td>5.169285</td>\n",
              "      <td>34.340083</td>\n",
              "      <td>92.549618</td>\n",
              "      <td>24.290941</td>\n",
              "      <td>30.360443</td>\n",
              "      <td>19.871369</td>\n",
              "      <td>63.865145</td>\n",
              "      <td>6.616390</td>\n",
              "      <td>4.584855</td>\n",
              "    </tr>\n",
              "    <tr>\n",
              "      <th>std</th>\n",
              "      <td>23.930548</td>\n",
              "      <td>39.127126</td>\n",
              "      <td>12.878299</td>\n",
              "      <td>16.514174</td>\n",
              "      <td>2.005378</td>\n",
              "      <td>2.234012</td>\n",
              "      <td>17.622812</td>\n",
              "      <td>38.221982</td>\n",
              "      <td>2.294894</td>\n",
              "      <td>2.919894</td>\n",
              "      <td>2.306992</td>\n",
              "      <td>15.425335</td>\n",
              "      <td>0.630561</td>\n",
              "      <td>2.704718</td>\n",
              "    </tr>\n",
              "    <tr>\n",
              "      <th>min</th>\n",
              "      <td>1.720000</td>\n",
              "      <td>9.930000</td>\n",
              "      <td>3.000000</td>\n",
              "      <td>0.000000</td>\n",
              "      <td>0.000000</td>\n",
              "      <td>0.870000</td>\n",
              "      <td>3.140000</td>\n",
              "      <td>20.000000</td>\n",
              "      <td>18.900000</td>\n",
              "      <td>21.600000</td>\n",
              "      <td>12.000000</td>\n",
              "      <td>17.000000</td>\n",
              "      <td>3.700000</td>\n",
              "      <td>0.000000</td>\n",
              "    </tr>\n",
              "    <tr>\n",
              "      <th>25%</th>\n",
              "      <td>22.360000</td>\n",
              "      <td>57.552500</td>\n",
              "      <td>22.755000</td>\n",
              "      <td>3.970000</td>\n",
              "      <td>0.680000</td>\n",
              "      <td>3.855000</td>\n",
              "      <td>20.137500</td>\n",
              "      <td>66.000000</td>\n",
              "      <td>22.700000</td>\n",
              "      <td>28.200000</td>\n",
              "      <td>18.600000</td>\n",
              "      <td>51.250000</td>\n",
              "      <td>6.300000</td>\n",
              "      <td>2.800000</td>\n",
              "    </tr>\n",
              "    <tr>\n",
              "      <th>50%</th>\n",
              "      <td>32.730000</td>\n",
              "      <td>79.840000</td>\n",
              "      <td>29.500000</td>\n",
              "      <td>21.460000</td>\n",
              "      <td>0.860000</td>\n",
              "      <td>4.870000</td>\n",
              "      <td>31.155000</td>\n",
              "      <td>85.000000</td>\n",
              "      <td>23.800000</td>\n",
              "      <td>29.700000</td>\n",
              "      <td>20.200000</td>\n",
              "      <td>66.000000</td>\n",
              "      <td>6.900000</td>\n",
              "      <td>4.100000</td>\n",
              "    </tr>\n",
              "    <tr>\n",
              "      <th>75%</th>\n",
              "      <td>46.860000</td>\n",
              "      <td>107.425000</td>\n",
              "      <td>36.595000</td>\n",
              "      <td>30.140000</td>\n",
              "      <td>1.020000</td>\n",
              "      <td>6.125000</td>\n",
              "      <td>47.345000</td>\n",
              "      <td>111.000000</td>\n",
              "      <td>25.600000</td>\n",
              "      <td>32.200000</td>\n",
              "      <td>21.200000</td>\n",
              "      <td>76.000000</td>\n",
              "      <td>6.900000</td>\n",
              "      <td>5.900000</td>\n",
              "    </tr>\n",
              "    <tr>\n",
              "      <th>max</th>\n",
              "      <td>313.590000</td>\n",
              "      <td>351.510000</td>\n",
              "      <td>142.350000</td>\n",
              "      <td>147.060000</td>\n",
              "      <td>47.930000</td>\n",
              "      <td>24.020000</td>\n",
              "      <td>109.970000</td>\n",
              "      <td>352.000000</td>\n",
              "      <td>31.400000</td>\n",
              "      <td>39.200000</td>\n",
              "      <td>25.800000</td>\n",
              "      <td>97.000000</td>\n",
              "      <td>9.200000</td>\n",
              "      <td>14.800000</td>\n",
              "    </tr>\n",
              "  </tbody>\n",
              "</table>\n",
              "</div>"
            ],
            "text/plain": [
              "             PM2.5         PM10  ...      visible         wind\n",
              "count  1394.000000  1416.000000  ...  1446.000000  1446.000000\n",
              "mean     37.978293    85.900028  ...     6.616390     4.584855\n",
              "std      23.930548    39.127126  ...     0.630561     2.704718\n",
              "min       1.720000     9.930000  ...     3.700000     0.000000\n",
              "25%      22.360000    57.552500  ...     6.300000     2.800000\n",
              "50%      32.730000    79.840000  ...     6.900000     4.100000\n",
              "75%      46.860000   107.425000  ...     6.900000     5.900000\n",
              "max     313.590000   351.510000  ...     9.200000    14.800000\n",
              "\n",
              "[8 rows x 14 columns]"
            ]
          },
          "metadata": {},
          "execution_count": 31
        }
      ]
    },
    {
      "cell_type": "markdown",
      "metadata": {
        "id": "irWWbwnJJqeq"
      },
      "source": [
        "#### NOx, CO and wind speed have 0 values"
      ]
    },
    {
      "cell_type": "code",
      "metadata": {
        "id": "NX_qFtXYQuLZ"
      },
      "source": [
        "df.replace(0,np.nan, inplace=True)"
      ],
      "execution_count": null,
      "outputs": []
    },
    {
      "cell_type": "markdown",
      "metadata": {
        "id": "vRY4H6ZzSB3Q"
      },
      "source": [
        "### Handle Missing Values"
      ]
    },
    {
      "cell_type": "code",
      "metadata": {
        "id": "Ax8sqOcG8OYR",
        "colab": {
          "base_uri": "https://localhost:8080/"
        },
        "outputId": "a64f1cc7-6b55-48f8-afb2-818964df81b3"
      },
      "source": [
        "df.isnull().sum(axis=0)"
      ],
      "execution_count": null,
      "outputs": [
        {
          "output_type": "execute_result",
          "data": {
            "text/plain": [
              "PM2.5        67\n",
              "PM10         45\n",
              "NO2           6\n",
              "NOx         341\n",
              "CO           12\n",
              "SO2           6\n",
              "O3          137\n",
              "AQI          20\n",
              "temp         15\n",
              "max_temp     15\n",
              "min_temp     15\n",
              "humid        15\n",
              "visible      15\n",
              "wind         22\n",
              "dtype: int64"
            ]
          },
          "metadata": {},
          "execution_count": 33
        }
      ]
    },
    {
      "cell_type": "code",
      "metadata": {
        "colab": {
          "base_uri": "https://localhost:8080/",
          "height": 447
        },
        "id": "21H7LY38NOnV",
        "outputId": "4e8e0bfa-5d8e-4390-cdd3-ea9dcf24d7f9"
      },
      "source": [
        "import missingno as msno\n",
        "msno.matrix(df, figsize=(10,6))\n",
        "plt.show()"
      ],
      "execution_count": null,
      "outputs": [
        {
          "output_type": "display_data",
          "data": {
            "image/png": "[encoded data removed]",
            "text/plain": [
              "<Figure size 720x432 with 2 Axes>"
            ]
          },
          "metadata": {
            "needs_background": "light"
          }
        }
      ]
    },
    {
      "cell_type": "markdown",
      "metadata": {
        "id": "11J4pfkvlbns"
      },
      "source": [
        "Delete rows where AQI value is NaN"
      ]
    },
    {
      "cell_type": "code",
      "metadata": {
        "colab": {
          "base_uri": "https://localhost:8080/"
        },
        "id": "YBZ1NGF_lQX_",
        "outputId": "74811bf0-2f17-48b0-a3d3-f8bc8f78f12f"
      },
      "source": [
        "df = df.loc[~df['AQI'].isna()]\n",
        "df.shape\n",
        "# 20 rows deleted"
      ],
      "execution_count": null,
      "outputs": [
        {
          "output_type": "execute_result",
          "data": {
            "text/plain": [
              "(1441, 14)"
            ]
          },
          "metadata": {},
          "execution_count": 35
        }
      ]
    },
    {
      "cell_type": "code",
      "metadata": {
        "colab": {
          "base_uri": "https://localhost:8080/"
        },
        "id": "48YofnhlrdDd",
        "outputId": "b66d97aa-1a24-49ab-f09c-36e0754de55e"
      },
      "source": [
        "target = target.loc[~target.isna()]\n",
        "target.shape"
      ],
      "execution_count": null,
      "outputs": [
        {
          "output_type": "execute_result",
          "data": {
            "text/plain": [
              "(1441,)"
            ]
          },
          "metadata": {},
          "execution_count": 36
        }
      ]
    },
    {
      "cell_type": "code",
      "metadata": {
        "colab": {
          "base_uri": "https://localhost:8080/"
        },
        "id": "emn2i5FBlmpr",
        "outputId": "f3da00d4-eec9-4391-a714-3f78c420211b"
      },
      "source": [
        "df.info()"
      ],
      "execution_count": null,
      "outputs": [
        {
          "output_type": "stream",
          "name": "stdout",
          "text": [
            "<class 'pandas.core.frame.DataFrame'>\n",
            "DatetimeIndex: 1441 entries, 2016-01-01 to 2019-12-31\n",
            "Data columns (total 14 columns):\n",
            " #   Column    Non-Null Count  Dtype  \n",
            "---  ------    --------------  -----  \n",
            " 0   PM2.5     1387 non-null   float64\n",
            " 1   PM10      1403 non-null   float64\n",
            " 2   NO2       1440 non-null   float64\n",
            " 3   NOx       1102 non-null   float64\n",
            " 4   CO        1433 non-null   float64\n",
            " 5   SO2       1440 non-null   float64\n",
            " 6   O3        1320 non-null   float64\n",
            " 7   AQI       1441 non-null   float64\n",
            " 8   temp      1426 non-null   float64\n",
            " 9   max_temp  1426 non-null   float64\n",
            " 10  min_temp  1426 non-null   float64\n",
            " 11  humid     1426 non-null   float64\n",
            " 12  visible   1426 non-null   float64\n",
            " 13  wind      1419 non-null   float64\n",
            "dtypes: float64(14)\n",
            "memory usage: 168.9 KB\n"
          ]
        }
      ]
    },
    {
      "cell_type": "markdown",
      "metadata": {
        "id": "MPVlnlq3RYkA"
      },
      "source": [
        "#### Interpolate the missing values\n",
        "bfill, ffill, interpolate\n",
        "\n",
        "Time series data has a lot of variations against time. Hence, imputing using backfill and forward fill isn't the ebst possible solution to address the missing value problem. A more apt alternative would be to use interpolation methods, where the values are filled with incrementing or decrementing values."
      ]
    },
    {
      "cell_type": "code",
      "metadata": {
        "colab": {
          "base_uri": "https://localhost:8080/"
        },
        "id": "AJIrnDoURAL7",
        "outputId": "3887e6c2-afed-4551-b7e7-ed6470ba4ca2"
      },
      "source": [
        "df.interpolate(limit_direction=\"both\", inplace=True)\n",
        "df.isnull().sum(axis=0)"
      ],
      "execution_count": null,
      "outputs": [
        {
          "output_type": "stream",
          "name": "stderr",
          "text": [
            "/usr/local/lib/python3.7/dist-packages/ipykernel_launcher.py:1: SettingWithCopyWarning: \n",
            "A value is trying to be set on a copy of a slice from a DataFrame\n",
            "\n",
            "See the caveats in the documentation: https://pandas.pydata.org/pandas-docs/stable/user_guide/indexing.html#returning-a-view-versus-a-copy\n",
            "  \"\"\"Entry point for launching an IPython kernel.\n"
          ]
        },
        {
          "output_type": "execute_result",
          "data": {
            "text/plain": [
              "PM2.5       0\n",
              "PM10        0\n",
              "NO2         0\n",
              "NOx         0\n",
              "CO          0\n",
              "SO2         0\n",
              "O3          0\n",
              "AQI         0\n",
              "temp        0\n",
              "max_temp    0\n",
              "min_temp    0\n",
              "humid       0\n",
              "visible     0\n",
              "wind        0\n",
              "dtype: int64"
            ]
          },
          "metadata": {},
          "execution_count": 38
        }
      ]
    },
    {
      "cell_type": "code",
      "metadata": {
        "colab": {
          "base_uri": "https://localhost:8080/"
        },
        "id": "f8sNZNzdQRki",
        "outputId": "1be9a325-57fe-4b2b-945a-668caf349d53"
      },
      "source": [
        "df.shape"
      ],
      "execution_count": null,
      "outputs": [
        {
          "output_type": "execute_result",
          "data": {
            "text/plain": [
              "(1441, 14)"
            ]
          },
          "metadata": {},
          "execution_count": 39
        }
      ]
    },
    {
      "cell_type": "markdown",
      "metadata": {
        "id": "G_1eWNGyScH8"
      },
      "source": [
        "### Visualization"
      ]
    },
    {
      "cell_type": "code",
      "metadata": {
        "id": "kuEFZWJbMB5X"
      },
      "source": [
        "# sns.lineplot(x=df.index, y=df.loc[:,'NOx'])\n",
        "# plt.xlabel('Index')\n",
        "# plt.show()"
      ],
      "execution_count": null,
      "outputs": []
    },
    {
      "cell_type": "code",
      "metadata": {
        "id": "teEAvtFmQRiR"
      },
      "source": [
        "# df.plot(subplots=True, layout=(5,3),figsize=(22,18))\n",
        "# plt.show()"
      ],
      "execution_count": null,
      "outputs": []
    },
    {
      "cell_type": "markdown",
      "metadata": {
        "id": "aIOBQ-wxpmuf"
      },
      "source": [
        "Climatic conditions shows seasonal variation\n",
        "\n",
        "Pollutants data show white noise i.e. no seasonality,trend,cyclic pattern"
      ]
    },
    {
      "cell_type": "code",
      "metadata": {
        "id": "iLvHYAxUSqGa",
        "colab": {
          "base_uri": "https://localhost:8080/",
          "height": 300
        },
        "outputId": "29189984-d9ed-44d1-a356-5a8bd90d8bdc"
      },
      "source": [
        "df.describe()"
      ],
      "execution_count": null,
      "outputs": [
        {
          "output_type": "execute_result",
          "data": {
            "text/html": [
              "<div>\n",
              "<style scoped>\n",
              "    .dataframe tbody tr th:only-of-type {\n",
              "        vertical-align: middle;\n",
              "    }\n",
              "\n",
              "    .dataframe tbody tr th {\n",
              "        vertical-align: top;\n",
              "    }\n",
              "\n",
              "    .dataframe thead th {\n",
              "        text-align: right;\n",
              "    }\n",
              "</style>\n",
              "<table border=\"1\" class=\"dataframe\">\n",
              "  <thead>\n",
              "    <tr style=\"text-align: right;\">\n",
              "      <th></th>\n",
              "      <th>PM2.5</th>\n",
              "      <th>PM10</th>\n",
              "      <th>NO2</th>\n",
              "      <th>NOx</th>\n",
              "      <th>CO</th>\n",
              "      <th>SO2</th>\n",
              "      <th>O3</th>\n",
              "      <th>AQI</th>\n",
              "      <th>temp</th>\n",
              "      <th>max_temp</th>\n",
              "      <th>min_temp</th>\n",
              "      <th>humid</th>\n",
              "      <th>visible</th>\n",
              "      <th>wind</th>\n",
              "    </tr>\n",
              "  </thead>\n",
              "  <tbody>\n",
              "    <tr>\n",
              "      <th>count</th>\n",
              "      <td>1441.000000</td>\n",
              "      <td>1441.000000</td>\n",
              "      <td>1441.000000</td>\n",
              "      <td>1441.000000</td>\n",
              "      <td>1441.000000</td>\n",
              "      <td>1441.000000</td>\n",
              "      <td>1441.000000</td>\n",
              "      <td>1441.000000</td>\n",
              "      <td>1441.000000</td>\n",
              "      <td>1441.000000</td>\n",
              "      <td>1441.000000</td>\n",
              "      <td>1441.000000</td>\n",
              "      <td>1441.000000</td>\n",
              "      <td>1441.000000</td>\n",
              "    </tr>\n",
              "    <tr>\n",
              "      <th>mean</th>\n",
              "      <td>38.516197</td>\n",
              "      <td>86.403688</td>\n",
              "      <td>30.930035</td>\n",
              "      <td>21.236298</td>\n",
              "      <td>1.052817</td>\n",
              "      <td>5.190704</td>\n",
              "      <td>34.729306</td>\n",
              "      <td>92.549618</td>\n",
              "      <td>24.284629</td>\n",
              "      <td>30.364851</td>\n",
              "      <td>19.864920</td>\n",
              "      <td>63.846287</td>\n",
              "      <td>6.605378</td>\n",
              "      <td>4.567071</td>\n",
              "    </tr>\n",
              "    <tr>\n",
              "      <th>std</th>\n",
              "      <td>25.512296</td>\n",
              "      <td>38.848527</td>\n",
              "      <td>12.821305</td>\n",
              "      <td>15.460293</td>\n",
              "      <td>2.013404</td>\n",
              "      <td>2.231657</td>\n",
              "      <td>17.781051</td>\n",
              "      <td>38.221982</td>\n",
              "      <td>2.304382</td>\n",
              "      <td>2.932811</td>\n",
              "      <td>2.322212</td>\n",
              "      <td>15.450047</td>\n",
              "      <td>0.635529</td>\n",
              "      <td>2.696078</td>\n",
              "    </tr>\n",
              "    <tr>\n",
              "      <th>min</th>\n",
              "      <td>1.720000</td>\n",
              "      <td>9.930000</td>\n",
              "      <td>3.000000</td>\n",
              "      <td>0.470000</td>\n",
              "      <td>0.080000</td>\n",
              "      <td>1.060000</td>\n",
              "      <td>3.140000</td>\n",
              "      <td>20.000000</td>\n",
              "      <td>18.900000</td>\n",
              "      <td>21.600000</td>\n",
              "      <td>12.000000</td>\n",
              "      <td>17.000000</td>\n",
              "      <td>3.700000</td>\n",
              "      <td>0.200000</td>\n",
              "    </tr>\n",
              "    <tr>\n",
              "      <th>25%</th>\n",
              "      <td>22.490000</td>\n",
              "      <td>58.260000</td>\n",
              "      <td>22.840000</td>\n",
              "      <td>6.009755</td>\n",
              "      <td>0.680000</td>\n",
              "      <td>3.870000</td>\n",
              "      <td>20.490000</td>\n",
              "      <td>66.000000</td>\n",
              "      <td>22.700000</td>\n",
              "      <td>28.200000</td>\n",
              "      <td>18.600000</td>\n",
              "      <td>51.000000</td>\n",
              "      <td>6.300000</td>\n",
              "      <td>2.800000</td>\n",
              "    </tr>\n",
              "    <tr>\n",
              "      <th>50%</th>\n",
              "      <td>32.610000</td>\n",
              "      <td>80.700000</td>\n",
              "      <td>29.530000</td>\n",
              "      <td>21.490000</td>\n",
              "      <td>0.860000</td>\n",
              "      <td>4.900000</td>\n",
              "      <td>31.123913</td>\n",
              "      <td>85.000000</td>\n",
              "      <td>23.800000</td>\n",
              "      <td>29.700000</td>\n",
              "      <td>20.200000</td>\n",
              "      <td>66.000000</td>\n",
              "      <td>6.900000</td>\n",
              "      <td>3.900000</td>\n",
              "    </tr>\n",
              "    <tr>\n",
              "      <th>75%</th>\n",
              "      <td>46.940000</td>\n",
              "      <td>107.540000</td>\n",
              "      <td>36.610000</td>\n",
              "      <td>30.040000</td>\n",
              "      <td>1.020000</td>\n",
              "      <td>6.140000</td>\n",
              "      <td>47.770000</td>\n",
              "      <td>111.000000</td>\n",
              "      <td>25.600000</td>\n",
              "      <td>32.200000</td>\n",
              "      <td>21.200000</td>\n",
              "      <td>76.000000</td>\n",
              "      <td>6.900000</td>\n",
              "      <td>5.900000</td>\n",
              "    </tr>\n",
              "    <tr>\n",
              "      <th>max</th>\n",
              "      <td>313.590000</td>\n",
              "      <td>351.510000</td>\n",
              "      <td>142.350000</td>\n",
              "      <td>147.060000</td>\n",
              "      <td>47.930000</td>\n",
              "      <td>24.020000</td>\n",
              "      <td>109.970000</td>\n",
              "      <td>352.000000</td>\n",
              "      <td>31.400000</td>\n",
              "      <td>39.200000</td>\n",
              "      <td>25.800000</td>\n",
              "      <td>97.000000</td>\n",
              "      <td>9.200000</td>\n",
              "      <td>14.800000</td>\n",
              "    </tr>\n",
              "  </tbody>\n",
              "</table>\n",
              "</div>"
            ],
            "text/plain": [
              "             PM2.5         PM10  ...      visible         wind\n",
              "count  1441.000000  1441.000000  ...  1441.000000  1441.000000\n",
              "mean     38.516197    86.403688  ...     6.605378     4.567071\n",
              "std      25.512296    38.848527  ...     0.635529     2.696078\n",
              "min       1.720000     9.930000  ...     3.700000     0.200000\n",
              "25%      22.490000    58.260000  ...     6.300000     2.800000\n",
              "50%      32.610000    80.700000  ...     6.900000     3.900000\n",
              "75%      46.940000   107.540000  ...     6.900000     5.900000\n",
              "max     313.590000   351.510000  ...     9.200000    14.800000\n",
              "\n",
              "[8 rows x 14 columns]"
            ]
          },
          "metadata": {},
          "execution_count": 42
        }
      ]
    },
    {
      "cell_type": "code",
      "metadata": {
        "colab": {
          "base_uri": "https://localhost:8080/",
          "height": 238
        },
        "id": "KZzIIIHgnCje",
        "outputId": "a7e9ec37-1967-4b44-bfab-84d967d03e54"
      },
      "source": [
        "df.head()"
      ],
      "execution_count": null,
      "outputs": [
        {
          "output_type": "execute_result",
          "data": {
            "text/html": [
              "<div>\n",
              "<style scoped>\n",
              "    .dataframe tbody tr th:only-of-type {\n",
              "        vertical-align: middle;\n",
              "    }\n",
              "\n",
              "    .dataframe tbody tr th {\n",
              "        vertical-align: top;\n",
              "    }\n",
              "\n",
              "    .dataframe thead th {\n",
              "        text-align: right;\n",
              "    }\n",
              "</style>\n",
              "<table border=\"1\" class=\"dataframe\">\n",
              "  <thead>\n",
              "    <tr style=\"text-align: right;\">\n",
              "      <th></th>\n",
              "      <th>PM2.5</th>\n",
              "      <th>PM10</th>\n",
              "      <th>NO2</th>\n",
              "      <th>NOx</th>\n",
              "      <th>CO</th>\n",
              "      <th>SO2</th>\n",
              "      <th>O3</th>\n",
              "      <th>AQI</th>\n",
              "      <th>temp</th>\n",
              "      <th>max_temp</th>\n",
              "      <th>min_temp</th>\n",
              "      <th>humid</th>\n",
              "      <th>visible</th>\n",
              "      <th>wind</th>\n",
              "    </tr>\n",
              "    <tr>\n",
              "      <th>Date</th>\n",
              "      <th></th>\n",
              "      <th></th>\n",
              "      <th></th>\n",
              "      <th></th>\n",
              "      <th></th>\n",
              "      <th></th>\n",
              "      <th></th>\n",
              "      <th></th>\n",
              "      <th></th>\n",
              "      <th></th>\n",
              "      <th></th>\n",
              "      <th></th>\n",
              "      <th></th>\n",
              "      <th></th>\n",
              "    </tr>\n",
              "  </thead>\n",
              "  <tbody>\n",
              "    <tr>\n",
              "      <th>2016-01-01</th>\n",
              "      <td>56.40</td>\n",
              "      <td>95.08</td>\n",
              "      <td>51.73</td>\n",
              "      <td>34.31</td>\n",
              "      <td>0.69</td>\n",
              "      <td>7.44</td>\n",
              "      <td>55.96</td>\n",
              "      <td>101.0</td>\n",
              "      <td>20.1</td>\n",
              "      <td>28.4</td>\n",
              "      <td>15.7</td>\n",
              "      <td>54.0</td>\n",
              "      <td>6.0</td>\n",
              "      <td>3.0</td>\n",
              "    </tr>\n",
              "    <tr>\n",
              "      <th>2016-01-02</th>\n",
              "      <td>53.69</td>\n",
              "      <td>93.92</td>\n",
              "      <td>73.09</td>\n",
              "      <td>54.77</td>\n",
              "      <td>0.76</td>\n",
              "      <td>8.67</td>\n",
              "      <td>34.06</td>\n",
              "      <td>92.0</td>\n",
              "      <td>20.8</td>\n",
              "      <td>28.3</td>\n",
              "      <td>12.9</td>\n",
              "      <td>45.0</td>\n",
              "      <td>6.3</td>\n",
              "      <td>1.1</td>\n",
              "    </tr>\n",
              "    <tr>\n",
              "      <th>2016-01-03</th>\n",
              "      <td>62.35</td>\n",
              "      <td>99.34</td>\n",
              "      <td>77.77</td>\n",
              "      <td>55.60</td>\n",
              "      <td>0.96</td>\n",
              "      <td>9.10</td>\n",
              "      <td>47.62</td>\n",
              "      <td>108.0</td>\n",
              "      <td>21.4</td>\n",
              "      <td>29.0</td>\n",
              "      <td>13.7</td>\n",
              "      <td>45.0</td>\n",
              "      <td>6.3</td>\n",
              "      <td>0.4</td>\n",
              "    </tr>\n",
              "    <tr>\n",
              "      <th>2016-01-04</th>\n",
              "      <td>64.96</td>\n",
              "      <td>104.62</td>\n",
              "      <td>77.07</td>\n",
              "      <td>50.81</td>\n",
              "      <td>0.89</td>\n",
              "      <td>8.87</td>\n",
              "      <td>50.62</td>\n",
              "      <td>109.0</td>\n",
              "      <td>21.5</td>\n",
              "      <td>29.0</td>\n",
              "      <td>15.2</td>\n",
              "      <td>47.0</td>\n",
              "      <td>6.9</td>\n",
              "      <td>2.2</td>\n",
              "    </tr>\n",
              "    <tr>\n",
              "      <th>2016-01-05</th>\n",
              "      <td>70.15</td>\n",
              "      <td>105.12</td>\n",
              "      <td>79.43</td>\n",
              "      <td>56.05</td>\n",
              "      <td>0.85</td>\n",
              "      <td>9.41</td>\n",
              "      <td>36.94</td>\n",
              "      <td>114.0</td>\n",
              "      <td>20.9</td>\n",
              "      <td>28.4</td>\n",
              "      <td>14.7</td>\n",
              "      <td>51.0</td>\n",
              "      <td>6.3</td>\n",
              "      <td>1.1</td>\n",
              "    </tr>\n",
              "  </tbody>\n",
              "</table>\n",
              "</div>"
            ],
            "text/plain": [
              "            PM2.5    PM10    NO2    NOx  ...  min_temp  humid  visible  wind\n",
              "Date                                     ...                                \n",
              "2016-01-01  56.40   95.08  51.73  34.31  ...      15.7   54.0      6.0   3.0\n",
              "2016-01-02  53.69   93.92  73.09  54.77  ...      12.9   45.0      6.3   1.1\n",
              "2016-01-03  62.35   99.34  77.77  55.60  ...      13.7   45.0      6.3   0.4\n",
              "2016-01-04  64.96  104.62  77.07  50.81  ...      15.2   47.0      6.9   2.2\n",
              "2016-01-05  70.15  105.12  79.43  56.05  ...      14.7   51.0      6.3   1.1\n",
              "\n",
              "[5 rows x 14 columns]"
            ]
          },
          "metadata": {},
          "execution_count": 43
        }
      ]
    },
    {
      "cell_type": "markdown",
      "metadata": {
        "id": "Iet5S9fF3p4U"
      },
      "source": [
        "### Delete AQI col from independent features"
      ]
    },
    {
      "cell_type": "code",
      "metadata": {
        "colab": {
          "base_uri": "https://localhost:8080/",
          "height": 238
        },
        "id": "2l0aITKY3uVG",
        "outputId": "addf220d-1e0f-4ecb-cf0b-db6558d2b491"
      },
      "source": [
        "df = df.drop(columns=['AQI'])\n",
        "df.head()"
      ],
      "execution_count": null,
      "outputs": [
        {
          "output_type": "execute_result",
          "data": {
            "text/html": [
              "<div>\n",
              "<style scoped>\n",
              "    .dataframe tbody tr th:only-of-type {\n",
              "        vertical-align: middle;\n",
              "    }\n",
              "\n",
              "    .dataframe tbody tr th {\n",
              "        vertical-align: top;\n",
              "    }\n",
              "\n",
              "    .dataframe thead th {\n",
              "        text-align: right;\n",
              "    }\n",
              "</style>\n",
              "<table border=\"1\" class=\"dataframe\">\n",
              "  <thead>\n",
              "    <tr style=\"text-align: right;\">\n",
              "      <th></th>\n",
              "      <th>PM2.5</th>\n",
              "      <th>PM10</th>\n",
              "      <th>NO2</th>\n",
              "      <th>NOx</th>\n",
              "      <th>CO</th>\n",
              "      <th>SO2</th>\n",
              "      <th>O3</th>\n",
              "      <th>temp</th>\n",
              "      <th>max_temp</th>\n",
              "      <th>min_temp</th>\n",
              "      <th>humid</th>\n",
              "      <th>visible</th>\n",
              "      <th>wind</th>\n",
              "    </tr>\n",
              "    <tr>\n",
              "      <th>Date</th>\n",
              "      <th></th>\n",
              "      <th></th>\n",
              "      <th></th>\n",
              "      <th></th>\n",
              "      <th></th>\n",
              "      <th></th>\n",
              "      <th></th>\n",
              "      <th></th>\n",
              "      <th></th>\n",
              "      <th></th>\n",
              "      <th></th>\n",
              "      <th></th>\n",
              "      <th></th>\n",
              "    </tr>\n",
              "  </thead>\n",
              "  <tbody>\n",
              "    <tr>\n",
              "      <th>2016-01-01</th>\n",
              "      <td>56.40</td>\n",
              "      <td>95.08</td>\n",
              "      <td>51.73</td>\n",
              "      <td>34.31</td>\n",
              "      <td>0.69</td>\n",
              "      <td>7.44</td>\n",
              "      <td>55.96</td>\n",
              "      <td>20.1</td>\n",
              "      <td>28.4</td>\n",
              "      <td>15.7</td>\n",
              "      <td>54.0</td>\n",
              "      <td>6.0</td>\n",
              "      <td>3.0</td>\n",
              "    </tr>\n",
              "    <tr>\n",
              "      <th>2016-01-02</th>\n",
              "      <td>53.69</td>\n",
              "      <td>93.92</td>\n",
              "      <td>73.09</td>\n",
              "      <td>54.77</td>\n",
              "      <td>0.76</td>\n",
              "      <td>8.67</td>\n",
              "      <td>34.06</td>\n",
              "      <td>20.8</td>\n",
              "      <td>28.3</td>\n",
              "      <td>12.9</td>\n",
              "      <td>45.0</td>\n",
              "      <td>6.3</td>\n",
              "      <td>1.1</td>\n",
              "    </tr>\n",
              "    <tr>\n",
              "      <th>2016-01-03</th>\n",
              "      <td>62.35</td>\n",
              "      <td>99.34</td>\n",
              "      <td>77.77</td>\n",
              "      <td>55.60</td>\n",
              "      <td>0.96</td>\n",
              "      <td>9.10</td>\n",
              "      <td>47.62</td>\n",
              "      <td>21.4</td>\n",
              "      <td>29.0</td>\n",
              "      <td>13.7</td>\n",
              "      <td>45.0</td>\n",
              "      <td>6.3</td>\n",
              "      <td>0.4</td>\n",
              "    </tr>\n",
              "    <tr>\n",
              "      <th>2016-01-04</th>\n",
              "      <td>64.96</td>\n",
              "      <td>104.62</td>\n",
              "      <td>77.07</td>\n",
              "      <td>50.81</td>\n",
              "      <td>0.89</td>\n",
              "      <td>8.87</td>\n",
              "      <td>50.62</td>\n",
              "      <td>21.5</td>\n",
              "      <td>29.0</td>\n",
              "      <td>15.2</td>\n",
              "      <td>47.0</td>\n",
              "      <td>6.9</td>\n",
              "      <td>2.2</td>\n",
              "    </tr>\n",
              "    <tr>\n",
              "      <th>2016-01-05</th>\n",
              "      <td>70.15</td>\n",
              "      <td>105.12</td>\n",
              "      <td>79.43</td>\n",
              "      <td>56.05</td>\n",
              "      <td>0.85</td>\n",
              "      <td>9.41</td>\n",
              "      <td>36.94</td>\n",
              "      <td>20.9</td>\n",
              "      <td>28.4</td>\n",
              "      <td>14.7</td>\n",
              "      <td>51.0</td>\n",
              "      <td>6.3</td>\n",
              "      <td>1.1</td>\n",
              "    </tr>\n",
              "  </tbody>\n",
              "</table>\n",
              "</div>"
            ],
            "text/plain": [
              "            PM2.5    PM10    NO2    NOx  ...  min_temp  humid  visible  wind\n",
              "Date                                     ...                                \n",
              "2016-01-01  56.40   95.08  51.73  34.31  ...      15.7   54.0      6.0   3.0\n",
              "2016-01-02  53.69   93.92  73.09  54.77  ...      12.9   45.0      6.3   1.1\n",
              "2016-01-03  62.35   99.34  77.77  55.60  ...      13.7   45.0      6.3   0.4\n",
              "2016-01-04  64.96  104.62  77.07  50.81  ...      15.2   47.0      6.9   2.2\n",
              "2016-01-05  70.15  105.12  79.43  56.05  ...      14.7   51.0      6.3   1.1\n",
              "\n",
              "[5 rows x 13 columns]"
            ]
          },
          "metadata": {},
          "execution_count": 44
        }
      ]
    },
    {
      "cell_type": "code",
      "metadata": {
        "id": "b49axrwFCRm8"
      },
      "source": [
        "# df.to_csv('train_x.csv')\n",
        "# target.to_csv('train_y.csv')"
      ],
      "execution_count": null,
      "outputs": []
    },
    {
      "cell_type": "markdown",
      "metadata": {
        "id": "5uZiincDqa6h"
      },
      "source": [
        "### Standard Scaler"
      ]
    },
    {
      "cell_type": "code",
      "metadata": {
        "colab": {
          "base_uri": "https://localhost:8080/"
        },
        "id": "wx_cWrrbPbJe",
        "outputId": "dd2454a4-95c3-49fe-e6e9-699c97508ef7"
      },
      "source": [
        "df.shape,target.values.reshape(-1,1).shape"
      ],
      "execution_count": null,
      "outputs": [
        {
          "output_type": "execute_result",
          "data": {
            "text/plain": [
              "((1441, 13), (1441, 1))"
            ]
          },
          "metadata": {},
          "execution_count": 46
        }
      ]
    },
    {
      "cell_type": "code",
      "metadata": {
        "id": "Biv6JEJOTd-8"
      },
      "source": [
        "from sklearn.preprocessing import StandardScaler\n",
        "\n",
        "sc = StandardScaler()\n",
        "sc_target = StandardScaler()\n",
        "\n",
        "X_scaler = sc.fit_transform(df)\n",
        "Y_scaler = sc_target.fit_transform(target.values.reshape(-1,1))\n",
        "# StandardScaler take 2D array"
      ],
      "execution_count": null,
      "outputs": []
    },
    {
      "cell_type": "code",
      "metadata": {
        "colab": {
          "base_uri": "https://localhost:8080/"
        },
        "id": "xfp5aWEJpQMa",
        "outputId": "98838275-8503-4846-e89b-6eae65312296"
      },
      "source": [
        "type(X_scaler), type(Y_scaler)"
      ],
      "execution_count": null,
      "outputs": [
        {
          "output_type": "execute_result",
          "data": {
            "text/plain": [
              "(numpy.ndarray, numpy.ndarray)"
            ]
          },
          "metadata": {},
          "execution_count": 48
        }
      ]
    },
    {
      "cell_type": "code",
      "metadata": {
        "colab": {
          "base_uri": "https://localhost:8080/"
        },
        "id": "9GGIp_QpoD4Y",
        "outputId": "6caa3b4c-a351-438d-d4e5-c8f891dffa4c"
      },
      "source": [
        "X_scaler[0]"
      ],
      "execution_count": null,
      "outputs": [
        {
          "output_type": "execute_result",
          "data": {
            "text/plain": [
              "array([ 0.70123094,  0.22341448,  1.62286025,  0.84592452, -0.18026357,\n",
              "        1.00825383,  1.19442119, -1.81657462, -0.67018747, -1.79413706,\n",
              "       -0.63751945, -0.95288902, -0.58144294])"
            ]
          },
          "metadata": {},
          "execution_count": 49
        }
      ]
    },
    {
      "cell_type": "code",
      "metadata": {
        "colab": {
          "base_uri": "https://localhost:8080/"
        },
        "id": "YS9TuCj5n8gN",
        "outputId": "a45b5de9-5d16-4049-91ad-fbebbfce30d2"
      },
      "source": [
        "Y_scaler"
      ],
      "execution_count": null,
      "outputs": [
        {
          "output_type": "execute_result",
          "data": {
            "text/plain": [
              "array([[ 0.22116371],\n",
              "       [-0.01438463],\n",
              "       [ 0.40436797],\n",
              "       ...,\n",
              "       [-0.32844908],\n",
              "       [ 0.01178741],\n",
              "       [ 0.11647556]])"
            ]
          },
          "metadata": {},
          "execution_count": 50
        }
      ]
    },
    {
      "cell_type": "code",
      "metadata": {
        "colab": {
          "base_uri": "https://localhost:8080/"
        },
        "id": "mK8nFJtKBeQ-",
        "outputId": "242f0e5f-11ec-44f8-8afa-e7499b6f03d7"
      },
      "source": [
        "X_scaler.shape, Y_scaler.shape"
      ],
      "execution_count": null,
      "outputs": [
        {
          "output_type": "execute_result",
          "data": {
            "text/plain": [
              "((1441, 13), (1441, 1))"
            ]
          },
          "metadata": {},
          "execution_count": 51
        }
      ]
    },
    {
      "cell_type": "code",
      "metadata": {
        "id": "oS-E1fjBu8FY"
      },
      "source": [
        "def custom_dataset(dataset, target, start, end, previous, future):\n",
        "  X = []\n",
        "  y = []\n",
        "  start = start + previous\n",
        "  end = end - future + 1\n",
        "  #  if end is None:\n",
        "  for i in range(start, end):\n",
        "      indices_x = range(i-previous, i)\n",
        "      X.append(dataset[indices_x])\n",
        "      indices_y = range(i, i+future)\n",
        "      y.append(target[indices_y])\n",
        "  return np.array(X), np.array(y)"
      ],
      "execution_count": null,
      "outputs": []
    },
    {
      "cell_type": "code",
      "metadata": {
        "id": "JxSllW492KOD",
        "colab": {
          "base_uri": "https://localhost:8080/"
        },
        "outputId": "364303c5-d395-4421-ea9b-8061da496a7d"
      },
      "source": [
        "prev = 7\n",
        "future = 1\n",
        "start = 0\n",
        "end = X_scaler.shape[0]-1\n",
        "\n",
        "X_train, Y_train = custom_dataset(X_scaler, Y_scaler, start, end, prev, future)\n",
        "X_train[:1]"
      ],
      "execution_count": null,
      "outputs": [
        {
          "output_type": "execute_result",
          "data": {
            "text/plain": [
              "array([[[ 0.70123094,  0.22341448,  1.62286025,  0.84592452,\n",
              "         -0.18026357,  1.00825383,  1.19442119, -1.81657462,\n",
              "         -0.67018747, -1.79413706, -0.63751945, -0.95288902,\n",
              "         -0.58144294],\n",
              "        [ 0.59497078,  0.19354456,  3.28941567,  2.16977412,\n",
              "         -0.14548452,  1.5596052 , -0.0376546 , -1.51270006,\n",
              "         -0.70429629, -3.00030274, -1.22024417, -0.48067727,\n",
              "         -1.28641499],\n",
              "        [ 0.93453278,  0.33310922,  3.65455984,  2.22347867,\n",
              "         -0.04611578,  1.75235405,  0.72521972, -1.25223614,\n",
              "         -0.46553454, -2.65568398, -1.22024417, -0.48067727,\n",
              "         -1.54614153],\n",
              "        [ 1.0368719 ,  0.46906889,  3.59994426,  1.91354517,\n",
              "         -0.08089484,  1.64925583,  0.89399723, -1.20882549,\n",
              "         -0.46553454, -2.00952379, -1.09074978,  0.46374624,\n",
              "         -0.87827328],\n",
              "        [ 1.24037384,  0.48194386,  3.78407679,  2.2525956 ,\n",
              "         -0.10076859,  1.89131253,  0.1243718 , -1.46928941,\n",
              "         -0.67018747, -2.22491052, -0.83176102, -0.48067727,\n",
              "         -1.28641499],\n",
              "        [ 1.16469779,  0.13740969,  2.93129351,  2.20924373,\n",
              "         -0.06102109,  4.05189267,  0.63295469, -1.12200419,\n",
              "         -0.567861  , -1.9233691 , -0.63751945, -0.95288902,\n",
              "         -0.95248086],\n",
              "        [ 1.18508719, -0.31166922,  1.74145408,  2.41759152,\n",
              "         -0.13057921,  8.27443728, -0.64919176, -1.42587875,\n",
              "         -0.567861  , -1.23413157,  0.07469966, -0.48067727,\n",
              "         -0.54433915]]])"
            ]
          },
          "metadata": {},
          "execution_count": 53
        }
      ]
    },
    {
      "cell_type": "code",
      "metadata": {
        "colab": {
          "base_uri": "https://localhost:8080/"
        },
        "id": "1O7vEMk8u8EA",
        "outputId": "00eacff5-77da-4a1d-f81e-e7e628034005"
      },
      "source": [
        "X_train.shape, Y_train.shape"
      ],
      "execution_count": null,
      "outputs": [
        {
          "output_type": "execute_result",
          "data": {
            "text/plain": [
              "((1433, 7, 13), (1433, 1, 1))"
            ]
          },
          "metadata": {},
          "execution_count": 54
        }
      ]
    },
    {
      "cell_type": "markdown",
      "metadata": {
        "id": "8AfghP3Kvpo0"
      },
      "source": [
        "# PyTorch"
      ]
    },
    {
      "cell_type": "code",
      "metadata": {
        "id": "J-WTlRo_TBwK"
      },
      "source": [
        "import torch\n",
        "import torch.nn as nn\n",
        "from torch.autograd import Variable "
      ],
      "execution_count": null,
      "outputs": []
    },
    {
      "cell_type": "code",
      "metadata": {
        "id": "I9PjSfqiTBsq"
      },
      "source": [
        "X_train_tensors = Variable(torch.Tensor(X_train))\n",
        "y_train_tensors = Variable(torch.Tensor(Y_train))"
      ],
      "execution_count": null,
      "outputs": []
    },
    {
      "cell_type": "code",
      "metadata": {
        "colab": {
          "base_uri": "https://localhost:8080/"
        },
        "id": "LZUsCUpoTT-_",
        "outputId": "4112c9c9-b534-4707-d8fd-47a004a1db3f"
      },
      "source": [
        "X_train_tensors.size(), y_train_tensors.size()"
      ],
      "execution_count": null,
      "outputs": [
        {
          "output_type": "execute_result",
          "data": {
            "text/plain": [
              "(torch.Size([1433, 7, 13]), torch.Size([1433, 1, 1]))"
            ]
          },
          "metadata": {},
          "execution_count": 57
        }
      ]
    },
    {
      "cell_type": "code",
      "metadata": {
        "colab": {
          "base_uri": "https://localhost:8080/"
        },
        "id": "-_o3PdFcy-XM",
        "outputId": "bb3ff92a-dea4-4304-8b7b-94cbf12e801b"
      },
      "source": [
        "y_train_tensors = torch.reshape(y_train_tensors, (-1,future))\n",
        "y_train_tensors"
      ],
      "execution_count": null,
      "outputs": [
        {
          "output_type": "execute_result",
          "data": {
            "text/plain": [
              "tensor([[ 0.6399],\n",
              "        [ 1.3204],\n",
              "        [ 1.9747],\n",
              "        ...,\n",
              "        [-0.2761],\n",
              "        [-0.3284],\n",
              "        [ 0.0118]])"
            ]
          },
          "metadata": {},
          "execution_count": 58
        }
      ]
    },
    {
      "cell_type": "code",
      "metadata": {
        "colab": {
          "base_uri": "https://localhost:8080/"
        },
        "id": "yXzwxlQizYGZ",
        "outputId": "d408280a-b816-4f15-83ed-5c177669f605"
      },
      "source": [
        "y_train_tensors.size()"
      ],
      "execution_count": null,
      "outputs": [
        {
          "output_type": "execute_result",
          "data": {
            "text/plain": [
              "torch.Size([1433, 1])"
            ]
          },
          "metadata": {},
          "execution_count": 59
        }
      ]
    },
    {
      "cell_type": "code",
      "metadata": {
        "id": "2EqtH27HdsgK"
      },
      "source": [
        "class LSTM1(nn.Module):\n",
        "    def __init__(self, num_classes, input_size, hidden_size, num_layers, seq_length):\n",
        "        super(LSTM1, self).__init__()\n",
        "        self.num_classes = num_classes #number of classes\n",
        "        self.num_layers = num_layers #number of layers\n",
        "        self.input_size = input_size #input size\n",
        "        self.hidden_size = hidden_size #hidden state\n",
        "        self.seq_length = seq_length #sequence length\n",
        "\n",
        "        self.lstm = nn.LSTM(input_size=input_size, hidden_size=hidden_size,\n",
        "                          num_layers=num_layers, batch_first=True) #lstm\n",
        "        self.fc_1 =  nn.Linear(hidden_size, 128) #fully connected 1\n",
        "        self.fc = nn.Linear(128, num_classes) #fully connected last layer\n",
        "\n",
        "        self.relu = nn.ReLU()\n",
        "    \n",
        "    def forward(self,x):\n",
        "        h_0 = Variable(torch.randn(self.num_layers, x.size(0), self.hidden_size)) \n",
        "        c_0 = Variable(torch.randn(self.num_layers, x.size(0), self.hidden_size)) \n",
        "        output, (hn, cn) = self.lstm(x, (h_0, c_0)) \n",
        "        hn = hn.view(-1, self.hidden_size) \n",
        "        out = self.relu(hn)\n",
        "        out = self.fc_1(out) \n",
        "        out = self.relu(out) \n",
        "        out = self.fc(out) \n",
        "        return out"
      ],
      "execution_count": null,
      "outputs": []
    },
    {
      "cell_type": "code",
      "metadata": {
        "id": "8SLYo2jwTBjr"
      },
      "source": [
        "# class LSTM1(nn.Module):\n",
        "#     def __init__(self, num_classes, input_size, hidden_size, num_layers, seq_length):\n",
        "#         super(LSTM1, self).__init__()\n",
        "#         self.num_classes = num_classes #number of classes\n",
        "#         self.num_layers = num_layers #number of layers\n",
        "#         self.input_size = input_size #input size\n",
        "#         self.hidden_size = hidden_size #hidden state\n",
        "#         self.seq_length = seq_length #sequence length\n",
        "\n",
        "#         self.lstm = nn.LSTM(input_size=input_size, hidden_size=hidden_size,\n",
        "#                           num_layers=num_layers, batch_first=True) #lstm\n",
        "#         self.fc_1 =  nn.Linear(hidden_size, 50) #fully connected 1\n",
        "#         self.fc_1 =  nn.Linear(50, 128) #fully connected 1\n",
        "#         self.dropout = nn.Dropout(0.5)\n",
        "#         self.fc = nn.Linear(64, num_classes) #fully connected last layer\n",
        "\n",
        "#         self.relu = nn.ReLU()\n",
        "    \n",
        "#     def forward(self,x):\n",
        "#         h_0 = Variable(torch.randn(self.num_layers, x.size(0), self.hidden_size)) #hidden state\n",
        "#         c_0 = Variable(torch.randn(self.num_layers, x.size(0), self.hidden_size)) #internal state\n",
        "#         # Propagate input through LSTM\n",
        "#         output, (hn, cn) = self.lstm(x, (h_0, c_0)) #lstm with input, hidden, and internal state\n",
        "#         hn = hn.view(-1, self.hidden_size) #reshaping the data for Dense layer next\n",
        "#         out = self.relu(hn)\n",
        "#         out = self.fc_1(out) #first Dense\n",
        "#         out = self.relu(out) #relu\n",
        "#         out = self.dropout(out)\n",
        "#         out = self.fc(out) #Final Output\n",
        "#         return out"
      ],
      "execution_count": null,
      "outputs": []
    },
    {
      "cell_type": "code",
      "metadata": {
        "id": "IjyT2MhJTBhE"
      },
      "source": [
        "num_epochs = 1000 \n",
        "learning_rate = 0.001\n",
        "\n",
        "input_size = 13 #number of features\n",
        "hidden_size = 2 #number of features in hidden state\n",
        "num_layers = 1 #number of stacked lstm layers\n",
        "\n",
        "num_classes = 1 #number of output classes "
      ],
      "execution_count": null,
      "outputs": []
    },
    {
      "cell_type": "code",
      "metadata": {
        "id": "DGL53SzDTBeq"
      },
      "source": [
        "lstm1 = LSTM1(num_classes, input_size, hidden_size, num_layers, X_train_tensors.shape[1]) #our lstm class "
      ],
      "execution_count": null,
      "outputs": []
    },
    {
      "cell_type": "code",
      "metadata": {
        "id": "xz5BBJRiTBch"
      },
      "source": [
        "criterion = torch.nn.MSELoss()    # mean-squared error for regression\n",
        "optimizer = torch.optim.Adam(lstm1.parameters(), lr=learning_rate)"
      ],
      "execution_count": null,
      "outputs": []
    },
    {
      "cell_type": "code",
      "metadata": {
        "colab": {
          "base_uri": "https://localhost:8080/"
        },
        "id": "uuarq97YTBaN",
        "outputId": "d43c2b6f-670d-4e02-f798-0ef507182995"
      },
      "source": [
        "lstm1"
      ],
      "execution_count": null,
      "outputs": [
        {
          "output_type": "execute_result",
          "data": {
            "text/plain": [
              "LSTM1(\n",
              "  (lstm): LSTM(13, 2, batch_first=True)\n",
              "  (fc_1): Linear(in_features=2, out_features=128, bias=True)\n",
              "  (fc): Linear(in_features=128, out_features=1, bias=True)\n",
              "  (relu): ReLU()\n",
              ")"
            ]
          },
          "metadata": {},
          "execution_count": 65
        }
      ]
    },
    {
      "cell_type": "code",
      "metadata": {
        "colab": {
          "base_uri": "https://localhost:8080/"
        },
        "id": "qmf54Zz9TBX_",
        "outputId": "76edf408-9e4c-4b81-af20-dc24cd7e0aa1"
      },
      "source": [
        "for epoch in range(num_epochs):\n",
        "  outputs = lstm1.forward(X_train_tensors) #forward pass\n",
        "  optimizer.zero_grad() #caluclate the gradient, manually setting to 0\n",
        " \n",
        "  # obtain the loss function\n",
        "  loss = criterion(outputs, y_train_tensors)\n",
        "\n",
        "  loss.backward() #calculates the loss of the loss function\n",
        " \n",
        "  optimizer.step() #improve from loss, i.e backprop\n",
        "  if epoch % 100 == 0:\n",
        "    print(\"Epoch: %d, loss: %1.5f\" % (epoch, loss.item())) "
      ],
      "execution_count": null,
      "outputs": [
        {
          "output_type": "stream",
          "name": "stdout",
          "text": [
            "Epoch: 0, loss: 1.00660\n",
            "Epoch: 100, loss: 0.71023\n",
            "Epoch: 200, loss: 0.57325\n",
            "Epoch: 300, loss: 0.47355\n",
            "Epoch: 400, loss: 0.41634\n",
            "Epoch: 500, loss: 0.38767\n",
            "Epoch: 600, loss: 0.35955\n",
            "Epoch: 700, loss: 0.34293\n",
            "Epoch: 800, loss: 0.32769\n",
            "Epoch: 900, loss: 0.31740\n"
          ]
        }
      ]
    },
    {
      "cell_type": "code",
      "metadata": {
        "colab": {
          "base_uri": "https://localhost:8080/"
        },
        "id": "3uBgyhTG17Qn",
        "outputId": "d2bdf862-1065-4db3-928f-de60644db327"
      },
      "source": [
        "outputs.shape, y_train_tensors.shape"
      ],
      "execution_count": null,
      "outputs": [
        {
          "output_type": "execute_result",
          "data": {
            "text/plain": [
              "(torch.Size([1433, 1]), torch.Size([1433, 1]))"
            ]
          },
          "metadata": {},
          "execution_count": 67
        }
      ]
    },
    {
      "cell_type": "code",
      "metadata": {
        "colab": {
          "base_uri": "https://localhost:8080/"
        },
        "id": "pM3DLuJ5TBVn",
        "outputId": "1dc31b1b-8878-4538-b184-9186fc53b484"
      },
      "source": [
        "print(len(outputs))"
      ],
      "execution_count": null,
      "outputs": [
        {
          "output_type": "stream",
          "name": "stdout",
          "text": [
            "1433\n"
          ]
        }
      ]
    },
    {
      "cell_type": "code",
      "metadata": {
        "colab": {
          "base_uri": "https://localhost:8080/"
        },
        "id": "VLokOtbRTBTJ",
        "outputId": "f7d1d0e4-a8e3-49ee-b66f-d69b49c3127b"
      },
      "source": [
        "outputs # predicted by lstm"
      ],
      "execution_count": null,
      "outputs": [
        {
          "output_type": "execute_result",
          "data": {
            "text/plain": [
              "tensor([[ 0.9128],\n",
              "        [ 1.0726],\n",
              "        [ 1.3594],\n",
              "        ...,\n",
              "        [-0.0439],\n",
              "        [-0.2186],\n",
              "        [-0.1460]], grad_fn=<AddmmBackward0>)"
            ]
          },
          "metadata": {},
          "execution_count": 69
        }
      ]
    },
    {
      "cell_type": "markdown",
      "metadata": {
        "id": "uuPyeJLXZ0_v"
      },
      "source": [
        "# Testing Dataset"
      ]
    },
    {
      "cell_type": "code",
      "metadata": {
        "id": "MG4XoARkLldH",
        "colab": {
          "base_uri": "https://localhost:8080/",
          "height": 206
        },
        "outputId": "bb08af8e-9320-4f36-afc7-4a783baa9ac3"
      },
      "source": [
        "pollutants = pd.read_csv('/content/drive/MyDrive/Datasets/city_day.csv')\n",
        "pollutants.head()"
      ],
      "execution_count": null,
      "outputs": [
        {
          "output_type": "execute_result",
          "data": {
            "text/html": [
              "<div>\n",
              "<style scoped>\n",
              "    .dataframe tbody tr th:only-of-type {\n",
              "        vertical-align: middle;\n",
              "    }\n",
              "\n",
              "    .dataframe tbody tr th {\n",
              "        vertical-align: top;\n",
              "    }\n",
              "\n",
              "    .dataframe thead th {\n",
              "        text-align: right;\n",
              "    }\n",
              "</style>\n",
              "<table border=\"1\" class=\"dataframe\">\n",
              "  <thead>\n",
              "    <tr style=\"text-align: right;\">\n",
              "      <th></th>\n",
              "      <th>City</th>\n",
              "      <th>Date</th>\n",
              "      <th>PM2.5</th>\n",
              "      <th>PM10</th>\n",
              "      <th>NO</th>\n",
              "      <th>NO2</th>\n",
              "      <th>NOx</th>\n",
              "      <th>NH3</th>\n",
              "      <th>CO</th>\n",
              "      <th>SO2</th>\n",
              "      <th>O3</th>\n",
              "      <th>Benzene</th>\n",
              "      <th>Toluene</th>\n",
              "      <th>Xylene</th>\n",
              "      <th>AQI</th>\n",
              "      <th>AQI_Bucket</th>\n",
              "    </tr>\n",
              "  </thead>\n",
              "  <tbody>\n",
              "    <tr>\n",
              "      <th>0</th>\n",
              "      <td>Ahmedabad</td>\n",
              "      <td>2015-01-01</td>\n",
              "      <td>NaN</td>\n",
              "      <td>NaN</td>\n",
              "      <td>0.92</td>\n",
              "      <td>18.22</td>\n",
              "      <td>17.15</td>\n",
              "      <td>NaN</td>\n",
              "      <td>0.92</td>\n",
              "      <td>27.64</td>\n",
              "      <td>133.36</td>\n",
              "      <td>0.00</td>\n",
              "      <td>0.02</td>\n",
              "      <td>0.00</td>\n",
              "      <td>NaN</td>\n",
              "      <td>NaN</td>\n",
              "    </tr>\n",
              "    <tr>\n",
              "      <th>1</th>\n",
              "      <td>Ahmedabad</td>\n",
              "      <td>2015-01-02</td>\n",
              "      <td>NaN</td>\n",
              "      <td>NaN</td>\n",
              "      <td>0.97</td>\n",
              "      <td>15.69</td>\n",
              "      <td>16.46</td>\n",
              "      <td>NaN</td>\n",
              "      <td>0.97</td>\n",
              "      <td>24.55</td>\n",
              "      <td>34.06</td>\n",
              "      <td>3.68</td>\n",
              "      <td>5.50</td>\n",
              "      <td>3.77</td>\n",
              "      <td>NaN</td>\n",
              "      <td>NaN</td>\n",
              "    </tr>\n",
              "    <tr>\n",
              "      <th>2</th>\n",
              "      <td>Ahmedabad</td>\n",
              "      <td>2015-01-03</td>\n",
              "      <td>NaN</td>\n",
              "      <td>NaN</td>\n",
              "      <td>17.40</td>\n",
              "      <td>19.30</td>\n",
              "      <td>29.70</td>\n",
              "      <td>NaN</td>\n",
              "      <td>17.40</td>\n",
              "      <td>29.07</td>\n",
              "      <td>30.70</td>\n",
              "      <td>6.80</td>\n",
              "      <td>16.40</td>\n",
              "      <td>2.25</td>\n",
              "      <td>NaN</td>\n",
              "      <td>NaN</td>\n",
              "    </tr>\n",
              "    <tr>\n",
              "      <th>3</th>\n",
              "      <td>Ahmedabad</td>\n",
              "      <td>2015-01-04</td>\n",
              "      <td>NaN</td>\n",
              "      <td>NaN</td>\n",
              "      <td>1.70</td>\n",
              "      <td>18.48</td>\n",
              "      <td>17.97</td>\n",
              "      <td>NaN</td>\n",
              "      <td>1.70</td>\n",
              "      <td>18.59</td>\n",
              "      <td>36.08</td>\n",
              "      <td>4.43</td>\n",
              "      <td>10.14</td>\n",
              "      <td>1.00</td>\n",
              "      <td>NaN</td>\n",
              "      <td>NaN</td>\n",
              "    </tr>\n",
              "    <tr>\n",
              "      <th>4</th>\n",
              "      <td>Ahmedabad</td>\n",
              "      <td>2015-01-05</td>\n",
              "      <td>NaN</td>\n",
              "      <td>NaN</td>\n",
              "      <td>22.10</td>\n",
              "      <td>21.42</td>\n",
              "      <td>37.76</td>\n",
              "      <td>NaN</td>\n",
              "      <td>22.10</td>\n",
              "      <td>39.33</td>\n",
              "      <td>39.31</td>\n",
              "      <td>7.01</td>\n",
              "      <td>18.89</td>\n",
              "      <td>2.78</td>\n",
              "      <td>NaN</td>\n",
              "      <td>NaN</td>\n",
              "    </tr>\n",
              "  </tbody>\n",
              "</table>\n",
              "</div>"
            ],
            "text/plain": [
              "        City        Date  PM2.5  PM10  ...  Toluene  Xylene  AQI  AQI_Bucket\n",
              "0  Ahmedabad  2015-01-01    NaN   NaN  ...     0.02    0.00  NaN         NaN\n",
              "1  Ahmedabad  2015-01-02    NaN   NaN  ...     5.50    3.77  NaN         NaN\n",
              "2  Ahmedabad  2015-01-03    NaN   NaN  ...    16.40    2.25  NaN         NaN\n",
              "3  Ahmedabad  2015-01-04    NaN   NaN  ...    10.14    1.00  NaN         NaN\n",
              "4  Ahmedabad  2015-01-05    NaN   NaN  ...    18.89    2.78  NaN         NaN\n",
              "\n",
              "[5 rows x 16 columns]"
            ]
          },
          "metadata": {},
          "execution_count": 70
        }
      ]
    },
    {
      "cell_type": "code",
      "metadata": {
        "id": "8ToXrHPvLlac",
        "colab": {
          "base_uri": "https://localhost:8080/",
          "height": 423
        },
        "outputId": "3d7fe612-7c3d-4334-f6f5-0aeb6da37e7f"
      },
      "source": [
        "pollutants = pollutants[(pollutants['Date'] > '2019-12-31') & (pollutants['City'] == 'Bengaluru')]\n",
        "pollutants"
      ],
      "execution_count": null,
      "outputs": [
        {
          "output_type": "execute_result",
          "data": {
            "text/html": [
              "<div>\n",
              "<style scoped>\n",
              "    .dataframe tbody tr th:only-of-type {\n",
              "        vertical-align: middle;\n",
              "    }\n",
              "\n",
              "    .dataframe tbody tr th {\n",
              "        vertical-align: top;\n",
              "    }\n",
              "\n",
              "    .dataframe thead th {\n",
              "        text-align: right;\n",
              "    }\n",
              "</style>\n",
              "<table border=\"1\" class=\"dataframe\">\n",
              "  <thead>\n",
              "    <tr style=\"text-align: right;\">\n",
              "      <th></th>\n",
              "      <th>City</th>\n",
              "      <th>Date</th>\n",
              "      <th>PM2.5</th>\n",
              "      <th>PM10</th>\n",
              "      <th>NO</th>\n",
              "      <th>NO2</th>\n",
              "      <th>NOx</th>\n",
              "      <th>NH3</th>\n",
              "      <th>CO</th>\n",
              "      <th>SO2</th>\n",
              "      <th>O3</th>\n",
              "      <th>Benzene</th>\n",
              "      <th>Toluene</th>\n",
              "      <th>Xylene</th>\n",
              "      <th>AQI</th>\n",
              "      <th>AQI_Bucket</th>\n",
              "    </tr>\n",
              "  </thead>\n",
              "  <tbody>\n",
              "    <tr>\n",
              "      <th>6120</th>\n",
              "      <td>Bengaluru</td>\n",
              "      <td>2020-01-01</td>\n",
              "      <td>30.71</td>\n",
              "      <td>70.80</td>\n",
              "      <td>9.03</td>\n",
              "      <td>27.31</td>\n",
              "      <td>26.74</td>\n",
              "      <td>13.01</td>\n",
              "      <td>1.07</td>\n",
              "      <td>8.56</td>\n",
              "      <td>37.39</td>\n",
              "      <td>1.05</td>\n",
              "      <td>36.19</td>\n",
              "      <td>NaN</td>\n",
              "      <td>82.0</td>\n",
              "      <td>Satisfactory</td>\n",
              "    </tr>\n",
              "    <tr>\n",
              "      <th>6121</th>\n",
              "      <td>Bengaluru</td>\n",
              "      <td>2020-01-02</td>\n",
              "      <td>25.78</td>\n",
              "      <td>62.73</td>\n",
              "      <td>8.81</td>\n",
              "      <td>28.05</td>\n",
              "      <td>30.18</td>\n",
              "      <td>12.40</td>\n",
              "      <td>1.16</td>\n",
              "      <td>7.52</td>\n",
              "      <td>33.11</td>\n",
              "      <td>0.95</td>\n",
              "      <td>34.36</td>\n",
              "      <td>NaN</td>\n",
              "      <td>81.0</td>\n",
              "      <td>Satisfactory</td>\n",
              "    </tr>\n",
              "    <tr>\n",
              "      <th>6122</th>\n",
              "      <td>Bengaluru</td>\n",
              "      <td>2020-01-03</td>\n",
              "      <td>29.66</td>\n",
              "      <td>69.62</td>\n",
              "      <td>6.62</td>\n",
              "      <td>26.26</td>\n",
              "      <td>26.92</td>\n",
              "      <td>12.87</td>\n",
              "      <td>0.99</td>\n",
              "      <td>6.40</td>\n",
              "      <td>32.98</td>\n",
              "      <td>1.06</td>\n",
              "      <td>29.06</td>\n",
              "      <td>NaN</td>\n",
              "      <td>85.0</td>\n",
              "      <td>Satisfactory</td>\n",
              "    </tr>\n",
              "    <tr>\n",
              "      <th>6123</th>\n",
              "      <td>Bengaluru</td>\n",
              "      <td>2020-01-04</td>\n",
              "      <td>52.62</td>\n",
              "      <td>106.81</td>\n",
              "      <td>15.46</td>\n",
              "      <td>31.56</td>\n",
              "      <td>41.89</td>\n",
              "      <td>14.59</td>\n",
              "      <td>1.39</td>\n",
              "      <td>6.94</td>\n",
              "      <td>37.35</td>\n",
              "      <td>1.50</td>\n",
              "      <td>35.36</td>\n",
              "      <td>NaN</td>\n",
              "      <td>95.0</td>\n",
              "      <td>Satisfactory</td>\n",
              "    </tr>\n",
              "    <tr>\n",
              "      <th>6124</th>\n",
              "      <td>Bengaluru</td>\n",
              "      <td>2020-01-05</td>\n",
              "      <td>52.64</td>\n",
              "      <td>97.94</td>\n",
              "      <td>6.86</td>\n",
              "      <td>29.10</td>\n",
              "      <td>29.52</td>\n",
              "      <td>15.68</td>\n",
              "      <td>1.01</td>\n",
              "      <td>7.01</td>\n",
              "      <td>45.10</td>\n",
              "      <td>1.19</td>\n",
              "      <td>39.99</td>\n",
              "      <td>NaN</td>\n",
              "      <td>118.0</td>\n",
              "      <td>Moderate</td>\n",
              "    </tr>\n",
              "    <tr>\n",
              "      <th>...</th>\n",
              "      <td>...</td>\n",
              "      <td>...</td>\n",
              "      <td>...</td>\n",
              "      <td>...</td>\n",
              "      <td>...</td>\n",
              "      <td>...</td>\n",
              "      <td>...</td>\n",
              "      <td>...</td>\n",
              "      <td>...</td>\n",
              "      <td>...</td>\n",
              "      <td>...</td>\n",
              "      <td>...</td>\n",
              "      <td>...</td>\n",
              "      <td>...</td>\n",
              "      <td>...</td>\n",
              "      <td>...</td>\n",
              "    </tr>\n",
              "    <tr>\n",
              "      <th>6298</th>\n",
              "      <td>Bengaluru</td>\n",
              "      <td>2020-06-27</td>\n",
              "      <td>16.60</td>\n",
              "      <td>29.48</td>\n",
              "      <td>3.06</td>\n",
              "      <td>13.68</td>\n",
              "      <td>13.07</td>\n",
              "      <td>6.88</td>\n",
              "      <td>0.67</td>\n",
              "      <td>7.29</td>\n",
              "      <td>15.69</td>\n",
              "      <td>0.21</td>\n",
              "      <td>1.18</td>\n",
              "      <td>NaN</td>\n",
              "      <td>51.0</td>\n",
              "      <td>Satisfactory</td>\n",
              "    </tr>\n",
              "    <tr>\n",
              "      <th>6299</th>\n",
              "      <td>Bengaluru</td>\n",
              "      <td>2020-06-28</td>\n",
              "      <td>20.44</td>\n",
              "      <td>26.34</td>\n",
              "      <td>2.69</td>\n",
              "      <td>10.33</td>\n",
              "      <td>10.58</td>\n",
              "      <td>6.58</td>\n",
              "      <td>0.66</td>\n",
              "      <td>6.60</td>\n",
              "      <td>17.59</td>\n",
              "      <td>0.12</td>\n",
              "      <td>0.94</td>\n",
              "      <td>NaN</td>\n",
              "      <td>61.0</td>\n",
              "      <td>Satisfactory</td>\n",
              "    </tr>\n",
              "    <tr>\n",
              "      <th>6300</th>\n",
              "      <td>Bengaluru</td>\n",
              "      <td>2020-06-29</td>\n",
              "      <td>28.68</td>\n",
              "      <td>29.27</td>\n",
              "      <td>3.62</td>\n",
              "      <td>12.12</td>\n",
              "      <td>12.94</td>\n",
              "      <td>6.80</td>\n",
              "      <td>0.56</td>\n",
              "      <td>6.33</td>\n",
              "      <td>16.99</td>\n",
              "      <td>0.17</td>\n",
              "      <td>1.17</td>\n",
              "      <td>NaN</td>\n",
              "      <td>65.0</td>\n",
              "      <td>Satisfactory</td>\n",
              "    </tr>\n",
              "    <tr>\n",
              "      <th>6301</th>\n",
              "      <td>Bengaluru</td>\n",
              "      <td>2020-06-30</td>\n",
              "      <td>14.47</td>\n",
              "      <td>24.26</td>\n",
              "      <td>4.61</td>\n",
              "      <td>12.69</td>\n",
              "      <td>15.00</td>\n",
              "      <td>6.82</td>\n",
              "      <td>0.56</td>\n",
              "      <td>6.45</td>\n",
              "      <td>16.08</td>\n",
              "      <td>0.18</td>\n",
              "      <td>0.86</td>\n",
              "      <td>NaN</td>\n",
              "      <td>63.0</td>\n",
              "      <td>Satisfactory</td>\n",
              "    </tr>\n",
              "    <tr>\n",
              "      <th>6302</th>\n",
              "      <td>Bengaluru</td>\n",
              "      <td>2020-07-01</td>\n",
              "      <td>17.50</td>\n",
              "      <td>30.48</td>\n",
              "      <td>3.95</td>\n",
              "      <td>13.25</td>\n",
              "      <td>14.83</td>\n",
              "      <td>7.42</td>\n",
              "      <td>0.54</td>\n",
              "      <td>6.66</td>\n",
              "      <td>15.40</td>\n",
              "      <td>0.27</td>\n",
              "      <td>0.65</td>\n",
              "      <td>NaN</td>\n",
              "      <td>43.0</td>\n",
              "      <td>Good</td>\n",
              "    </tr>\n",
              "  </tbody>\n",
              "</table>\n",
              "<p>183 rows × 16 columns</p>\n",
              "</div>"
            ],
            "text/plain": [
              "           City        Date  PM2.5  ...  Xylene    AQI    AQI_Bucket\n",
              "6120  Bengaluru  2020-01-01  30.71  ...     NaN   82.0  Satisfactory\n",
              "6121  Bengaluru  2020-01-02  25.78  ...     NaN   81.0  Satisfactory\n",
              "6122  Bengaluru  2020-01-03  29.66  ...     NaN   85.0  Satisfactory\n",
              "6123  Bengaluru  2020-01-04  52.62  ...     NaN   95.0  Satisfactory\n",
              "6124  Bengaluru  2020-01-05  52.64  ...     NaN  118.0      Moderate\n",
              "...         ...         ...    ...  ...     ...    ...           ...\n",
              "6298  Bengaluru  2020-06-27  16.60  ...     NaN   51.0  Satisfactory\n",
              "6299  Bengaluru  2020-06-28  20.44  ...     NaN   61.0  Satisfactory\n",
              "6300  Bengaluru  2020-06-29  28.68  ...     NaN   65.0  Satisfactory\n",
              "6301  Bengaluru  2020-06-30  14.47  ...     NaN   63.0  Satisfactory\n",
              "6302  Bengaluru  2020-07-01  17.50  ...     NaN   43.0          Good\n",
              "\n",
              "[183 rows x 16 columns]"
            ]
          },
          "metadata": {},
          "execution_count": 71
        }
      ]
    },
    {
      "cell_type": "code",
      "metadata": {
        "id": "fk4OqU5ELlYa"
      },
      "source": [
        "pollutants = pollutants.reset_index(drop=True)\n",
        "pollutants['Date'] = pd.to_datetime(pollutants['Date'], format='%Y-%m-%d')\n",
        "pollutants = pollutants.set_index('Date')\n",
        "pollutants = pollutants.drop(columns=['City', 'NH3','NO', 'Benzene',\t'Toluene',\t'Xylene', 'AQI_Bucket'])"
      ],
      "execution_count": null,
      "outputs": []
    },
    {
      "cell_type": "code",
      "metadata": {
        "colab": {
          "base_uri": "https://localhost:8080/"
        },
        "id": "lYNe6dcPaMoO",
        "outputId": "47eca7b9-a3a6-4ca7-8aef-c4927e317875"
      },
      "source": [
        "pollutants.iloc[-1,:]"
      ],
      "execution_count": null,
      "outputs": [
        {
          "output_type": "execute_result",
          "data": {
            "text/plain": [
              "PM2.5    17.50\n",
              "PM10     30.48\n",
              "NO2      13.25\n",
              "NOx      14.83\n",
              "CO        0.54\n",
              "SO2       6.66\n",
              "O3       15.40\n",
              "AQI      43.00\n",
              "Name: 2020-07-01 00:00:00, dtype: float64"
            ]
          },
          "metadata": {},
          "execution_count": 73
        }
      ]
    },
    {
      "cell_type": "code",
      "metadata": {
        "id": "A4KtXsrUaARP"
      },
      "source": [
        "pollutants = pollutants.iloc[:-1,:]"
      ],
      "execution_count": null,
      "outputs": []
    },
    {
      "cell_type": "code",
      "metadata": {
        "id": "6Qv4jWigLlVj",
        "colab": {
          "base_uri": "https://localhost:8080/"
        },
        "outputId": "9a717059-541f-4785-8c3c-33b750677180"
      },
      "source": [
        "pollutants.shape"
      ],
      "execution_count": null,
      "outputs": [
        {
          "output_type": "execute_result",
          "data": {
            "text/plain": [
              "(182, 8)"
            ]
          },
          "metadata": {},
          "execution_count": 75
        }
      ]
    },
    {
      "cell_type": "code",
      "metadata": {
        "id": "P2Tsu-fCLlTo",
        "colab": {
          "base_uri": "https://localhost:8080/",
          "height": 238
        },
        "outputId": "0876e6e7-6ed7-4a25-f21b-a03794a8b275"
      },
      "source": [
        "pollutants.head()"
      ],
      "execution_count": null,
      "outputs": [
        {
          "output_type": "execute_result",
          "data": {
            "text/html": [
              "<div>\n",
              "<style scoped>\n",
              "    .dataframe tbody tr th:only-of-type {\n",
              "        vertical-align: middle;\n",
              "    }\n",
              "\n",
              "    .dataframe tbody tr th {\n",
              "        vertical-align: top;\n",
              "    }\n",
              "\n",
              "    .dataframe thead th {\n",
              "        text-align: right;\n",
              "    }\n",
              "</style>\n",
              "<table border=\"1\" class=\"dataframe\">\n",
              "  <thead>\n",
              "    <tr style=\"text-align: right;\">\n",
              "      <th></th>\n",
              "      <th>PM2.5</th>\n",
              "      <th>PM10</th>\n",
              "      <th>NO2</th>\n",
              "      <th>NOx</th>\n",
              "      <th>CO</th>\n",
              "      <th>SO2</th>\n",
              "      <th>O3</th>\n",
              "      <th>AQI</th>\n",
              "    </tr>\n",
              "    <tr>\n",
              "      <th>Date</th>\n",
              "      <th></th>\n",
              "      <th></th>\n",
              "      <th></th>\n",
              "      <th></th>\n",
              "      <th></th>\n",
              "      <th></th>\n",
              "      <th></th>\n",
              "      <th></th>\n",
              "    </tr>\n",
              "  </thead>\n",
              "  <tbody>\n",
              "    <tr>\n",
              "      <th>2020-01-01</th>\n",
              "      <td>30.71</td>\n",
              "      <td>70.80</td>\n",
              "      <td>27.31</td>\n",
              "      <td>26.74</td>\n",
              "      <td>1.07</td>\n",
              "      <td>8.56</td>\n",
              "      <td>37.39</td>\n",
              "      <td>82.0</td>\n",
              "    </tr>\n",
              "    <tr>\n",
              "      <th>2020-01-02</th>\n",
              "      <td>25.78</td>\n",
              "      <td>62.73</td>\n",
              "      <td>28.05</td>\n",
              "      <td>30.18</td>\n",
              "      <td>1.16</td>\n",
              "      <td>7.52</td>\n",
              "      <td>33.11</td>\n",
              "      <td>81.0</td>\n",
              "    </tr>\n",
              "    <tr>\n",
              "      <th>2020-01-03</th>\n",
              "      <td>29.66</td>\n",
              "      <td>69.62</td>\n",
              "      <td>26.26</td>\n",
              "      <td>26.92</td>\n",
              "      <td>0.99</td>\n",
              "      <td>6.40</td>\n",
              "      <td>32.98</td>\n",
              "      <td>85.0</td>\n",
              "    </tr>\n",
              "    <tr>\n",
              "      <th>2020-01-04</th>\n",
              "      <td>52.62</td>\n",
              "      <td>106.81</td>\n",
              "      <td>31.56</td>\n",
              "      <td>41.89</td>\n",
              "      <td>1.39</td>\n",
              "      <td>6.94</td>\n",
              "      <td>37.35</td>\n",
              "      <td>95.0</td>\n",
              "    </tr>\n",
              "    <tr>\n",
              "      <th>2020-01-05</th>\n",
              "      <td>52.64</td>\n",
              "      <td>97.94</td>\n",
              "      <td>29.10</td>\n",
              "      <td>29.52</td>\n",
              "      <td>1.01</td>\n",
              "      <td>7.01</td>\n",
              "      <td>45.10</td>\n",
              "      <td>118.0</td>\n",
              "    </tr>\n",
              "  </tbody>\n",
              "</table>\n",
              "</div>"
            ],
            "text/plain": [
              "            PM2.5    PM10    NO2    NOx    CO   SO2     O3    AQI\n",
              "Date                                                             \n",
              "2020-01-01  30.71   70.80  27.31  26.74  1.07  8.56  37.39   82.0\n",
              "2020-01-02  25.78   62.73  28.05  30.18  1.16  7.52  33.11   81.0\n",
              "2020-01-03  29.66   69.62  26.26  26.92  0.99  6.40  32.98   85.0\n",
              "2020-01-04  52.62  106.81  31.56  41.89  1.39  6.94  37.35   95.0\n",
              "2020-01-05  52.64   97.94  29.10  29.52  1.01  7.01  45.10  118.0"
            ]
          },
          "metadata": {},
          "execution_count": 76
        }
      ]
    },
    {
      "cell_type": "code",
      "metadata": {
        "colab": {
          "base_uri": "https://localhost:8080/",
          "height": 238
        },
        "id": "5M3LSLyxYuQC",
        "outputId": "b9345a1f-c9ec-4184-9a11-185f8bacc10b"
      },
      "source": [
        "pollutants.tail()"
      ],
      "execution_count": null,
      "outputs": [
        {
          "output_type": "execute_result",
          "data": {
            "text/html": [
              "<div>\n",
              "<style scoped>\n",
              "    .dataframe tbody tr th:only-of-type {\n",
              "        vertical-align: middle;\n",
              "    }\n",
              "\n",
              "    .dataframe tbody tr th {\n",
              "        vertical-align: top;\n",
              "    }\n",
              "\n",
              "    .dataframe thead th {\n",
              "        text-align: right;\n",
              "    }\n",
              "</style>\n",
              "<table border=\"1\" class=\"dataframe\">\n",
              "  <thead>\n",
              "    <tr style=\"text-align: right;\">\n",
              "      <th></th>\n",
              "      <th>PM2.5</th>\n",
              "      <th>PM10</th>\n",
              "      <th>NO2</th>\n",
              "      <th>NOx</th>\n",
              "      <th>CO</th>\n",
              "      <th>SO2</th>\n",
              "      <th>O3</th>\n",
              "      <th>AQI</th>\n",
              "    </tr>\n",
              "    <tr>\n",
              "      <th>Date</th>\n",
              "      <th></th>\n",
              "      <th></th>\n",
              "      <th></th>\n",
              "      <th></th>\n",
              "      <th></th>\n",
              "      <th></th>\n",
              "      <th></th>\n",
              "      <th></th>\n",
              "    </tr>\n",
              "  </thead>\n",
              "  <tbody>\n",
              "    <tr>\n",
              "      <th>2020-06-26</th>\n",
              "      <td>15.40</td>\n",
              "      <td>28.66</td>\n",
              "      <td>14.29</td>\n",
              "      <td>15.57</td>\n",
              "      <td>0.61</td>\n",
              "      <td>7.45</td>\n",
              "      <td>19.53</td>\n",
              "      <td>58.0</td>\n",
              "    </tr>\n",
              "    <tr>\n",
              "      <th>2020-06-27</th>\n",
              "      <td>16.60</td>\n",
              "      <td>29.48</td>\n",
              "      <td>13.68</td>\n",
              "      <td>13.07</td>\n",
              "      <td>0.67</td>\n",
              "      <td>7.29</td>\n",
              "      <td>15.69</td>\n",
              "      <td>51.0</td>\n",
              "    </tr>\n",
              "    <tr>\n",
              "      <th>2020-06-28</th>\n",
              "      <td>20.44</td>\n",
              "      <td>26.34</td>\n",
              "      <td>10.33</td>\n",
              "      <td>10.58</td>\n",
              "      <td>0.66</td>\n",
              "      <td>6.60</td>\n",
              "      <td>17.59</td>\n",
              "      <td>61.0</td>\n",
              "    </tr>\n",
              "    <tr>\n",
              "      <th>2020-06-29</th>\n",
              "      <td>28.68</td>\n",
              "      <td>29.27</td>\n",
              "      <td>12.12</td>\n",
              "      <td>12.94</td>\n",
              "      <td>0.56</td>\n",
              "      <td>6.33</td>\n",
              "      <td>16.99</td>\n",
              "      <td>65.0</td>\n",
              "    </tr>\n",
              "    <tr>\n",
              "      <th>2020-06-30</th>\n",
              "      <td>14.47</td>\n",
              "      <td>24.26</td>\n",
              "      <td>12.69</td>\n",
              "      <td>15.00</td>\n",
              "      <td>0.56</td>\n",
              "      <td>6.45</td>\n",
              "      <td>16.08</td>\n",
              "      <td>63.0</td>\n",
              "    </tr>\n",
              "  </tbody>\n",
              "</table>\n",
              "</div>"
            ],
            "text/plain": [
              "            PM2.5   PM10    NO2    NOx    CO   SO2     O3   AQI\n",
              "Date                                                           \n",
              "2020-06-26  15.40  28.66  14.29  15.57  0.61  7.45  19.53  58.0\n",
              "2020-06-27  16.60  29.48  13.68  13.07  0.67  7.29  15.69  51.0\n",
              "2020-06-28  20.44  26.34  10.33  10.58  0.66  6.60  17.59  61.0\n",
              "2020-06-29  28.68  29.27  12.12  12.94  0.56  6.33  16.99  65.0\n",
              "2020-06-30  14.47  24.26  12.69  15.00  0.56  6.45  16.08  63.0"
            ]
          },
          "metadata": {},
          "execution_count": 77
        }
      ]
    },
    {
      "cell_type": "code",
      "metadata": {
        "colab": {
          "base_uri": "https://localhost:8080/",
          "height": 423
        },
        "id": "CdFwq6w6YuMU",
        "outputId": "6406113f-7979-4872-b017-6b5fe68adc77"
      },
      "source": [
        "climate = pd.read_csv('/content/drive/MyDrive/Datasets/climate-testing-dataset.csv')\n",
        "climate"
      ],
      "execution_count": null,
      "outputs": [
        {
          "output_type": "execute_result",
          "data": {
            "text/html": [
              "<div>\n",
              "<style scoped>\n",
              "    .dataframe tbody tr th:only-of-type {\n",
              "        vertical-align: middle;\n",
              "    }\n",
              "\n",
              "    .dataframe tbody tr th {\n",
              "        vertical-align: top;\n",
              "    }\n",
              "\n",
              "    .dataframe thead th {\n",
              "        text-align: right;\n",
              "    }\n",
              "</style>\n",
              "<table border=\"1\" class=\"dataframe\">\n",
              "  <thead>\n",
              "    <tr style=\"text-align: right;\">\n",
              "      <th></th>\n",
              "      <th>Date</th>\n",
              "      <th>T</th>\n",
              "      <th>TM</th>\n",
              "      <th>Tm</th>\n",
              "      <th>H</th>\n",
              "      <th>VV</th>\n",
              "      <th>V</th>\n",
              "      <th>VM</th>\n",
              "    </tr>\n",
              "  </thead>\n",
              "  <tbody>\n",
              "    <tr>\n",
              "      <th>0</th>\n",
              "      <td>01-01-2020</td>\n",
              "      <td>22.0</td>\n",
              "      <td>27.2</td>\n",
              "      <td>19.2</td>\n",
              "      <td>75</td>\n",
              "      <td>6.9</td>\n",
              "      <td>3.3</td>\n",
              "      <td>5.4</td>\n",
              "    </tr>\n",
              "    <tr>\n",
              "      <th>1</th>\n",
              "      <td>02-01-2020</td>\n",
              "      <td>22.2</td>\n",
              "      <td>26.0</td>\n",
              "      <td>19.4</td>\n",
              "      <td>77</td>\n",
              "      <td>5.5</td>\n",
              "      <td>2.0</td>\n",
              "      <td>5.4</td>\n",
              "    </tr>\n",
              "    <tr>\n",
              "      <th>2</th>\n",
              "      <td>03-01-2020</td>\n",
              "      <td>23.4</td>\n",
              "      <td>28.4</td>\n",
              "      <td>19.4</td>\n",
              "      <td>68</td>\n",
              "      <td>6.9</td>\n",
              "      <td>3.5</td>\n",
              "      <td>5.4</td>\n",
              "    </tr>\n",
              "    <tr>\n",
              "      <th>3</th>\n",
              "      <td>04-01-2020</td>\n",
              "      <td>23.6</td>\n",
              "      <td>30.5</td>\n",
              "      <td>19.0</td>\n",
              "      <td>63</td>\n",
              "      <td>6.3</td>\n",
              "      <td>1.3</td>\n",
              "      <td>3.5</td>\n",
              "    </tr>\n",
              "    <tr>\n",
              "      <th>4</th>\n",
              "      <td>05-01-2020</td>\n",
              "      <td>24.2</td>\n",
              "      <td>30.5</td>\n",
              "      <td>20.4</td>\n",
              "      <td>63</td>\n",
              "      <td>6.3</td>\n",
              "      <td>1.3</td>\n",
              "      <td>3.5</td>\n",
              "    </tr>\n",
              "    <tr>\n",
              "      <th>...</th>\n",
              "      <td>...</td>\n",
              "      <td>...</td>\n",
              "      <td>...</td>\n",
              "      <td>...</td>\n",
              "      <td>...</td>\n",
              "      <td>...</td>\n",
              "      <td>...</td>\n",
              "      <td>...</td>\n",
              "    </tr>\n",
              "    <tr>\n",
              "      <th>177</th>\n",
              "      <td>26-06-2020</td>\n",
              "      <td>24.2</td>\n",
              "      <td>30.4</td>\n",
              "      <td>20.4</td>\n",
              "      <td>79</td>\n",
              "      <td>7.7</td>\n",
              "      <td>3.7</td>\n",
              "      <td>9.4</td>\n",
              "    </tr>\n",
              "    <tr>\n",
              "      <th>178</th>\n",
              "      <td>27-06-2020</td>\n",
              "      <td>24.4</td>\n",
              "      <td>29.2</td>\n",
              "      <td>21.0</td>\n",
              "      <td>78</td>\n",
              "      <td>6.9</td>\n",
              "      <td>6.3</td>\n",
              "      <td>9.4</td>\n",
              "    </tr>\n",
              "    <tr>\n",
              "      <th>179</th>\n",
              "      <td>28-06-2020</td>\n",
              "      <td>24.8</td>\n",
              "      <td>29.0</td>\n",
              "      <td>21.4</td>\n",
              "      <td>78</td>\n",
              "      <td>5.5</td>\n",
              "      <td>5.4</td>\n",
              "      <td>9.4</td>\n",
              "    </tr>\n",
              "    <tr>\n",
              "      <th>180</th>\n",
              "      <td>29-06-2020</td>\n",
              "      <td>23.6</td>\n",
              "      <td>30.0</td>\n",
              "      <td>12.3</td>\n",
              "      <td>83</td>\n",
              "      <td>6.9</td>\n",
              "      <td>4.8</td>\n",
              "      <td>7.6</td>\n",
              "    </tr>\n",
              "    <tr>\n",
              "      <th>181</th>\n",
              "      <td>30-06-2020</td>\n",
              "      <td>24.6</td>\n",
              "      <td>29.0</td>\n",
              "      <td>21.0</td>\n",
              "      <td>74</td>\n",
              "      <td>6.9</td>\n",
              "      <td>7.2</td>\n",
              "      <td>-</td>\n",
              "    </tr>\n",
              "  </tbody>\n",
              "</table>\n",
              "<p>182 rows × 8 columns</p>\n",
              "</div>"
            ],
            "text/plain": [
              "           Date     T    TM    Tm   H   VV    V   VM\n",
              "0    01-01-2020  22.0  27.2  19.2  75  6.9  3.3  5.4\n",
              "1    02-01-2020  22.2  26.0  19.4  77  5.5  2.0  5.4\n",
              "2    03-01-2020  23.4  28.4  19.4  68  6.9  3.5  5.4\n",
              "3    04-01-2020  23.6  30.5  19.0  63  6.3  1.3  3.5\n",
              "4    05-01-2020  24.2  30.5  20.4  63  6.3  1.3  3.5\n",
              "..          ...   ...   ...   ...  ..  ...  ...  ...\n",
              "177  26-06-2020  24.2  30.4  20.4  79  7.7  3.7  9.4\n",
              "178  27-06-2020  24.4  29.2  21.0  78  6.9  6.3  9.4\n",
              "179  28-06-2020  24.8  29.0  21.4  78  5.5  5.4  9.4\n",
              "180  29-06-2020  23.6  30.0  12.3  83  6.9  4.8  7.6\n",
              "181  30-06-2020  24.6  29.0  21.0  74  6.9  7.2    -\n",
              "\n",
              "[182 rows x 8 columns]"
            ]
          },
          "metadata": {},
          "execution_count": 78
        }
      ]
    },
    {
      "cell_type": "code",
      "metadata": {
        "colab": {
          "base_uri": "https://localhost:8080/",
          "height": 238
        },
        "id": "dsgZpX19YuKA",
        "outputId": "723c75a8-a148-480a-ea02-4b12350229c2"
      },
      "source": [
        "climate['Date'] = pd.to_datetime(climate['Date'], format='%d-%m-%Y')\n",
        "climate = climate.set_index('Date')\n",
        "climate = climate.drop(columns=['VM'])\n",
        "\n",
        "climate.head()"
      ],
      "execution_count": null,
      "outputs": [
        {
          "output_type": "execute_result",
          "data": {
            "text/html": [
              "<div>\n",
              "<style scoped>\n",
              "    .dataframe tbody tr th:only-of-type {\n",
              "        vertical-align: middle;\n",
              "    }\n",
              "\n",
              "    .dataframe tbody tr th {\n",
              "        vertical-align: top;\n",
              "    }\n",
              "\n",
              "    .dataframe thead th {\n",
              "        text-align: right;\n",
              "    }\n",
              "</style>\n",
              "<table border=\"1\" class=\"dataframe\">\n",
              "  <thead>\n",
              "    <tr style=\"text-align: right;\">\n",
              "      <th></th>\n",
              "      <th>T</th>\n",
              "      <th>TM</th>\n",
              "      <th>Tm</th>\n",
              "      <th>H</th>\n",
              "      <th>VV</th>\n",
              "      <th>V</th>\n",
              "    </tr>\n",
              "    <tr>\n",
              "      <th>Date</th>\n",
              "      <th></th>\n",
              "      <th></th>\n",
              "      <th></th>\n",
              "      <th></th>\n",
              "      <th></th>\n",
              "      <th></th>\n",
              "    </tr>\n",
              "  </thead>\n",
              "  <tbody>\n",
              "    <tr>\n",
              "      <th>2020-01-01</th>\n",
              "      <td>22.0</td>\n",
              "      <td>27.2</td>\n",
              "      <td>19.2</td>\n",
              "      <td>75</td>\n",
              "      <td>6.9</td>\n",
              "      <td>3.3</td>\n",
              "    </tr>\n",
              "    <tr>\n",
              "      <th>2020-01-02</th>\n",
              "      <td>22.2</td>\n",
              "      <td>26.0</td>\n",
              "      <td>19.4</td>\n",
              "      <td>77</td>\n",
              "      <td>5.5</td>\n",
              "      <td>2.0</td>\n",
              "    </tr>\n",
              "    <tr>\n",
              "      <th>2020-01-03</th>\n",
              "      <td>23.4</td>\n",
              "      <td>28.4</td>\n",
              "      <td>19.4</td>\n",
              "      <td>68</td>\n",
              "      <td>6.9</td>\n",
              "      <td>3.5</td>\n",
              "    </tr>\n",
              "    <tr>\n",
              "      <th>2020-01-04</th>\n",
              "      <td>23.6</td>\n",
              "      <td>30.5</td>\n",
              "      <td>19.0</td>\n",
              "      <td>63</td>\n",
              "      <td>6.3</td>\n",
              "      <td>1.3</td>\n",
              "    </tr>\n",
              "    <tr>\n",
              "      <th>2020-01-05</th>\n",
              "      <td>24.2</td>\n",
              "      <td>30.5</td>\n",
              "      <td>20.4</td>\n",
              "      <td>63</td>\n",
              "      <td>6.3</td>\n",
              "      <td>1.3</td>\n",
              "    </tr>\n",
              "  </tbody>\n",
              "</table>\n",
              "</div>"
            ],
            "text/plain": [
              "               T    TM    Tm   H   VV    V\n",
              "Date                                      \n",
              "2020-01-01  22.0  27.2  19.2  75  6.9  3.3\n",
              "2020-01-02  22.2  26.0  19.4  77  5.5  2.0\n",
              "2020-01-03  23.4  28.4  19.4  68  6.9  3.5\n",
              "2020-01-04  23.6  30.5  19.0  63  6.3  1.3\n",
              "2020-01-05  24.2  30.5  20.4  63  6.3  1.3"
            ]
          },
          "metadata": {},
          "execution_count": 79
        }
      ]
    },
    {
      "cell_type": "code",
      "metadata": {
        "colab": {
          "base_uri": "https://localhost:8080/"
        },
        "id": "BxBz3wWaYuH4",
        "outputId": "83f7e0af-5369-4392-e91f-8c95b6ec9320"
      },
      "source": [
        "climate.shape"
      ],
      "execution_count": null,
      "outputs": [
        {
          "output_type": "execute_result",
          "data": {
            "text/plain": [
              "(182, 6)"
            ]
          },
          "metadata": {},
          "execution_count": 80
        }
      ]
    },
    {
      "cell_type": "code",
      "metadata": {
        "colab": {
          "base_uri": "https://localhost:8080/"
        },
        "id": "l1VblH0Pb8dY",
        "outputId": "5d503315-e4c3-4f94-b36e-261839c40a68"
      },
      "source": [
        "(climate.index==pollutants.index).all() "
      ],
      "execution_count": null,
      "outputs": [
        {
          "output_type": "execute_result",
          "data": {
            "text/plain": [
              "True"
            ]
          },
          "metadata": {},
          "execution_count": 81
        }
      ]
    },
    {
      "cell_type": "code",
      "metadata": {
        "colab": {
          "base_uri": "https://localhost:8080/",
          "height": 238
        },
        "id": "2kpBRRAOb8ad",
        "outputId": "7ad64997-11a4-4a9b-d82b-2b711a132af7"
      },
      "source": [
        "test_df = pd.concat([pollutants, climate], axis = 1)\n",
        "test_df.head()"
      ],
      "execution_count": null,
      "outputs": [
        {
          "output_type": "execute_result",
          "data": {
            "text/html": [
              "<div>\n",
              "<style scoped>\n",
              "    .dataframe tbody tr th:only-of-type {\n",
              "        vertical-align: middle;\n",
              "    }\n",
              "\n",
              "    .dataframe tbody tr th {\n",
              "        vertical-align: top;\n",
              "    }\n",
              "\n",
              "    .dataframe thead th {\n",
              "        text-align: right;\n",
              "    }\n",
              "</style>\n",
              "<table border=\"1\" class=\"dataframe\">\n",
              "  <thead>\n",
              "    <tr style=\"text-align: right;\">\n",
              "      <th></th>\n",
              "      <th>PM2.5</th>\n",
              "      <th>PM10</th>\n",
              "      <th>NO2</th>\n",
              "      <th>NOx</th>\n",
              "      <th>CO</th>\n",
              "      <th>SO2</th>\n",
              "      <th>O3</th>\n",
              "      <th>AQI</th>\n",
              "      <th>T</th>\n",
              "      <th>TM</th>\n",
              "      <th>Tm</th>\n",
              "      <th>H</th>\n",
              "      <th>VV</th>\n",
              "      <th>V</th>\n",
              "    </tr>\n",
              "    <tr>\n",
              "      <th>Date</th>\n",
              "      <th></th>\n",
              "      <th></th>\n",
              "      <th></th>\n",
              "      <th></th>\n",
              "      <th></th>\n",
              "      <th></th>\n",
              "      <th></th>\n",
              "      <th></th>\n",
              "      <th></th>\n",
              "      <th></th>\n",
              "      <th></th>\n",
              "      <th></th>\n",
              "      <th></th>\n",
              "      <th></th>\n",
              "    </tr>\n",
              "  </thead>\n",
              "  <tbody>\n",
              "    <tr>\n",
              "      <th>2020-01-01</th>\n",
              "      <td>30.71</td>\n",
              "      <td>70.80</td>\n",
              "      <td>27.31</td>\n",
              "      <td>26.74</td>\n",
              "      <td>1.07</td>\n",
              "      <td>8.56</td>\n",
              "      <td>37.39</td>\n",
              "      <td>82.0</td>\n",
              "      <td>22.0</td>\n",
              "      <td>27.2</td>\n",
              "      <td>19.2</td>\n",
              "      <td>75</td>\n",
              "      <td>6.9</td>\n",
              "      <td>3.3</td>\n",
              "    </tr>\n",
              "    <tr>\n",
              "      <th>2020-01-02</th>\n",
              "      <td>25.78</td>\n",
              "      <td>62.73</td>\n",
              "      <td>28.05</td>\n",
              "      <td>30.18</td>\n",
              "      <td>1.16</td>\n",
              "      <td>7.52</td>\n",
              "      <td>33.11</td>\n",
              "      <td>81.0</td>\n",
              "      <td>22.2</td>\n",
              "      <td>26.0</td>\n",
              "      <td>19.4</td>\n",
              "      <td>77</td>\n",
              "      <td>5.5</td>\n",
              "      <td>2.0</td>\n",
              "    </tr>\n",
              "    <tr>\n",
              "      <th>2020-01-03</th>\n",
              "      <td>29.66</td>\n",
              "      <td>69.62</td>\n",
              "      <td>26.26</td>\n",
              "      <td>26.92</td>\n",
              "      <td>0.99</td>\n",
              "      <td>6.40</td>\n",
              "      <td>32.98</td>\n",
              "      <td>85.0</td>\n",
              "      <td>23.4</td>\n",
              "      <td>28.4</td>\n",
              "      <td>19.4</td>\n",
              "      <td>68</td>\n",
              "      <td>6.9</td>\n",
              "      <td>3.5</td>\n",
              "    </tr>\n",
              "    <tr>\n",
              "      <th>2020-01-04</th>\n",
              "      <td>52.62</td>\n",
              "      <td>106.81</td>\n",
              "      <td>31.56</td>\n",
              "      <td>41.89</td>\n",
              "      <td>1.39</td>\n",
              "      <td>6.94</td>\n",
              "      <td>37.35</td>\n",
              "      <td>95.0</td>\n",
              "      <td>23.6</td>\n",
              "      <td>30.5</td>\n",
              "      <td>19.0</td>\n",
              "      <td>63</td>\n",
              "      <td>6.3</td>\n",
              "      <td>1.3</td>\n",
              "    </tr>\n",
              "    <tr>\n",
              "      <th>2020-01-05</th>\n",
              "      <td>52.64</td>\n",
              "      <td>97.94</td>\n",
              "      <td>29.10</td>\n",
              "      <td>29.52</td>\n",
              "      <td>1.01</td>\n",
              "      <td>7.01</td>\n",
              "      <td>45.10</td>\n",
              "      <td>118.0</td>\n",
              "      <td>24.2</td>\n",
              "      <td>30.5</td>\n",
              "      <td>20.4</td>\n",
              "      <td>63</td>\n",
              "      <td>6.3</td>\n",
              "      <td>1.3</td>\n",
              "    </tr>\n",
              "  </tbody>\n",
              "</table>\n",
              "</div>"
            ],
            "text/plain": [
              "            PM2.5    PM10    NO2    NOx    CO  ...    TM    Tm   H   VV    V\n",
              "Date                                           ...                          \n",
              "2020-01-01  30.71   70.80  27.31  26.74  1.07  ...  27.2  19.2  75  6.9  3.3\n",
              "2020-01-02  25.78   62.73  28.05  30.18  1.16  ...  26.0  19.4  77  5.5  2.0\n",
              "2020-01-03  29.66   69.62  26.26  26.92  0.99  ...  28.4  19.4  68  6.9  3.5\n",
              "2020-01-04  52.62  106.81  31.56  41.89  1.39  ...  30.5  19.0  63  6.3  1.3\n",
              "2020-01-05  52.64   97.94  29.10  29.52  1.01  ...  30.5  20.4  63  6.3  1.3\n",
              "\n",
              "[5 rows x 14 columns]"
            ]
          },
          "metadata": {},
          "execution_count": 82
        }
      ]
    },
    {
      "cell_type": "code",
      "metadata": {
        "colab": {
          "base_uri": "https://localhost:8080/"
        },
        "id": "gJQh8EEjb8YX",
        "outputId": "5acf68dd-3683-40f9-a700-19ffb04b2492"
      },
      "source": [
        "test_df.shape"
      ],
      "execution_count": null,
      "outputs": [
        {
          "output_type": "execute_result",
          "data": {
            "text/plain": [
              "(182, 14)"
            ]
          },
          "metadata": {},
          "execution_count": 83
        }
      ]
    },
    {
      "cell_type": "code",
      "metadata": {
        "colab": {
          "base_uri": "https://localhost:8080/"
        },
        "id": "aaS2qZh4b8WL",
        "outputId": "0a338896-6c90-4f44-b350-7abb84eea6bf"
      },
      "source": [
        "test_target = test_df['AQI']\n",
        "test_target.head()"
      ],
      "execution_count": null,
      "outputs": [
        {
          "output_type": "execute_result",
          "data": {
            "text/plain": [
              "Date\n",
              "2020-01-01     82.0\n",
              "2020-01-02     81.0\n",
              "2020-01-03     85.0\n",
              "2020-01-04     95.0\n",
              "2020-01-05    118.0\n",
              "Name: AQI, dtype: float64"
            ]
          },
          "metadata": {},
          "execution_count": 84
        }
      ]
    },
    {
      "cell_type": "code",
      "metadata": {
        "colab": {
          "base_uri": "https://localhost:8080/"
        },
        "id": "qFiNxcLpb8Tv",
        "outputId": "edc9cd18-a1c4-467f-e88b-610f786e1d5b"
      },
      "source": [
        "test_target.shape"
      ],
      "execution_count": null,
      "outputs": [
        {
          "output_type": "execute_result",
          "data": {
            "text/plain": [
              "(182,)"
            ]
          },
          "metadata": {},
          "execution_count": 85
        }
      ]
    },
    {
      "cell_type": "code",
      "metadata": {
        "id": "KLEgaOr_b8Ra"
      },
      "source": [
        "test_df.rename(columns={'T':'temp', 'TM':'max_temp','Tm':'min_temp','H':'humid','VV':'visible','V':'wind'}, inplace = True)"
      ],
      "execution_count": null,
      "outputs": []
    },
    {
      "cell_type": "code",
      "metadata": {
        "colab": {
          "base_uri": "https://localhost:8080/",
          "height": 238
        },
        "id": "3TvWVzOwYuFo",
        "outputId": "c5fe918e-2189-4c05-ec24-da8ccdccc6f6"
      },
      "source": [
        "test_df.head()"
      ],
      "execution_count": null,
      "outputs": [
        {
          "output_type": "execute_result",
          "data": {
            "text/html": [
              "<div>\n",
              "<style scoped>\n",
              "    .dataframe tbody tr th:only-of-type {\n",
              "        vertical-align: middle;\n",
              "    }\n",
              "\n",
              "    .dataframe tbody tr th {\n",
              "        vertical-align: top;\n",
              "    }\n",
              "\n",
              "    .dataframe thead th {\n",
              "        text-align: right;\n",
              "    }\n",
              "</style>\n",
              "<table border=\"1\" class=\"dataframe\">\n",
              "  <thead>\n",
              "    <tr style=\"text-align: right;\">\n",
              "      <th></th>\n",
              "      <th>PM2.5</th>\n",
              "      <th>PM10</th>\n",
              "      <th>NO2</th>\n",
              "      <th>NOx</th>\n",
              "      <th>CO</th>\n",
              "      <th>SO2</th>\n",
              "      <th>O3</th>\n",
              "      <th>AQI</th>\n",
              "      <th>temp</th>\n",
              "      <th>max_temp</th>\n",
              "      <th>min_temp</th>\n",
              "      <th>humid</th>\n",
              "      <th>visible</th>\n",
              "      <th>wind</th>\n",
              "    </tr>\n",
              "    <tr>\n",
              "      <th>Date</th>\n",
              "      <th></th>\n",
              "      <th></th>\n",
              "      <th></th>\n",
              "      <th></th>\n",
              "      <th></th>\n",
              "      <th></th>\n",
              "      <th></th>\n",
              "      <th></th>\n",
              "      <th></th>\n",
              "      <th></th>\n",
              "      <th></th>\n",
              "      <th></th>\n",
              "      <th></th>\n",
              "      <th></th>\n",
              "    </tr>\n",
              "  </thead>\n",
              "  <tbody>\n",
              "    <tr>\n",
              "      <th>2020-01-01</th>\n",
              "      <td>30.71</td>\n",
              "      <td>70.80</td>\n",
              "      <td>27.31</td>\n",
              "      <td>26.74</td>\n",
              "      <td>1.07</td>\n",
              "      <td>8.56</td>\n",
              "      <td>37.39</td>\n",
              "      <td>82.0</td>\n",
              "      <td>22.0</td>\n",
              "      <td>27.2</td>\n",
              "      <td>19.2</td>\n",
              "      <td>75</td>\n",
              "      <td>6.9</td>\n",
              "      <td>3.3</td>\n",
              "    </tr>\n",
              "    <tr>\n",
              "      <th>2020-01-02</th>\n",
              "      <td>25.78</td>\n",
              "      <td>62.73</td>\n",
              "      <td>28.05</td>\n",
              "      <td>30.18</td>\n",
              "      <td>1.16</td>\n",
              "      <td>7.52</td>\n",
              "      <td>33.11</td>\n",
              "      <td>81.0</td>\n",
              "      <td>22.2</td>\n",
              "      <td>26.0</td>\n",
              "      <td>19.4</td>\n",
              "      <td>77</td>\n",
              "      <td>5.5</td>\n",
              "      <td>2.0</td>\n",
              "    </tr>\n",
              "    <tr>\n",
              "      <th>2020-01-03</th>\n",
              "      <td>29.66</td>\n",
              "      <td>69.62</td>\n",
              "      <td>26.26</td>\n",
              "      <td>26.92</td>\n",
              "      <td>0.99</td>\n",
              "      <td>6.40</td>\n",
              "      <td>32.98</td>\n",
              "      <td>85.0</td>\n",
              "      <td>23.4</td>\n",
              "      <td>28.4</td>\n",
              "      <td>19.4</td>\n",
              "      <td>68</td>\n",
              "      <td>6.9</td>\n",
              "      <td>3.5</td>\n",
              "    </tr>\n",
              "    <tr>\n",
              "      <th>2020-01-04</th>\n",
              "      <td>52.62</td>\n",
              "      <td>106.81</td>\n",
              "      <td>31.56</td>\n",
              "      <td>41.89</td>\n",
              "      <td>1.39</td>\n",
              "      <td>6.94</td>\n",
              "      <td>37.35</td>\n",
              "      <td>95.0</td>\n",
              "      <td>23.6</td>\n",
              "      <td>30.5</td>\n",
              "      <td>19.0</td>\n",
              "      <td>63</td>\n",
              "      <td>6.3</td>\n",
              "      <td>1.3</td>\n",
              "    </tr>\n",
              "    <tr>\n",
              "      <th>2020-01-05</th>\n",
              "      <td>52.64</td>\n",
              "      <td>97.94</td>\n",
              "      <td>29.10</td>\n",
              "      <td>29.52</td>\n",
              "      <td>1.01</td>\n",
              "      <td>7.01</td>\n",
              "      <td>45.10</td>\n",
              "      <td>118.0</td>\n",
              "      <td>24.2</td>\n",
              "      <td>30.5</td>\n",
              "      <td>20.4</td>\n",
              "      <td>63</td>\n",
              "      <td>6.3</td>\n",
              "      <td>1.3</td>\n",
              "    </tr>\n",
              "  </tbody>\n",
              "</table>\n",
              "</div>"
            ],
            "text/plain": [
              "            PM2.5    PM10    NO2    NOx  ...  min_temp  humid  visible  wind\n",
              "Date                                     ...                                \n",
              "2020-01-01  30.71   70.80  27.31  26.74  ...      19.2     75      6.9   3.3\n",
              "2020-01-02  25.78   62.73  28.05  30.18  ...      19.4     77      5.5   2.0\n",
              "2020-01-03  29.66   69.62  26.26  26.92  ...      19.4     68      6.9   3.5\n",
              "2020-01-04  52.62  106.81  31.56  41.89  ...      19.0     63      6.3   1.3\n",
              "2020-01-05  52.64   97.94  29.10  29.52  ...      20.4     63      6.3   1.3\n",
              "\n",
              "[5 rows x 14 columns]"
            ]
          },
          "metadata": {},
          "execution_count": 87
        }
      ]
    },
    {
      "cell_type": "code",
      "metadata": {
        "colab": {
          "base_uri": "https://localhost:8080/"
        },
        "id": "kbn1Bwz-cWbS",
        "outputId": "3c616808-c35d-42a6-8a98-b5ed32ffa17f"
      },
      "source": [
        "test_df.info()"
      ],
      "execution_count": null,
      "outputs": [
        {
          "output_type": "stream",
          "name": "stdout",
          "text": [
            "<class 'pandas.core.frame.DataFrame'>\n",
            "DatetimeIndex: 182 entries, 2020-01-01 to 2020-06-30\n",
            "Data columns (total 14 columns):\n",
            " #   Column    Non-Null Count  Dtype  \n",
            "---  ------    --------------  -----  \n",
            " 0   PM2.5     182 non-null    float64\n",
            " 1   PM10      182 non-null    float64\n",
            " 2   NO2       182 non-null    float64\n",
            " 3   NOx       182 non-null    float64\n",
            " 4   CO        182 non-null    float64\n",
            " 5   SO2       182 non-null    float64\n",
            " 6   O3        182 non-null    float64\n",
            " 7   AQI       182 non-null    float64\n",
            " 8   temp      182 non-null    float64\n",
            " 9   max_temp  182 non-null    float64\n",
            " 10  min_temp  182 non-null    float64\n",
            " 11  humid     182 non-null    int64  \n",
            " 12  visible   182 non-null    float64\n",
            " 13  wind      182 non-null    float64\n",
            "dtypes: float64(13), int64(1)\n",
            "memory usage: 21.3 KB\n"
          ]
        }
      ]
    },
    {
      "cell_type": "code",
      "metadata": {
        "colab": {
          "base_uri": "https://localhost:8080/",
          "height": 238
        },
        "id": "or7hlOa4cYN8",
        "outputId": "01e6f2ab-8f8f-4c45-ba92-fe23d3b9edef"
      },
      "source": [
        "df['humid'].astype('float64')\n",
        "test_df.head()"
      ],
      "execution_count": null,
      "outputs": [
        {
          "output_type": "execute_result",
          "data": {
            "text/html": [
              "<div>\n",
              "<style scoped>\n",
              "    .dataframe tbody tr th:only-of-type {\n",
              "        vertical-align: middle;\n",
              "    }\n",
              "\n",
              "    .dataframe tbody tr th {\n",
              "        vertical-align: top;\n",
              "    }\n",
              "\n",
              "    .dataframe thead th {\n",
              "        text-align: right;\n",
              "    }\n",
              "</style>\n",
              "<table border=\"1\" class=\"dataframe\">\n",
              "  <thead>\n",
              "    <tr style=\"text-align: right;\">\n",
              "      <th></th>\n",
              "      <th>PM2.5</th>\n",
              "      <th>PM10</th>\n",
              "      <th>NO2</th>\n",
              "      <th>NOx</th>\n",
              "      <th>CO</th>\n",
              "      <th>SO2</th>\n",
              "      <th>O3</th>\n",
              "      <th>AQI</th>\n",
              "      <th>temp</th>\n",
              "      <th>max_temp</th>\n",
              "      <th>min_temp</th>\n",
              "      <th>humid</th>\n",
              "      <th>visible</th>\n",
              "      <th>wind</th>\n",
              "    </tr>\n",
              "    <tr>\n",
              "      <th>Date</th>\n",
              "      <th></th>\n",
              "      <th></th>\n",
              "      <th></th>\n",
              "      <th></th>\n",
              "      <th></th>\n",
              "      <th></th>\n",
              "      <th></th>\n",
              "      <th></th>\n",
              "      <th></th>\n",
              "      <th></th>\n",
              "      <th></th>\n",
              "      <th></th>\n",
              "      <th></th>\n",
              "      <th></th>\n",
              "    </tr>\n",
              "  </thead>\n",
              "  <tbody>\n",
              "    <tr>\n",
              "      <th>2020-01-01</th>\n",
              "      <td>30.71</td>\n",
              "      <td>70.80</td>\n",
              "      <td>27.31</td>\n",
              "      <td>26.74</td>\n",
              "      <td>1.07</td>\n",
              "      <td>8.56</td>\n",
              "      <td>37.39</td>\n",
              "      <td>82.0</td>\n",
              "      <td>22.0</td>\n",
              "      <td>27.2</td>\n",
              "      <td>19.2</td>\n",
              "      <td>75</td>\n",
              "      <td>6.9</td>\n",
              "      <td>3.3</td>\n",
              "    </tr>\n",
              "    <tr>\n",
              "      <th>2020-01-02</th>\n",
              "      <td>25.78</td>\n",
              "      <td>62.73</td>\n",
              "      <td>28.05</td>\n",
              "      <td>30.18</td>\n",
              "      <td>1.16</td>\n",
              "      <td>7.52</td>\n",
              "      <td>33.11</td>\n",
              "      <td>81.0</td>\n",
              "      <td>22.2</td>\n",
              "      <td>26.0</td>\n",
              "      <td>19.4</td>\n",
              "      <td>77</td>\n",
              "      <td>5.5</td>\n",
              "      <td>2.0</td>\n",
              "    </tr>\n",
              "    <tr>\n",
              "      <th>2020-01-03</th>\n",
              "      <td>29.66</td>\n",
              "      <td>69.62</td>\n",
              "      <td>26.26</td>\n",
              "      <td>26.92</td>\n",
              "      <td>0.99</td>\n",
              "      <td>6.40</td>\n",
              "      <td>32.98</td>\n",
              "      <td>85.0</td>\n",
              "      <td>23.4</td>\n",
              "      <td>28.4</td>\n",
              "      <td>19.4</td>\n",
              "      <td>68</td>\n",
              "      <td>6.9</td>\n",
              "      <td>3.5</td>\n",
              "    </tr>\n",
              "    <tr>\n",
              "      <th>2020-01-04</th>\n",
              "      <td>52.62</td>\n",
              "      <td>106.81</td>\n",
              "      <td>31.56</td>\n",
              "      <td>41.89</td>\n",
              "      <td>1.39</td>\n",
              "      <td>6.94</td>\n",
              "      <td>37.35</td>\n",
              "      <td>95.0</td>\n",
              "      <td>23.6</td>\n",
              "      <td>30.5</td>\n",
              "      <td>19.0</td>\n",
              "      <td>63</td>\n",
              "      <td>6.3</td>\n",
              "      <td>1.3</td>\n",
              "    </tr>\n",
              "    <tr>\n",
              "      <th>2020-01-05</th>\n",
              "      <td>52.64</td>\n",
              "      <td>97.94</td>\n",
              "      <td>29.10</td>\n",
              "      <td>29.52</td>\n",
              "      <td>1.01</td>\n",
              "      <td>7.01</td>\n",
              "      <td>45.10</td>\n",
              "      <td>118.0</td>\n",
              "      <td>24.2</td>\n",
              "      <td>30.5</td>\n",
              "      <td>20.4</td>\n",
              "      <td>63</td>\n",
              "      <td>6.3</td>\n",
              "      <td>1.3</td>\n",
              "    </tr>\n",
              "  </tbody>\n",
              "</table>\n",
              "</div>"
            ],
            "text/plain": [
              "            PM2.5    PM10    NO2    NOx  ...  min_temp  humid  visible  wind\n",
              "Date                                     ...                                \n",
              "2020-01-01  30.71   70.80  27.31  26.74  ...      19.2     75      6.9   3.3\n",
              "2020-01-02  25.78   62.73  28.05  30.18  ...      19.4     77      5.5   2.0\n",
              "2020-01-03  29.66   69.62  26.26  26.92  ...      19.4     68      6.9   3.5\n",
              "2020-01-04  52.62  106.81  31.56  41.89  ...      19.0     63      6.3   1.3\n",
              "2020-01-05  52.64   97.94  29.10  29.52  ...      20.4     63      6.3   1.3\n",
              "\n",
              "[5 rows x 14 columns]"
            ]
          },
          "metadata": {},
          "execution_count": 89
        }
      ]
    },
    {
      "cell_type": "code",
      "metadata": {
        "colab": {
          "base_uri": "https://localhost:8080/"
        },
        "id": "ZiOpcjiKcwx1",
        "outputId": "4c60e586-7862-4b9f-abf0-8dd5a58d7e13"
      },
      "source": [
        "test_df.info()"
      ],
      "execution_count": null,
      "outputs": [
        {
          "output_type": "stream",
          "name": "stdout",
          "text": [
            "<class 'pandas.core.frame.DataFrame'>\n",
            "DatetimeIndex: 182 entries, 2020-01-01 to 2020-06-30\n",
            "Data columns (total 14 columns):\n",
            " #   Column    Non-Null Count  Dtype  \n",
            "---  ------    --------------  -----  \n",
            " 0   PM2.5     182 non-null    float64\n",
            " 1   PM10      182 non-null    float64\n",
            " 2   NO2       182 non-null    float64\n",
            " 3   NOx       182 non-null    float64\n",
            " 4   CO        182 non-null    float64\n",
            " 5   SO2       182 non-null    float64\n",
            " 6   O3        182 non-null    float64\n",
            " 7   AQI       182 non-null    float64\n",
            " 8   temp      182 non-null    float64\n",
            " 9   max_temp  182 non-null    float64\n",
            " 10  min_temp  182 non-null    float64\n",
            " 11  humid     182 non-null    int64  \n",
            " 12  visible   182 non-null    float64\n",
            " 13  wind      182 non-null    float64\n",
            "dtypes: float64(13), int64(1)\n",
            "memory usage: 21.3 KB\n"
          ]
        }
      ]
    },
    {
      "cell_type": "code",
      "metadata": {
        "colab": {
          "base_uri": "https://localhost:8080/",
          "height": 300
        },
        "id": "lqfgvdiVdARf",
        "outputId": "7f24ed0a-117e-4301-d295-219bb6115789"
      },
      "source": [
        "test_df.describe()"
      ],
      "execution_count": null,
      "outputs": [
        {
          "output_type": "execute_result",
          "data": {
            "text/html": [
              "<div>\n",
              "<style scoped>\n",
              "    .dataframe tbody tr th:only-of-type {\n",
              "        vertical-align: middle;\n",
              "    }\n",
              "\n",
              "    .dataframe tbody tr th {\n",
              "        vertical-align: top;\n",
              "    }\n",
              "\n",
              "    .dataframe thead th {\n",
              "        text-align: right;\n",
              "    }\n",
              "</style>\n",
              "<table border=\"1\" class=\"dataframe\">\n",
              "  <thead>\n",
              "    <tr style=\"text-align: right;\">\n",
              "      <th></th>\n",
              "      <th>PM2.5</th>\n",
              "      <th>PM10</th>\n",
              "      <th>NO2</th>\n",
              "      <th>NOx</th>\n",
              "      <th>CO</th>\n",
              "      <th>SO2</th>\n",
              "      <th>O3</th>\n",
              "      <th>AQI</th>\n",
              "      <th>temp</th>\n",
              "      <th>max_temp</th>\n",
              "      <th>min_temp</th>\n",
              "      <th>humid</th>\n",
              "      <th>visible</th>\n",
              "      <th>wind</th>\n",
              "    </tr>\n",
              "  </thead>\n",
              "  <tbody>\n",
              "    <tr>\n",
              "      <th>count</th>\n",
              "      <td>182.000000</td>\n",
              "      <td>182.000000</td>\n",
              "      <td>182.000000</td>\n",
              "      <td>182.000000</td>\n",
              "      <td>182.000000</td>\n",
              "      <td>182.000000</td>\n",
              "      <td>182.000000</td>\n",
              "      <td>182.000000</td>\n",
              "      <td>182.000000</td>\n",
              "      <td>182.000000</td>\n",
              "      <td>182.000000</td>\n",
              "      <td>182.000000</td>\n",
              "      <td>182.000000</td>\n",
              "      <td>182.000000</td>\n",
              "    </tr>\n",
              "    <tr>\n",
              "      <th>mean</th>\n",
              "      <td>30.536703</td>\n",
              "      <td>67.232473</td>\n",
              "      <td>21.455000</td>\n",
              "      <td>22.636154</td>\n",
              "      <td>0.873132</td>\n",
              "      <td>6.875495</td>\n",
              "      <td>35.748626</td>\n",
              "      <td>79.917582</td>\n",
              "      <td>25.422527</td>\n",
              "      <td>32.191209</td>\n",
              "      <td>20.293407</td>\n",
              "      <td>56.510989</td>\n",
              "      <td>6.662637</td>\n",
              "      <td>3.563736</td>\n",
              "    </tr>\n",
              "    <tr>\n",
              "      <th>std</th>\n",
              "      <td>12.255324</td>\n",
              "      <td>24.453075</td>\n",
              "      <td>10.194596</td>\n",
              "      <td>10.470600</td>\n",
              "      <td>0.198321</td>\n",
              "      <td>1.090536</td>\n",
              "      <td>11.404644</td>\n",
              "      <td>19.336760</td>\n",
              "      <td>2.068492</td>\n",
              "      <td>2.322299</td>\n",
              "      <td>2.314442</td>\n",
              "      <td>14.027494</td>\n",
              "      <td>0.619864</td>\n",
              "      <td>2.092925</td>\n",
              "    </tr>\n",
              "    <tr>\n",
              "      <th>min</th>\n",
              "      <td>8.950000</td>\n",
              "      <td>19.340000</td>\n",
              "      <td>8.990000</td>\n",
              "      <td>9.400000</td>\n",
              "      <td>0.540000</td>\n",
              "      <td>4.440000</td>\n",
              "      <td>12.340000</td>\n",
              "      <td>40.000000</td>\n",
              "      <td>20.800000</td>\n",
              "      <td>26.000000</td>\n",
              "      <td>12.300000</td>\n",
              "      <td>29.000000</td>\n",
              "      <td>4.000000</td>\n",
              "      <td>0.000000</td>\n",
              "    </tr>\n",
              "    <tr>\n",
              "      <th>25%</th>\n",
              "      <td>20.620000</td>\n",
              "      <td>49.900000</td>\n",
              "      <td>13.127500</td>\n",
              "      <td>14.505000</td>\n",
              "      <td>0.720000</td>\n",
              "      <td>6.192500</td>\n",
              "      <td>29.947500</td>\n",
              "      <td>66.000000</td>\n",
              "      <td>23.725000</td>\n",
              "      <td>30.400000</td>\n",
              "      <td>18.650000</td>\n",
              "      <td>46.000000</td>\n",
              "      <td>6.300000</td>\n",
              "      <td>2.000000</td>\n",
              "    </tr>\n",
              "    <tr>\n",
              "      <th>50%</th>\n",
              "      <td>28.010000</td>\n",
              "      <td>65.310000</td>\n",
              "      <td>17.340000</td>\n",
              "      <td>17.230000</td>\n",
              "      <td>0.850000</td>\n",
              "      <td>6.850000</td>\n",
              "      <td>36.870000</td>\n",
              "      <td>77.000000</td>\n",
              "      <td>25.200000</td>\n",
              "      <td>32.400000</td>\n",
              "      <td>20.750000</td>\n",
              "      <td>55.000000</td>\n",
              "      <td>6.900000</td>\n",
              "      <td>3.100000</td>\n",
              "    </tr>\n",
              "    <tr>\n",
              "      <th>75%</th>\n",
              "      <td>39.472500</td>\n",
              "      <td>84.680000</td>\n",
              "      <td>29.072500</td>\n",
              "      <td>30.342500</td>\n",
              "      <td>1.037500</td>\n",
              "      <td>7.285000</td>\n",
              "      <td>43.837500</td>\n",
              "      <td>94.750000</td>\n",
              "      <td>27.175000</td>\n",
              "      <td>34.000000</td>\n",
              "      <td>22.000000</td>\n",
              "      <td>68.000000</td>\n",
              "      <td>6.900000</td>\n",
              "      <td>4.375000</td>\n",
              "    </tr>\n",
              "    <tr>\n",
              "      <th>max</th>\n",
              "      <td>70.780000</td>\n",
              "      <td>154.340000</td>\n",
              "      <td>54.430000</td>\n",
              "      <td>56.070000</td>\n",
              "      <td>1.390000</td>\n",
              "      <td>13.040000</td>\n",
              "      <td>61.010000</td>\n",
              "      <td>137.000000</td>\n",
              "      <td>29.600000</td>\n",
              "      <td>36.400000</td>\n",
              "      <td>24.600000</td>\n",
              "      <td>83.000000</td>\n",
              "      <td>8.900000</td>\n",
              "      <td>11.300000</td>\n",
              "    </tr>\n",
              "  </tbody>\n",
              "</table>\n",
              "</div>"
            ],
            "text/plain": [
              "            PM2.5        PM10         NO2  ...       humid     visible        wind\n",
              "count  182.000000  182.000000  182.000000  ...  182.000000  182.000000  182.000000\n",
              "mean    30.536703   67.232473   21.455000  ...   56.510989    6.662637    3.563736\n",
              "std     12.255324   24.453075   10.194596  ...   14.027494    0.619864    2.092925\n",
              "min      8.950000   19.340000    8.990000  ...   29.000000    4.000000    0.000000\n",
              "25%     20.620000   49.900000   13.127500  ...   46.000000    6.300000    2.000000\n",
              "50%     28.010000   65.310000   17.340000  ...   55.000000    6.900000    3.100000\n",
              "75%     39.472500   84.680000   29.072500  ...   68.000000    6.900000    4.375000\n",
              "max     70.780000  154.340000   54.430000  ...   83.000000    8.900000   11.300000\n",
              "\n",
              "[8 rows x 14 columns]"
            ]
          },
          "metadata": {},
          "execution_count": 91
        }
      ]
    },
    {
      "cell_type": "code",
      "metadata": {
        "colab": {
          "base_uri": "https://localhost:8080/"
        },
        "id": "hTqzLfSwdALi",
        "outputId": "001e71ae-3d68-4720-ae9a-7b0d215bf90f"
      },
      "source": [
        "test_df.isnull().sum(axis=0)"
      ],
      "execution_count": null,
      "outputs": [
        {
          "output_type": "execute_result",
          "data": {
            "text/plain": [
              "PM2.5       0\n",
              "PM10        0\n",
              "NO2         0\n",
              "NOx         0\n",
              "CO          0\n",
              "SO2         0\n",
              "O3          0\n",
              "AQI         0\n",
              "temp        0\n",
              "max_temp    0\n",
              "min_temp    0\n",
              "humid       0\n",
              "visible     0\n",
              "wind        0\n",
              "dtype: int64"
            ]
          },
          "metadata": {},
          "execution_count": 92
        }
      ]
    },
    {
      "cell_type": "code",
      "metadata": {
        "colab": {
          "base_uri": "https://localhost:8080/",
          "height": 238
        },
        "id": "1K1I-AUodAI9",
        "outputId": "cd6a9a03-409f-4d83-da01-5ad73e3bbdde"
      },
      "source": [
        "test_df = test_df.drop(columns=['AQI'])\n",
        "test_df.head()"
      ],
      "execution_count": null,
      "outputs": [
        {
          "output_type": "execute_result",
          "data": {
            "text/html": [
              "<div>\n",
              "<style scoped>\n",
              "    .dataframe tbody tr th:only-of-type {\n",
              "        vertical-align: middle;\n",
              "    }\n",
              "\n",
              "    .dataframe tbody tr th {\n",
              "        vertical-align: top;\n",
              "    }\n",
              "\n",
              "    .dataframe thead th {\n",
              "        text-align: right;\n",
              "    }\n",
              "</style>\n",
              "<table border=\"1\" class=\"dataframe\">\n",
              "  <thead>\n",
              "    <tr style=\"text-align: right;\">\n",
              "      <th></th>\n",
              "      <th>PM2.5</th>\n",
              "      <th>PM10</th>\n",
              "      <th>NO2</th>\n",
              "      <th>NOx</th>\n",
              "      <th>CO</th>\n",
              "      <th>SO2</th>\n",
              "      <th>O3</th>\n",
              "      <th>temp</th>\n",
              "      <th>max_temp</th>\n",
              "      <th>min_temp</th>\n",
              "      <th>humid</th>\n",
              "      <th>visible</th>\n",
              "      <th>wind</th>\n",
              "    </tr>\n",
              "    <tr>\n",
              "      <th>Date</th>\n",
              "      <th></th>\n",
              "      <th></th>\n",
              "      <th></th>\n",
              "      <th></th>\n",
              "      <th></th>\n",
              "      <th></th>\n",
              "      <th></th>\n",
              "      <th></th>\n",
              "      <th></th>\n",
              "      <th></th>\n",
              "      <th></th>\n",
              "      <th></th>\n",
              "      <th></th>\n",
              "    </tr>\n",
              "  </thead>\n",
              "  <tbody>\n",
              "    <tr>\n",
              "      <th>2020-01-01</th>\n",
              "      <td>30.71</td>\n",
              "      <td>70.80</td>\n",
              "      <td>27.31</td>\n",
              "      <td>26.74</td>\n",
              "      <td>1.07</td>\n",
              "      <td>8.56</td>\n",
              "      <td>37.39</td>\n",
              "      <td>22.0</td>\n",
              "      <td>27.2</td>\n",
              "      <td>19.2</td>\n",
              "      <td>75</td>\n",
              "      <td>6.9</td>\n",
              "      <td>3.3</td>\n",
              "    </tr>\n",
              "    <tr>\n",
              "      <th>2020-01-02</th>\n",
              "      <td>25.78</td>\n",
              "      <td>62.73</td>\n",
              "      <td>28.05</td>\n",
              "      <td>30.18</td>\n",
              "      <td>1.16</td>\n",
              "      <td>7.52</td>\n",
              "      <td>33.11</td>\n",
              "      <td>22.2</td>\n",
              "      <td>26.0</td>\n",
              "      <td>19.4</td>\n",
              "      <td>77</td>\n",
              "      <td>5.5</td>\n",
              "      <td>2.0</td>\n",
              "    </tr>\n",
              "    <tr>\n",
              "      <th>2020-01-03</th>\n",
              "      <td>29.66</td>\n",
              "      <td>69.62</td>\n",
              "      <td>26.26</td>\n",
              "      <td>26.92</td>\n",
              "      <td>0.99</td>\n",
              "      <td>6.40</td>\n",
              "      <td>32.98</td>\n",
              "      <td>23.4</td>\n",
              "      <td>28.4</td>\n",
              "      <td>19.4</td>\n",
              "      <td>68</td>\n",
              "      <td>6.9</td>\n",
              "      <td>3.5</td>\n",
              "    </tr>\n",
              "    <tr>\n",
              "      <th>2020-01-04</th>\n",
              "      <td>52.62</td>\n",
              "      <td>106.81</td>\n",
              "      <td>31.56</td>\n",
              "      <td>41.89</td>\n",
              "      <td>1.39</td>\n",
              "      <td>6.94</td>\n",
              "      <td>37.35</td>\n",
              "      <td>23.6</td>\n",
              "      <td>30.5</td>\n",
              "      <td>19.0</td>\n",
              "      <td>63</td>\n",
              "      <td>6.3</td>\n",
              "      <td>1.3</td>\n",
              "    </tr>\n",
              "    <tr>\n",
              "      <th>2020-01-05</th>\n",
              "      <td>52.64</td>\n",
              "      <td>97.94</td>\n",
              "      <td>29.10</td>\n",
              "      <td>29.52</td>\n",
              "      <td>1.01</td>\n",
              "      <td>7.01</td>\n",
              "      <td>45.10</td>\n",
              "      <td>24.2</td>\n",
              "      <td>30.5</td>\n",
              "      <td>20.4</td>\n",
              "      <td>63</td>\n",
              "      <td>6.3</td>\n",
              "      <td>1.3</td>\n",
              "    </tr>\n",
              "  </tbody>\n",
              "</table>\n",
              "</div>"
            ],
            "text/plain": [
              "            PM2.5    PM10    NO2    NOx  ...  min_temp  humid  visible  wind\n",
              "Date                                     ...                                \n",
              "2020-01-01  30.71   70.80  27.31  26.74  ...      19.2     75      6.9   3.3\n",
              "2020-01-02  25.78   62.73  28.05  30.18  ...      19.4     77      5.5   2.0\n",
              "2020-01-03  29.66   69.62  26.26  26.92  ...      19.4     68      6.9   3.5\n",
              "2020-01-04  52.62  106.81  31.56  41.89  ...      19.0     63      6.3   1.3\n",
              "2020-01-05  52.64   97.94  29.10  29.52  ...      20.4     63      6.3   1.3\n",
              "\n",
              "[5 rows x 13 columns]"
            ]
          },
          "metadata": {},
          "execution_count": 93
        }
      ]
    },
    {
      "cell_type": "code",
      "metadata": {
        "colab": {
          "base_uri": "https://localhost:8080/"
        },
        "id": "GrcHNaCLdAGe",
        "outputId": "5d3260aa-7991-4470-e681-39c952d67cb7"
      },
      "source": [
        "test_df.shape, test_target.shape, "
      ],
      "execution_count": null,
      "outputs": [
        {
          "output_type": "execute_result",
          "data": {
            "text/plain": [
              "((182, 13), (182,))"
            ]
          },
          "metadata": {},
          "execution_count": 94
        }
      ]
    },
    {
      "cell_type": "code",
      "metadata": {
        "id": "livN7C58dAEF"
      },
      "source": [
        "# test_df.to_csv('test_x.csv')\n",
        "# test_target.to_csv('test_y.csv')"
      ],
      "execution_count": null,
      "outputs": []
    },
    {
      "cell_type": "markdown",
      "metadata": {
        "id": "1f_Nf4cgi6rn"
      },
      "source": [
        "# Predict"
      ]
    },
    {
      "cell_type": "code",
      "metadata": {
        "id": "9PYqrvu1dAB6"
      },
      "source": [
        "X_test_scaler = sc.transform(test_df)\n",
        "Y_test_scaler = sc_target.transform(test_target.values.reshape(-1,1))\n",
        "# StandardScaler take 2D array"
      ],
      "execution_count": null,
      "outputs": []
    },
    {
      "cell_type": "code",
      "metadata": {
        "colab": {
          "base_uri": "https://localhost:8080/"
        },
        "id": "ctF2wXeY3Emv",
        "outputId": "63764480-7105-46ee-e3c5-2849ff7d7f73"
      },
      "source": [
        "prev = 7\n",
        "future = 1\n",
        "start = 0\n",
        "end = X_test_scaler.shape[0]-1\n",
        "\n",
        "X_test, Y_test = custom_dataset(X_test_scaler, Y_test_scaler, start, end, prev, future)\n",
        "X_test"
      ],
      "execution_count": null,
      "outputs": [
        {
          "output_type": "execute_result",
          "data": {
            "text/plain": [
              "array([[[-0.30608406, -0.401794  , -0.28244328, ...,  0.72217157,\n",
              "          0.46374624, -0.47013156],\n",
              "        [-0.49939129, -0.609596  , -0.22470681, ...,  0.85166595,\n",
              "         -1.73990861, -0.95248086],\n",
              "        [-0.34725497, -0.43217893, -0.36436665, ...,  0.26894123,\n",
              "          0.46374624, -0.39592398],\n",
              "        ...,\n",
              "        [ 0.55379986,  0.2970593 , -0.14278344, ..., -0.05479473,\n",
              "         -0.48067727, -1.2122074 ],\n",
              "        [-0.5401701 , -0.62633346, -0.26215749, ...,  0.91641314,\n",
              "          0.46374624, -0.24750881],\n",
              "        [-0.62721717, -0.60393102, -0.07802496, ...,  0.26894123,\n",
              "         -0.48067727,  0.1606329 ]],\n",
              "\n",
              "       [[-0.49939129, -0.609596  , -0.22470681, ...,  0.85166595,\n",
              "         -1.73990861, -0.95248086],\n",
              "        [-0.34725497, -0.43217893, -0.36436665, ...,  0.26894123,\n",
              "          0.46374624, -0.39592398],\n",
              "        [ 0.55301565,  0.52546125,  0.04915132, ..., -0.05479473,\n",
              "         -0.48067727, -1.2122074 ],\n",
              "        ...,\n",
              "        [-0.5401701 , -0.62633346, -0.26215749, ...,  0.91641314,\n",
              "          0.46374624, -0.24750881],\n",
              "        [-0.62721717, -0.60393102, -0.07802496, ...,  0.26894123,\n",
              "         -0.48067727,  0.1606329 ],\n",
              "        [-0.29784987, -0.31475922, -0.00546427, ..., -0.18428911,\n",
              "         -0.48067727, -0.58144294]],\n",
              "\n",
              "       [[-0.34725497, -0.43217893, -0.36436665, ...,  0.26894123,\n",
              "          0.46374624, -0.39592398],\n",
              "        [ 0.55301565,  0.52546125,  0.04915132, ..., -0.05479473,\n",
              "         -0.48067727, -1.2122074 ],\n",
              "        [ 0.55379986,  0.2970593 , -0.14278344, ..., -0.05479473,\n",
              "         -0.48067727, -1.2122074 ],\n",
              "        ...,\n",
              "        [-0.62721717, -0.60393102, -0.07802496, ...,  0.26894123,\n",
              "         -0.48067727,  0.1606329 ],\n",
              "        [-0.29784987, -0.31475922, -0.00546427, ..., -0.18428911,\n",
              "         -0.48067727, -0.58144294],\n",
              "        [ 0.08053042, -0.01219745,  0.22314095, ..., -0.2490363 ,\n",
              "          0.46374624, -0.98958465]],\n",
              "\n",
              "       ...,\n",
              "\n",
              "       [[-0.79190082, -1.00048006, -1.35056799, ...,  0.39843561,\n",
              "          0.46374624,  1.38505803],\n",
              "        [-0.79739028, -1.14210471, -1.44185403, ...,  0.85166595,\n",
              "          0.46374624,  0.97691632],\n",
              "        [-0.89659257, -1.1899996 , -1.28580951, ...,  0.91641314,\n",
              "         -1.73990861,  0.64298219],\n",
              "        ...,\n",
              "        [-0.73700627, -0.87482036, -1.27332595, ...,  0.98116033,\n",
              "         -0.00846551,  0.08642531],\n",
              "        [-0.84640327, -1.19334709, -1.03457784, ...,  1.2401491 ,\n",
              "         -0.48067727,  0.23484048],\n",
              "        [-0.90639517, -1.48689638, -1.29829307, ...,  0.98116033,\n",
              "          1.72297759, -0.3217164 ]],\n",
              "\n",
              "       [[-0.79739028, -1.14210471, -1.44185403, ...,  0.85166595,\n",
              "          0.46374624,  0.97691632],\n",
              "        [-0.89659257, -1.1899996 , -1.28580951, ...,  0.91641314,\n",
              "         -1.73990861,  0.64298219],\n",
              "        [-0.71112742, -0.9391952 , -1.27410617, ...,  0.33368842,\n",
              "          0.46374624,  0.86560494],\n",
              "        ...,\n",
              "        [-0.84640327, -1.19334709, -1.03457784, ...,  1.2401491 ,\n",
              "         -0.48067727,  0.23484048],\n",
              "        [-0.90639517, -1.48689638, -1.29829307, ...,  0.98116033,\n",
              "          1.72297759, -0.3217164 ],\n",
              "        [-0.8593427 , -1.46578143, -1.34588665, ...,  0.91641314,\n",
              "          0.46374624,  0.64298219]],\n",
              "\n",
              "       [[-0.89659257, -1.1899996 , -1.28580951, ...,  0.91641314,\n",
              "         -1.73990861,  0.64298219],\n",
              "        [-0.71112742, -0.9391952 , -1.27410617, ...,  0.33368842,\n",
              "          0.46374624,  0.86560494],\n",
              "        [-0.73700627, -0.87482036, -1.27332595, ...,  0.98116033,\n",
              "         -0.00846551,  0.08642531],\n",
              "        ...,\n",
              "        [-0.90639517, -1.48689638, -1.29829307, ...,  0.98116033,\n",
              "          1.72297759, -0.3217164 ],\n",
              "        [-0.8593427 , -1.46578143, -1.34588665, ...,  0.91641314,\n",
              "          0.46374624,  0.64298219],\n",
              "        [-0.70877479, -1.54663624, -1.60726121, ...,  0.91641314,\n",
              "         -1.73990861,  0.30904807]]])"
            ]
          },
          "metadata": {},
          "execution_count": 97
        }
      ]
    },
    {
      "cell_type": "code",
      "metadata": {
        "colab": {
          "base_uri": "https://localhost:8080/"
        },
        "id": "cYhIAcaX3Eha",
        "outputId": "3e6a805f-5eef-47b3-c640-bf6edb3254d8"
      },
      "source": [
        "X_test.shape, Y_test.shape"
      ],
      "execution_count": null,
      "outputs": [
        {
          "output_type": "execute_result",
          "data": {
            "text/plain": [
              "((174, 7, 13), (174, 1, 1))"
            ]
          },
          "metadata": {},
          "execution_count": 98
        }
      ]
    },
    {
      "cell_type": "code",
      "metadata": {
        "id": "s1ZoaHM1c__y",
        "colab": {
          "base_uri": "https://localhost:8080/"
        },
        "outputId": "0112b719-a277-40fc-d5b4-892cd3b644a3"
      },
      "source": [
        "X_test_tensor = Variable(torch.Tensor(X_test)) #converting to Tensors\n",
        "Y_test_tensor = Variable(torch.Tensor(Y_test))\n",
        "Y_test_tensor = torch.reshape(Y_test_tensor, (-1,future))\n",
        "Y_test_tensor"
      ],
      "execution_count": null,
      "outputs": [
        {
          "output_type": "execute_result",
          "data": {
            "text/plain": [
              "tensor([[ 0.0118],\n",
              "        [ 0.2212],\n",
              "        [ 0.0380],\n",
              "        [-0.3808],\n",
              "        [-0.3546],\n",
              "        [ 0.3520],\n",
              "        [ 0.7446],\n",
              "        [ 0.4829],\n",
              "        [ 0.5614],\n",
              "        [ 0.3520],\n",
              "        [-0.1714],\n",
              "        [-0.6949],\n",
              "        [-0.3023],\n",
              "        [-0.0667],\n",
              "        [-0.1452],\n",
              "        [-0.2761],\n",
              "        [ 0.4044],\n",
              "        [ 0.1950],\n",
              "        [ 0.1165],\n",
              "        [ 0.1426],\n",
              "        [ 0.2473],\n",
              "        [ 0.5876],\n",
              "        [ 0.5091],\n",
              "        [ 0.4829],\n",
              "        [ 0.2473],\n",
              "        [ 0.0380],\n",
              "        [-0.3546],\n",
              "        [-0.2761],\n",
              "        [-0.1714],\n",
              "        [ 0.0903],\n",
              "        [ 0.0903],\n",
              "        [ 0.3259],\n",
              "        [ 0.2212],\n",
              "        [ 0.2735],\n",
              "        [-0.1452],\n",
              "        [-0.3284],\n",
              "        [-0.2238],\n",
              "        [ 0.4829],\n",
              "        [ 0.9278],\n",
              "        [ 0.7184],\n",
              "        [ 0.1688],\n",
              "        [ 0.2735],\n",
              "        [ 0.2212],\n",
              "        [ 0.0380],\n",
              "        [-0.0667],\n",
              "        [-0.3808],\n",
              "        [-0.3023],\n",
              "        [-0.2761],\n",
              "        [ 0.3782],\n",
              "        [ 0.2997],\n",
              "        [ 0.5091],\n",
              "        [ 0.1426],\n",
              "        [ 0.0641],\n",
              "        [ 0.2212],\n",
              "        [ 0.2735],\n",
              "        [ 1.1634],\n",
              "        [ 1.0063],\n",
              "        [ 0.6399],\n",
              "        [ 0.1950],\n",
              "        [ 0.0118],\n",
              "        [-0.0406],\n",
              "        [ 0.1688],\n",
              "        [ 0.0118],\n",
              "        [ 0.0641],\n",
              "        [ 0.1165],\n",
              "        [-0.0667],\n",
              "        [-0.1714],\n",
              "        [-0.1191],\n",
              "        [-0.3546],\n",
              "        [-0.4070],\n",
              "        [-0.3808],\n",
              "        [-0.0406],\n",
              "        [ 0.1950],\n",
              "        [ 0.2735],\n",
              "        [ 0.1688],\n",
              "        [-0.1976],\n",
              "        [ 0.3520],\n",
              "        [-0.5902],\n",
              "        [-0.8257],\n",
              "        [-0.6687],\n",
              "        [-0.5902],\n",
              "        [-0.6949],\n",
              "        [-0.5378],\n",
              "        [-0.6425],\n",
              "        [-0.7472],\n",
              "        [-0.5902],\n",
              "        [-0.2761],\n",
              "        [-0.4855],\n",
              "        [-0.4070],\n",
              "        [-0.7210],\n",
              "        [-0.7995],\n",
              "        [-0.6687],\n",
              "        [-0.7210],\n",
              "        [-0.4331],\n",
              "        [-0.5902],\n",
              "        [-0.7472],\n",
              "        [-0.5378],\n",
              "        [-0.5378],\n",
              "        [-0.4855],\n",
              "        [-0.6949],\n",
              "        [-0.4855],\n",
              "        [ 0.0380],\n",
              "        [-0.6687],\n",
              "        [-1.0351],\n",
              "        [-0.7210],\n",
              "        [-0.5640],\n",
              "        [-0.7734],\n",
              "        [-0.6163],\n",
              "        [-0.6949],\n",
              "        [-0.8257],\n",
              "        [-0.8781],\n",
              "        [-0.5640],\n",
              "        [-0.7995],\n",
              "        [-0.8257],\n",
              "        [-0.4855],\n",
              "        [-0.5378],\n",
              "        [-0.5640],\n",
              "        [-0.3546],\n",
              "        [-0.0406],\n",
              "        [-0.1976],\n",
              "        [-0.2761],\n",
              "        [-0.5117],\n",
              "        [-0.4331],\n",
              "        [-0.3808],\n",
              "        [-0.4070],\n",
              "        [-0.2761],\n",
              "        [-0.6949],\n",
              "        [-0.6949],\n",
              "        [-0.5117],\n",
              "        [-0.4855],\n",
              "        [-0.5902],\n",
              "        [-0.6425],\n",
              "        [-0.5378],\n",
              "        [-0.3546],\n",
              "        [-0.5902],\n",
              "        [-0.6425],\n",
              "        [-0.5378],\n",
              "        [-0.6949],\n",
              "        [-0.5902],\n",
              "        [-0.6949],\n",
              "        [-0.4593],\n",
              "        [-0.4855],\n",
              "        [-0.6949],\n",
              "        [-0.5378],\n",
              "        [-0.8257],\n",
              "        [-1.1398],\n",
              "        [-1.3753],\n",
              "        [-1.3230],\n",
              "        [-1.2968],\n",
              "        [-0.9827],\n",
              "        [-0.9827],\n",
              "        [-0.9827],\n",
              "        [-0.9827],\n",
              "        [-0.9042],\n",
              "        [-0.5902],\n",
              "        [-0.8781],\n",
              "        [-1.1398],\n",
              "        [-1.1136],\n",
              "        [-1.1398],\n",
              "        [-1.1921],\n",
              "        [-0.9827],\n",
              "        [-0.9304],\n",
              "        [-0.7210],\n",
              "        [-0.7210],\n",
              "        [-0.9566],\n",
              "        [-1.0613],\n",
              "        [-1.1398],\n",
              "        [-0.9566],\n",
              "        [-0.7734],\n",
              "        [-0.7734],\n",
              "        [-0.9042],\n",
              "        [-1.0874],\n",
              "        [-0.8257],\n",
              "        [-0.7210]])"
            ]
          },
          "metadata": {},
          "execution_count": 99
        }
      ]
    },
    {
      "cell_type": "code",
      "metadata": {
        "colab": {
          "base_uri": "https://localhost:8080/"
        },
        "id": "l0TjoVKfflk4",
        "outputId": "348c42f8-6197-4709-9b3f-3d6414e7c48e"
      },
      "source": [
        "X_test_tensor.size(), Y_test_tensor.size()\n",
        "# 3d, 2d"
      ],
      "execution_count": null,
      "outputs": [
        {
          "output_type": "execute_result",
          "data": {
            "text/plain": [
              "(torch.Size([174, 7, 13]), torch.Size([174, 1]))"
            ]
          },
          "metadata": {},
          "execution_count": 100
        }
      ]
    },
    {
      "cell_type": "code",
      "metadata": {
        "colab": {
          "base_uri": "https://localhost:8080/"
        },
        "id": "CQqM69p5flha",
        "outputId": "cd3b682e-6719-46ad-ded6-d5fb416c90fa"
      },
      "source": [
        "test_predict = lstm1(X_test_tensor)\n",
        "test_predict[:10]"
      ],
      "execution_count": null,
      "outputs": [
        {
          "output_type": "execute_result",
          "data": {
            "text/plain": [
              "tensor([[-0.2477],\n",
              "        [-0.1598],\n",
              "        [ 0.0765],\n",
              "        [-0.0218],\n",
              "        [-0.2897],\n",
              "        [-0.0204],\n",
              "        [ 0.5011],\n",
              "        [ 0.6340],\n",
              "        [ 0.0422],\n",
              "        [ 0.0293]], grad_fn=<SliceBackward0>)"
            ]
          },
          "metadata": {},
          "execution_count": 101
        }
      ]
    },
    {
      "cell_type": "code",
      "metadata": {
        "id": "154ndGzJnEkN"
      },
      "source": [
        "# Y_test_tensor = Y_test_tensor.reshape(-1,3)"
      ],
      "execution_count": null,
      "outputs": []
    },
    {
      "cell_type": "code",
      "metadata": {
        "colab": {
          "base_uri": "https://localhost:8080/"
        },
        "id": "1d8e8ogIflfU",
        "outputId": "8fcb4c19-5958-4fc5-b3d9-f3f3e7a54bd3"
      },
      "source": [
        "test_predict.size(), Y_test_tensor.size()"
      ],
      "execution_count": null,
      "outputs": [
        {
          "output_type": "execute_result",
          "data": {
            "text/plain": [
              "(torch.Size([174, 1]), torch.Size([174, 1]))"
            ]
          },
          "metadata": {},
          "execution_count": 103
        }
      ]
    },
    {
      "cell_type": "code",
      "metadata": {
        "colab": {
          "base_uri": "https://localhost:8080/"
        },
        "id": "cIMFtcWZflc8",
        "outputId": "a5d86a7d-a1e4-4123-92e8-5786cb0d57b2"
      },
      "source": [
        "data_predict = test_predict.data.numpy() #numpy conversion\n",
        "\n",
        "data_predict = sc_target.inverse_transform(data_predict) \n",
        "data_predict[:10]"
      ],
      "execution_count": null,
      "outputs": [
        {
          "output_type": "execute_result",
          "data": {
            "text/plain": [
              "array([[ 83.086464],\n",
              "       [ 86.44319 ],\n",
              "       [ 95.473206],\n",
              "       [ 91.71614 ],\n",
              "       [ 81.48053 ],\n",
              "       [ 91.770256],\n",
              "       [111.694244],\n",
              "       [116.77282 ],\n",
              "       [ 94.16108 ],\n",
              "       [ 93.667404]], dtype=float32)"
            ]
          },
          "metadata": {},
          "execution_count": 104
        }
      ]
    },
    {
      "cell_type": "code",
      "metadata": {
        "colab": {
          "base_uri": "https://localhost:8080/"
        },
        "id": "iDvjbXIbflal",
        "outputId": "b2aa6d12-d23d-411f-feec-d560b74f5363"
      },
      "source": [
        "data_actual = Y_test_tensor.data.numpy()\n",
        "data_actual = sc_target.inverse_transform(data_actual)\n",
        "data_actual[:10]"
      ],
      "execution_count": null,
      "outputs": [
        {
          "output_type": "execute_result",
          "data": {
            "text/plain": [
              "array([[ 93.],\n",
              "       [101.],\n",
              "       [ 94.],\n",
              "       [ 78.],\n",
              "       [ 79.],\n",
              "       [106.],\n",
              "       [121.],\n",
              "       [111.],\n",
              "       [114.],\n",
              "       [106.]], dtype=float32)"
            ]
          },
          "metadata": {},
          "execution_count": 105
        }
      ]
    },
    {
      "cell_type": "code",
      "metadata": {
        "colab": {
          "base_uri": "https://localhost:8080/"
        },
        "id": "mJ0421YehlA0",
        "outputId": "11fe2f34-5537-4858-a6b1-5444d8e03e68"
      },
      "source": [
        "data_predict.shape,data_actual.shape"
      ],
      "execution_count": null,
      "outputs": [
        {
          "output_type": "execute_result",
          "data": {
            "text/plain": [
              "((174, 1), (174, 1))"
            ]
          },
          "metadata": {},
          "execution_count": 106
        }
      ]
    },
    {
      "cell_type": "code",
      "metadata": {
        "colab": {
          "base_uri": "https://localhost:8080/"
        },
        "id": "f7FLNAt9EMdq",
        "outputId": "8fe3d901-477d-4b16-89d3-662e59f26e64"
      },
      "source": [
        "data_predict[170:]"
      ],
      "execution_count": null,
      "outputs": [
        {
          "output_type": "execute_result",
          "data": {
            "text/plain": [
              "array([[60.66128 ],\n",
              "       [59.669083],\n",
              "       [59.43931 ],\n",
              "       [59.13175 ]], dtype=float32)"
            ]
          },
          "metadata": {},
          "execution_count": 107
        }
      ]
    },
    {
      "cell_type": "code",
      "metadata": {
        "id": "st2_dr6BCXO7"
      },
      "source": [
        "prediction = sc_target.transform(data_predict)\n",
        "test = sc_target.transform(data_actual)\n"
      ],
      "execution_count": null,
      "outputs": []
    },
    {
      "cell_type": "code",
      "metadata": {
        "colab": {
          "base_uri": "https://localhost:8080/"
        },
        "id": "EX1SuF2-flYB",
        "outputId": "3a4e89bf-c368-41e6-9fb3-5bd3a41cbf84"
      },
      "source": [
        "from sklearn.metrics import r2_score\n",
        "from sklearn.metrics import mean_absolute_error\n",
        "from sklearn.metrics import mean_squared_error\n",
        "\n",
        "r2 = r2_score(test,prediction)\n",
        "mse = mean_squared_error(test,prediction)\n",
        "mae = mean_absolute_error(test,prediction)\n",
        "rmse = np.sqrt(mse)\n",
        "\n",
        "print(\"R2 SCORE is\", r2)\n",
        "print(\"Mean Absolute Error is \", mae)\n",
        "print(\"Root mean squared error\",np.sqrt(rmse))"
      ],
      "execution_count": null,
      "outputs": [
        {
          "output_type": "stream",
          "name": "stdout",
          "text": [
            "R2 SCORE is 0.7661107253036251\n",
            "Mean Absolute Error is  0.19053435\n",
            "Root mean squared error 0.49583682\n"
          ]
        }
      ]
    },
    {
      "cell_type": "code",
      "metadata": {
        "id": "eOH3iHsF8-xC"
      },
      "source": [
        "result = pd.DataFrame()\n",
        "result[\"ACTUAL AQI\"] = data_actual.flatten()\n",
        "result[\"PREDICTED AQI\"] = data_predict\n",
        "result[\"DIFFERENCE\"] = result[\"ACTUAL AQI\"] - result[\"PREDICTED AQI\"]\n",
        "result[\"PERCENTAGE ERROR\"] = ( abs(result[\"ACTUAL AQI\"] - result[\"PREDICTED AQI\"] ) / result[\"ACTUAL AQI\"] ) * 100"
      ],
      "execution_count": null,
      "outputs": []
    },
    {
      "cell_type": "code",
      "metadata": {
        "colab": {
          "base_uri": "https://localhost:8080/",
          "height": 520
        },
        "id": "3Ckpf_MY90e7",
        "outputId": "590d2dd3-155a-4aeb-85d9-1174d0b59714"
      },
      "source": [
        "result.head(15)"
      ],
      "execution_count": null,
      "outputs": [
        {
          "output_type": "execute_result",
          "data": {
            "text/html": [
              "<div>\n",
              "<style scoped>\n",
              "    .dataframe tbody tr th:only-of-type {\n",
              "        vertical-align: middle;\n",
              "    }\n",
              "\n",
              "    .dataframe tbody tr th {\n",
              "        vertical-align: top;\n",
              "    }\n",
              "\n",
              "    .dataframe thead th {\n",
              "        text-align: right;\n",
              "    }\n",
              "</style>\n",
              "<table border=\"1\" class=\"dataframe\">\n",
              "  <thead>\n",
              "    <tr style=\"text-align: right;\">\n",
              "      <th></th>\n",
              "      <th>ACTUAL AQI</th>\n",
              "      <th>PREDICTED AQI</th>\n",
              "      <th>DIFFERENCE</th>\n",
              "      <th>PERCENTAGE ERROR</th>\n",
              "    </tr>\n",
              "  </thead>\n",
              "  <tbody>\n",
              "    <tr>\n",
              "      <th>0</th>\n",
              "      <td>93.0</td>\n",
              "      <td>83.086464</td>\n",
              "      <td>9.913536</td>\n",
              "      <td>10.659717</td>\n",
              "    </tr>\n",
              "    <tr>\n",
              "      <th>1</th>\n",
              "      <td>101.0</td>\n",
              "      <td>86.443192</td>\n",
              "      <td>14.556808</td>\n",
              "      <td>14.412682</td>\n",
              "    </tr>\n",
              "    <tr>\n",
              "      <th>2</th>\n",
              "      <td>94.0</td>\n",
              "      <td>95.473206</td>\n",
              "      <td>-1.473206</td>\n",
              "      <td>1.567240</td>\n",
              "    </tr>\n",
              "    <tr>\n",
              "      <th>3</th>\n",
              "      <td>78.0</td>\n",
              "      <td>91.716141</td>\n",
              "      <td>-13.716141</td>\n",
              "      <td>17.584797</td>\n",
              "    </tr>\n",
              "    <tr>\n",
              "      <th>4</th>\n",
              "      <td>79.0</td>\n",
              "      <td>81.480530</td>\n",
              "      <td>-2.480530</td>\n",
              "      <td>3.139911</td>\n",
              "    </tr>\n",
              "    <tr>\n",
              "      <th>5</th>\n",
              "      <td>106.0</td>\n",
              "      <td>91.770256</td>\n",
              "      <td>14.229744</td>\n",
              "      <td>13.424286</td>\n",
              "    </tr>\n",
              "    <tr>\n",
              "      <th>6</th>\n",
              "      <td>121.0</td>\n",
              "      <td>111.694244</td>\n",
              "      <td>9.305756</td>\n",
              "      <td>7.690707</td>\n",
              "    </tr>\n",
              "    <tr>\n",
              "      <th>7</th>\n",
              "      <td>111.0</td>\n",
              "      <td>116.772820</td>\n",
              "      <td>-5.772820</td>\n",
              "      <td>5.200738</td>\n",
              "    </tr>\n",
              "    <tr>\n",
              "      <th>8</th>\n",
              "      <td>114.0</td>\n",
              "      <td>94.161079</td>\n",
              "      <td>19.838921</td>\n",
              "      <td>17.402563</td>\n",
              "    </tr>\n",
              "    <tr>\n",
              "      <th>9</th>\n",
              "      <td>106.0</td>\n",
              "      <td>93.667404</td>\n",
              "      <td>12.332596</td>\n",
              "      <td>11.634524</td>\n",
              "    </tr>\n",
              "    <tr>\n",
              "      <th>10</th>\n",
              "      <td>86.0</td>\n",
              "      <td>92.440254</td>\n",
              "      <td>-6.440254</td>\n",
              "      <td>7.488668</td>\n",
              "    </tr>\n",
              "    <tr>\n",
              "      <th>11</th>\n",
              "      <td>66.0</td>\n",
              "      <td>74.703308</td>\n",
              "      <td>-8.703308</td>\n",
              "      <td>13.186831</td>\n",
              "    </tr>\n",
              "    <tr>\n",
              "      <th>12</th>\n",
              "      <td>81.0</td>\n",
              "      <td>81.210060</td>\n",
              "      <td>-0.210060</td>\n",
              "      <td>0.259333</td>\n",
              "    </tr>\n",
              "    <tr>\n",
              "      <th>13</th>\n",
              "      <td>90.0</td>\n",
              "      <td>95.833717</td>\n",
              "      <td>-5.833717</td>\n",
              "      <td>6.481908</td>\n",
              "    </tr>\n",
              "    <tr>\n",
              "      <th>14</th>\n",
              "      <td>87.0</td>\n",
              "      <td>93.519287</td>\n",
              "      <td>-6.519287</td>\n",
              "      <td>7.493433</td>\n",
              "    </tr>\n",
              "  </tbody>\n",
              "</table>\n",
              "</div>"
            ],
            "text/plain": [
              "    ACTUAL AQI  PREDICTED AQI  DIFFERENCE  PERCENTAGE ERROR\n",
              "0         93.0      83.086464    9.913536         10.659717\n",
              "1        101.0      86.443192   14.556808         14.412682\n",
              "2         94.0      95.473206   -1.473206          1.567240\n",
              "3         78.0      91.716141  -13.716141         17.584797\n",
              "4         79.0      81.480530   -2.480530          3.139911\n",
              "5        106.0      91.770256   14.229744         13.424286\n",
              "6        121.0     111.694244    9.305756          7.690707\n",
              "7        111.0     116.772820   -5.772820          5.200738\n",
              "8        114.0      94.161079   19.838921         17.402563\n",
              "9        106.0      93.667404   12.332596         11.634524\n",
              "10        86.0      92.440254   -6.440254          7.488668\n",
              "11        66.0      74.703308   -8.703308         13.186831\n",
              "12        81.0      81.210060   -0.210060          0.259333\n",
              "13        90.0      95.833717   -5.833717          6.481908\n",
              "14        87.0      93.519287   -6.519287          7.493433"
            ]
          },
          "metadata": {},
          "execution_count": 111
        }
      ]
    },
    {
      "cell_type": "code",
      "metadata": {
        "colab": {
          "base_uri": "https://localhost:8080/",
          "height": 499
        },
        "id": "LSlY7Sh_927q",
        "outputId": "f6de09cd-f4fb-4187-dec9-9d9fffe4732c"
      },
      "source": [
        "df1 = pd.DataFrame({'Actual': data_actual[:135].flatten(), 'Predicted': data_predict[:135].flatten()})\n",
        "df1.plot(kind='line',figsize=(16,8))\n",
        "plt.grid(which='major', linestyle='-', linewidth='0.5', color='green')\n",
        "plt.grid(which='minor', linestyle=':', linewidth='0.5', color='black')\n",
        "plt.title('Actual vs Predicted AQI values in the year 2020')\n",
        "plt.ylabel('AQI')\n",
        "plt.show()"
      ],
      "execution_count": null,
      "outputs": [
        {
          "output_type": "display_data",
          "data": {
            "image/png": "[encoded data removed]",
            "text/plain": [
              "<Figure size 1152x576 with 1 Axes>"
            ]
          },
          "metadata": {
            "needs_background": "light"
          }
        }
      ]
    },
    {
      "cell_type": "code",
      "metadata": {
        "id": "bQdy6Ty6-uaY"
      },
      "source": [
        ""
      ],
      "execution_count": null,
      "outputs": []
    }
  ]
}