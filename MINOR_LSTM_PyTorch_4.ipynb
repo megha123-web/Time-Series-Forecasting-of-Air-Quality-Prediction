{
  "nbformat": 4,
  "nbformat_minor": 0,
  "metadata": {
    "colab": {
      "name": "MINOR_LSTM_PyTorch_4.ipynb",
      "provenance": [],
      "collapsed_sections": [
        "uuPyeJLXZ0_v"
      ]
    },
    "kernelspec": {
      "name": "python3",
      "display_name": "Python 3"
    },
    "language_info": {
      "name": "python"
    }
  },
  "cells": [
    {
      "cell_type": "code",
      "metadata": {
        "id": "9awkdniJvbrC"
      },
      "source": [
        "import numpy as np\n",
        "import pandas as pd\n",
        "import matplotlib.pyplot as plt\n",
        "import seaborn as sns"
      ],
      "execution_count": null,
      "outputs": []
    },
    {
      "cell_type": "code",
      "metadata": {
        "colab": {
          "base_uri": "https://localhost:8080/"
        },
        "id": "Tl9qhC6Az9ge",
        "outputId": "f7e1800e-a9ab-485b-d1a8-92789405f7e4"
      },
      "source": [
        "from google.colab import drive\n",
        "drive.mount('/content/drive')"
      ],
      "execution_count": null,
      "outputs": [
        {
          "output_type": "stream",
          "name": "stdout",
          "text": [
            "Drive already mounted at /content/drive; to attempt to forcibly remount, call drive.mount(\"/content/drive\", force_remount=True).\n"
          ]
        }
      ]
    },
    {
      "cell_type": "markdown",
      "metadata": {
        "id": "oscXDk4B5mMs"
      },
      "source": [
        "## Load Pollutants Dataset"
      ]
    },
    {
      "cell_type": "code",
      "metadata": {
        "colab": {
          "base_uri": "https://localhost:8080/",
          "height": 206
        },
        "id": "Ijsxzdeuz9dB",
        "outputId": "d57ecc2c-0bce-49ff-bfe9-e33c4ce2b40c"
      },
      "source": [
        "pollutants = pd.read_csv('/content/drive/MyDrive/Datasets/city_day.csv')\n",
        "pollutants.head()"
      ],
      "execution_count": null,
      "outputs": [
        {
          "output_type": "execute_result",
          "data": {
            "text/html": [
              "<div>\n",
              "<style scoped>\n",
              "    .dataframe tbody tr th:only-of-type {\n",
              "        vertical-align: middle;\n",
              "    }\n",
              "\n",
              "    .dataframe tbody tr th {\n",
              "        vertical-align: top;\n",
              "    }\n",
              "\n",
              "    .dataframe thead th {\n",
              "        text-align: right;\n",
              "    }\n",
              "</style>\n",
              "<table border=\"1\" class=\"dataframe\">\n",
              "  <thead>\n",
              "    <tr style=\"text-align: right;\">\n",
              "      <th></th>\n",
              "      <th>City</th>\n",
              "      <th>Date</th>\n",
              "      <th>PM2.5</th>\n",
              "      <th>PM10</th>\n",
              "      <th>NO</th>\n",
              "      <th>NO2</th>\n",
              "      <th>NOx</th>\n",
              "      <th>NH3</th>\n",
              "      <th>CO</th>\n",
              "      <th>SO2</th>\n",
              "      <th>O3</th>\n",
              "      <th>Benzene</th>\n",
              "      <th>Toluene</th>\n",
              "      <th>Xylene</th>\n",
              "      <th>AQI</th>\n",
              "      <th>AQI_Bucket</th>\n",
              "    </tr>\n",
              "  </thead>\n",
              "  <tbody>\n",
              "    <tr>\n",
              "      <th>0</th>\n",
              "      <td>Ahmedabad</td>\n",
              "      <td>2015-01-01</td>\n",
              "      <td>NaN</td>\n",
              "      <td>NaN</td>\n",
              "      <td>0.92</td>\n",
              "      <td>18.22</td>\n",
              "      <td>17.15</td>\n",
              "      <td>NaN</td>\n",
              "      <td>0.92</td>\n",
              "      <td>27.64</td>\n",
              "      <td>133.36</td>\n",
              "      <td>0.00</td>\n",
              "      <td>0.02</td>\n",
              "      <td>0.00</td>\n",
              "      <td>NaN</td>\n",
              "      <td>NaN</td>\n",
              "    </tr>\n",
              "    <tr>\n",
              "      <th>1</th>\n",
              "      <td>Ahmedabad</td>\n",
              "      <td>2015-01-02</td>\n",
              "      <td>NaN</td>\n",
              "      <td>NaN</td>\n",
              "      <td>0.97</td>\n",
              "      <td>15.69</td>\n",
              "      <td>16.46</td>\n",
              "      <td>NaN</td>\n",
              "      <td>0.97</td>\n",
              "      <td>24.55</td>\n",
              "      <td>34.06</td>\n",
              "      <td>3.68</td>\n",
              "      <td>5.50</td>\n",
              "      <td>3.77</td>\n",
              "      <td>NaN</td>\n",
              "      <td>NaN</td>\n",
              "    </tr>\n",
              "    <tr>\n",
              "      <th>2</th>\n",
              "      <td>Ahmedabad</td>\n",
              "      <td>2015-01-03</td>\n",
              "      <td>NaN</td>\n",
              "      <td>NaN</td>\n",
              "      <td>17.40</td>\n",
              "      <td>19.30</td>\n",
              "      <td>29.70</td>\n",
              "      <td>NaN</td>\n",
              "      <td>17.40</td>\n",
              "      <td>29.07</td>\n",
              "      <td>30.70</td>\n",
              "      <td>6.80</td>\n",
              "      <td>16.40</td>\n",
              "      <td>2.25</td>\n",
              "      <td>NaN</td>\n",
              "      <td>NaN</td>\n",
              "    </tr>\n",
              "    <tr>\n",
              "      <th>3</th>\n",
              "      <td>Ahmedabad</td>\n",
              "      <td>2015-01-04</td>\n",
              "      <td>NaN</td>\n",
              "      <td>NaN</td>\n",
              "      <td>1.70</td>\n",
              "      <td>18.48</td>\n",
              "      <td>17.97</td>\n",
              "      <td>NaN</td>\n",
              "      <td>1.70</td>\n",
              "      <td>18.59</td>\n",
              "      <td>36.08</td>\n",
              "      <td>4.43</td>\n",
              "      <td>10.14</td>\n",
              "      <td>1.00</td>\n",
              "      <td>NaN</td>\n",
              "      <td>NaN</td>\n",
              "    </tr>\n",
              "    <tr>\n",
              "      <th>4</th>\n",
              "      <td>Ahmedabad</td>\n",
              "      <td>2015-01-05</td>\n",
              "      <td>NaN</td>\n",
              "      <td>NaN</td>\n",
              "      <td>22.10</td>\n",
              "      <td>21.42</td>\n",
              "      <td>37.76</td>\n",
              "      <td>NaN</td>\n",
              "      <td>22.10</td>\n",
              "      <td>39.33</td>\n",
              "      <td>39.31</td>\n",
              "      <td>7.01</td>\n",
              "      <td>18.89</td>\n",
              "      <td>2.78</td>\n",
              "      <td>NaN</td>\n",
              "      <td>NaN</td>\n",
              "    </tr>\n",
              "  </tbody>\n",
              "</table>\n",
              "</div>"
            ],
            "text/plain": [
              "        City        Date  PM2.5  PM10  ...  Toluene  Xylene  AQI  AQI_Bucket\n",
              "0  Ahmedabad  2015-01-01    NaN   NaN  ...     0.02    0.00  NaN         NaN\n",
              "1  Ahmedabad  2015-01-02    NaN   NaN  ...     5.50    3.77  NaN         NaN\n",
              "2  Ahmedabad  2015-01-03    NaN   NaN  ...    16.40    2.25  NaN         NaN\n",
              "3  Ahmedabad  2015-01-04    NaN   NaN  ...    10.14    1.00  NaN         NaN\n",
              "4  Ahmedabad  2015-01-05    NaN   NaN  ...    18.89    2.78  NaN         NaN\n",
              "\n",
              "[5 rows x 16 columns]"
            ]
          },
          "metadata": {},
          "execution_count": 3
        }
      ]
    },
    {
      "cell_type": "markdown",
      "metadata": {
        "id": "S8NBRoI5yZsk"
      },
      "source": [
        "### Pollutants training data (2016-19)"
      ]
    },
    {
      "cell_type": "code",
      "metadata": {
        "colab": {
          "base_uri": "https://localhost:8080/",
          "height": 423
        },
        "id": "1fSstGKaxfLt",
        "outputId": "9cf5858c-ac0d-4490-827a-512e2fbff196"
      },
      "source": [
        "pollutants = pollutants[(pollutants['Date'] > '2015-12-31') & (pollutants['Date'] < '2020-01-01') & (pollutants['City'] == 'Bengaluru')]\n",
        "pollutants"
      ],
      "execution_count": null,
      "outputs": [
        {
          "output_type": "execute_result",
          "data": {
            "text/html": [
              "<div>\n",
              "<style scoped>\n",
              "    .dataframe tbody tr th:only-of-type {\n",
              "        vertical-align: middle;\n",
              "    }\n",
              "\n",
              "    .dataframe tbody tr th {\n",
              "        vertical-align: top;\n",
              "    }\n",
              "\n",
              "    .dataframe thead th {\n",
              "        text-align: right;\n",
              "    }\n",
              "</style>\n",
              "<table border=\"1\" class=\"dataframe\">\n",
              "  <thead>\n",
              "    <tr style=\"text-align: right;\">\n",
              "      <th></th>\n",
              "      <th>City</th>\n",
              "      <th>Date</th>\n",
              "      <th>PM2.5</th>\n",
              "      <th>PM10</th>\n",
              "      <th>NO</th>\n",
              "      <th>NO2</th>\n",
              "      <th>NOx</th>\n",
              "      <th>NH3</th>\n",
              "      <th>CO</th>\n",
              "      <th>SO2</th>\n",
              "      <th>O3</th>\n",
              "      <th>Benzene</th>\n",
              "      <th>Toluene</th>\n",
              "      <th>Xylene</th>\n",
              "      <th>AQI</th>\n",
              "      <th>AQI_Bucket</th>\n",
              "    </tr>\n",
              "  </thead>\n",
              "  <tbody>\n",
              "    <tr>\n",
              "      <th>4659</th>\n",
              "      <td>Bengaluru</td>\n",
              "      <td>2016-01-01</td>\n",
              "      <td>56.40</td>\n",
              "      <td>95.08</td>\n",
              "      <td>13.80</td>\n",
              "      <td>51.73</td>\n",
              "      <td>34.31</td>\n",
              "      <td>14.68</td>\n",
              "      <td>0.69</td>\n",
              "      <td>7.44</td>\n",
              "      <td>55.96</td>\n",
              "      <td>0.91</td>\n",
              "      <td>0.78</td>\n",
              "      <td>NaN</td>\n",
              "      <td>101.0</td>\n",
              "      <td>Moderate</td>\n",
              "    </tr>\n",
              "    <tr>\n",
              "      <th>4660</th>\n",
              "      <td>Bengaluru</td>\n",
              "      <td>2016-01-02</td>\n",
              "      <td>53.69</td>\n",
              "      <td>93.92</td>\n",
              "      <td>26.49</td>\n",
              "      <td>73.09</td>\n",
              "      <td>54.77</td>\n",
              "      <td>16.05</td>\n",
              "      <td>0.76</td>\n",
              "      <td>8.67</td>\n",
              "      <td>34.06</td>\n",
              "      <td>1.88</td>\n",
              "      <td>1.18</td>\n",
              "      <td>NaN</td>\n",
              "      <td>92.0</td>\n",
              "      <td>Satisfactory</td>\n",
              "    </tr>\n",
              "    <tr>\n",
              "      <th>4661</th>\n",
              "      <td>Bengaluru</td>\n",
              "      <td>2016-01-03</td>\n",
              "      <td>62.35</td>\n",
              "      <td>99.34</td>\n",
              "      <td>24.56</td>\n",
              "      <td>77.77</td>\n",
              "      <td>55.60</td>\n",
              "      <td>16.37</td>\n",
              "      <td>0.96</td>\n",
              "      <td>9.10</td>\n",
              "      <td>47.62</td>\n",
              "      <td>2.36</td>\n",
              "      <td>1.14</td>\n",
              "      <td>NaN</td>\n",
              "      <td>108.0</td>\n",
              "      <td>Moderate</td>\n",
              "    </tr>\n",
              "    <tr>\n",
              "      <th>4662</th>\n",
              "      <td>Bengaluru</td>\n",
              "      <td>2016-01-04</td>\n",
              "      <td>64.96</td>\n",
              "      <td>104.62</td>\n",
              "      <td>18.56</td>\n",
              "      <td>77.07</td>\n",
              "      <td>50.81</td>\n",
              "      <td>14.18</td>\n",
              "      <td>0.89</td>\n",
              "      <td>8.87</td>\n",
              "      <td>50.62</td>\n",
              "      <td>1.95</td>\n",
              "      <td>1.33</td>\n",
              "      <td>NaN</td>\n",
              "      <td>109.0</td>\n",
              "      <td>Moderate</td>\n",
              "    </tr>\n",
              "    <tr>\n",
              "      <th>4663</th>\n",
              "      <td>Bengaluru</td>\n",
              "      <td>2016-01-05</td>\n",
              "      <td>70.15</td>\n",
              "      <td>105.12</td>\n",
              "      <td>23.56</td>\n",
              "      <td>79.43</td>\n",
              "      <td>56.05</td>\n",
              "      <td>16.97</td>\n",
              "      <td>0.85</td>\n",
              "      <td>9.41</td>\n",
              "      <td>36.94</td>\n",
              "      <td>1.92</td>\n",
              "      <td>1.26</td>\n",
              "      <td>NaN</td>\n",
              "      <td>114.0</td>\n",
              "      <td>Moderate</td>\n",
              "    </tr>\n",
              "    <tr>\n",
              "      <th>...</th>\n",
              "      <td>...</td>\n",
              "      <td>...</td>\n",
              "      <td>...</td>\n",
              "      <td>...</td>\n",
              "      <td>...</td>\n",
              "      <td>...</td>\n",
              "      <td>...</td>\n",
              "      <td>...</td>\n",
              "      <td>...</td>\n",
              "      <td>...</td>\n",
              "      <td>...</td>\n",
              "      <td>...</td>\n",
              "      <td>...</td>\n",
              "      <td>...</td>\n",
              "      <td>...</td>\n",
              "      <td>...</td>\n",
              "    </tr>\n",
              "    <tr>\n",
              "      <th>6115</th>\n",
              "      <td>Bengaluru</td>\n",
              "      <td>2019-12-27</td>\n",
              "      <td>43.32</td>\n",
              "      <td>87.09</td>\n",
              "      <td>9.56</td>\n",
              "      <td>31.24</td>\n",
              "      <td>32.59</td>\n",
              "      <td>14.71</td>\n",
              "      <td>1.09</td>\n",
              "      <td>6.60</td>\n",
              "      <td>39.42</td>\n",
              "      <td>1.66</td>\n",
              "      <td>41.25</td>\n",
              "      <td>NaN</td>\n",
              "      <td>98.0</td>\n",
              "      <td>Satisfactory</td>\n",
              "    </tr>\n",
              "    <tr>\n",
              "      <th>6116</th>\n",
              "      <td>Bengaluru</td>\n",
              "      <td>2019-12-28</td>\n",
              "      <td>35.24</td>\n",
              "      <td>70.75</td>\n",
              "      <td>7.86</td>\n",
              "      <td>26.94</td>\n",
              "      <td>27.78</td>\n",
              "      <td>13.37</td>\n",
              "      <td>0.97</td>\n",
              "      <td>7.38</td>\n",
              "      <td>37.81</td>\n",
              "      <td>0.93</td>\n",
              "      <td>44.93</td>\n",
              "      <td>NaN</td>\n",
              "      <td>82.0</td>\n",
              "      <td>Satisfactory</td>\n",
              "    </tr>\n",
              "    <tr>\n",
              "      <th>6117</th>\n",
              "      <td>Bengaluru</td>\n",
              "      <td>2019-12-29</td>\n",
              "      <td>38.53</td>\n",
              "      <td>73.77</td>\n",
              "      <td>6.56</td>\n",
              "      <td>26.20</td>\n",
              "      <td>26.31</td>\n",
              "      <td>13.02</td>\n",
              "      <td>0.92</td>\n",
              "      <td>7.39</td>\n",
              "      <td>43.50</td>\n",
              "      <td>0.63</td>\n",
              "      <td>23.56</td>\n",
              "      <td>NaN</td>\n",
              "      <td>80.0</td>\n",
              "      <td>Satisfactory</td>\n",
              "    </tr>\n",
              "    <tr>\n",
              "      <th>6118</th>\n",
              "      <td>Bengaluru</td>\n",
              "      <td>2019-12-30</td>\n",
              "      <td>47.81</td>\n",
              "      <td>77.49</td>\n",
              "      <td>6.40</td>\n",
              "      <td>28.46</td>\n",
              "      <td>27.79</td>\n",
              "      <td>12.91</td>\n",
              "      <td>1.03</td>\n",
              "      <td>8.04</td>\n",
              "      <td>44.92</td>\n",
              "      <td>0.62</td>\n",
              "      <td>24.96</td>\n",
              "      <td>NaN</td>\n",
              "      <td>93.0</td>\n",
              "      <td>Satisfactory</td>\n",
              "    </tr>\n",
              "    <tr>\n",
              "      <th>6119</th>\n",
              "      <td>Bengaluru</td>\n",
              "      <td>2019-12-31</td>\n",
              "      <td>42.54</td>\n",
              "      <td>84.76</td>\n",
              "      <td>7.92</td>\n",
              "      <td>29.10</td>\n",
              "      <td>27.48</td>\n",
              "      <td>13.75</td>\n",
              "      <td>1.06</td>\n",
              "      <td>7.58</td>\n",
              "      <td>45.78</td>\n",
              "      <td>0.88</td>\n",
              "      <td>27.59</td>\n",
              "      <td>NaN</td>\n",
              "      <td>97.0</td>\n",
              "      <td>Satisfactory</td>\n",
              "    </tr>\n",
              "  </tbody>\n",
              "</table>\n",
              "<p>1461 rows × 16 columns</p>\n",
              "</div>"
            ],
            "text/plain": [
              "           City        Date  PM2.5  ...  Xylene    AQI    AQI_Bucket\n",
              "4659  Bengaluru  2016-01-01  56.40  ...     NaN  101.0      Moderate\n",
              "4660  Bengaluru  2016-01-02  53.69  ...     NaN   92.0  Satisfactory\n",
              "4661  Bengaluru  2016-01-03  62.35  ...     NaN  108.0      Moderate\n",
              "4662  Bengaluru  2016-01-04  64.96  ...     NaN  109.0      Moderate\n",
              "4663  Bengaluru  2016-01-05  70.15  ...     NaN  114.0      Moderate\n",
              "...         ...         ...    ...  ...     ...    ...           ...\n",
              "6115  Bengaluru  2019-12-27  43.32  ...     NaN   98.0  Satisfactory\n",
              "6116  Bengaluru  2019-12-28  35.24  ...     NaN   82.0  Satisfactory\n",
              "6117  Bengaluru  2019-12-29  38.53  ...     NaN   80.0  Satisfactory\n",
              "6118  Bengaluru  2019-12-30  47.81  ...     NaN   93.0  Satisfactory\n",
              "6119  Bengaluru  2019-12-31  42.54  ...     NaN   97.0  Satisfactory\n",
              "\n",
              "[1461 rows x 16 columns]"
            ]
          },
          "metadata": {},
          "execution_count": 4
        }
      ]
    },
    {
      "cell_type": "code",
      "metadata": {
        "colab": {
          "base_uri": "https://localhost:8080/",
          "height": 206
        },
        "id": "MoDcOXNsynIw",
        "outputId": "debb1f07-a2c6-49e7-842f-d7530a98b598"
      },
      "source": [
        "pollutants = pollutants.reset_index(drop=True)\n",
        "pollutants.head()"
      ],
      "execution_count": null,
      "outputs": [
        {
          "output_type": "execute_result",
          "data": {
            "text/html": [
              "<div>\n",
              "<style scoped>\n",
              "    .dataframe tbody tr th:only-of-type {\n",
              "        vertical-align: middle;\n",
              "    }\n",
              "\n",
              "    .dataframe tbody tr th {\n",
              "        vertical-align: top;\n",
              "    }\n",
              "\n",
              "    .dataframe thead th {\n",
              "        text-align: right;\n",
              "    }\n",
              "</style>\n",
              "<table border=\"1\" class=\"dataframe\">\n",
              "  <thead>\n",
              "    <tr style=\"text-align: right;\">\n",
              "      <th></th>\n",
              "      <th>City</th>\n",
              "      <th>Date</th>\n",
              "      <th>PM2.5</th>\n",
              "      <th>PM10</th>\n",
              "      <th>NO</th>\n",
              "      <th>NO2</th>\n",
              "      <th>NOx</th>\n",
              "      <th>NH3</th>\n",
              "      <th>CO</th>\n",
              "      <th>SO2</th>\n",
              "      <th>O3</th>\n",
              "      <th>Benzene</th>\n",
              "      <th>Toluene</th>\n",
              "      <th>Xylene</th>\n",
              "      <th>AQI</th>\n",
              "      <th>AQI_Bucket</th>\n",
              "    </tr>\n",
              "  </thead>\n",
              "  <tbody>\n",
              "    <tr>\n",
              "      <th>0</th>\n",
              "      <td>Bengaluru</td>\n",
              "      <td>2016-01-01</td>\n",
              "      <td>56.40</td>\n",
              "      <td>95.08</td>\n",
              "      <td>13.80</td>\n",
              "      <td>51.73</td>\n",
              "      <td>34.31</td>\n",
              "      <td>14.68</td>\n",
              "      <td>0.69</td>\n",
              "      <td>7.44</td>\n",
              "      <td>55.96</td>\n",
              "      <td>0.91</td>\n",
              "      <td>0.78</td>\n",
              "      <td>NaN</td>\n",
              "      <td>101.0</td>\n",
              "      <td>Moderate</td>\n",
              "    </tr>\n",
              "    <tr>\n",
              "      <th>1</th>\n",
              "      <td>Bengaluru</td>\n",
              "      <td>2016-01-02</td>\n",
              "      <td>53.69</td>\n",
              "      <td>93.92</td>\n",
              "      <td>26.49</td>\n",
              "      <td>73.09</td>\n",
              "      <td>54.77</td>\n",
              "      <td>16.05</td>\n",
              "      <td>0.76</td>\n",
              "      <td>8.67</td>\n",
              "      <td>34.06</td>\n",
              "      <td>1.88</td>\n",
              "      <td>1.18</td>\n",
              "      <td>NaN</td>\n",
              "      <td>92.0</td>\n",
              "      <td>Satisfactory</td>\n",
              "    </tr>\n",
              "    <tr>\n",
              "      <th>2</th>\n",
              "      <td>Bengaluru</td>\n",
              "      <td>2016-01-03</td>\n",
              "      <td>62.35</td>\n",
              "      <td>99.34</td>\n",
              "      <td>24.56</td>\n",
              "      <td>77.77</td>\n",
              "      <td>55.60</td>\n",
              "      <td>16.37</td>\n",
              "      <td>0.96</td>\n",
              "      <td>9.10</td>\n",
              "      <td>47.62</td>\n",
              "      <td>2.36</td>\n",
              "      <td>1.14</td>\n",
              "      <td>NaN</td>\n",
              "      <td>108.0</td>\n",
              "      <td>Moderate</td>\n",
              "    </tr>\n",
              "    <tr>\n",
              "      <th>3</th>\n",
              "      <td>Bengaluru</td>\n",
              "      <td>2016-01-04</td>\n",
              "      <td>64.96</td>\n",
              "      <td>104.62</td>\n",
              "      <td>18.56</td>\n",
              "      <td>77.07</td>\n",
              "      <td>50.81</td>\n",
              "      <td>14.18</td>\n",
              "      <td>0.89</td>\n",
              "      <td>8.87</td>\n",
              "      <td>50.62</td>\n",
              "      <td>1.95</td>\n",
              "      <td>1.33</td>\n",
              "      <td>NaN</td>\n",
              "      <td>109.0</td>\n",
              "      <td>Moderate</td>\n",
              "    </tr>\n",
              "    <tr>\n",
              "      <th>4</th>\n",
              "      <td>Bengaluru</td>\n",
              "      <td>2016-01-05</td>\n",
              "      <td>70.15</td>\n",
              "      <td>105.12</td>\n",
              "      <td>23.56</td>\n",
              "      <td>79.43</td>\n",
              "      <td>56.05</td>\n",
              "      <td>16.97</td>\n",
              "      <td>0.85</td>\n",
              "      <td>9.41</td>\n",
              "      <td>36.94</td>\n",
              "      <td>1.92</td>\n",
              "      <td>1.26</td>\n",
              "      <td>NaN</td>\n",
              "      <td>114.0</td>\n",
              "      <td>Moderate</td>\n",
              "    </tr>\n",
              "  </tbody>\n",
              "</table>\n",
              "</div>"
            ],
            "text/plain": [
              "        City        Date  PM2.5    PM10  ...  Toluene  Xylene    AQI    AQI_Bucket\n",
              "0  Bengaluru  2016-01-01  56.40   95.08  ...     0.78     NaN  101.0      Moderate\n",
              "1  Bengaluru  2016-01-02  53.69   93.92  ...     1.18     NaN   92.0  Satisfactory\n",
              "2  Bengaluru  2016-01-03  62.35   99.34  ...     1.14     NaN  108.0      Moderate\n",
              "3  Bengaluru  2016-01-04  64.96  104.62  ...     1.33     NaN  109.0      Moderate\n",
              "4  Bengaluru  2016-01-05  70.15  105.12  ...     1.26     NaN  114.0      Moderate\n",
              "\n",
              "[5 rows x 16 columns]"
            ]
          },
          "metadata": {},
          "execution_count": 5
        }
      ]
    },
    {
      "cell_type": "code",
      "metadata": {
        "id": "uvIbHpf7gjOE"
      },
      "source": [
        "pollutants['Date'] = pd.to_datetime(pollutants['Date'], format='%Y-%m-%d')"
      ],
      "execution_count": null,
      "outputs": []
    },
    {
      "cell_type": "code",
      "metadata": {
        "colab": {
          "base_uri": "https://localhost:8080/",
          "height": 237
        },
        "id": "-hZFI10neQq6",
        "outputId": "4741d987-0366-47c3-b96c-f3b4eca6b104"
      },
      "source": [
        "pollutants = pollutants.set_index('Date')\n",
        "pollutants.head()"
      ],
      "execution_count": null,
      "outputs": [
        {
          "output_type": "execute_result",
          "data": {
            "text/html": [
              "<div>\n",
              "<style scoped>\n",
              "    .dataframe tbody tr th:only-of-type {\n",
              "        vertical-align: middle;\n",
              "    }\n",
              "\n",
              "    .dataframe tbody tr th {\n",
              "        vertical-align: top;\n",
              "    }\n",
              "\n",
              "    .dataframe thead th {\n",
              "        text-align: right;\n",
              "    }\n",
              "</style>\n",
              "<table border=\"1\" class=\"dataframe\">\n",
              "  <thead>\n",
              "    <tr style=\"text-align: right;\">\n",
              "      <th></th>\n",
              "      <th>City</th>\n",
              "      <th>PM2.5</th>\n",
              "      <th>PM10</th>\n",
              "      <th>NO</th>\n",
              "      <th>NO2</th>\n",
              "      <th>NOx</th>\n",
              "      <th>NH3</th>\n",
              "      <th>CO</th>\n",
              "      <th>SO2</th>\n",
              "      <th>O3</th>\n",
              "      <th>Benzene</th>\n",
              "      <th>Toluene</th>\n",
              "      <th>Xylene</th>\n",
              "      <th>AQI</th>\n",
              "      <th>AQI_Bucket</th>\n",
              "    </tr>\n",
              "    <tr>\n",
              "      <th>Date</th>\n",
              "      <th></th>\n",
              "      <th></th>\n",
              "      <th></th>\n",
              "      <th></th>\n",
              "      <th></th>\n",
              "      <th></th>\n",
              "      <th></th>\n",
              "      <th></th>\n",
              "      <th></th>\n",
              "      <th></th>\n",
              "      <th></th>\n",
              "      <th></th>\n",
              "      <th></th>\n",
              "      <th></th>\n",
              "      <th></th>\n",
              "    </tr>\n",
              "  </thead>\n",
              "  <tbody>\n",
              "    <tr>\n",
              "      <th>2016-01-01</th>\n",
              "      <td>Bengaluru</td>\n",
              "      <td>56.40</td>\n",
              "      <td>95.08</td>\n",
              "      <td>13.80</td>\n",
              "      <td>51.73</td>\n",
              "      <td>34.31</td>\n",
              "      <td>14.68</td>\n",
              "      <td>0.69</td>\n",
              "      <td>7.44</td>\n",
              "      <td>55.96</td>\n",
              "      <td>0.91</td>\n",
              "      <td>0.78</td>\n",
              "      <td>NaN</td>\n",
              "      <td>101.0</td>\n",
              "      <td>Moderate</td>\n",
              "    </tr>\n",
              "    <tr>\n",
              "      <th>2016-01-02</th>\n",
              "      <td>Bengaluru</td>\n",
              "      <td>53.69</td>\n",
              "      <td>93.92</td>\n",
              "      <td>26.49</td>\n",
              "      <td>73.09</td>\n",
              "      <td>54.77</td>\n",
              "      <td>16.05</td>\n",
              "      <td>0.76</td>\n",
              "      <td>8.67</td>\n",
              "      <td>34.06</td>\n",
              "      <td>1.88</td>\n",
              "      <td>1.18</td>\n",
              "      <td>NaN</td>\n",
              "      <td>92.0</td>\n",
              "      <td>Satisfactory</td>\n",
              "    </tr>\n",
              "    <tr>\n",
              "      <th>2016-01-03</th>\n",
              "      <td>Bengaluru</td>\n",
              "      <td>62.35</td>\n",
              "      <td>99.34</td>\n",
              "      <td>24.56</td>\n",
              "      <td>77.77</td>\n",
              "      <td>55.60</td>\n",
              "      <td>16.37</td>\n",
              "      <td>0.96</td>\n",
              "      <td>9.10</td>\n",
              "      <td>47.62</td>\n",
              "      <td>2.36</td>\n",
              "      <td>1.14</td>\n",
              "      <td>NaN</td>\n",
              "      <td>108.0</td>\n",
              "      <td>Moderate</td>\n",
              "    </tr>\n",
              "    <tr>\n",
              "      <th>2016-01-04</th>\n",
              "      <td>Bengaluru</td>\n",
              "      <td>64.96</td>\n",
              "      <td>104.62</td>\n",
              "      <td>18.56</td>\n",
              "      <td>77.07</td>\n",
              "      <td>50.81</td>\n",
              "      <td>14.18</td>\n",
              "      <td>0.89</td>\n",
              "      <td>8.87</td>\n",
              "      <td>50.62</td>\n",
              "      <td>1.95</td>\n",
              "      <td>1.33</td>\n",
              "      <td>NaN</td>\n",
              "      <td>109.0</td>\n",
              "      <td>Moderate</td>\n",
              "    </tr>\n",
              "    <tr>\n",
              "      <th>2016-01-05</th>\n",
              "      <td>Bengaluru</td>\n",
              "      <td>70.15</td>\n",
              "      <td>105.12</td>\n",
              "      <td>23.56</td>\n",
              "      <td>79.43</td>\n",
              "      <td>56.05</td>\n",
              "      <td>16.97</td>\n",
              "      <td>0.85</td>\n",
              "      <td>9.41</td>\n",
              "      <td>36.94</td>\n",
              "      <td>1.92</td>\n",
              "      <td>1.26</td>\n",
              "      <td>NaN</td>\n",
              "      <td>114.0</td>\n",
              "      <td>Moderate</td>\n",
              "    </tr>\n",
              "  </tbody>\n",
              "</table>\n",
              "</div>"
            ],
            "text/plain": [
              "                 City  PM2.5    PM10  ...  Xylene    AQI    AQI_Bucket\n",
              "Date                                  ...                             \n",
              "2016-01-01  Bengaluru  56.40   95.08  ...     NaN  101.0      Moderate\n",
              "2016-01-02  Bengaluru  53.69   93.92  ...     NaN   92.0  Satisfactory\n",
              "2016-01-03  Bengaluru  62.35   99.34  ...     NaN  108.0      Moderate\n",
              "2016-01-04  Bengaluru  64.96  104.62  ...     NaN  109.0      Moderate\n",
              "2016-01-05  Bengaluru  70.15  105.12  ...     NaN  114.0      Moderate\n",
              "\n",
              "[5 rows x 15 columns]"
            ]
          },
          "metadata": {},
          "execution_count": 7
        }
      ]
    },
    {
      "cell_type": "code",
      "metadata": {
        "colab": {
          "base_uri": "https://localhost:8080/",
          "height": 237
        },
        "id": "mDAtWUVrynLA",
        "outputId": "39ad14df-2819-45aa-a994-a0057c7d16f1"
      },
      "source": [
        "pollutants = pollutants.drop(columns=['City', 'NH3','NO', 'Benzene',\t'Toluene',\t'Xylene', 'AQI_Bucket'])\n",
        "pollutants.head()"
      ],
      "execution_count": null,
      "outputs": [
        {
          "output_type": "execute_result",
          "data": {
            "text/html": [
              "<div>\n",
              "<style scoped>\n",
              "    .dataframe tbody tr th:only-of-type {\n",
              "        vertical-align: middle;\n",
              "    }\n",
              "\n",
              "    .dataframe tbody tr th {\n",
              "        vertical-align: top;\n",
              "    }\n",
              "\n",
              "    .dataframe thead th {\n",
              "        text-align: right;\n",
              "    }\n",
              "</style>\n",
              "<table border=\"1\" class=\"dataframe\">\n",
              "  <thead>\n",
              "    <tr style=\"text-align: right;\">\n",
              "      <th></th>\n",
              "      <th>PM2.5</th>\n",
              "      <th>PM10</th>\n",
              "      <th>NO2</th>\n",
              "      <th>NOx</th>\n",
              "      <th>CO</th>\n",
              "      <th>SO2</th>\n",
              "      <th>O3</th>\n",
              "      <th>AQI</th>\n",
              "    </tr>\n",
              "    <tr>\n",
              "      <th>Date</th>\n",
              "      <th></th>\n",
              "      <th></th>\n",
              "      <th></th>\n",
              "      <th></th>\n",
              "      <th></th>\n",
              "      <th></th>\n",
              "      <th></th>\n",
              "      <th></th>\n",
              "    </tr>\n",
              "  </thead>\n",
              "  <tbody>\n",
              "    <tr>\n",
              "      <th>2016-01-01</th>\n",
              "      <td>56.40</td>\n",
              "      <td>95.08</td>\n",
              "      <td>51.73</td>\n",
              "      <td>34.31</td>\n",
              "      <td>0.69</td>\n",
              "      <td>7.44</td>\n",
              "      <td>55.96</td>\n",
              "      <td>101.0</td>\n",
              "    </tr>\n",
              "    <tr>\n",
              "      <th>2016-01-02</th>\n",
              "      <td>53.69</td>\n",
              "      <td>93.92</td>\n",
              "      <td>73.09</td>\n",
              "      <td>54.77</td>\n",
              "      <td>0.76</td>\n",
              "      <td>8.67</td>\n",
              "      <td>34.06</td>\n",
              "      <td>92.0</td>\n",
              "    </tr>\n",
              "    <tr>\n",
              "      <th>2016-01-03</th>\n",
              "      <td>62.35</td>\n",
              "      <td>99.34</td>\n",
              "      <td>77.77</td>\n",
              "      <td>55.60</td>\n",
              "      <td>0.96</td>\n",
              "      <td>9.10</td>\n",
              "      <td>47.62</td>\n",
              "      <td>108.0</td>\n",
              "    </tr>\n",
              "    <tr>\n",
              "      <th>2016-01-04</th>\n",
              "      <td>64.96</td>\n",
              "      <td>104.62</td>\n",
              "      <td>77.07</td>\n",
              "      <td>50.81</td>\n",
              "      <td>0.89</td>\n",
              "      <td>8.87</td>\n",
              "      <td>50.62</td>\n",
              "      <td>109.0</td>\n",
              "    </tr>\n",
              "    <tr>\n",
              "      <th>2016-01-05</th>\n",
              "      <td>70.15</td>\n",
              "      <td>105.12</td>\n",
              "      <td>79.43</td>\n",
              "      <td>56.05</td>\n",
              "      <td>0.85</td>\n",
              "      <td>9.41</td>\n",
              "      <td>36.94</td>\n",
              "      <td>114.0</td>\n",
              "    </tr>\n",
              "  </tbody>\n",
              "</table>\n",
              "</div>"
            ],
            "text/plain": [
              "            PM2.5    PM10    NO2    NOx    CO   SO2     O3    AQI\n",
              "Date                                                             \n",
              "2016-01-01  56.40   95.08  51.73  34.31  0.69  7.44  55.96  101.0\n",
              "2016-01-02  53.69   93.92  73.09  54.77  0.76  8.67  34.06   92.0\n",
              "2016-01-03  62.35   99.34  77.77  55.60  0.96  9.10  47.62  108.0\n",
              "2016-01-04  64.96  104.62  77.07  50.81  0.89  8.87  50.62  109.0\n",
              "2016-01-05  70.15  105.12  79.43  56.05  0.85  9.41  36.94  114.0"
            ]
          },
          "metadata": {},
          "execution_count": 8
        }
      ]
    },
    {
      "cell_type": "code",
      "metadata": {
        "colab": {
          "base_uri": "https://localhost:8080/",
          "height": 237
        },
        "id": "kgqxI7Ciegqy",
        "outputId": "af8f6fa5-577c-4001-ff30-3a7e017215c3"
      },
      "source": [
        "pollutants.tail()"
      ],
      "execution_count": null,
      "outputs": [
        {
          "output_type": "execute_result",
          "data": {
            "text/html": [
              "<div>\n",
              "<style scoped>\n",
              "    .dataframe tbody tr th:only-of-type {\n",
              "        vertical-align: middle;\n",
              "    }\n",
              "\n",
              "    .dataframe tbody tr th {\n",
              "        vertical-align: top;\n",
              "    }\n",
              "\n",
              "    .dataframe thead th {\n",
              "        text-align: right;\n",
              "    }\n",
              "</style>\n",
              "<table border=\"1\" class=\"dataframe\">\n",
              "  <thead>\n",
              "    <tr style=\"text-align: right;\">\n",
              "      <th></th>\n",
              "      <th>PM2.5</th>\n",
              "      <th>PM10</th>\n",
              "      <th>NO2</th>\n",
              "      <th>NOx</th>\n",
              "      <th>CO</th>\n",
              "      <th>SO2</th>\n",
              "      <th>O3</th>\n",
              "      <th>AQI</th>\n",
              "    </tr>\n",
              "    <tr>\n",
              "      <th>Date</th>\n",
              "      <th></th>\n",
              "      <th></th>\n",
              "      <th></th>\n",
              "      <th></th>\n",
              "      <th></th>\n",
              "      <th></th>\n",
              "      <th></th>\n",
              "      <th></th>\n",
              "    </tr>\n",
              "  </thead>\n",
              "  <tbody>\n",
              "    <tr>\n",
              "      <th>2019-12-27</th>\n",
              "      <td>43.32</td>\n",
              "      <td>87.09</td>\n",
              "      <td>31.24</td>\n",
              "      <td>32.59</td>\n",
              "      <td>1.09</td>\n",
              "      <td>6.60</td>\n",
              "      <td>39.42</td>\n",
              "      <td>98.0</td>\n",
              "    </tr>\n",
              "    <tr>\n",
              "      <th>2019-12-28</th>\n",
              "      <td>35.24</td>\n",
              "      <td>70.75</td>\n",
              "      <td>26.94</td>\n",
              "      <td>27.78</td>\n",
              "      <td>0.97</td>\n",
              "      <td>7.38</td>\n",
              "      <td>37.81</td>\n",
              "      <td>82.0</td>\n",
              "    </tr>\n",
              "    <tr>\n",
              "      <th>2019-12-29</th>\n",
              "      <td>38.53</td>\n",
              "      <td>73.77</td>\n",
              "      <td>26.20</td>\n",
              "      <td>26.31</td>\n",
              "      <td>0.92</td>\n",
              "      <td>7.39</td>\n",
              "      <td>43.50</td>\n",
              "      <td>80.0</td>\n",
              "    </tr>\n",
              "    <tr>\n",
              "      <th>2019-12-30</th>\n",
              "      <td>47.81</td>\n",
              "      <td>77.49</td>\n",
              "      <td>28.46</td>\n",
              "      <td>27.79</td>\n",
              "      <td>1.03</td>\n",
              "      <td>8.04</td>\n",
              "      <td>44.92</td>\n",
              "      <td>93.0</td>\n",
              "    </tr>\n",
              "    <tr>\n",
              "      <th>2019-12-31</th>\n",
              "      <td>42.54</td>\n",
              "      <td>84.76</td>\n",
              "      <td>29.10</td>\n",
              "      <td>27.48</td>\n",
              "      <td>1.06</td>\n",
              "      <td>7.58</td>\n",
              "      <td>45.78</td>\n",
              "      <td>97.0</td>\n",
              "    </tr>\n",
              "  </tbody>\n",
              "</table>\n",
              "</div>"
            ],
            "text/plain": [
              "            PM2.5   PM10    NO2    NOx    CO   SO2     O3   AQI\n",
              "Date                                                           \n",
              "2019-12-27  43.32  87.09  31.24  32.59  1.09  6.60  39.42  98.0\n",
              "2019-12-28  35.24  70.75  26.94  27.78  0.97  7.38  37.81  82.0\n",
              "2019-12-29  38.53  73.77  26.20  26.31  0.92  7.39  43.50  80.0\n",
              "2019-12-30  47.81  77.49  28.46  27.79  1.03  8.04  44.92  93.0\n",
              "2019-12-31  42.54  84.76  29.10  27.48  1.06  7.58  45.78  97.0"
            ]
          },
          "metadata": {},
          "execution_count": 9
        }
      ]
    },
    {
      "cell_type": "code",
      "metadata": {
        "colab": {
          "base_uri": "https://localhost:8080/"
        },
        "id": "E6r_psyZynNR",
        "outputId": "96a58cf2-f28d-4bc5-ced0-b7d7ba50fe09"
      },
      "source": [
        "pollutants.shape\n",
        "# 2016=leap year, so (365*3)+366 = 1461 days i.e. 1461 rows in dataset"
      ],
      "execution_count": null,
      "outputs": [
        {
          "output_type": "execute_result",
          "data": {
            "text/plain": [
              "(1461, 8)"
            ]
          },
          "metadata": {},
          "execution_count": 10
        }
      ]
    },
    {
      "cell_type": "markdown",
      "metadata": {
        "id": "zxg8PbhX5vEH"
      },
      "source": [
        "## Load Climate Dataset"
      ]
    },
    {
      "cell_type": "code",
      "metadata": {
        "colab": {
          "base_uri": "https://localhost:8080/",
          "height": 423
        },
        "id": "i5RSpkmFwXOk",
        "outputId": "4b450ab7-f7ef-4f43-c9c7-ca7988e604e1"
      },
      "source": [
        "climate = pd.read_csv('/content/drive/MyDrive/Datasets/climate-training-dataset.csv')\n",
        "climate"
      ],
      "execution_count": null,
      "outputs": [
        {
          "output_type": "execute_result",
          "data": {
            "text/html": [
              "<div>\n",
              "<style scoped>\n",
              "    .dataframe tbody tr th:only-of-type {\n",
              "        vertical-align: middle;\n",
              "    }\n",
              "\n",
              "    .dataframe tbody tr th {\n",
              "        vertical-align: top;\n",
              "    }\n",
              "\n",
              "    .dataframe thead th {\n",
              "        text-align: right;\n",
              "    }\n",
              "</style>\n",
              "<table border=\"1\" class=\"dataframe\">\n",
              "  <thead>\n",
              "    <tr style=\"text-align: right;\">\n",
              "      <th></th>\n",
              "      <th>Date</th>\n",
              "      <th>T</th>\n",
              "      <th>TM</th>\n",
              "      <th>Tm</th>\n",
              "      <th>H</th>\n",
              "      <th>VV</th>\n",
              "      <th>V</th>\n",
              "      <th>VM</th>\n",
              "    </tr>\n",
              "  </thead>\n",
              "  <tbody>\n",
              "    <tr>\n",
              "      <th>0</th>\n",
              "      <td>01-01-2016</td>\n",
              "      <td>20.1</td>\n",
              "      <td>28.4</td>\n",
              "      <td>15.7</td>\n",
              "      <td>54</td>\n",
              "      <td>6</td>\n",
              "      <td>3</td>\n",
              "      <td>5.4</td>\n",
              "    </tr>\n",
              "    <tr>\n",
              "      <th>1</th>\n",
              "      <td>02-01-2016</td>\n",
              "      <td>20.8</td>\n",
              "      <td>28.3</td>\n",
              "      <td>12.9</td>\n",
              "      <td>45</td>\n",
              "      <td>6.3</td>\n",
              "      <td>1.1</td>\n",
              "      <td>5.4</td>\n",
              "    </tr>\n",
              "    <tr>\n",
              "      <th>2</th>\n",
              "      <td>03-01-2016</td>\n",
              "      <td>21.4</td>\n",
              "      <td>29</td>\n",
              "      <td>13.7</td>\n",
              "      <td>45</td>\n",
              "      <td>6.3</td>\n",
              "      <td>0.4</td>\n",
              "      <td>3.5</td>\n",
              "    </tr>\n",
              "    <tr>\n",
              "      <th>3</th>\n",
              "      <td>04-01-2016</td>\n",
              "      <td>21.5</td>\n",
              "      <td>29</td>\n",
              "      <td>15.2</td>\n",
              "      <td>47</td>\n",
              "      <td>6.9</td>\n",
              "      <td>2.2</td>\n",
              "      <td>5.4</td>\n",
              "    </tr>\n",
              "    <tr>\n",
              "      <th>4</th>\n",
              "      <td>05-01-2016</td>\n",
              "      <td>20.9</td>\n",
              "      <td>28.4</td>\n",
              "      <td>14.7</td>\n",
              "      <td>51</td>\n",
              "      <td>6.3</td>\n",
              "      <td>1.1</td>\n",
              "      <td>5.4</td>\n",
              "    </tr>\n",
              "    <tr>\n",
              "      <th>...</th>\n",
              "      <td>...</td>\n",
              "      <td>...</td>\n",
              "      <td>...</td>\n",
              "      <td>...</td>\n",
              "      <td>...</td>\n",
              "      <td>...</td>\n",
              "      <td>...</td>\n",
              "      <td>...</td>\n",
              "    </tr>\n",
              "    <tr>\n",
              "      <th>1456</th>\n",
              "      <td>27-12-2019</td>\n",
              "      <td>23.4</td>\n",
              "      <td>29.6</td>\n",
              "      <td>18</td>\n",
              "      <td>66</td>\n",
              "      <td>6.6</td>\n",
              "      <td>2.2</td>\n",
              "      <td>5.4</td>\n",
              "    </tr>\n",
              "    <tr>\n",
              "      <th>1457</th>\n",
              "      <td>28-12-2019</td>\n",
              "      <td>21.9</td>\n",
              "      <td>29.8</td>\n",
              "      <td>17.6</td>\n",
              "      <td>67</td>\n",
              "      <td>6.9</td>\n",
              "      <td>2.8</td>\n",
              "      <td>5.4</td>\n",
              "    </tr>\n",
              "    <tr>\n",
              "      <th>1458</th>\n",
              "      <td>29-12-2019</td>\n",
              "      <td>21.8</td>\n",
              "      <td>28.2</td>\n",
              "      <td>16.8</td>\n",
              "      <td>66</td>\n",
              "      <td>6.9</td>\n",
              "      <td>3.1</td>\n",
              "      <td>3.5</td>\n",
              "    </tr>\n",
              "    <tr>\n",
              "      <th>1459</th>\n",
              "      <td>30-12-2019</td>\n",
              "      <td>21.7</td>\n",
              "      <td>27.6</td>\n",
              "      <td>17.5</td>\n",
              "      <td>70</td>\n",
              "      <td>6.3</td>\n",
              "      <td>3.9</td>\n",
              "      <td>7.6</td>\n",
              "    </tr>\n",
              "    <tr>\n",
              "      <th>1460</th>\n",
              "      <td>31-12-2019</td>\n",
              "      <td>21.9</td>\n",
              "      <td>28.1</td>\n",
              "      <td>17.5</td>\n",
              "      <td>74</td>\n",
              "      <td>6.3</td>\n",
              "      <td>4.8</td>\n",
              "      <td>7.6</td>\n",
              "    </tr>\n",
              "  </tbody>\n",
              "</table>\n",
              "<p>1461 rows × 8 columns</p>\n",
              "</div>"
            ],
            "text/plain": [
              "            Date     T    TM    Tm   H   VV    V   VM\n",
              "0     01-01-2016  20.1  28.4  15.7  54    6    3  5.4\n",
              "1     02-01-2016  20.8  28.3  12.9  45  6.3  1.1  5.4\n",
              "2     03-01-2016  21.4    29  13.7  45  6.3  0.4  3.5\n",
              "3     04-01-2016  21.5    29  15.2  47  6.9  2.2  5.4\n",
              "4     05-01-2016  20.9  28.4  14.7  51  6.3  1.1  5.4\n",
              "...          ...   ...   ...   ...  ..  ...  ...  ...\n",
              "1456  27-12-2019  23.4  29.6    18  66  6.6  2.2  5.4\n",
              "1457  28-12-2019  21.9  29.8  17.6  67  6.9  2.8  5.4\n",
              "1458  29-12-2019  21.8  28.2  16.8  66  6.9  3.1  3.5\n",
              "1459  30-12-2019  21.7  27.6  17.5  70  6.3  3.9  7.6\n",
              "1460  31-12-2019  21.9  28.1  17.5  74  6.3  4.8  7.6\n",
              "\n",
              "[1461 rows x 8 columns]"
            ]
          },
          "metadata": {},
          "execution_count": 11
        }
      ]
    },
    {
      "cell_type": "code",
      "metadata": {
        "id": "lOr7fn5yg06s"
      },
      "source": [
        "climate['Date'] = pd.to_datetime(climate['Date'], format='%d-%m-%Y')"
      ],
      "execution_count": null,
      "outputs": []
    },
    {
      "cell_type": "code",
      "metadata": {
        "colab": {
          "base_uri": "https://localhost:8080/",
          "height": 237
        },
        "id": "y1FsPA_0f7N3",
        "outputId": "e1b74b73-3d48-4ae6-8b1e-fc54af0d3eb4"
      },
      "source": [
        "climate = climate.set_index('Date')\n",
        "climate.head()"
      ],
      "execution_count": null,
      "outputs": [
        {
          "output_type": "execute_result",
          "data": {
            "text/html": [
              "<div>\n",
              "<style scoped>\n",
              "    .dataframe tbody tr th:only-of-type {\n",
              "        vertical-align: middle;\n",
              "    }\n",
              "\n",
              "    .dataframe tbody tr th {\n",
              "        vertical-align: top;\n",
              "    }\n",
              "\n",
              "    .dataframe thead th {\n",
              "        text-align: right;\n",
              "    }\n",
              "</style>\n",
              "<table border=\"1\" class=\"dataframe\">\n",
              "  <thead>\n",
              "    <tr style=\"text-align: right;\">\n",
              "      <th></th>\n",
              "      <th>T</th>\n",
              "      <th>TM</th>\n",
              "      <th>Tm</th>\n",
              "      <th>H</th>\n",
              "      <th>VV</th>\n",
              "      <th>V</th>\n",
              "      <th>VM</th>\n",
              "    </tr>\n",
              "    <tr>\n",
              "      <th>Date</th>\n",
              "      <th></th>\n",
              "      <th></th>\n",
              "      <th></th>\n",
              "      <th></th>\n",
              "      <th></th>\n",
              "      <th></th>\n",
              "      <th></th>\n",
              "    </tr>\n",
              "  </thead>\n",
              "  <tbody>\n",
              "    <tr>\n",
              "      <th>2016-01-01</th>\n",
              "      <td>20.1</td>\n",
              "      <td>28.4</td>\n",
              "      <td>15.7</td>\n",
              "      <td>54</td>\n",
              "      <td>6</td>\n",
              "      <td>3</td>\n",
              "      <td>5.4</td>\n",
              "    </tr>\n",
              "    <tr>\n",
              "      <th>2016-01-02</th>\n",
              "      <td>20.8</td>\n",
              "      <td>28.3</td>\n",
              "      <td>12.9</td>\n",
              "      <td>45</td>\n",
              "      <td>6.3</td>\n",
              "      <td>1.1</td>\n",
              "      <td>5.4</td>\n",
              "    </tr>\n",
              "    <tr>\n",
              "      <th>2016-01-03</th>\n",
              "      <td>21.4</td>\n",
              "      <td>29</td>\n",
              "      <td>13.7</td>\n",
              "      <td>45</td>\n",
              "      <td>6.3</td>\n",
              "      <td>0.4</td>\n",
              "      <td>3.5</td>\n",
              "    </tr>\n",
              "    <tr>\n",
              "      <th>2016-01-04</th>\n",
              "      <td>21.5</td>\n",
              "      <td>29</td>\n",
              "      <td>15.2</td>\n",
              "      <td>47</td>\n",
              "      <td>6.9</td>\n",
              "      <td>2.2</td>\n",
              "      <td>5.4</td>\n",
              "    </tr>\n",
              "    <tr>\n",
              "      <th>2016-01-05</th>\n",
              "      <td>20.9</td>\n",
              "      <td>28.4</td>\n",
              "      <td>14.7</td>\n",
              "      <td>51</td>\n",
              "      <td>6.3</td>\n",
              "      <td>1.1</td>\n",
              "      <td>5.4</td>\n",
              "    </tr>\n",
              "  </tbody>\n",
              "</table>\n",
              "</div>"
            ],
            "text/plain": [
              "               T    TM    Tm   H   VV    V   VM\n",
              "Date                                           \n",
              "2016-01-01  20.1  28.4  15.7  54    6    3  5.4\n",
              "2016-01-02  20.8  28.3  12.9  45  6.3  1.1  5.4\n",
              "2016-01-03  21.4    29  13.7  45  6.3  0.4  3.5\n",
              "2016-01-04  21.5    29  15.2  47  6.9  2.2  5.4\n",
              "2016-01-05  20.9  28.4  14.7  51  6.3  1.1  5.4"
            ]
          },
          "metadata": {},
          "execution_count": 13
        }
      ]
    },
    {
      "cell_type": "code",
      "metadata": {
        "colab": {
          "base_uri": "https://localhost:8080/"
        },
        "id": "pISqRZdeesm0",
        "outputId": "55e1d7b6-f5f9-4d0b-841f-f13763ce9c70"
      },
      "source": [
        "climate.shape"
      ],
      "execution_count": null,
      "outputs": [
        {
          "output_type": "execute_result",
          "data": {
            "text/plain": [
              "(1461, 7)"
            ]
          },
          "metadata": {},
          "execution_count": 14
        }
      ]
    },
    {
      "cell_type": "code",
      "metadata": {
        "colab": {
          "base_uri": "https://localhost:8080/",
          "height": 237
        },
        "id": "xv7ZQCC3wq0K",
        "outputId": "ffbf8d60-9939-477c-d016-abdf43b08e08"
      },
      "source": [
        "climate = climate.drop(columns=['VM'])\n",
        "climate.head()"
      ],
      "execution_count": null,
      "outputs": [
        {
          "output_type": "execute_result",
          "data": {
            "text/html": [
              "<div>\n",
              "<style scoped>\n",
              "    .dataframe tbody tr th:only-of-type {\n",
              "        vertical-align: middle;\n",
              "    }\n",
              "\n",
              "    .dataframe tbody tr th {\n",
              "        vertical-align: top;\n",
              "    }\n",
              "\n",
              "    .dataframe thead th {\n",
              "        text-align: right;\n",
              "    }\n",
              "</style>\n",
              "<table border=\"1\" class=\"dataframe\">\n",
              "  <thead>\n",
              "    <tr style=\"text-align: right;\">\n",
              "      <th></th>\n",
              "      <th>T</th>\n",
              "      <th>TM</th>\n",
              "      <th>Tm</th>\n",
              "      <th>H</th>\n",
              "      <th>VV</th>\n",
              "      <th>V</th>\n",
              "    </tr>\n",
              "    <tr>\n",
              "      <th>Date</th>\n",
              "      <th></th>\n",
              "      <th></th>\n",
              "      <th></th>\n",
              "      <th></th>\n",
              "      <th></th>\n",
              "      <th></th>\n",
              "    </tr>\n",
              "  </thead>\n",
              "  <tbody>\n",
              "    <tr>\n",
              "      <th>2016-01-01</th>\n",
              "      <td>20.1</td>\n",
              "      <td>28.4</td>\n",
              "      <td>15.7</td>\n",
              "      <td>54</td>\n",
              "      <td>6</td>\n",
              "      <td>3</td>\n",
              "    </tr>\n",
              "    <tr>\n",
              "      <th>2016-01-02</th>\n",
              "      <td>20.8</td>\n",
              "      <td>28.3</td>\n",
              "      <td>12.9</td>\n",
              "      <td>45</td>\n",
              "      <td>6.3</td>\n",
              "      <td>1.1</td>\n",
              "    </tr>\n",
              "    <tr>\n",
              "      <th>2016-01-03</th>\n",
              "      <td>21.4</td>\n",
              "      <td>29</td>\n",
              "      <td>13.7</td>\n",
              "      <td>45</td>\n",
              "      <td>6.3</td>\n",
              "      <td>0.4</td>\n",
              "    </tr>\n",
              "    <tr>\n",
              "      <th>2016-01-04</th>\n",
              "      <td>21.5</td>\n",
              "      <td>29</td>\n",
              "      <td>15.2</td>\n",
              "      <td>47</td>\n",
              "      <td>6.9</td>\n",
              "      <td>2.2</td>\n",
              "    </tr>\n",
              "    <tr>\n",
              "      <th>2016-01-05</th>\n",
              "      <td>20.9</td>\n",
              "      <td>28.4</td>\n",
              "      <td>14.7</td>\n",
              "      <td>51</td>\n",
              "      <td>6.3</td>\n",
              "      <td>1.1</td>\n",
              "    </tr>\n",
              "  </tbody>\n",
              "</table>\n",
              "</div>"
            ],
            "text/plain": [
              "               T    TM    Tm   H   VV    V\n",
              "Date                                      \n",
              "2016-01-01  20.1  28.4  15.7  54    6    3\n",
              "2016-01-02  20.8  28.3  12.9  45  6.3  1.1\n",
              "2016-01-03  21.4    29  13.7  45  6.3  0.4\n",
              "2016-01-04  21.5    29  15.2  47  6.9  2.2\n",
              "2016-01-05  20.9  28.4  14.7  51  6.3  1.1"
            ]
          },
          "metadata": {},
          "execution_count": 15
        }
      ]
    },
    {
      "cell_type": "markdown",
      "metadata": {
        "id": "JplI4l-s5z6w"
      },
      "source": [
        "## Feature Engineering"
      ]
    },
    {
      "cell_type": "markdown",
      "metadata": {
        "id": "Nm872Fss4d4k"
      },
      "source": [
        "#### Concatenate the two dataframes"
      ]
    },
    {
      "cell_type": "code",
      "metadata": {
        "colab": {
          "base_uri": "https://localhost:8080/"
        },
        "id": "vxlgwfUDgK6g",
        "outputId": "39c86fb3-ccc0-4cb8-de3c-d8f92cb8430e"
      },
      "source": [
        "(climate.index==pollutants.index).all() "
      ],
      "execution_count": null,
      "outputs": [
        {
          "output_type": "execute_result",
          "data": {
            "text/plain": [
              "True"
            ]
          },
          "metadata": {},
          "execution_count": 16
        }
      ]
    },
    {
      "cell_type": "code",
      "metadata": {
        "colab": {
          "base_uri": "https://localhost:8080/",
          "height": 237
        },
        "id": "T-a3NNv02kjL",
        "outputId": "ae230437-ed3f-4dd8-9b4e-62d32df7465c"
      },
      "source": [
        "df = pd.concat([pollutants, climate], axis = 1)\n",
        "df.head()"
      ],
      "execution_count": null,
      "outputs": [
        {
          "output_type": "execute_result",
          "data": {
            "text/html": [
              "<div>\n",
              "<style scoped>\n",
              "    .dataframe tbody tr th:only-of-type {\n",
              "        vertical-align: middle;\n",
              "    }\n",
              "\n",
              "    .dataframe tbody tr th {\n",
              "        vertical-align: top;\n",
              "    }\n",
              "\n",
              "    .dataframe thead th {\n",
              "        text-align: right;\n",
              "    }\n",
              "</style>\n",
              "<table border=\"1\" class=\"dataframe\">\n",
              "  <thead>\n",
              "    <tr style=\"text-align: right;\">\n",
              "      <th></th>\n",
              "      <th>PM2.5</th>\n",
              "      <th>PM10</th>\n",
              "      <th>NO2</th>\n",
              "      <th>NOx</th>\n",
              "      <th>CO</th>\n",
              "      <th>SO2</th>\n",
              "      <th>O3</th>\n",
              "      <th>AQI</th>\n",
              "      <th>T</th>\n",
              "      <th>TM</th>\n",
              "      <th>Tm</th>\n",
              "      <th>H</th>\n",
              "      <th>VV</th>\n",
              "      <th>V</th>\n",
              "    </tr>\n",
              "    <tr>\n",
              "      <th>Date</th>\n",
              "      <th></th>\n",
              "      <th></th>\n",
              "      <th></th>\n",
              "      <th></th>\n",
              "      <th></th>\n",
              "      <th></th>\n",
              "      <th></th>\n",
              "      <th></th>\n",
              "      <th></th>\n",
              "      <th></th>\n",
              "      <th></th>\n",
              "      <th></th>\n",
              "      <th></th>\n",
              "      <th></th>\n",
              "    </tr>\n",
              "  </thead>\n",
              "  <tbody>\n",
              "    <tr>\n",
              "      <th>2016-01-01</th>\n",
              "      <td>56.40</td>\n",
              "      <td>95.08</td>\n",
              "      <td>51.73</td>\n",
              "      <td>34.31</td>\n",
              "      <td>0.69</td>\n",
              "      <td>7.44</td>\n",
              "      <td>55.96</td>\n",
              "      <td>101.0</td>\n",
              "      <td>20.1</td>\n",
              "      <td>28.4</td>\n",
              "      <td>15.7</td>\n",
              "      <td>54</td>\n",
              "      <td>6</td>\n",
              "      <td>3</td>\n",
              "    </tr>\n",
              "    <tr>\n",
              "      <th>2016-01-02</th>\n",
              "      <td>53.69</td>\n",
              "      <td>93.92</td>\n",
              "      <td>73.09</td>\n",
              "      <td>54.77</td>\n",
              "      <td>0.76</td>\n",
              "      <td>8.67</td>\n",
              "      <td>34.06</td>\n",
              "      <td>92.0</td>\n",
              "      <td>20.8</td>\n",
              "      <td>28.3</td>\n",
              "      <td>12.9</td>\n",
              "      <td>45</td>\n",
              "      <td>6.3</td>\n",
              "      <td>1.1</td>\n",
              "    </tr>\n",
              "    <tr>\n",
              "      <th>2016-01-03</th>\n",
              "      <td>62.35</td>\n",
              "      <td>99.34</td>\n",
              "      <td>77.77</td>\n",
              "      <td>55.60</td>\n",
              "      <td>0.96</td>\n",
              "      <td>9.10</td>\n",
              "      <td>47.62</td>\n",
              "      <td>108.0</td>\n",
              "      <td>21.4</td>\n",
              "      <td>29</td>\n",
              "      <td>13.7</td>\n",
              "      <td>45</td>\n",
              "      <td>6.3</td>\n",
              "      <td>0.4</td>\n",
              "    </tr>\n",
              "    <tr>\n",
              "      <th>2016-01-04</th>\n",
              "      <td>64.96</td>\n",
              "      <td>104.62</td>\n",
              "      <td>77.07</td>\n",
              "      <td>50.81</td>\n",
              "      <td>0.89</td>\n",
              "      <td>8.87</td>\n",
              "      <td>50.62</td>\n",
              "      <td>109.0</td>\n",
              "      <td>21.5</td>\n",
              "      <td>29</td>\n",
              "      <td>15.2</td>\n",
              "      <td>47</td>\n",
              "      <td>6.9</td>\n",
              "      <td>2.2</td>\n",
              "    </tr>\n",
              "    <tr>\n",
              "      <th>2016-01-05</th>\n",
              "      <td>70.15</td>\n",
              "      <td>105.12</td>\n",
              "      <td>79.43</td>\n",
              "      <td>56.05</td>\n",
              "      <td>0.85</td>\n",
              "      <td>9.41</td>\n",
              "      <td>36.94</td>\n",
              "      <td>114.0</td>\n",
              "      <td>20.9</td>\n",
              "      <td>28.4</td>\n",
              "      <td>14.7</td>\n",
              "      <td>51</td>\n",
              "      <td>6.3</td>\n",
              "      <td>1.1</td>\n",
              "    </tr>\n",
              "  </tbody>\n",
              "</table>\n",
              "</div>"
            ],
            "text/plain": [
              "            PM2.5    PM10    NO2    NOx    CO  ...    TM    Tm   H   VV    V\n",
              "Date                                           ...                          \n",
              "2016-01-01  56.40   95.08  51.73  34.31  0.69  ...  28.4  15.7  54    6    3\n",
              "2016-01-02  53.69   93.92  73.09  54.77  0.76  ...  28.3  12.9  45  6.3  1.1\n",
              "2016-01-03  62.35   99.34  77.77  55.60  0.96  ...    29  13.7  45  6.3  0.4\n",
              "2016-01-04  64.96  104.62  77.07  50.81  0.89  ...    29  15.2  47  6.9  2.2\n",
              "2016-01-05  70.15  105.12  79.43  56.05  0.85  ...  28.4  14.7  51  6.3  1.1\n",
              "\n",
              "[5 rows x 14 columns]"
            ]
          },
          "metadata": {},
          "execution_count": 17
        }
      ]
    },
    {
      "cell_type": "code",
      "metadata": {
        "colab": {
          "base_uri": "https://localhost:8080/"
        },
        "id": "WPtso_pmfU52",
        "outputId": "b92dc14d-4098-4f3d-ffde-a9f2d4c38cdc"
      },
      "source": [
        "df.shape"
      ],
      "execution_count": null,
      "outputs": [
        {
          "output_type": "execute_result",
          "data": {
            "text/plain": [
              "(1461, 14)"
            ]
          },
          "metadata": {},
          "execution_count": 18
        }
      ]
    },
    {
      "cell_type": "code",
      "metadata": {
        "id": "B26HqAzW3hT-",
        "colab": {
          "base_uri": "https://localhost:8080/"
        },
        "outputId": "4cd8fe3d-05b1-455a-b1a5-293762561ad1"
      },
      "source": [
        "target = df['AQI']\n",
        "target.head()"
      ],
      "execution_count": null,
      "outputs": [
        {
          "output_type": "execute_result",
          "data": {
            "text/plain": [
              "Date\n",
              "2016-01-01    101.0\n",
              "2016-01-02     92.0\n",
              "2016-01-03    108.0\n",
              "2016-01-04    109.0\n",
              "2016-01-05    114.0\n",
              "Name: AQI, dtype: float64"
            ]
          },
          "metadata": {},
          "execution_count": 19
        }
      ]
    },
    {
      "cell_type": "code",
      "metadata": {
        "colab": {
          "base_uri": "https://localhost:8080/"
        },
        "id": "vnO4FS0u4Clf",
        "outputId": "7a935091-9eb1-402b-c91f-7aaea2429b06"
      },
      "source": [
        "target.shape"
      ],
      "execution_count": null,
      "outputs": [
        {
          "output_type": "execute_result",
          "data": {
            "text/plain": [
              "(1461,)"
            ]
          },
          "metadata": {},
          "execution_count": 20
        }
      ]
    },
    {
      "cell_type": "code",
      "metadata": {
        "colab": {
          "base_uri": "https://localhost:8080/",
          "height": 237
        },
        "id": "tdZwuqq44DH0",
        "outputId": "8cd079b9-5aa5-4dba-d070-f16c11b2d98b"
      },
      "source": [
        "df.head()"
      ],
      "execution_count": null,
      "outputs": [
        {
          "output_type": "execute_result",
          "data": {
            "text/html": [
              "<div>\n",
              "<style scoped>\n",
              "    .dataframe tbody tr th:only-of-type {\n",
              "        vertical-align: middle;\n",
              "    }\n",
              "\n",
              "    .dataframe tbody tr th {\n",
              "        vertical-align: top;\n",
              "    }\n",
              "\n",
              "    .dataframe thead th {\n",
              "        text-align: right;\n",
              "    }\n",
              "</style>\n",
              "<table border=\"1\" class=\"dataframe\">\n",
              "  <thead>\n",
              "    <tr style=\"text-align: right;\">\n",
              "      <th></th>\n",
              "      <th>PM2.5</th>\n",
              "      <th>PM10</th>\n",
              "      <th>NO2</th>\n",
              "      <th>NOx</th>\n",
              "      <th>CO</th>\n",
              "      <th>SO2</th>\n",
              "      <th>O3</th>\n",
              "      <th>AQI</th>\n",
              "      <th>T</th>\n",
              "      <th>TM</th>\n",
              "      <th>Tm</th>\n",
              "      <th>H</th>\n",
              "      <th>VV</th>\n",
              "      <th>V</th>\n",
              "    </tr>\n",
              "    <tr>\n",
              "      <th>Date</th>\n",
              "      <th></th>\n",
              "      <th></th>\n",
              "      <th></th>\n",
              "      <th></th>\n",
              "      <th></th>\n",
              "      <th></th>\n",
              "      <th></th>\n",
              "      <th></th>\n",
              "      <th></th>\n",
              "      <th></th>\n",
              "      <th></th>\n",
              "      <th></th>\n",
              "      <th></th>\n",
              "      <th></th>\n",
              "    </tr>\n",
              "  </thead>\n",
              "  <tbody>\n",
              "    <tr>\n",
              "      <th>2016-01-01</th>\n",
              "      <td>56.40</td>\n",
              "      <td>95.08</td>\n",
              "      <td>51.73</td>\n",
              "      <td>34.31</td>\n",
              "      <td>0.69</td>\n",
              "      <td>7.44</td>\n",
              "      <td>55.96</td>\n",
              "      <td>101.0</td>\n",
              "      <td>20.1</td>\n",
              "      <td>28.4</td>\n",
              "      <td>15.7</td>\n",
              "      <td>54</td>\n",
              "      <td>6</td>\n",
              "      <td>3</td>\n",
              "    </tr>\n",
              "    <tr>\n",
              "      <th>2016-01-02</th>\n",
              "      <td>53.69</td>\n",
              "      <td>93.92</td>\n",
              "      <td>73.09</td>\n",
              "      <td>54.77</td>\n",
              "      <td>0.76</td>\n",
              "      <td>8.67</td>\n",
              "      <td>34.06</td>\n",
              "      <td>92.0</td>\n",
              "      <td>20.8</td>\n",
              "      <td>28.3</td>\n",
              "      <td>12.9</td>\n",
              "      <td>45</td>\n",
              "      <td>6.3</td>\n",
              "      <td>1.1</td>\n",
              "    </tr>\n",
              "    <tr>\n",
              "      <th>2016-01-03</th>\n",
              "      <td>62.35</td>\n",
              "      <td>99.34</td>\n",
              "      <td>77.77</td>\n",
              "      <td>55.60</td>\n",
              "      <td>0.96</td>\n",
              "      <td>9.10</td>\n",
              "      <td>47.62</td>\n",
              "      <td>108.0</td>\n",
              "      <td>21.4</td>\n",
              "      <td>29</td>\n",
              "      <td>13.7</td>\n",
              "      <td>45</td>\n",
              "      <td>6.3</td>\n",
              "      <td>0.4</td>\n",
              "    </tr>\n",
              "    <tr>\n",
              "      <th>2016-01-04</th>\n",
              "      <td>64.96</td>\n",
              "      <td>104.62</td>\n",
              "      <td>77.07</td>\n",
              "      <td>50.81</td>\n",
              "      <td>0.89</td>\n",
              "      <td>8.87</td>\n",
              "      <td>50.62</td>\n",
              "      <td>109.0</td>\n",
              "      <td>21.5</td>\n",
              "      <td>29</td>\n",
              "      <td>15.2</td>\n",
              "      <td>47</td>\n",
              "      <td>6.9</td>\n",
              "      <td>2.2</td>\n",
              "    </tr>\n",
              "    <tr>\n",
              "      <th>2016-01-05</th>\n",
              "      <td>70.15</td>\n",
              "      <td>105.12</td>\n",
              "      <td>79.43</td>\n",
              "      <td>56.05</td>\n",
              "      <td>0.85</td>\n",
              "      <td>9.41</td>\n",
              "      <td>36.94</td>\n",
              "      <td>114.0</td>\n",
              "      <td>20.9</td>\n",
              "      <td>28.4</td>\n",
              "      <td>14.7</td>\n",
              "      <td>51</td>\n",
              "      <td>6.3</td>\n",
              "      <td>1.1</td>\n",
              "    </tr>\n",
              "  </tbody>\n",
              "</table>\n",
              "</div>"
            ],
            "text/plain": [
              "            PM2.5    PM10    NO2    NOx    CO  ...    TM    Tm   H   VV    V\n",
              "Date                                           ...                          \n",
              "2016-01-01  56.40   95.08  51.73  34.31  0.69  ...  28.4  15.7  54    6    3\n",
              "2016-01-02  53.69   93.92  73.09  54.77  0.76  ...  28.3  12.9  45  6.3  1.1\n",
              "2016-01-03  62.35   99.34  77.77  55.60  0.96  ...    29  13.7  45  6.3  0.4\n",
              "2016-01-04  64.96  104.62  77.07  50.81  0.89  ...    29  15.2  47  6.9  2.2\n",
              "2016-01-05  70.15  105.12  79.43  56.05  0.85  ...  28.4  14.7  51  6.3  1.1\n",
              "\n",
              "[5 rows x 14 columns]"
            ]
          },
          "metadata": {},
          "execution_count": 21
        }
      ]
    },
    {
      "cell_type": "code",
      "metadata": {
        "colab": {
          "base_uri": "https://localhost:8080/"
        },
        "id": "yNe-CILkiPs-",
        "outputId": "50d20296-63ae-4a27-e37b-9abc2d3bf6c7"
      },
      "source": [
        "df.shape"
      ],
      "execution_count": null,
      "outputs": [
        {
          "output_type": "execute_result",
          "data": {
            "text/plain": [
              "(1461, 14)"
            ]
          },
          "metadata": {},
          "execution_count": 22
        }
      ]
    },
    {
      "cell_type": "code",
      "metadata": {
        "id": "MNMKbf0rWmGs"
      },
      "source": [
        "# df.to_csv('x_train_data.csv')\n",
        "# target.to_csv('y_train_data.csv')"
      ],
      "execution_count": null,
      "outputs": []
    },
    {
      "cell_type": "code",
      "metadata": {
        "id": "U6dXnV1e4jly"
      },
      "source": [
        "temp_df = df\n",
        "temp_target = target"
      ],
      "execution_count": null,
      "outputs": []
    },
    {
      "cell_type": "markdown",
      "metadata": {
        "id": "K6J7FteS54OV"
      },
      "source": [
        "#### Rename column names"
      ]
    },
    {
      "cell_type": "code",
      "metadata": {
        "colab": {
          "base_uri": "https://localhost:8080/",
          "height": 237
        },
        "id": "G6nPeO-34D3b",
        "outputId": "44db9a14-1d44-48bc-f021-ce6be33cfb54"
      },
      "source": [
        "df.rename(columns={'T':'temp', 'TM':'max_temp','Tm':'min_temp','H':'humid','VV':'visible','V':'wind'}, inplace = True)\n",
        "df.head()"
      ],
      "execution_count": null,
      "outputs": [
        {
          "output_type": "execute_result",
          "data": {
            "text/html": [
              "<div>\n",
              "<style scoped>\n",
              "    .dataframe tbody tr th:only-of-type {\n",
              "        vertical-align: middle;\n",
              "    }\n",
              "\n",
              "    .dataframe tbody tr th {\n",
              "        vertical-align: top;\n",
              "    }\n",
              "\n",
              "    .dataframe thead th {\n",
              "        text-align: right;\n",
              "    }\n",
              "</style>\n",
              "<table border=\"1\" class=\"dataframe\">\n",
              "  <thead>\n",
              "    <tr style=\"text-align: right;\">\n",
              "      <th></th>\n",
              "      <th>PM2.5</th>\n",
              "      <th>PM10</th>\n",
              "      <th>NO2</th>\n",
              "      <th>NOx</th>\n",
              "      <th>CO</th>\n",
              "      <th>SO2</th>\n",
              "      <th>O3</th>\n",
              "      <th>AQI</th>\n",
              "      <th>temp</th>\n",
              "      <th>max_temp</th>\n",
              "      <th>min_temp</th>\n",
              "      <th>humid</th>\n",
              "      <th>visible</th>\n",
              "      <th>wind</th>\n",
              "    </tr>\n",
              "    <tr>\n",
              "      <th>Date</th>\n",
              "      <th></th>\n",
              "      <th></th>\n",
              "      <th></th>\n",
              "      <th></th>\n",
              "      <th></th>\n",
              "      <th></th>\n",
              "      <th></th>\n",
              "      <th></th>\n",
              "      <th></th>\n",
              "      <th></th>\n",
              "      <th></th>\n",
              "      <th></th>\n",
              "      <th></th>\n",
              "      <th></th>\n",
              "    </tr>\n",
              "  </thead>\n",
              "  <tbody>\n",
              "    <tr>\n",
              "      <th>2016-01-01</th>\n",
              "      <td>56.40</td>\n",
              "      <td>95.08</td>\n",
              "      <td>51.73</td>\n",
              "      <td>34.31</td>\n",
              "      <td>0.69</td>\n",
              "      <td>7.44</td>\n",
              "      <td>55.96</td>\n",
              "      <td>101.0</td>\n",
              "      <td>20.1</td>\n",
              "      <td>28.4</td>\n",
              "      <td>15.7</td>\n",
              "      <td>54</td>\n",
              "      <td>6</td>\n",
              "      <td>3</td>\n",
              "    </tr>\n",
              "    <tr>\n",
              "      <th>2016-01-02</th>\n",
              "      <td>53.69</td>\n",
              "      <td>93.92</td>\n",
              "      <td>73.09</td>\n",
              "      <td>54.77</td>\n",
              "      <td>0.76</td>\n",
              "      <td>8.67</td>\n",
              "      <td>34.06</td>\n",
              "      <td>92.0</td>\n",
              "      <td>20.8</td>\n",
              "      <td>28.3</td>\n",
              "      <td>12.9</td>\n",
              "      <td>45</td>\n",
              "      <td>6.3</td>\n",
              "      <td>1.1</td>\n",
              "    </tr>\n",
              "    <tr>\n",
              "      <th>2016-01-03</th>\n",
              "      <td>62.35</td>\n",
              "      <td>99.34</td>\n",
              "      <td>77.77</td>\n",
              "      <td>55.60</td>\n",
              "      <td>0.96</td>\n",
              "      <td>9.10</td>\n",
              "      <td>47.62</td>\n",
              "      <td>108.0</td>\n",
              "      <td>21.4</td>\n",
              "      <td>29</td>\n",
              "      <td>13.7</td>\n",
              "      <td>45</td>\n",
              "      <td>6.3</td>\n",
              "      <td>0.4</td>\n",
              "    </tr>\n",
              "    <tr>\n",
              "      <th>2016-01-04</th>\n",
              "      <td>64.96</td>\n",
              "      <td>104.62</td>\n",
              "      <td>77.07</td>\n",
              "      <td>50.81</td>\n",
              "      <td>0.89</td>\n",
              "      <td>8.87</td>\n",
              "      <td>50.62</td>\n",
              "      <td>109.0</td>\n",
              "      <td>21.5</td>\n",
              "      <td>29</td>\n",
              "      <td>15.2</td>\n",
              "      <td>47</td>\n",
              "      <td>6.9</td>\n",
              "      <td>2.2</td>\n",
              "    </tr>\n",
              "    <tr>\n",
              "      <th>2016-01-05</th>\n",
              "      <td>70.15</td>\n",
              "      <td>105.12</td>\n",
              "      <td>79.43</td>\n",
              "      <td>56.05</td>\n",
              "      <td>0.85</td>\n",
              "      <td>9.41</td>\n",
              "      <td>36.94</td>\n",
              "      <td>114.0</td>\n",
              "      <td>20.9</td>\n",
              "      <td>28.4</td>\n",
              "      <td>14.7</td>\n",
              "      <td>51</td>\n",
              "      <td>6.3</td>\n",
              "      <td>1.1</td>\n",
              "    </tr>\n",
              "  </tbody>\n",
              "</table>\n",
              "</div>"
            ],
            "text/plain": [
              "            PM2.5    PM10    NO2    NOx  ...  min_temp  humid  visible  wind\n",
              "Date                                     ...                                \n",
              "2016-01-01  56.40   95.08  51.73  34.31  ...      15.7     54        6     3\n",
              "2016-01-02  53.69   93.92  73.09  54.77  ...      12.9     45      6.3   1.1\n",
              "2016-01-03  62.35   99.34  77.77  55.60  ...      13.7     45      6.3   0.4\n",
              "2016-01-04  64.96  104.62  77.07  50.81  ...      15.2     47      6.9   2.2\n",
              "2016-01-05  70.15  105.12  79.43  56.05  ...      14.7     51      6.3   1.1\n",
              "\n",
              "[5 rows x 14 columns]"
            ]
          },
          "metadata": {},
          "execution_count": 25
        }
      ]
    },
    {
      "cell_type": "code",
      "metadata": {
        "colab": {
          "base_uri": "https://localhost:8080/"
        },
        "id": "CZIaLtsc5eEs",
        "outputId": "50005ff2-8ba2-4112-d7e7-dc3c92581121"
      },
      "source": [
        "df.info()"
      ],
      "execution_count": null,
      "outputs": [
        {
          "output_type": "stream",
          "name": "stdout",
          "text": [
            "<class 'pandas.core.frame.DataFrame'>\n",
            "DatetimeIndex: 1461 entries, 2016-01-01 to 2019-12-31\n",
            "Data columns (total 14 columns):\n",
            " #   Column    Non-Null Count  Dtype  \n",
            "---  ------    --------------  -----  \n",
            " 0   PM2.5     1394 non-null   float64\n",
            " 1   PM10      1416 non-null   float64\n",
            " 2   NO2       1455 non-null   float64\n",
            " 3   NOx       1457 non-null   float64\n",
            " 4   CO        1457 non-null   float64\n",
            " 5   SO2       1455 non-null   float64\n",
            " 6   O3        1324 non-null   float64\n",
            " 7   AQI       1441 non-null   float64\n",
            " 8   temp      1461 non-null   object \n",
            " 9   max_temp  1461 non-null   object \n",
            " 10  min_temp  1461 non-null   object \n",
            " 11  humid     1461 non-null   object \n",
            " 12  visible   1461 non-null   object \n",
            " 13  wind      1461 non-null   object \n",
            "dtypes: float64(8), object(6)\n",
            "memory usage: 171.2+ KB\n"
          ]
        }
      ]
    },
    {
      "cell_type": "code",
      "metadata": {
        "id": "Vv7VwwTu8OgO"
      },
      "source": [
        "for column in df.columns[7:]:\n",
        "  df[column] = pd.to_numeric(df[column], errors='coerce')"
      ],
      "execution_count": null,
      "outputs": []
    },
    {
      "cell_type": "code",
      "metadata": {
        "colab": {
          "base_uri": "https://localhost:8080/"
        },
        "id": "Vix_ZdrTkVeI",
        "outputId": "d587621f-ee5f-4e22-f765-bd1c5211f531"
      },
      "source": [
        "df.info()"
      ],
      "execution_count": null,
      "outputs": [
        {
          "output_type": "stream",
          "name": "stdout",
          "text": [
            "<class 'pandas.core.frame.DataFrame'>\n",
            "DatetimeIndex: 1461 entries, 2016-01-01 to 2019-12-31\n",
            "Data columns (total 14 columns):\n",
            " #   Column    Non-Null Count  Dtype  \n",
            "---  ------    --------------  -----  \n",
            " 0   PM2.5     1394 non-null   float64\n",
            " 1   PM10      1416 non-null   float64\n",
            " 2   NO2       1455 non-null   float64\n",
            " 3   NOx       1457 non-null   float64\n",
            " 4   CO        1457 non-null   float64\n",
            " 5   SO2       1455 non-null   float64\n",
            " 6   O3        1324 non-null   float64\n",
            " 7   AQI       1441 non-null   float64\n",
            " 8   temp      1446 non-null   float64\n",
            " 9   max_temp  1446 non-null   float64\n",
            " 10  min_temp  1446 non-null   float64\n",
            " 11  humid     1446 non-null   float64\n",
            " 12  visible   1446 non-null   float64\n",
            " 13  wind      1446 non-null   float64\n",
            "dtypes: float64(14)\n",
            "memory usage: 171.2 KB\n"
          ]
        }
      ]
    },
    {
      "cell_type": "code",
      "metadata": {
        "id": "x_jOoTmP8Oap",
        "colab": {
          "base_uri": "https://localhost:8080/",
          "height": 300
        },
        "outputId": "0ec29062-f734-4d80-a0e6-ec7c520e9b85"
      },
      "source": [
        "df.describe()"
      ],
      "execution_count": null,
      "outputs": [
        {
          "output_type": "execute_result",
          "data": {
            "text/html": [
              "<div>\n",
              "<style scoped>\n",
              "    .dataframe tbody tr th:only-of-type {\n",
              "        vertical-align: middle;\n",
              "    }\n",
              "\n",
              "    .dataframe tbody tr th {\n",
              "        vertical-align: top;\n",
              "    }\n",
              "\n",
              "    .dataframe thead th {\n",
              "        text-align: right;\n",
              "    }\n",
              "</style>\n",
              "<table border=\"1\" class=\"dataframe\">\n",
              "  <thead>\n",
              "    <tr style=\"text-align: right;\">\n",
              "      <th></th>\n",
              "      <th>PM2.5</th>\n",
              "      <th>PM10</th>\n",
              "      <th>NO2</th>\n",
              "      <th>NOx</th>\n",
              "      <th>CO</th>\n",
              "      <th>SO2</th>\n",
              "      <th>O3</th>\n",
              "      <th>AQI</th>\n",
              "      <th>temp</th>\n",
              "      <th>max_temp</th>\n",
              "      <th>min_temp</th>\n",
              "      <th>humid</th>\n",
              "      <th>visible</th>\n",
              "      <th>wind</th>\n",
              "    </tr>\n",
              "  </thead>\n",
              "  <tbody>\n",
              "    <tr>\n",
              "      <th>count</th>\n",
              "      <td>1394.000000</td>\n",
              "      <td>1416.000000</td>\n",
              "      <td>1455.000000</td>\n",
              "      <td>1457.000000</td>\n",
              "      <td>1457.000000</td>\n",
              "      <td>1455.000000</td>\n",
              "      <td>1324.000000</td>\n",
              "      <td>1441.000000</td>\n",
              "      <td>1446.000000</td>\n",
              "      <td>1446.000000</td>\n",
              "      <td>1446.000000</td>\n",
              "      <td>1446.000000</td>\n",
              "      <td>1446.000000</td>\n",
              "      <td>1446.000000</td>\n",
              "    </tr>\n",
              "    <tr>\n",
              "      <th>mean</th>\n",
              "      <td>37.978293</td>\n",
              "      <td>85.900028</td>\n",
              "      <td>30.848027</td>\n",
              "      <td>20.310981</td>\n",
              "      <td>1.046706</td>\n",
              "      <td>5.169285</td>\n",
              "      <td>34.340083</td>\n",
              "      <td>92.549618</td>\n",
              "      <td>24.290941</td>\n",
              "      <td>30.360443</td>\n",
              "      <td>19.871369</td>\n",
              "      <td>63.865145</td>\n",
              "      <td>6.616390</td>\n",
              "      <td>4.584855</td>\n",
              "    </tr>\n",
              "    <tr>\n",
              "      <th>std</th>\n",
              "      <td>23.930548</td>\n",
              "      <td>39.127126</td>\n",
              "      <td>12.878299</td>\n",
              "      <td>16.514174</td>\n",
              "      <td>2.005378</td>\n",
              "      <td>2.234012</td>\n",
              "      <td>17.622812</td>\n",
              "      <td>38.221982</td>\n",
              "      <td>2.294894</td>\n",
              "      <td>2.919894</td>\n",
              "      <td>2.306992</td>\n",
              "      <td>15.425335</td>\n",
              "      <td>0.630561</td>\n",
              "      <td>2.704718</td>\n",
              "    </tr>\n",
              "    <tr>\n",
              "      <th>min</th>\n",
              "      <td>1.720000</td>\n",
              "      <td>9.930000</td>\n",
              "      <td>3.000000</td>\n",
              "      <td>0.000000</td>\n",
              "      <td>0.000000</td>\n",
              "      <td>0.870000</td>\n",
              "      <td>3.140000</td>\n",
              "      <td>20.000000</td>\n",
              "      <td>18.900000</td>\n",
              "      <td>21.600000</td>\n",
              "      <td>12.000000</td>\n",
              "      <td>17.000000</td>\n",
              "      <td>3.700000</td>\n",
              "      <td>0.000000</td>\n",
              "    </tr>\n",
              "    <tr>\n",
              "      <th>25%</th>\n",
              "      <td>22.360000</td>\n",
              "      <td>57.552500</td>\n",
              "      <td>22.755000</td>\n",
              "      <td>3.970000</td>\n",
              "      <td>0.680000</td>\n",
              "      <td>3.855000</td>\n",
              "      <td>20.137500</td>\n",
              "      <td>66.000000</td>\n",
              "      <td>22.700000</td>\n",
              "      <td>28.200000</td>\n",
              "      <td>18.600000</td>\n",
              "      <td>51.250000</td>\n",
              "      <td>6.300000</td>\n",
              "      <td>2.800000</td>\n",
              "    </tr>\n",
              "    <tr>\n",
              "      <th>50%</th>\n",
              "      <td>32.730000</td>\n",
              "      <td>79.840000</td>\n",
              "      <td>29.500000</td>\n",
              "      <td>21.460000</td>\n",
              "      <td>0.860000</td>\n",
              "      <td>4.870000</td>\n",
              "      <td>31.155000</td>\n",
              "      <td>85.000000</td>\n",
              "      <td>23.800000</td>\n",
              "      <td>29.700000</td>\n",
              "      <td>20.200000</td>\n",
              "      <td>66.000000</td>\n",
              "      <td>6.900000</td>\n",
              "      <td>4.100000</td>\n",
              "    </tr>\n",
              "    <tr>\n",
              "      <th>75%</th>\n",
              "      <td>46.860000</td>\n",
              "      <td>107.425000</td>\n",
              "      <td>36.595000</td>\n",
              "      <td>30.140000</td>\n",
              "      <td>1.020000</td>\n",
              "      <td>6.125000</td>\n",
              "      <td>47.345000</td>\n",
              "      <td>111.000000</td>\n",
              "      <td>25.600000</td>\n",
              "      <td>32.200000</td>\n",
              "      <td>21.200000</td>\n",
              "      <td>76.000000</td>\n",
              "      <td>6.900000</td>\n",
              "      <td>5.900000</td>\n",
              "    </tr>\n",
              "    <tr>\n",
              "      <th>max</th>\n",
              "      <td>313.590000</td>\n",
              "      <td>351.510000</td>\n",
              "      <td>142.350000</td>\n",
              "      <td>147.060000</td>\n",
              "      <td>47.930000</td>\n",
              "      <td>24.020000</td>\n",
              "      <td>109.970000</td>\n",
              "      <td>352.000000</td>\n",
              "      <td>31.400000</td>\n",
              "      <td>39.200000</td>\n",
              "      <td>25.800000</td>\n",
              "      <td>97.000000</td>\n",
              "      <td>9.200000</td>\n",
              "      <td>14.800000</td>\n",
              "    </tr>\n",
              "  </tbody>\n",
              "</table>\n",
              "</div>"
            ],
            "text/plain": [
              "             PM2.5         PM10  ...      visible         wind\n",
              "count  1394.000000  1416.000000  ...  1446.000000  1446.000000\n",
              "mean     37.978293    85.900028  ...     6.616390     4.584855\n",
              "std      23.930548    39.127126  ...     0.630561     2.704718\n",
              "min       1.720000     9.930000  ...     3.700000     0.000000\n",
              "25%      22.360000    57.552500  ...     6.300000     2.800000\n",
              "50%      32.730000    79.840000  ...     6.900000     4.100000\n",
              "75%      46.860000   107.425000  ...     6.900000     5.900000\n",
              "max     313.590000   351.510000  ...     9.200000    14.800000\n",
              "\n",
              "[8 rows x 14 columns]"
            ]
          },
          "metadata": {},
          "execution_count": 29
        }
      ]
    },
    {
      "cell_type": "markdown",
      "metadata": {
        "id": "irWWbwnJJqeq"
      },
      "source": [
        "#### NOx, CO and wind speed have 0 values"
      ]
    },
    {
      "cell_type": "code",
      "metadata": {
        "id": "NX_qFtXYQuLZ"
      },
      "source": [
        "df.replace(0,np.nan, inplace=True)"
      ],
      "execution_count": null,
      "outputs": []
    },
    {
      "cell_type": "markdown",
      "metadata": {
        "id": "vRY4H6ZzSB3Q"
      },
      "source": [
        "### Handle Missing Values"
      ]
    },
    {
      "cell_type": "code",
      "metadata": {
        "id": "Ax8sqOcG8OYR",
        "colab": {
          "base_uri": "https://localhost:8080/"
        },
        "outputId": "2249b833-28a7-4e8e-a951-694785e53f4e"
      },
      "source": [
        "df.isnull().sum(axis=0)"
      ],
      "execution_count": null,
      "outputs": [
        {
          "output_type": "execute_result",
          "data": {
            "text/plain": [
              "PM2.5        67\n",
              "PM10         45\n",
              "NO2           6\n",
              "NOx         341\n",
              "CO           12\n",
              "SO2           6\n",
              "O3          137\n",
              "AQI          20\n",
              "temp         15\n",
              "max_temp     15\n",
              "min_temp     15\n",
              "humid        15\n",
              "visible      15\n",
              "wind         22\n",
              "dtype: int64"
            ]
          },
          "metadata": {},
          "execution_count": 31
        }
      ]
    },
    {
      "cell_type": "code",
      "metadata": {
        "colab": {
          "base_uri": "https://localhost:8080/",
          "height": 447
        },
        "id": "21H7LY38NOnV",
        "outputId": "9edd968b-f62f-4b19-8a37-3ce6f11b24dd"
      },
      "source": [
        "import missingno as msno\n",
        "msno.matrix(df, figsize=(10,6))\n",
        "plt.show()"
      ],
      "execution_count": null,
      "outputs": [
        {
          "output_type": "display_data",
          "data": {
            "image/png": "[encoded data removed]",
            "text/plain": [
              "<Figure size 720x432 with 2 Axes>"
            ]
          },
          "metadata": {
            "needs_background": "light"
          }
        }
      ]
    },
    {
      "cell_type": "markdown",
      "metadata": {
        "id": "11J4pfkvlbns"
      },
      "source": [
        "Delete rows where AQI value is NaN"
      ]
    },
    {
      "cell_type": "code",
      "metadata": {
        "colab": {
          "base_uri": "https://localhost:8080/"
        },
        "id": "YBZ1NGF_lQX_",
        "outputId": "c039a1fa-08de-425f-9fb5-e4a435406c69"
      },
      "source": [
        "df = df.loc[~df['AQI'].isna()]\n",
        "df.shape\n",
        "# 20 rows deleted"
      ],
      "execution_count": null,
      "outputs": [
        {
          "output_type": "execute_result",
          "data": {
            "text/plain": [
              "(1441, 14)"
            ]
          },
          "metadata": {},
          "execution_count": 33
        }
      ]
    },
    {
      "cell_type": "code",
      "metadata": {
        "colab": {
          "base_uri": "https://localhost:8080/"
        },
        "id": "48YofnhlrdDd",
        "outputId": "9d0c88a1-4541-4b69-b8da-68d439cceaa8"
      },
      "source": [
        "target = target.loc[~target.isna()]\n",
        "target.shape"
      ],
      "execution_count": null,
      "outputs": [
        {
          "output_type": "execute_result",
          "data": {
            "text/plain": [
              "(1441,)"
            ]
          },
          "metadata": {},
          "execution_count": 34
        }
      ]
    },
    {
      "cell_type": "code",
      "metadata": {
        "colab": {
          "base_uri": "https://localhost:8080/"
        },
        "id": "emn2i5FBlmpr",
        "outputId": "1836d2d3-d42d-4c7d-a076-af11ff6778b3"
      },
      "source": [
        "df.info()"
      ],
      "execution_count": null,
      "outputs": [
        {
          "output_type": "stream",
          "name": "stdout",
          "text": [
            "<class 'pandas.core.frame.DataFrame'>\n",
            "DatetimeIndex: 1441 entries, 2016-01-01 to 2019-12-31\n",
            "Data columns (total 14 columns):\n",
            " #   Column    Non-Null Count  Dtype  \n",
            "---  ------    --------------  -----  \n",
            " 0   PM2.5     1387 non-null   float64\n",
            " 1   PM10      1403 non-null   float64\n",
            " 2   NO2       1440 non-null   float64\n",
            " 3   NOx       1102 non-null   float64\n",
            " 4   CO        1433 non-null   float64\n",
            " 5   SO2       1440 non-null   float64\n",
            " 6   O3        1320 non-null   float64\n",
            " 7   AQI       1441 non-null   float64\n",
            " 8   temp      1426 non-null   float64\n",
            " 9   max_temp  1426 non-null   float64\n",
            " 10  min_temp  1426 non-null   float64\n",
            " 11  humid     1426 non-null   float64\n",
            " 12  visible   1426 non-null   float64\n",
            " 13  wind      1419 non-null   float64\n",
            "dtypes: float64(14)\n",
            "memory usage: 168.9 KB\n"
          ]
        }
      ]
    },
    {
      "cell_type": "markdown",
      "metadata": {
        "id": "MPVlnlq3RYkA"
      },
      "source": [
        "#### Interpolate the missing values\n",
        "bfill, ffill, interpolate\n",
        "\n",
        "Time series data has a lot of variations against time. Hence, imputing using backfill and forward fill isn't the ebst possible solution to address the missing value problem. A more apt alternative would be to use interpolation methods, where the values are filled with incrementing or decrementing values."
      ]
    },
    {
      "cell_type": "code",
      "metadata": {
        "colab": {
          "base_uri": "https://localhost:8080/"
        },
        "id": "AJIrnDoURAL7",
        "outputId": "e7a13abe-eb84-405d-dd70-6ac97d5cb921"
      },
      "source": [
        "df.interpolate(limit_direction=\"both\", inplace=True)\n",
        "df.isnull().sum(axis=0)"
      ],
      "execution_count": null,
      "outputs": [
        {
          "output_type": "stream",
          "name": "stderr",
          "text": [
            "/usr/local/lib/python3.7/dist-packages/ipykernel_launcher.py:1: SettingWithCopyWarning: \n",
            "A value is trying to be set on a copy of a slice from a DataFrame\n",
            "\n",
            "See the caveats in the documentation: https://pandas.pydata.org/pandas-docs/stable/user_guide/indexing.html#returning-a-view-versus-a-copy\n",
            "  \"\"\"Entry point for launching an IPython kernel.\n"
          ]
        },
        {
          "output_type": "execute_result",
          "data": {
            "text/plain": [
              "PM2.5       0\n",
              "PM10        0\n",
              "NO2         0\n",
              "NOx         0\n",
              "CO          0\n",
              "SO2         0\n",
              "O3          0\n",
              "AQI         0\n",
              "temp        0\n",
              "max_temp    0\n",
              "min_temp    0\n",
              "humid       0\n",
              "visible     0\n",
              "wind        0\n",
              "dtype: int64"
            ]
          },
          "metadata": {},
          "execution_count": 36
        }
      ]
    },
    {
      "cell_type": "code",
      "metadata": {
        "colab": {
          "base_uri": "https://localhost:8080/"
        },
        "id": "f8sNZNzdQRki",
        "outputId": "840b686b-7b57-40f0-b592-34e5d52aa083"
      },
      "source": [
        "df.shape"
      ],
      "execution_count": null,
      "outputs": [
        {
          "output_type": "execute_result",
          "data": {
            "text/plain": [
              "(1441, 14)"
            ]
          },
          "metadata": {},
          "execution_count": 37
        }
      ]
    },
    {
      "cell_type": "markdown",
      "metadata": {
        "id": "G_1eWNGyScH8"
      },
      "source": [
        "### Visualization"
      ]
    },
    {
      "cell_type": "code",
      "metadata": {
        "id": "teEAvtFmQRiR"
      },
      "source": [
        "df.plot(subplots=True, layout=(5,3),figsize=(22,18))\n",
        "plt.show()"
      ],
      "execution_count": null,
      "outputs": []
    },
    {
      "cell_type": "markdown",
      "metadata": {
        "id": "aIOBQ-wxpmuf"
      },
      "source": [
        "Climatic conditions shows seasonal variation\n",
        "\n",
        "Pollutants data show white noise i.e. no seasonality,trend,cyclic pattern"
      ]
    },
    {
      "cell_type": "code",
      "metadata": {
        "id": "iLvHYAxUSqGa",
        "colab": {
          "base_uri": "https://localhost:8080/",
          "height": 300
        },
        "outputId": "f4ff62b1-a901-4850-edf5-e3bac10ef4f6"
      },
      "source": [
        "df.describe()"
      ],
      "execution_count": null,
      "outputs": [
        {
          "output_type": "execute_result",
          "data": {
            "text/html": [
              "<div>\n",
              "<style scoped>\n",
              "    .dataframe tbody tr th:only-of-type {\n",
              "        vertical-align: middle;\n",
              "    }\n",
              "\n",
              "    .dataframe tbody tr th {\n",
              "        vertical-align: top;\n",
              "    }\n",
              "\n",
              "    .dataframe thead th {\n",
              "        text-align: right;\n",
              "    }\n",
              "</style>\n",
              "<table border=\"1\" class=\"dataframe\">\n",
              "  <thead>\n",
              "    <tr style=\"text-align: right;\">\n",
              "      <th></th>\n",
              "      <th>PM2.5</th>\n",
              "      <th>PM10</th>\n",
              "      <th>NO2</th>\n",
              "      <th>NOx</th>\n",
              "      <th>CO</th>\n",
              "      <th>SO2</th>\n",
              "      <th>O3</th>\n",
              "      <th>AQI</th>\n",
              "      <th>temp</th>\n",
              "      <th>max_temp</th>\n",
              "      <th>min_temp</th>\n",
              "      <th>humid</th>\n",
              "      <th>visible</th>\n",
              "      <th>wind</th>\n",
              "    </tr>\n",
              "  </thead>\n",
              "  <tbody>\n",
              "    <tr>\n",
              "      <th>count</th>\n",
              "      <td>1441.000000</td>\n",
              "      <td>1441.000000</td>\n",
              "      <td>1441.000000</td>\n",
              "      <td>1441.000000</td>\n",
              "      <td>1441.000000</td>\n",
              "      <td>1441.000000</td>\n",
              "      <td>1441.000000</td>\n",
              "      <td>1441.000000</td>\n",
              "      <td>1441.000000</td>\n",
              "      <td>1441.000000</td>\n",
              "      <td>1441.000000</td>\n",
              "      <td>1441.000000</td>\n",
              "      <td>1441.000000</td>\n",
              "      <td>1441.000000</td>\n",
              "    </tr>\n",
              "    <tr>\n",
              "      <th>mean</th>\n",
              "      <td>38.516197</td>\n",
              "      <td>86.403688</td>\n",
              "      <td>30.930035</td>\n",
              "      <td>21.236298</td>\n",
              "      <td>1.052817</td>\n",
              "      <td>5.190704</td>\n",
              "      <td>34.729306</td>\n",
              "      <td>92.549618</td>\n",
              "      <td>24.284629</td>\n",
              "      <td>30.364851</td>\n",
              "      <td>19.864920</td>\n",
              "      <td>63.846287</td>\n",
              "      <td>6.605378</td>\n",
              "      <td>4.567071</td>\n",
              "    </tr>\n",
              "    <tr>\n",
              "      <th>std</th>\n",
              "      <td>25.512296</td>\n",
              "      <td>38.848527</td>\n",
              "      <td>12.821305</td>\n",
              "      <td>15.460293</td>\n",
              "      <td>2.013404</td>\n",
              "      <td>2.231657</td>\n",
              "      <td>17.781051</td>\n",
              "      <td>38.221982</td>\n",
              "      <td>2.304382</td>\n",
              "      <td>2.932811</td>\n",
              "      <td>2.322212</td>\n",
              "      <td>15.450047</td>\n",
              "      <td>0.635529</td>\n",
              "      <td>2.696078</td>\n",
              "    </tr>\n",
              "    <tr>\n",
              "      <th>min</th>\n",
              "      <td>1.720000</td>\n",
              "      <td>9.930000</td>\n",
              "      <td>3.000000</td>\n",
              "      <td>0.470000</td>\n",
              "      <td>0.080000</td>\n",
              "      <td>1.060000</td>\n",
              "      <td>3.140000</td>\n",
              "      <td>20.000000</td>\n",
              "      <td>18.900000</td>\n",
              "      <td>21.600000</td>\n",
              "      <td>12.000000</td>\n",
              "      <td>17.000000</td>\n",
              "      <td>3.700000</td>\n",
              "      <td>0.200000</td>\n",
              "    </tr>\n",
              "    <tr>\n",
              "      <th>25%</th>\n",
              "      <td>22.490000</td>\n",
              "      <td>58.260000</td>\n",
              "      <td>22.840000</td>\n",
              "      <td>6.009755</td>\n",
              "      <td>0.680000</td>\n",
              "      <td>3.870000</td>\n",
              "      <td>20.490000</td>\n",
              "      <td>66.000000</td>\n",
              "      <td>22.700000</td>\n",
              "      <td>28.200000</td>\n",
              "      <td>18.600000</td>\n",
              "      <td>51.000000</td>\n",
              "      <td>6.300000</td>\n",
              "      <td>2.800000</td>\n",
              "    </tr>\n",
              "    <tr>\n",
              "      <th>50%</th>\n",
              "      <td>32.610000</td>\n",
              "      <td>80.700000</td>\n",
              "      <td>29.530000</td>\n",
              "      <td>21.490000</td>\n",
              "      <td>0.860000</td>\n",
              "      <td>4.900000</td>\n",
              "      <td>31.123913</td>\n",
              "      <td>85.000000</td>\n",
              "      <td>23.800000</td>\n",
              "      <td>29.700000</td>\n",
              "      <td>20.200000</td>\n",
              "      <td>66.000000</td>\n",
              "      <td>6.900000</td>\n",
              "      <td>3.900000</td>\n",
              "    </tr>\n",
              "    <tr>\n",
              "      <th>75%</th>\n",
              "      <td>46.940000</td>\n",
              "      <td>107.540000</td>\n",
              "      <td>36.610000</td>\n",
              "      <td>30.040000</td>\n",
              "      <td>1.020000</td>\n",
              "      <td>6.140000</td>\n",
              "      <td>47.770000</td>\n",
              "      <td>111.000000</td>\n",
              "      <td>25.600000</td>\n",
              "      <td>32.200000</td>\n",
              "      <td>21.200000</td>\n",
              "      <td>76.000000</td>\n",
              "      <td>6.900000</td>\n",
              "      <td>5.900000</td>\n",
              "    </tr>\n",
              "    <tr>\n",
              "      <th>max</th>\n",
              "      <td>313.590000</td>\n",
              "      <td>351.510000</td>\n",
              "      <td>142.350000</td>\n",
              "      <td>147.060000</td>\n",
              "      <td>47.930000</td>\n",
              "      <td>24.020000</td>\n",
              "      <td>109.970000</td>\n",
              "      <td>352.000000</td>\n",
              "      <td>31.400000</td>\n",
              "      <td>39.200000</td>\n",
              "      <td>25.800000</td>\n",
              "      <td>97.000000</td>\n",
              "      <td>9.200000</td>\n",
              "      <td>14.800000</td>\n",
              "    </tr>\n",
              "  </tbody>\n",
              "</table>\n",
              "</div>"
            ],
            "text/plain": [
              "             PM2.5         PM10  ...      visible         wind\n",
              "count  1441.000000  1441.000000  ...  1441.000000  1441.000000\n",
              "mean     38.516197    86.403688  ...     6.605378     4.567071\n",
              "std      25.512296    38.848527  ...     0.635529     2.696078\n",
              "min       1.720000     9.930000  ...     3.700000     0.200000\n",
              "25%      22.490000    58.260000  ...     6.300000     2.800000\n",
              "50%      32.610000    80.700000  ...     6.900000     3.900000\n",
              "75%      46.940000   107.540000  ...     6.900000     5.900000\n",
              "max     313.590000   351.510000  ...     9.200000    14.800000\n",
              "\n",
              "[8 rows x 14 columns]"
            ]
          },
          "metadata": {},
          "execution_count": 39
        }
      ]
    },
    {
      "cell_type": "code",
      "metadata": {
        "colab": {
          "base_uri": "https://localhost:8080/",
          "height": 237
        },
        "id": "KZzIIIHgnCje",
        "outputId": "98bc6092-415a-4582-8339-62b1835f2cdc"
      },
      "source": [
        "df.head()"
      ],
      "execution_count": null,
      "outputs": [
        {
          "output_type": "execute_result",
          "data": {
            "text/html": [
              "<div>\n",
              "<style scoped>\n",
              "    .dataframe tbody tr th:only-of-type {\n",
              "        vertical-align: middle;\n",
              "    }\n",
              "\n",
              "    .dataframe tbody tr th {\n",
              "        vertical-align: top;\n",
              "    }\n",
              "\n",
              "    .dataframe thead th {\n",
              "        text-align: right;\n",
              "    }\n",
              "</style>\n",
              "<table border=\"1\" class=\"dataframe\">\n",
              "  <thead>\n",
              "    <tr style=\"text-align: right;\">\n",
              "      <th></th>\n",
              "      <th>PM2.5</th>\n",
              "      <th>PM10</th>\n",
              "      <th>NO2</th>\n",
              "      <th>NOx</th>\n",
              "      <th>CO</th>\n",
              "      <th>SO2</th>\n",
              "      <th>O3</th>\n",
              "      <th>AQI</th>\n",
              "      <th>temp</th>\n",
              "      <th>max_temp</th>\n",
              "      <th>min_temp</th>\n",
              "      <th>humid</th>\n",
              "      <th>visible</th>\n",
              "      <th>wind</th>\n",
              "    </tr>\n",
              "    <tr>\n",
              "      <th>Date</th>\n",
              "      <th></th>\n",
              "      <th></th>\n",
              "      <th></th>\n",
              "      <th></th>\n",
              "      <th></th>\n",
              "      <th></th>\n",
              "      <th></th>\n",
              "      <th></th>\n",
              "      <th></th>\n",
              "      <th></th>\n",
              "      <th></th>\n",
              "      <th></th>\n",
              "      <th></th>\n",
              "      <th></th>\n",
              "    </tr>\n",
              "  </thead>\n",
              "  <tbody>\n",
              "    <tr>\n",
              "      <th>2016-01-01</th>\n",
              "      <td>56.40</td>\n",
              "      <td>95.08</td>\n",
              "      <td>51.73</td>\n",
              "      <td>34.31</td>\n",
              "      <td>0.69</td>\n",
              "      <td>7.44</td>\n",
              "      <td>55.96</td>\n",
              "      <td>101.0</td>\n",
              "      <td>20.1</td>\n",
              "      <td>28.4</td>\n",
              "      <td>15.7</td>\n",
              "      <td>54.0</td>\n",
              "      <td>6.0</td>\n",
              "      <td>3.0</td>\n",
              "    </tr>\n",
              "    <tr>\n",
              "      <th>2016-01-02</th>\n",
              "      <td>53.69</td>\n",
              "      <td>93.92</td>\n",
              "      <td>73.09</td>\n",
              "      <td>54.77</td>\n",
              "      <td>0.76</td>\n",
              "      <td>8.67</td>\n",
              "      <td>34.06</td>\n",
              "      <td>92.0</td>\n",
              "      <td>20.8</td>\n",
              "      <td>28.3</td>\n",
              "      <td>12.9</td>\n",
              "      <td>45.0</td>\n",
              "      <td>6.3</td>\n",
              "      <td>1.1</td>\n",
              "    </tr>\n",
              "    <tr>\n",
              "      <th>2016-01-03</th>\n",
              "      <td>62.35</td>\n",
              "      <td>99.34</td>\n",
              "      <td>77.77</td>\n",
              "      <td>55.60</td>\n",
              "      <td>0.96</td>\n",
              "      <td>9.10</td>\n",
              "      <td>47.62</td>\n",
              "      <td>108.0</td>\n",
              "      <td>21.4</td>\n",
              "      <td>29.0</td>\n",
              "      <td>13.7</td>\n",
              "      <td>45.0</td>\n",
              "      <td>6.3</td>\n",
              "      <td>0.4</td>\n",
              "    </tr>\n",
              "    <tr>\n",
              "      <th>2016-01-04</th>\n",
              "      <td>64.96</td>\n",
              "      <td>104.62</td>\n",
              "      <td>77.07</td>\n",
              "      <td>50.81</td>\n",
              "      <td>0.89</td>\n",
              "      <td>8.87</td>\n",
              "      <td>50.62</td>\n",
              "      <td>109.0</td>\n",
              "      <td>21.5</td>\n",
              "      <td>29.0</td>\n",
              "      <td>15.2</td>\n",
              "      <td>47.0</td>\n",
              "      <td>6.9</td>\n",
              "      <td>2.2</td>\n",
              "    </tr>\n",
              "    <tr>\n",
              "      <th>2016-01-05</th>\n",
              "      <td>70.15</td>\n",
              "      <td>105.12</td>\n",
              "      <td>79.43</td>\n",
              "      <td>56.05</td>\n",
              "      <td>0.85</td>\n",
              "      <td>9.41</td>\n",
              "      <td>36.94</td>\n",
              "      <td>114.0</td>\n",
              "      <td>20.9</td>\n",
              "      <td>28.4</td>\n",
              "      <td>14.7</td>\n",
              "      <td>51.0</td>\n",
              "      <td>6.3</td>\n",
              "      <td>1.1</td>\n",
              "    </tr>\n",
              "  </tbody>\n",
              "</table>\n",
              "</div>"
            ],
            "text/plain": [
              "            PM2.5    PM10    NO2    NOx  ...  min_temp  humid  visible  wind\n",
              "Date                                     ...                                \n",
              "2016-01-01  56.40   95.08  51.73  34.31  ...      15.7   54.0      6.0   3.0\n",
              "2016-01-02  53.69   93.92  73.09  54.77  ...      12.9   45.0      6.3   1.1\n",
              "2016-01-03  62.35   99.34  77.77  55.60  ...      13.7   45.0      6.3   0.4\n",
              "2016-01-04  64.96  104.62  77.07  50.81  ...      15.2   47.0      6.9   2.2\n",
              "2016-01-05  70.15  105.12  79.43  56.05  ...      14.7   51.0      6.3   1.1\n",
              "\n",
              "[5 rows x 14 columns]"
            ]
          },
          "metadata": {},
          "execution_count": 40
        }
      ]
    },
    {
      "cell_type": "markdown",
      "metadata": {
        "id": "Iet5S9fF3p4U"
      },
      "source": [
        "### Delete AQI col from independent features"
      ]
    },
    {
      "cell_type": "code",
      "metadata": {
        "colab": {
          "base_uri": "https://localhost:8080/",
          "height": 237
        },
        "id": "2l0aITKY3uVG",
        "outputId": "75417dfc-51db-42a6-862e-94dedf32c253"
      },
      "source": [
        "df = df.drop(columns=['AQI'])\n",
        "df.head()"
      ],
      "execution_count": null,
      "outputs": [
        {
          "output_type": "execute_result",
          "data": {
            "text/html": [
              "<div>\n",
              "<style scoped>\n",
              "    .dataframe tbody tr th:only-of-type {\n",
              "        vertical-align: middle;\n",
              "    }\n",
              "\n",
              "    .dataframe tbody tr th {\n",
              "        vertical-align: top;\n",
              "    }\n",
              "\n",
              "    .dataframe thead th {\n",
              "        text-align: right;\n",
              "    }\n",
              "</style>\n",
              "<table border=\"1\" class=\"dataframe\">\n",
              "  <thead>\n",
              "    <tr style=\"text-align: right;\">\n",
              "      <th></th>\n",
              "      <th>PM2.5</th>\n",
              "      <th>PM10</th>\n",
              "      <th>NO2</th>\n",
              "      <th>NOx</th>\n",
              "      <th>CO</th>\n",
              "      <th>SO2</th>\n",
              "      <th>O3</th>\n",
              "      <th>temp</th>\n",
              "      <th>max_temp</th>\n",
              "      <th>min_temp</th>\n",
              "      <th>humid</th>\n",
              "      <th>visible</th>\n",
              "      <th>wind</th>\n",
              "    </tr>\n",
              "    <tr>\n",
              "      <th>Date</th>\n",
              "      <th></th>\n",
              "      <th></th>\n",
              "      <th></th>\n",
              "      <th></th>\n",
              "      <th></th>\n",
              "      <th></th>\n",
              "      <th></th>\n",
              "      <th></th>\n",
              "      <th></th>\n",
              "      <th></th>\n",
              "      <th></th>\n",
              "      <th></th>\n",
              "      <th></th>\n",
              "    </tr>\n",
              "  </thead>\n",
              "  <tbody>\n",
              "    <tr>\n",
              "      <th>2016-01-01</th>\n",
              "      <td>56.40</td>\n",
              "      <td>95.08</td>\n",
              "      <td>51.73</td>\n",
              "      <td>34.31</td>\n",
              "      <td>0.69</td>\n",
              "      <td>7.44</td>\n",
              "      <td>55.96</td>\n",
              "      <td>20.1</td>\n",
              "      <td>28.4</td>\n",
              "      <td>15.7</td>\n",
              "      <td>54.0</td>\n",
              "      <td>6.0</td>\n",
              "      <td>3.0</td>\n",
              "    </tr>\n",
              "    <tr>\n",
              "      <th>2016-01-02</th>\n",
              "      <td>53.69</td>\n",
              "      <td>93.92</td>\n",
              "      <td>73.09</td>\n",
              "      <td>54.77</td>\n",
              "      <td>0.76</td>\n",
              "      <td>8.67</td>\n",
              "      <td>34.06</td>\n",
              "      <td>20.8</td>\n",
              "      <td>28.3</td>\n",
              "      <td>12.9</td>\n",
              "      <td>45.0</td>\n",
              "      <td>6.3</td>\n",
              "      <td>1.1</td>\n",
              "    </tr>\n",
              "    <tr>\n",
              "      <th>2016-01-03</th>\n",
              "      <td>62.35</td>\n",
              "      <td>99.34</td>\n",
              "      <td>77.77</td>\n",
              "      <td>55.60</td>\n",
              "      <td>0.96</td>\n",
              "      <td>9.10</td>\n",
              "      <td>47.62</td>\n",
              "      <td>21.4</td>\n",
              "      <td>29.0</td>\n",
              "      <td>13.7</td>\n",
              "      <td>45.0</td>\n",
              "      <td>6.3</td>\n",
              "      <td>0.4</td>\n",
              "    </tr>\n",
              "    <tr>\n",
              "      <th>2016-01-04</th>\n",
              "      <td>64.96</td>\n",
              "      <td>104.62</td>\n",
              "      <td>77.07</td>\n",
              "      <td>50.81</td>\n",
              "      <td>0.89</td>\n",
              "      <td>8.87</td>\n",
              "      <td>50.62</td>\n",
              "      <td>21.5</td>\n",
              "      <td>29.0</td>\n",
              "      <td>15.2</td>\n",
              "      <td>47.0</td>\n",
              "      <td>6.9</td>\n",
              "      <td>2.2</td>\n",
              "    </tr>\n",
              "    <tr>\n",
              "      <th>2016-01-05</th>\n",
              "      <td>70.15</td>\n",
              "      <td>105.12</td>\n",
              "      <td>79.43</td>\n",
              "      <td>56.05</td>\n",
              "      <td>0.85</td>\n",
              "      <td>9.41</td>\n",
              "      <td>36.94</td>\n",
              "      <td>20.9</td>\n",
              "      <td>28.4</td>\n",
              "      <td>14.7</td>\n",
              "      <td>51.0</td>\n",
              "      <td>6.3</td>\n",
              "      <td>1.1</td>\n",
              "    </tr>\n",
              "  </tbody>\n",
              "</table>\n",
              "</div>"
            ],
            "text/plain": [
              "            PM2.5    PM10    NO2    NOx  ...  min_temp  humid  visible  wind\n",
              "Date                                     ...                                \n",
              "2016-01-01  56.40   95.08  51.73  34.31  ...      15.7   54.0      6.0   3.0\n",
              "2016-01-02  53.69   93.92  73.09  54.77  ...      12.9   45.0      6.3   1.1\n",
              "2016-01-03  62.35   99.34  77.77  55.60  ...      13.7   45.0      6.3   0.4\n",
              "2016-01-04  64.96  104.62  77.07  50.81  ...      15.2   47.0      6.9   2.2\n",
              "2016-01-05  70.15  105.12  79.43  56.05  ...      14.7   51.0      6.3   1.1\n",
              "\n",
              "[5 rows x 13 columns]"
            ]
          },
          "metadata": {},
          "execution_count": 41
        }
      ]
    },
    {
      "cell_type": "code",
      "metadata": {
        "id": "b49axrwFCRm8"
      },
      "source": [
        "# df.to_csv('train_x.csv')\n",
        "# target.to_csv('train_y.csv')"
      ],
      "execution_count": null,
      "outputs": []
    },
    {
      "cell_type": "markdown",
      "metadata": {
        "id": "5uZiincDqa6h"
      },
      "source": [
        "### Standard Scaler"
      ]
    },
    {
      "cell_type": "code",
      "source": [
        "# [1,2,2] will become [[1],[2],[2]]"
      ],
      "metadata": {
        "id": "rLczdwoiM1ML"
      },
      "execution_count": null,
      "outputs": []
    },
    {
      "cell_type": "code",
      "metadata": {
        "colab": {
          "base_uri": "https://localhost:8080/"
        },
        "id": "wx_cWrrbPbJe",
        "outputId": "cd161a51-170d-4f6d-be49-f911f3358717"
      },
      "source": [
        "df.shape,target.values.reshape(-1,1).shape"
      ],
      "execution_count": null,
      "outputs": [
        {
          "output_type": "execute_result",
          "data": {
            "text/plain": [
              "((1441, 13), (1441, 1))"
            ]
          },
          "metadata": {},
          "execution_count": 43
        }
      ]
    },
    {
      "cell_type": "code",
      "metadata": {
        "id": "Biv6JEJOTd-8"
      },
      "source": [
        "from sklearn.preprocessing import StandardScaler\n",
        "\n",
        "sc = StandardScaler()\n",
        "sc_target = StandardScaler()\n",
        "\n",
        "X_scaler = sc.fit_transform(df)\n",
        "Y_scaler = sc_target.fit_transform(target.values.reshape(-1,1))\n",
        "# StandardScaler take 2D array"
      ],
      "execution_count": null,
      "outputs": []
    },
    {
      "cell_type": "code",
      "metadata": {
        "colab": {
          "base_uri": "https://localhost:8080/"
        },
        "id": "xfp5aWEJpQMa",
        "outputId": "92366cc9-8537-4ab4-b2e5-6574510766e6"
      },
      "source": [
        "type(X_scaler), type(Y_scaler)"
      ],
      "execution_count": null,
      "outputs": [
        {
          "output_type": "execute_result",
          "data": {
            "text/plain": [
              "(numpy.ndarray, numpy.ndarray)"
            ]
          },
          "metadata": {},
          "execution_count": 45
        }
      ]
    },
    {
      "cell_type": "code",
      "metadata": {
        "colab": {
          "base_uri": "https://localhost:8080/"
        },
        "id": "9GGIp_QpoD4Y",
        "outputId": "b8d9a06a-ee49-43f1-ed4c-4ed8bbe71278"
      },
      "source": [
        "X_scaler[0]"
      ],
      "execution_count": null,
      "outputs": [
        {
          "output_type": "execute_result",
          "data": {
            "text/plain": [
              "array([ 0.70123094,  0.22341448,  1.62286025,  0.84592452, -0.18026357,\n",
              "        1.00825383,  1.19442119, -1.81657462, -0.67018747, -1.79413706,\n",
              "       -0.63751945, -0.95288902, -0.58144294])"
            ]
          },
          "metadata": {},
          "execution_count": 46
        }
      ]
    },
    {
      "cell_type": "code",
      "metadata": {
        "colab": {
          "base_uri": "https://localhost:8080/"
        },
        "id": "YS9TuCj5n8gN",
        "outputId": "01fe367f-3eea-4ae9-eca2-e7e50e49ec77"
      },
      "source": [
        "Y_scaler"
      ],
      "execution_count": null,
      "outputs": [
        {
          "output_type": "execute_result",
          "data": {
            "text/plain": [
              "array([[ 0.22116371],\n",
              "       [-0.01438463],\n",
              "       [ 0.40436797],\n",
              "       ...,\n",
              "       [-0.32844908],\n",
              "       [ 0.01178741],\n",
              "       [ 0.11647556]])"
            ]
          },
          "metadata": {},
          "execution_count": 47
        }
      ]
    },
    {
      "cell_type": "code",
      "metadata": {
        "colab": {
          "base_uri": "https://localhost:8080/"
        },
        "id": "mK8nFJtKBeQ-",
        "outputId": "99f7e022-981e-4c10-8d80-ad75246c861f"
      },
      "source": [
        "X_scaler.shape, Y_scaler.shape"
      ],
      "execution_count": null,
      "outputs": [
        {
          "output_type": "execute_result",
          "data": {
            "text/plain": [
              "((1441, 13), (1441, 1))"
            ]
          },
          "metadata": {},
          "execution_count": 48
        }
      ]
    },
    {
      "cell_type": "code",
      "metadata": {
        "id": "oS-E1fjBu8FY"
      },
      "source": [
        "def custom_dataset(dataset, target, start, end, previous, future):\n",
        "  X = []\n",
        "  y = []\n",
        "  start = start + previous\n",
        "  end = end - future + 1\n",
        "  #  if end is None:\n",
        "  for i in range(start, end):\n",
        "      indices_x = range(i-previous, i)\n",
        "      X.append(dataset[indices_x])\n",
        "      indices_y = range(i, i+future)\n",
        "      y.append(target[indices_y])\n",
        "  return np.array(X), np.array(y)"
      ],
      "execution_count": null,
      "outputs": []
    },
    {
      "cell_type": "code",
      "metadata": {
        "id": "JxSllW492KOD",
        "colab": {
          "base_uri": "https://localhost:8080/"
        },
        "outputId": "119fefb8-6e16-45cb-db02-a0bbc916c8ba"
      },
      "source": [
        "prev = 7\n",
        "future = 1\n",
        "start = 0\n",
        "end = X_scaler.shape[0]-1\n",
        "\n",
        "X_train, Y_train = custom_dataset(X_scaler, Y_scaler, start, end, prev, future)\n",
        "X_train[:1]"
      ],
      "execution_count": null,
      "outputs": [
        {
          "output_type": "execute_result",
          "data": {
            "text/plain": [
              "array([[[ 0.70123094,  0.22341448,  1.62286025,  0.84592452,\n",
              "         -0.18026357,  1.00825383,  1.19442119, -1.81657462,\n",
              "         -0.67018747, -1.79413706, -0.63751945, -0.95288902,\n",
              "         -0.58144294],\n",
              "        [ 0.59497078,  0.19354456,  3.28941567,  2.16977412,\n",
              "         -0.14548452,  1.5596052 , -0.0376546 , -1.51270006,\n",
              "         -0.70429629, -3.00030274, -1.22024417, -0.48067727,\n",
              "         -1.28641499],\n",
              "        [ 0.93453278,  0.33310922,  3.65455984,  2.22347867,\n",
              "         -0.04611578,  1.75235405,  0.72521972, -1.25223614,\n",
              "         -0.46553454, -2.65568398, -1.22024417, -0.48067727,\n",
              "         -1.54614153],\n",
              "        [ 1.0368719 ,  0.46906889,  3.59994426,  1.91354517,\n",
              "         -0.08089484,  1.64925583,  0.89399723, -1.20882549,\n",
              "         -0.46553454, -2.00952379, -1.09074978,  0.46374624,\n",
              "         -0.87827328],\n",
              "        [ 1.24037384,  0.48194386,  3.78407679,  2.2525956 ,\n",
              "         -0.10076859,  1.89131253,  0.1243718 , -1.46928941,\n",
              "         -0.67018747, -2.22491052, -0.83176102, -0.48067727,\n",
              "         -1.28641499],\n",
              "        [ 1.16469779,  0.13740969,  2.93129351,  2.20924373,\n",
              "         -0.06102109,  4.05189267,  0.63295469, -1.12200419,\n",
              "         -0.567861  , -1.9233691 , -0.63751945, -0.95288902,\n",
              "         -0.95248086],\n",
              "        [ 1.18508719, -0.31166922,  1.74145408,  2.41759152,\n",
              "         -0.13057921,  8.27443728, -0.64919176, -1.42587875,\n",
              "         -0.567861  , -1.23413157,  0.07469966, -0.48067727,\n",
              "         -0.54433915]]])"
            ]
          },
          "metadata": {},
          "execution_count": 50
        }
      ]
    },
    {
      "cell_type": "code",
      "metadata": {
        "colab": {
          "base_uri": "https://localhost:8080/"
        },
        "id": "1O7vEMk8u8EA",
        "outputId": "40f1c50a-89a4-4e83-ad42-9b69a2f9d4a9"
      },
      "source": [
        "X_train.shape, Y_train.shape"
      ],
      "execution_count": null,
      "outputs": [
        {
          "output_type": "execute_result",
          "data": {
            "text/plain": [
              "((1433, 7, 13), (1433, 1, 1))"
            ]
          },
          "metadata": {},
          "execution_count": 51
        }
      ]
    },
    {
      "cell_type": "markdown",
      "metadata": {
        "id": "8AfghP3Kvpo0"
      },
      "source": [
        "# PyTorch"
      ]
    },
    {
      "cell_type": "code",
      "metadata": {
        "id": "J-WTlRo_TBwK"
      },
      "source": [
        "import torch\n",
        "import torch.nn as nn\n",
        "from torch.autograd import Variable "
      ],
      "execution_count": null,
      "outputs": []
    },
    {
      "cell_type": "code",
      "metadata": {
        "id": "I9PjSfqiTBsq"
      },
      "source": [
        "X_train_tensors = Variable(torch.Tensor(X_train))\n",
        "y_train_tensors = Variable(torch.Tensor(Y_train))"
      ],
      "execution_count": null,
      "outputs": []
    },
    {
      "cell_type": "code",
      "metadata": {
        "colab": {
          "base_uri": "https://localhost:8080/"
        },
        "id": "LZUsCUpoTT-_",
        "outputId": "b3952c6d-623d-46fc-94e1-3cb2224a8e1f"
      },
      "source": [
        "X_train_tensors.size(), y_train_tensors.size()"
      ],
      "execution_count": null,
      "outputs": [
        {
          "output_type": "execute_result",
          "data": {
            "text/plain": [
              "(torch.Size([1433, 7, 13]), torch.Size([1433, 1, 1]))"
            ]
          },
          "metadata": {},
          "execution_count": 54
        }
      ]
    },
    {
      "cell_type": "code",
      "metadata": {
        "colab": {
          "base_uri": "https://localhost:8080/"
        },
        "id": "-_o3PdFcy-XM",
        "outputId": "6ea3efc7-4fae-449b-8928-685decb9b3d0"
      },
      "source": [
        "y_train_tensors = torch.reshape(y_train_tensors, (-1,future))\n",
        "y_train_tensors"
      ],
      "execution_count": null,
      "outputs": [
        {
          "output_type": "execute_result",
          "data": {
            "text/plain": [
              "tensor([[ 0.6399],\n",
              "        [ 1.3204],\n",
              "        [ 1.9747],\n",
              "        ...,\n",
              "        [-0.2761],\n",
              "        [-0.3284],\n",
              "        [ 0.0118]])"
            ]
          },
          "metadata": {},
          "execution_count": 55
        }
      ]
    },
    {
      "cell_type": "code",
      "metadata": {
        "colab": {
          "base_uri": "https://localhost:8080/"
        },
        "id": "yXzwxlQizYGZ",
        "outputId": "22bbdfec-17d5-4413-8295-83803297ec99"
      },
      "source": [
        "y_train_tensors.size()"
      ],
      "execution_count": null,
      "outputs": [
        {
          "output_type": "execute_result",
          "data": {
            "text/plain": [
              "torch.Size([1433, 1])"
            ]
          },
          "metadata": {},
          "execution_count": 56
        }
      ]
    },
    {
      "cell_type": "code",
      "metadata": {
        "id": "tubXGhx43Cjk"
      },
      "source": [
        "class LSTM1(nn.Module):\n",
        "    def __init__(self, num_classes, input_size, hidden_size, num_layers, seq_length):\n",
        "        super(LSTM1, self).__init__()\n",
        "        self.num_classes = num_classes \n",
        "        self.num_layers = num_layers \n",
        "        self.input_size = input_size \n",
        "        self.hidden_size = hidden_size\n",
        "        self.seq_length = seq_length \n",
        "\n",
        "        self.lstm = nn.LSTM(input_size=input_size, hidden_size=hidden_size, num_layers=num_layers, dropout=0.5, batch_first=True) #lstm\n",
        "        self.lstm2 = nn.LSTM(input_size=hidden_size, hidden_size=hidden_size, num_layers=num_layers, batch_first=True) #lstm\n",
        "\n",
        "        self.fc_1 =  nn.Linear(hidden_size, 128) \n",
        "\n",
        "        self.fc_2 =  nn.Linear(128, 64)\n",
        "\n",
        "        self.fc = nn.Linear(64, num_classes)\n",
        "\n",
        "        self.relu = nn.ReLU()\n",
        "    \n",
        "    def forward(self,x):\n",
        "        h_0 = Variable(torch.randn(self.num_layers, x.size(0), self.hidden_size))\n",
        "        c_0 = Variable(torch.randn(self.num_layers, x.size(0), self.hidden_size))\n",
        "        output, (hn, cn) = self.lstm(x, (h_0, c_0)) \n",
        "        output, (hn, cn) = self.lstm2(output, (hn, cn))\n",
        "        hn = hn.view(-1, self.hidden_size)\n",
        "        out = self.relu(hn)\n",
        "        out = self.fc_1(out) \n",
        "        out = self.relu(out) \n",
        "\n",
        "        out = self.fc_2(out)\n",
        "        out = self.relu(out)\n",
        "\n",
        "        out = self.fc(out) \n",
        "        return out"
      ],
      "execution_count": null,
      "outputs": []
    },
    {
      "cell_type": "code",
      "metadata": {
        "id": "IjyT2MhJTBhE"
      },
      "source": [
        "num_epochs = 1000 \n",
        "learning_rate = 0.001\n",
        "\n",
        "input_size = 13 #number of features\n",
        "hidden_size = 2 #number of features in hidden state\n",
        "num_layers = 1 #number of stacked lstm layers\n",
        "\n",
        "num_classes = 1 #number of output classes "
      ],
      "execution_count": null,
      "outputs": []
    },
    {
      "cell_type": "code",
      "metadata": {
        "id": "DGL53SzDTBeq",
        "colab": {
          "base_uri": "https://localhost:8080/"
        },
        "outputId": "16f97e7d-70be-4e29-ba9d-18a16c375f82"
      },
      "source": [
        "lstm1 = LSTM1(num_classes, input_size, hidden_size, num_layers, X_train_tensors.shape[1]) "
      ],
      "execution_count": null,
      "outputs": [
        {
          "output_type": "stream",
          "name": "stderr",
          "text": [
            "/usr/local/lib/python3.7/dist-packages/torch/nn/modules/rnn.py:65: UserWarning: dropout option adds dropout after all but last recurrent layer, so non-zero dropout expects num_layers greater than 1, but got dropout=0.5 and num_layers=1\n",
            "  \"num_layers={}\".format(dropout, num_layers))\n"
          ]
        }
      ]
    },
    {
      "cell_type": "code",
      "metadata": {
        "id": "xz5BBJRiTBch"
      },
      "source": [
        "# loss fn\n",
        "criterion = torch.nn.MSELoss()    \n",
        "# optimizer\n",
        "#  the learnable parameters (i.e. weights and biases) of a torch.nn.Module model are contained in the model’s parameters \n",
        "optimizer = torch.optim.Adam(lstm1.parameters(), lr=learning_rate)"
      ],
      "execution_count": null,
      "outputs": []
    },
    {
      "cell_type": "code",
      "metadata": {
        "colab": {
          "base_uri": "https://localhost:8080/"
        },
        "id": "uuarq97YTBaN",
        "outputId": "ce6b93d1-54e6-476f-8512-a813060bca1a"
      },
      "source": [
        "lstm1"
      ],
      "execution_count": null,
      "outputs": [
        {
          "output_type": "execute_result",
          "data": {
            "text/plain": [
              "LSTM1(\n",
              "  (lstm): LSTM(13, 2, batch_first=True, dropout=0.5)\n",
              "  (lstm2): LSTM(2, 2, batch_first=True)\n",
              "  (fc_1): Linear(in_features=2, out_features=128, bias=True)\n",
              "  (fc_2): Linear(in_features=128, out_features=64, bias=True)\n",
              "  (fc): Linear(in_features=64, out_features=1, bias=True)\n",
              "  (relu): ReLU()\n",
              ")"
            ]
          },
          "metadata": {},
          "execution_count": 67
        }
      ]
    },
    {
      "cell_type": "code",
      "metadata": {
        "colab": {
          "base_uri": "https://localhost:8080/"
        },
        "id": "qmf54Zz9TBX_",
        "outputId": "87528ba0-f6a3-4505-b405-0e40241a553d"
      },
      "source": [
        "for epoch in range(num_epochs):\n",
        "  # pred values \n",
        "  outputs = lstm1.forward(X_train_tensors)\n",
        "\n",
        "  # for every new batch, set grad of learnable parameters inside nn.module model=0\n",
        "  optimizer.zero_grad()\n",
        "\n",
        "  # calculate loss\n",
        "  loss = criterion(outputs, y_train_tensors)\n",
        " \n",
        "  # computes the gradient of loss wrt learnable parameters x and save values in x.grad\n",
        "  loss.backward() \n",
        " \n",
        "#  update the weights,lr\n",
        "  optimizer.step() \n",
        "\n",
        "  if epoch % 100 == 0:\n",
        "    print(\"Epoch: %d, loss: %1.5f\" % (epoch, loss.item())) "
      ],
      "execution_count": null,
      "outputs": [
        {
          "output_type": "stream",
          "name": "stdout",
          "text": [
            "Epoch: 0, loss: 1.01282\n",
            "Epoch: 100, loss: 0.71647\n",
            "Epoch: 200, loss: 0.63514\n",
            "Epoch: 300, loss: 0.55181\n",
            "Epoch: 400, loss: 0.48856\n",
            "Epoch: 500, loss: 0.42898\n",
            "Epoch: 600, loss: 0.39081\n",
            "Epoch: 700, loss: 0.36060\n",
            "Epoch: 800, loss: 0.32517\n",
            "Epoch: 900, loss: 0.31144\n"
          ]
        }
      ]
    },
    {
      "cell_type": "code",
      "metadata": {
        "colab": {
          "base_uri": "https://localhost:8080/"
        },
        "id": "3uBgyhTG17Qn",
        "outputId": "15f6b3e9-39e0-4ba7-a5a3-a64c72f848b5"
      },
      "source": [
        "outputs.shape, y_train_tensors.shape"
      ],
      "execution_count": null,
      "outputs": [
        {
          "output_type": "execute_result",
          "data": {
            "text/plain": [
              "(torch.Size([1433, 1]), torch.Size([1433, 1]))"
            ]
          },
          "metadata": {},
          "execution_count": 69
        }
      ]
    },
    {
      "cell_type": "code",
      "metadata": {
        "colab": {
          "base_uri": "https://localhost:8080/"
        },
        "id": "pM3DLuJ5TBVn",
        "outputId": "941aadbc-13a4-4842-9671-1b0b4096b45d"
      },
      "source": [
        "print(len(outputs))"
      ],
      "execution_count": null,
      "outputs": [
        {
          "output_type": "stream",
          "name": "stdout",
          "text": [
            "1433\n"
          ]
        }
      ]
    },
    {
      "cell_type": "code",
      "metadata": {
        "colab": {
          "base_uri": "https://localhost:8080/"
        },
        "id": "VLokOtbRTBTJ",
        "outputId": "155d00d7-d8b4-4b56-dae3-a5ed44d97625"
      },
      "source": [
        "outputs # predicted by lstm"
      ],
      "execution_count": null,
      "outputs": [
        {
          "output_type": "execute_result",
          "data": {
            "text/plain": [
              "tensor([[ 0.8922],\n",
              "        [ 0.3571],\n",
              "        [ 2.0806],\n",
              "        ...,\n",
              "        [ 0.0150],\n",
              "        [-0.2990],\n",
              "        [-0.1483]], grad_fn=<AddmmBackward0>)"
            ]
          },
          "metadata": {},
          "execution_count": 71
        }
      ]
    },
    {
      "cell_type": "markdown",
      "metadata": {
        "id": "uuPyeJLXZ0_v"
      },
      "source": [
        "# Testing Dataset"
      ]
    },
    {
      "cell_type": "code",
      "metadata": {
        "id": "MG4XoARkLldH",
        "colab": {
          "base_uri": "https://localhost:8080/"
        },
        "outputId": "415bda61-5c5a-4956-8530-663160bb4a59"
      },
      "source": [
        "pollutants = pd.read_csv('/content/drive/MyDrive/Datasets/city_day.csv')\n",
        "pollutants.head()"
      ],
      "execution_count": null,
      "outputs": [
        {
          "output_type": "execute_result",
          "data": {
            "text/html": [
              "<div>\n",
              "<style scoped>\n",
              "    .dataframe tbody tr th:only-of-type {\n",
              "        vertical-align: middle;\n",
              "    }\n",
              "\n",
              "    .dataframe tbody tr th {\n",
              "        vertical-align: top;\n",
              "    }\n",
              "\n",
              "    .dataframe thead th {\n",
              "        text-align: right;\n",
              "    }\n",
              "</style>\n",
              "<table border=\"1\" class=\"dataframe\">\n",
              "  <thead>\n",
              "    <tr style=\"text-align: right;\">\n",
              "      <th></th>\n",
              "      <th>City</th>\n",
              "      <th>Date</th>\n",
              "      <th>PM2.5</th>\n",
              "      <th>PM10</th>\n",
              "      <th>NO</th>\n",
              "      <th>NO2</th>\n",
              "      <th>NOx</th>\n",
              "      <th>NH3</th>\n",
              "      <th>CO</th>\n",
              "      <th>SO2</th>\n",
              "      <th>O3</th>\n",
              "      <th>Benzene</th>\n",
              "      <th>Toluene</th>\n",
              "      <th>Xylene</th>\n",
              "      <th>AQI</th>\n",
              "      <th>AQI_Bucket</th>\n",
              "    </tr>\n",
              "  </thead>\n",
              "  <tbody>\n",
              "    <tr>\n",
              "      <th>0</th>\n",
              "      <td>Ahmedabad</td>\n",
              "      <td>2015-01-01</td>\n",
              "      <td>NaN</td>\n",
              "      <td>NaN</td>\n",
              "      <td>0.92</td>\n",
              "      <td>18.22</td>\n",
              "      <td>17.15</td>\n",
              "      <td>NaN</td>\n",
              "      <td>0.92</td>\n",
              "      <td>27.64</td>\n",
              "      <td>133.36</td>\n",
              "      <td>0.00</td>\n",
              "      <td>0.02</td>\n",
              "      <td>0.00</td>\n",
              "      <td>NaN</td>\n",
              "      <td>NaN</td>\n",
              "    </tr>\n",
              "    <tr>\n",
              "      <th>1</th>\n",
              "      <td>Ahmedabad</td>\n",
              "      <td>2015-01-02</td>\n",
              "      <td>NaN</td>\n",
              "      <td>NaN</td>\n",
              "      <td>0.97</td>\n",
              "      <td>15.69</td>\n",
              "      <td>16.46</td>\n",
              "      <td>NaN</td>\n",
              "      <td>0.97</td>\n",
              "      <td>24.55</td>\n",
              "      <td>34.06</td>\n",
              "      <td>3.68</td>\n",
              "      <td>5.50</td>\n",
              "      <td>3.77</td>\n",
              "      <td>NaN</td>\n",
              "      <td>NaN</td>\n",
              "    </tr>\n",
              "    <tr>\n",
              "      <th>2</th>\n",
              "      <td>Ahmedabad</td>\n",
              "      <td>2015-01-03</td>\n",
              "      <td>NaN</td>\n",
              "      <td>NaN</td>\n",
              "      <td>17.40</td>\n",
              "      <td>19.30</td>\n",
              "      <td>29.70</td>\n",
              "      <td>NaN</td>\n",
              "      <td>17.40</td>\n",
              "      <td>29.07</td>\n",
              "      <td>30.70</td>\n",
              "      <td>6.80</td>\n",
              "      <td>16.40</td>\n",
              "      <td>2.25</td>\n",
              "      <td>NaN</td>\n",
              "      <td>NaN</td>\n",
              "    </tr>\n",
              "    <tr>\n",
              "      <th>3</th>\n",
              "      <td>Ahmedabad</td>\n",
              "      <td>2015-01-04</td>\n",
              "      <td>NaN</td>\n",
              "      <td>NaN</td>\n",
              "      <td>1.70</td>\n",
              "      <td>18.48</td>\n",
              "      <td>17.97</td>\n",
              "      <td>NaN</td>\n",
              "      <td>1.70</td>\n",
              "      <td>18.59</td>\n",
              "      <td>36.08</td>\n",
              "      <td>4.43</td>\n",
              "      <td>10.14</td>\n",
              "      <td>1.00</td>\n",
              "      <td>NaN</td>\n",
              "      <td>NaN</td>\n",
              "    </tr>\n",
              "    <tr>\n",
              "      <th>4</th>\n",
              "      <td>Ahmedabad</td>\n",
              "      <td>2015-01-05</td>\n",
              "      <td>NaN</td>\n",
              "      <td>NaN</td>\n",
              "      <td>22.10</td>\n",
              "      <td>21.42</td>\n",
              "      <td>37.76</td>\n",
              "      <td>NaN</td>\n",
              "      <td>22.10</td>\n",
              "      <td>39.33</td>\n",
              "      <td>39.31</td>\n",
              "      <td>7.01</td>\n",
              "      <td>18.89</td>\n",
              "      <td>2.78</td>\n",
              "      <td>NaN</td>\n",
              "      <td>NaN</td>\n",
              "    </tr>\n",
              "  </tbody>\n",
              "</table>\n",
              "</div>"
            ],
            "text/plain": [
              "        City        Date  PM2.5  PM10  ...  Toluene  Xylene  AQI  AQI_Bucket\n",
              "0  Ahmedabad  2015-01-01    NaN   NaN  ...     0.02    0.00  NaN         NaN\n",
              "1  Ahmedabad  2015-01-02    NaN   NaN  ...     5.50    3.77  NaN         NaN\n",
              "2  Ahmedabad  2015-01-03    NaN   NaN  ...    16.40    2.25  NaN         NaN\n",
              "3  Ahmedabad  2015-01-04    NaN   NaN  ...    10.14    1.00  NaN         NaN\n",
              "4  Ahmedabad  2015-01-05    NaN   NaN  ...    18.89    2.78  NaN         NaN\n",
              "\n",
              "[5 rows x 16 columns]"
            ]
          },
          "metadata": {},
          "execution_count": 72
        }
      ]
    },
    {
      "cell_type": "code",
      "metadata": {
        "id": "8ToXrHPvLlac",
        "colab": {
          "base_uri": "https://localhost:8080/"
        },
        "outputId": "a6983f51-4b65-41af-cc27-3a1f9f1e5556"
      },
      "source": [
        "pollutants = pollutants[(pollutants['Date'] > '2019-12-31') & (pollutants['City'] == 'Bengaluru')]\n",
        "pollutants"
      ],
      "execution_count": null,
      "outputs": [
        {
          "output_type": "execute_result",
          "data": {
            "text/html": [
              "<div>\n",
              "<style scoped>\n",
              "    .dataframe tbody tr th:only-of-type {\n",
              "        vertical-align: middle;\n",
              "    }\n",
              "\n",
              "    .dataframe tbody tr th {\n",
              "        vertical-align: top;\n",
              "    }\n",
              "\n",
              "    .dataframe thead th {\n",
              "        text-align: right;\n",
              "    }\n",
              "</style>\n",
              "<table border=\"1\" class=\"dataframe\">\n",
              "  <thead>\n",
              "    <tr style=\"text-align: right;\">\n",
              "      <th></th>\n",
              "      <th>City</th>\n",
              "      <th>Date</th>\n",
              "      <th>PM2.5</th>\n",
              "      <th>PM10</th>\n",
              "      <th>NO</th>\n",
              "      <th>NO2</th>\n",
              "      <th>NOx</th>\n",
              "      <th>NH3</th>\n",
              "      <th>CO</th>\n",
              "      <th>SO2</th>\n",
              "      <th>O3</th>\n",
              "      <th>Benzene</th>\n",
              "      <th>Toluene</th>\n",
              "      <th>Xylene</th>\n",
              "      <th>AQI</th>\n",
              "      <th>AQI_Bucket</th>\n",
              "    </tr>\n",
              "  </thead>\n",
              "  <tbody>\n",
              "    <tr>\n",
              "      <th>6120</th>\n",
              "      <td>Bengaluru</td>\n",
              "      <td>2020-01-01</td>\n",
              "      <td>30.71</td>\n",
              "      <td>70.80</td>\n",
              "      <td>9.03</td>\n",
              "      <td>27.31</td>\n",
              "      <td>26.74</td>\n",
              "      <td>13.01</td>\n",
              "      <td>1.07</td>\n",
              "      <td>8.56</td>\n",
              "      <td>37.39</td>\n",
              "      <td>1.05</td>\n",
              "      <td>36.19</td>\n",
              "      <td>NaN</td>\n",
              "      <td>82.0</td>\n",
              "      <td>Satisfactory</td>\n",
              "    </tr>\n",
              "    <tr>\n",
              "      <th>6121</th>\n",
              "      <td>Bengaluru</td>\n",
              "      <td>2020-01-02</td>\n",
              "      <td>25.78</td>\n",
              "      <td>62.73</td>\n",
              "      <td>8.81</td>\n",
              "      <td>28.05</td>\n",
              "      <td>30.18</td>\n",
              "      <td>12.40</td>\n",
              "      <td>1.16</td>\n",
              "      <td>7.52</td>\n",
              "      <td>33.11</td>\n",
              "      <td>0.95</td>\n",
              "      <td>34.36</td>\n",
              "      <td>NaN</td>\n",
              "      <td>81.0</td>\n",
              "      <td>Satisfactory</td>\n",
              "    </tr>\n",
              "    <tr>\n",
              "      <th>6122</th>\n",
              "      <td>Bengaluru</td>\n",
              "      <td>2020-01-03</td>\n",
              "      <td>29.66</td>\n",
              "      <td>69.62</td>\n",
              "      <td>6.62</td>\n",
              "      <td>26.26</td>\n",
              "      <td>26.92</td>\n",
              "      <td>12.87</td>\n",
              "      <td>0.99</td>\n",
              "      <td>6.40</td>\n",
              "      <td>32.98</td>\n",
              "      <td>1.06</td>\n",
              "      <td>29.06</td>\n",
              "      <td>NaN</td>\n",
              "      <td>85.0</td>\n",
              "      <td>Satisfactory</td>\n",
              "    </tr>\n",
              "    <tr>\n",
              "      <th>6123</th>\n",
              "      <td>Bengaluru</td>\n",
              "      <td>2020-01-04</td>\n",
              "      <td>52.62</td>\n",
              "      <td>106.81</td>\n",
              "      <td>15.46</td>\n",
              "      <td>31.56</td>\n",
              "      <td>41.89</td>\n",
              "      <td>14.59</td>\n",
              "      <td>1.39</td>\n",
              "      <td>6.94</td>\n",
              "      <td>37.35</td>\n",
              "      <td>1.50</td>\n",
              "      <td>35.36</td>\n",
              "      <td>NaN</td>\n",
              "      <td>95.0</td>\n",
              "      <td>Satisfactory</td>\n",
              "    </tr>\n",
              "    <tr>\n",
              "      <th>6124</th>\n",
              "      <td>Bengaluru</td>\n",
              "      <td>2020-01-05</td>\n",
              "      <td>52.64</td>\n",
              "      <td>97.94</td>\n",
              "      <td>6.86</td>\n",
              "      <td>29.10</td>\n",
              "      <td>29.52</td>\n",
              "      <td>15.68</td>\n",
              "      <td>1.01</td>\n",
              "      <td>7.01</td>\n",
              "      <td>45.10</td>\n",
              "      <td>1.19</td>\n",
              "      <td>39.99</td>\n",
              "      <td>NaN</td>\n",
              "      <td>118.0</td>\n",
              "      <td>Moderate</td>\n",
              "    </tr>\n",
              "    <tr>\n",
              "      <th>...</th>\n",
              "      <td>...</td>\n",
              "      <td>...</td>\n",
              "      <td>...</td>\n",
              "      <td>...</td>\n",
              "      <td>...</td>\n",
              "      <td>...</td>\n",
              "      <td>...</td>\n",
              "      <td>...</td>\n",
              "      <td>...</td>\n",
              "      <td>...</td>\n",
              "      <td>...</td>\n",
              "      <td>...</td>\n",
              "      <td>...</td>\n",
              "      <td>...</td>\n",
              "      <td>...</td>\n",
              "      <td>...</td>\n",
              "    </tr>\n",
              "    <tr>\n",
              "      <th>6298</th>\n",
              "      <td>Bengaluru</td>\n",
              "      <td>2020-06-27</td>\n",
              "      <td>16.60</td>\n",
              "      <td>29.48</td>\n",
              "      <td>3.06</td>\n",
              "      <td>13.68</td>\n",
              "      <td>13.07</td>\n",
              "      <td>6.88</td>\n",
              "      <td>0.67</td>\n",
              "      <td>7.29</td>\n",
              "      <td>15.69</td>\n",
              "      <td>0.21</td>\n",
              "      <td>1.18</td>\n",
              "      <td>NaN</td>\n",
              "      <td>51.0</td>\n",
              "      <td>Satisfactory</td>\n",
              "    </tr>\n",
              "    <tr>\n",
              "      <th>6299</th>\n",
              "      <td>Bengaluru</td>\n",
              "      <td>2020-06-28</td>\n",
              "      <td>20.44</td>\n",
              "      <td>26.34</td>\n",
              "      <td>2.69</td>\n",
              "      <td>10.33</td>\n",
              "      <td>10.58</td>\n",
              "      <td>6.58</td>\n",
              "      <td>0.66</td>\n",
              "      <td>6.60</td>\n",
              "      <td>17.59</td>\n",
              "      <td>0.12</td>\n",
              "      <td>0.94</td>\n",
              "      <td>NaN</td>\n",
              "      <td>61.0</td>\n",
              "      <td>Satisfactory</td>\n",
              "    </tr>\n",
              "    <tr>\n",
              "      <th>6300</th>\n",
              "      <td>Bengaluru</td>\n",
              "      <td>2020-06-29</td>\n",
              "      <td>28.68</td>\n",
              "      <td>29.27</td>\n",
              "      <td>3.62</td>\n",
              "      <td>12.12</td>\n",
              "      <td>12.94</td>\n",
              "      <td>6.80</td>\n",
              "      <td>0.56</td>\n",
              "      <td>6.33</td>\n",
              "      <td>16.99</td>\n",
              "      <td>0.17</td>\n",
              "      <td>1.17</td>\n",
              "      <td>NaN</td>\n",
              "      <td>65.0</td>\n",
              "      <td>Satisfactory</td>\n",
              "    </tr>\n",
              "    <tr>\n",
              "      <th>6301</th>\n",
              "      <td>Bengaluru</td>\n",
              "      <td>2020-06-30</td>\n",
              "      <td>14.47</td>\n",
              "      <td>24.26</td>\n",
              "      <td>4.61</td>\n",
              "      <td>12.69</td>\n",
              "      <td>15.00</td>\n",
              "      <td>6.82</td>\n",
              "      <td>0.56</td>\n",
              "      <td>6.45</td>\n",
              "      <td>16.08</td>\n",
              "      <td>0.18</td>\n",
              "      <td>0.86</td>\n",
              "      <td>NaN</td>\n",
              "      <td>63.0</td>\n",
              "      <td>Satisfactory</td>\n",
              "    </tr>\n",
              "    <tr>\n",
              "      <th>6302</th>\n",
              "      <td>Bengaluru</td>\n",
              "      <td>2020-07-01</td>\n",
              "      <td>17.50</td>\n",
              "      <td>30.48</td>\n",
              "      <td>3.95</td>\n",
              "      <td>13.25</td>\n",
              "      <td>14.83</td>\n",
              "      <td>7.42</td>\n",
              "      <td>0.54</td>\n",
              "      <td>6.66</td>\n",
              "      <td>15.40</td>\n",
              "      <td>0.27</td>\n",
              "      <td>0.65</td>\n",
              "      <td>NaN</td>\n",
              "      <td>43.0</td>\n",
              "      <td>Good</td>\n",
              "    </tr>\n",
              "  </tbody>\n",
              "</table>\n",
              "<p>183 rows × 16 columns</p>\n",
              "</div>"
            ],
            "text/plain": [
              "           City        Date  PM2.5  ...  Xylene    AQI    AQI_Bucket\n",
              "6120  Bengaluru  2020-01-01  30.71  ...     NaN   82.0  Satisfactory\n",
              "6121  Bengaluru  2020-01-02  25.78  ...     NaN   81.0  Satisfactory\n",
              "6122  Bengaluru  2020-01-03  29.66  ...     NaN   85.0  Satisfactory\n",
              "6123  Bengaluru  2020-01-04  52.62  ...     NaN   95.0  Satisfactory\n",
              "6124  Bengaluru  2020-01-05  52.64  ...     NaN  118.0      Moderate\n",
              "...         ...         ...    ...  ...     ...    ...           ...\n",
              "6298  Bengaluru  2020-06-27  16.60  ...     NaN   51.0  Satisfactory\n",
              "6299  Bengaluru  2020-06-28  20.44  ...     NaN   61.0  Satisfactory\n",
              "6300  Bengaluru  2020-06-29  28.68  ...     NaN   65.0  Satisfactory\n",
              "6301  Bengaluru  2020-06-30  14.47  ...     NaN   63.0  Satisfactory\n",
              "6302  Bengaluru  2020-07-01  17.50  ...     NaN   43.0          Good\n",
              "\n",
              "[183 rows x 16 columns]"
            ]
          },
          "metadata": {},
          "execution_count": 73
        }
      ]
    },
    {
      "cell_type": "code",
      "metadata": {
        "id": "fk4OqU5ELlYa"
      },
      "source": [
        "pollutants = pollutants.reset_index(drop=True)\n",
        "pollutants['Date'] = pd.to_datetime(pollutants['Date'], format='%Y-%m-%d')\n",
        "pollutants = pollutants.set_index('Date')\n",
        "pollutants = pollutants.drop(columns=['City', 'NH3','NO', 'Benzene',\t'Toluene',\t'Xylene', 'AQI_Bucket'])"
      ],
      "execution_count": null,
      "outputs": []
    },
    {
      "cell_type": "code",
      "metadata": {
        "colab": {
          "base_uri": "https://localhost:8080/"
        },
        "id": "lYNe6dcPaMoO",
        "outputId": "db86b546-0516-40a0-a19a-f2e0227718df"
      },
      "source": [
        "pollutants.iloc[-1,:]"
      ],
      "execution_count": null,
      "outputs": [
        {
          "output_type": "execute_result",
          "data": {
            "text/plain": [
              "PM2.5    17.50\n",
              "PM10     30.48\n",
              "NO2      13.25\n",
              "NOx      14.83\n",
              "CO        0.54\n",
              "SO2       6.66\n",
              "O3       15.40\n",
              "AQI      43.00\n",
              "Name: 2020-07-01 00:00:00, dtype: float64"
            ]
          },
          "metadata": {},
          "execution_count": 75
        }
      ]
    },
    {
      "cell_type": "code",
      "metadata": {
        "id": "A4KtXsrUaARP"
      },
      "source": [
        "pollutants = pollutants.iloc[:-1,:]"
      ],
      "execution_count": null,
      "outputs": []
    },
    {
      "cell_type": "code",
      "metadata": {
        "id": "6Qv4jWigLlVj",
        "colab": {
          "base_uri": "https://localhost:8080/"
        },
        "outputId": "749ca40c-911a-4c15-827f-5255358d5f76"
      },
      "source": [
        "pollutants.shape"
      ],
      "execution_count": null,
      "outputs": [
        {
          "output_type": "execute_result",
          "data": {
            "text/plain": [
              "(182, 8)"
            ]
          },
          "metadata": {},
          "execution_count": 77
        }
      ]
    },
    {
      "cell_type": "code",
      "metadata": {
        "id": "P2Tsu-fCLlTo",
        "colab": {
          "base_uri": "https://localhost:8080/"
        },
        "outputId": "e6e43b81-0094-465f-c862-3671b2b00e7b"
      },
      "source": [
        "pollutants.head()"
      ],
      "execution_count": null,
      "outputs": [
        {
          "output_type": "execute_result",
          "data": {
            "text/html": [
              "<div>\n",
              "<style scoped>\n",
              "    .dataframe tbody tr th:only-of-type {\n",
              "        vertical-align: middle;\n",
              "    }\n",
              "\n",
              "    .dataframe tbody tr th {\n",
              "        vertical-align: top;\n",
              "    }\n",
              "\n",
              "    .dataframe thead th {\n",
              "        text-align: right;\n",
              "    }\n",
              "</style>\n",
              "<table border=\"1\" class=\"dataframe\">\n",
              "  <thead>\n",
              "    <tr style=\"text-align: right;\">\n",
              "      <th></th>\n",
              "      <th>PM2.5</th>\n",
              "      <th>PM10</th>\n",
              "      <th>NO2</th>\n",
              "      <th>NOx</th>\n",
              "      <th>CO</th>\n",
              "      <th>SO2</th>\n",
              "      <th>O3</th>\n",
              "      <th>AQI</th>\n",
              "    </tr>\n",
              "    <tr>\n",
              "      <th>Date</th>\n",
              "      <th></th>\n",
              "      <th></th>\n",
              "      <th></th>\n",
              "      <th></th>\n",
              "      <th></th>\n",
              "      <th></th>\n",
              "      <th></th>\n",
              "      <th></th>\n",
              "    </tr>\n",
              "  </thead>\n",
              "  <tbody>\n",
              "    <tr>\n",
              "      <th>2020-01-01</th>\n",
              "      <td>30.71</td>\n",
              "      <td>70.80</td>\n",
              "      <td>27.31</td>\n",
              "      <td>26.74</td>\n",
              "      <td>1.07</td>\n",
              "      <td>8.56</td>\n",
              "      <td>37.39</td>\n",
              "      <td>82.0</td>\n",
              "    </tr>\n",
              "    <tr>\n",
              "      <th>2020-01-02</th>\n",
              "      <td>25.78</td>\n",
              "      <td>62.73</td>\n",
              "      <td>28.05</td>\n",
              "      <td>30.18</td>\n",
              "      <td>1.16</td>\n",
              "      <td>7.52</td>\n",
              "      <td>33.11</td>\n",
              "      <td>81.0</td>\n",
              "    </tr>\n",
              "    <tr>\n",
              "      <th>2020-01-03</th>\n",
              "      <td>29.66</td>\n",
              "      <td>69.62</td>\n",
              "      <td>26.26</td>\n",
              "      <td>26.92</td>\n",
              "      <td>0.99</td>\n",
              "      <td>6.40</td>\n",
              "      <td>32.98</td>\n",
              "      <td>85.0</td>\n",
              "    </tr>\n",
              "    <tr>\n",
              "      <th>2020-01-04</th>\n",
              "      <td>52.62</td>\n",
              "      <td>106.81</td>\n",
              "      <td>31.56</td>\n",
              "      <td>41.89</td>\n",
              "      <td>1.39</td>\n",
              "      <td>6.94</td>\n",
              "      <td>37.35</td>\n",
              "      <td>95.0</td>\n",
              "    </tr>\n",
              "    <tr>\n",
              "      <th>2020-01-05</th>\n",
              "      <td>52.64</td>\n",
              "      <td>97.94</td>\n",
              "      <td>29.10</td>\n",
              "      <td>29.52</td>\n",
              "      <td>1.01</td>\n",
              "      <td>7.01</td>\n",
              "      <td>45.10</td>\n",
              "      <td>118.0</td>\n",
              "    </tr>\n",
              "  </tbody>\n",
              "</table>\n",
              "</div>"
            ],
            "text/plain": [
              "            PM2.5    PM10    NO2    NOx    CO   SO2     O3    AQI\n",
              "Date                                                             \n",
              "2020-01-01  30.71   70.80  27.31  26.74  1.07  8.56  37.39   82.0\n",
              "2020-01-02  25.78   62.73  28.05  30.18  1.16  7.52  33.11   81.0\n",
              "2020-01-03  29.66   69.62  26.26  26.92  0.99  6.40  32.98   85.0\n",
              "2020-01-04  52.62  106.81  31.56  41.89  1.39  6.94  37.35   95.0\n",
              "2020-01-05  52.64   97.94  29.10  29.52  1.01  7.01  45.10  118.0"
            ]
          },
          "metadata": {},
          "execution_count": 78
        }
      ]
    },
    {
      "cell_type": "code",
      "metadata": {
        "colab": {
          "base_uri": "https://localhost:8080/"
        },
        "id": "5M3LSLyxYuQC",
        "outputId": "4fa6fb9f-fd17-4048-eee1-7c778cdef739"
      },
      "source": [
        "pollutants.tail()"
      ],
      "execution_count": null,
      "outputs": [
        {
          "output_type": "execute_result",
          "data": {
            "text/html": [
              "<div>\n",
              "<style scoped>\n",
              "    .dataframe tbody tr th:only-of-type {\n",
              "        vertical-align: middle;\n",
              "    }\n",
              "\n",
              "    .dataframe tbody tr th {\n",
              "        vertical-align: top;\n",
              "    }\n",
              "\n",
              "    .dataframe thead th {\n",
              "        text-align: right;\n",
              "    }\n",
              "</style>\n",
              "<table border=\"1\" class=\"dataframe\">\n",
              "  <thead>\n",
              "    <tr style=\"text-align: right;\">\n",
              "      <th></th>\n",
              "      <th>PM2.5</th>\n",
              "      <th>PM10</th>\n",
              "      <th>NO2</th>\n",
              "      <th>NOx</th>\n",
              "      <th>CO</th>\n",
              "      <th>SO2</th>\n",
              "      <th>O3</th>\n",
              "      <th>AQI</th>\n",
              "    </tr>\n",
              "    <tr>\n",
              "      <th>Date</th>\n",
              "      <th></th>\n",
              "      <th></th>\n",
              "      <th></th>\n",
              "      <th></th>\n",
              "      <th></th>\n",
              "      <th></th>\n",
              "      <th></th>\n",
              "      <th></th>\n",
              "    </tr>\n",
              "  </thead>\n",
              "  <tbody>\n",
              "    <tr>\n",
              "      <th>2020-06-26</th>\n",
              "      <td>15.40</td>\n",
              "      <td>28.66</td>\n",
              "      <td>14.29</td>\n",
              "      <td>15.57</td>\n",
              "      <td>0.61</td>\n",
              "      <td>7.45</td>\n",
              "      <td>19.53</td>\n",
              "      <td>58.0</td>\n",
              "    </tr>\n",
              "    <tr>\n",
              "      <th>2020-06-27</th>\n",
              "      <td>16.60</td>\n",
              "      <td>29.48</td>\n",
              "      <td>13.68</td>\n",
              "      <td>13.07</td>\n",
              "      <td>0.67</td>\n",
              "      <td>7.29</td>\n",
              "      <td>15.69</td>\n",
              "      <td>51.0</td>\n",
              "    </tr>\n",
              "    <tr>\n",
              "      <th>2020-06-28</th>\n",
              "      <td>20.44</td>\n",
              "      <td>26.34</td>\n",
              "      <td>10.33</td>\n",
              "      <td>10.58</td>\n",
              "      <td>0.66</td>\n",
              "      <td>6.60</td>\n",
              "      <td>17.59</td>\n",
              "      <td>61.0</td>\n",
              "    </tr>\n",
              "    <tr>\n",
              "      <th>2020-06-29</th>\n",
              "      <td>28.68</td>\n",
              "      <td>29.27</td>\n",
              "      <td>12.12</td>\n",
              "      <td>12.94</td>\n",
              "      <td>0.56</td>\n",
              "      <td>6.33</td>\n",
              "      <td>16.99</td>\n",
              "      <td>65.0</td>\n",
              "    </tr>\n",
              "    <tr>\n",
              "      <th>2020-06-30</th>\n",
              "      <td>14.47</td>\n",
              "      <td>24.26</td>\n",
              "      <td>12.69</td>\n",
              "      <td>15.00</td>\n",
              "      <td>0.56</td>\n",
              "      <td>6.45</td>\n",
              "      <td>16.08</td>\n",
              "      <td>63.0</td>\n",
              "    </tr>\n",
              "  </tbody>\n",
              "</table>\n",
              "</div>"
            ],
            "text/plain": [
              "            PM2.5   PM10    NO2    NOx    CO   SO2     O3   AQI\n",
              "Date                                                           \n",
              "2020-06-26  15.40  28.66  14.29  15.57  0.61  7.45  19.53  58.0\n",
              "2020-06-27  16.60  29.48  13.68  13.07  0.67  7.29  15.69  51.0\n",
              "2020-06-28  20.44  26.34  10.33  10.58  0.66  6.60  17.59  61.0\n",
              "2020-06-29  28.68  29.27  12.12  12.94  0.56  6.33  16.99  65.0\n",
              "2020-06-30  14.47  24.26  12.69  15.00  0.56  6.45  16.08  63.0"
            ]
          },
          "metadata": {},
          "execution_count": 79
        }
      ]
    },
    {
      "cell_type": "code",
      "metadata": {
        "colab": {
          "base_uri": "https://localhost:8080/"
        },
        "id": "CdFwq6w6YuMU",
        "outputId": "cf65ba22-042d-40c5-d1e4-4b1e67243eab"
      },
      "source": [
        "climate = pd.read_csv('/content/drive/MyDrive/Datasets/climate-testing-dataset.csv')\n",
        "climate"
      ],
      "execution_count": null,
      "outputs": [
        {
          "output_type": "execute_result",
          "data": {
            "text/html": [
              "<div>\n",
              "<style scoped>\n",
              "    .dataframe tbody tr th:only-of-type {\n",
              "        vertical-align: middle;\n",
              "    }\n",
              "\n",
              "    .dataframe tbody tr th {\n",
              "        vertical-align: top;\n",
              "    }\n",
              "\n",
              "    .dataframe thead th {\n",
              "        text-align: right;\n",
              "    }\n",
              "</style>\n",
              "<table border=\"1\" class=\"dataframe\">\n",
              "  <thead>\n",
              "    <tr style=\"text-align: right;\">\n",
              "      <th></th>\n",
              "      <th>Date</th>\n",
              "      <th>T</th>\n",
              "      <th>TM</th>\n",
              "      <th>Tm</th>\n",
              "      <th>H</th>\n",
              "      <th>VV</th>\n",
              "      <th>V</th>\n",
              "      <th>VM</th>\n",
              "    </tr>\n",
              "  </thead>\n",
              "  <tbody>\n",
              "    <tr>\n",
              "      <th>0</th>\n",
              "      <td>01-01-2020</td>\n",
              "      <td>22.0</td>\n",
              "      <td>27.2</td>\n",
              "      <td>19.2</td>\n",
              "      <td>75</td>\n",
              "      <td>6.9</td>\n",
              "      <td>3.3</td>\n",
              "      <td>5.4</td>\n",
              "    </tr>\n",
              "    <tr>\n",
              "      <th>1</th>\n",
              "      <td>02-01-2020</td>\n",
              "      <td>22.2</td>\n",
              "      <td>26.0</td>\n",
              "      <td>19.4</td>\n",
              "      <td>77</td>\n",
              "      <td>5.5</td>\n",
              "      <td>2.0</td>\n",
              "      <td>5.4</td>\n",
              "    </tr>\n",
              "    <tr>\n",
              "      <th>2</th>\n",
              "      <td>03-01-2020</td>\n",
              "      <td>23.4</td>\n",
              "      <td>28.4</td>\n",
              "      <td>19.4</td>\n",
              "      <td>68</td>\n",
              "      <td>6.9</td>\n",
              "      <td>3.5</td>\n",
              "      <td>5.4</td>\n",
              "    </tr>\n",
              "    <tr>\n",
              "      <th>3</th>\n",
              "      <td>04-01-2020</td>\n",
              "      <td>23.6</td>\n",
              "      <td>30.5</td>\n",
              "      <td>19.0</td>\n",
              "      <td>63</td>\n",
              "      <td>6.3</td>\n",
              "      <td>1.3</td>\n",
              "      <td>3.5</td>\n",
              "    </tr>\n",
              "    <tr>\n",
              "      <th>4</th>\n",
              "      <td>05-01-2020</td>\n",
              "      <td>24.2</td>\n",
              "      <td>30.5</td>\n",
              "      <td>20.4</td>\n",
              "      <td>63</td>\n",
              "      <td>6.3</td>\n",
              "      <td>1.3</td>\n",
              "      <td>3.5</td>\n",
              "    </tr>\n",
              "    <tr>\n",
              "      <th>...</th>\n",
              "      <td>...</td>\n",
              "      <td>...</td>\n",
              "      <td>...</td>\n",
              "      <td>...</td>\n",
              "      <td>...</td>\n",
              "      <td>...</td>\n",
              "      <td>...</td>\n",
              "      <td>...</td>\n",
              "    </tr>\n",
              "    <tr>\n",
              "      <th>177</th>\n",
              "      <td>26-06-2020</td>\n",
              "      <td>24.2</td>\n",
              "      <td>30.4</td>\n",
              "      <td>20.4</td>\n",
              "      <td>79</td>\n",
              "      <td>7.7</td>\n",
              "      <td>3.7</td>\n",
              "      <td>9.4</td>\n",
              "    </tr>\n",
              "    <tr>\n",
              "      <th>178</th>\n",
              "      <td>27-06-2020</td>\n",
              "      <td>24.4</td>\n",
              "      <td>29.2</td>\n",
              "      <td>21.0</td>\n",
              "      <td>78</td>\n",
              "      <td>6.9</td>\n",
              "      <td>6.3</td>\n",
              "      <td>9.4</td>\n",
              "    </tr>\n",
              "    <tr>\n",
              "      <th>179</th>\n",
              "      <td>28-06-2020</td>\n",
              "      <td>24.8</td>\n",
              "      <td>29.0</td>\n",
              "      <td>21.4</td>\n",
              "      <td>78</td>\n",
              "      <td>5.5</td>\n",
              "      <td>5.4</td>\n",
              "      <td>9.4</td>\n",
              "    </tr>\n",
              "    <tr>\n",
              "      <th>180</th>\n",
              "      <td>29-06-2020</td>\n",
              "      <td>23.6</td>\n",
              "      <td>30.0</td>\n",
              "      <td>12.3</td>\n",
              "      <td>83</td>\n",
              "      <td>6.9</td>\n",
              "      <td>4.8</td>\n",
              "      <td>7.6</td>\n",
              "    </tr>\n",
              "    <tr>\n",
              "      <th>181</th>\n",
              "      <td>30-06-2020</td>\n",
              "      <td>24.6</td>\n",
              "      <td>29.0</td>\n",
              "      <td>21.0</td>\n",
              "      <td>74</td>\n",
              "      <td>6.9</td>\n",
              "      <td>7.2</td>\n",
              "      <td>-</td>\n",
              "    </tr>\n",
              "  </tbody>\n",
              "</table>\n",
              "<p>182 rows × 8 columns</p>\n",
              "</div>"
            ],
            "text/plain": [
              "           Date     T    TM    Tm   H   VV    V   VM\n",
              "0    01-01-2020  22.0  27.2  19.2  75  6.9  3.3  5.4\n",
              "1    02-01-2020  22.2  26.0  19.4  77  5.5  2.0  5.4\n",
              "2    03-01-2020  23.4  28.4  19.4  68  6.9  3.5  5.4\n",
              "3    04-01-2020  23.6  30.5  19.0  63  6.3  1.3  3.5\n",
              "4    05-01-2020  24.2  30.5  20.4  63  6.3  1.3  3.5\n",
              "..          ...   ...   ...   ...  ..  ...  ...  ...\n",
              "177  26-06-2020  24.2  30.4  20.4  79  7.7  3.7  9.4\n",
              "178  27-06-2020  24.4  29.2  21.0  78  6.9  6.3  9.4\n",
              "179  28-06-2020  24.8  29.0  21.4  78  5.5  5.4  9.4\n",
              "180  29-06-2020  23.6  30.0  12.3  83  6.9  4.8  7.6\n",
              "181  30-06-2020  24.6  29.0  21.0  74  6.9  7.2    -\n",
              "\n",
              "[182 rows x 8 columns]"
            ]
          },
          "metadata": {},
          "execution_count": 80
        }
      ]
    },
    {
      "cell_type": "code",
      "metadata": {
        "colab": {
          "base_uri": "https://localhost:8080/"
        },
        "id": "dsgZpX19YuKA",
        "outputId": "bc287c39-a50f-452b-8657-c8ff538a14ef"
      },
      "source": [
        "climate['Date'] = pd.to_datetime(climate['Date'], format='%d-%m-%Y')\n",
        "climate = climate.set_index('Date')\n",
        "climate = climate.drop(columns=['VM'])\n",
        "\n",
        "climate.head()"
      ],
      "execution_count": null,
      "outputs": [
        {
          "output_type": "execute_result",
          "data": {
            "text/html": [
              "<div>\n",
              "<style scoped>\n",
              "    .dataframe tbody tr th:only-of-type {\n",
              "        vertical-align: middle;\n",
              "    }\n",
              "\n",
              "    .dataframe tbody tr th {\n",
              "        vertical-align: top;\n",
              "    }\n",
              "\n",
              "    .dataframe thead th {\n",
              "        text-align: right;\n",
              "    }\n",
              "</style>\n",
              "<table border=\"1\" class=\"dataframe\">\n",
              "  <thead>\n",
              "    <tr style=\"text-align: right;\">\n",
              "      <th></th>\n",
              "      <th>T</th>\n",
              "      <th>TM</th>\n",
              "      <th>Tm</th>\n",
              "      <th>H</th>\n",
              "      <th>VV</th>\n",
              "      <th>V</th>\n",
              "    </tr>\n",
              "    <tr>\n",
              "      <th>Date</th>\n",
              "      <th></th>\n",
              "      <th></th>\n",
              "      <th></th>\n",
              "      <th></th>\n",
              "      <th></th>\n",
              "      <th></th>\n",
              "    </tr>\n",
              "  </thead>\n",
              "  <tbody>\n",
              "    <tr>\n",
              "      <th>2020-01-01</th>\n",
              "      <td>22.0</td>\n",
              "      <td>27.2</td>\n",
              "      <td>19.2</td>\n",
              "      <td>75</td>\n",
              "      <td>6.9</td>\n",
              "      <td>3.3</td>\n",
              "    </tr>\n",
              "    <tr>\n",
              "      <th>2020-01-02</th>\n",
              "      <td>22.2</td>\n",
              "      <td>26.0</td>\n",
              "      <td>19.4</td>\n",
              "      <td>77</td>\n",
              "      <td>5.5</td>\n",
              "      <td>2.0</td>\n",
              "    </tr>\n",
              "    <tr>\n",
              "      <th>2020-01-03</th>\n",
              "      <td>23.4</td>\n",
              "      <td>28.4</td>\n",
              "      <td>19.4</td>\n",
              "      <td>68</td>\n",
              "      <td>6.9</td>\n",
              "      <td>3.5</td>\n",
              "    </tr>\n",
              "    <tr>\n",
              "      <th>2020-01-04</th>\n",
              "      <td>23.6</td>\n",
              "      <td>30.5</td>\n",
              "      <td>19.0</td>\n",
              "      <td>63</td>\n",
              "      <td>6.3</td>\n",
              "      <td>1.3</td>\n",
              "    </tr>\n",
              "    <tr>\n",
              "      <th>2020-01-05</th>\n",
              "      <td>24.2</td>\n",
              "      <td>30.5</td>\n",
              "      <td>20.4</td>\n",
              "      <td>63</td>\n",
              "      <td>6.3</td>\n",
              "      <td>1.3</td>\n",
              "    </tr>\n",
              "  </tbody>\n",
              "</table>\n",
              "</div>"
            ],
            "text/plain": [
              "               T    TM    Tm   H   VV    V\n",
              "Date                                      \n",
              "2020-01-01  22.0  27.2  19.2  75  6.9  3.3\n",
              "2020-01-02  22.2  26.0  19.4  77  5.5  2.0\n",
              "2020-01-03  23.4  28.4  19.4  68  6.9  3.5\n",
              "2020-01-04  23.6  30.5  19.0  63  6.3  1.3\n",
              "2020-01-05  24.2  30.5  20.4  63  6.3  1.3"
            ]
          },
          "metadata": {},
          "execution_count": 81
        }
      ]
    },
    {
      "cell_type": "code",
      "metadata": {
        "colab": {
          "base_uri": "https://localhost:8080/"
        },
        "id": "BxBz3wWaYuH4",
        "outputId": "71854cf9-6fa6-4980-8c17-db87948a5978"
      },
      "source": [
        "climate.shape"
      ],
      "execution_count": null,
      "outputs": [
        {
          "output_type": "execute_result",
          "data": {
            "text/plain": [
              "(182, 6)"
            ]
          },
          "metadata": {},
          "execution_count": 82
        }
      ]
    },
    {
      "cell_type": "code",
      "metadata": {
        "colab": {
          "base_uri": "https://localhost:8080/"
        },
        "id": "l1VblH0Pb8dY",
        "outputId": "a1aa3d66-fe43-49e4-ef59-ec35f5fa677c"
      },
      "source": [
        "(climate.index==pollutants.index).all() "
      ],
      "execution_count": null,
      "outputs": [
        {
          "output_type": "execute_result",
          "data": {
            "text/plain": [
              "True"
            ]
          },
          "metadata": {},
          "execution_count": 83
        }
      ]
    },
    {
      "cell_type": "code",
      "metadata": {
        "colab": {
          "base_uri": "https://localhost:8080/"
        },
        "id": "2kpBRRAOb8ad",
        "outputId": "730e4487-e12a-41c8-a937-b19e6a23edab"
      },
      "source": [
        "test_df = pd.concat([pollutants, climate], axis = 1)\n",
        "test_df.head()"
      ],
      "execution_count": null,
      "outputs": [
        {
          "output_type": "execute_result",
          "data": {
            "text/html": [
              "<div>\n",
              "<style scoped>\n",
              "    .dataframe tbody tr th:only-of-type {\n",
              "        vertical-align: middle;\n",
              "    }\n",
              "\n",
              "    .dataframe tbody tr th {\n",
              "        vertical-align: top;\n",
              "    }\n",
              "\n",
              "    .dataframe thead th {\n",
              "        text-align: right;\n",
              "    }\n",
              "</style>\n",
              "<table border=\"1\" class=\"dataframe\">\n",
              "  <thead>\n",
              "    <tr style=\"text-align: right;\">\n",
              "      <th></th>\n",
              "      <th>PM2.5</th>\n",
              "      <th>PM10</th>\n",
              "      <th>NO2</th>\n",
              "      <th>NOx</th>\n",
              "      <th>CO</th>\n",
              "      <th>SO2</th>\n",
              "      <th>O3</th>\n",
              "      <th>AQI</th>\n",
              "      <th>T</th>\n",
              "      <th>TM</th>\n",
              "      <th>Tm</th>\n",
              "      <th>H</th>\n",
              "      <th>VV</th>\n",
              "      <th>V</th>\n",
              "    </tr>\n",
              "    <tr>\n",
              "      <th>Date</th>\n",
              "      <th></th>\n",
              "      <th></th>\n",
              "      <th></th>\n",
              "      <th></th>\n",
              "      <th></th>\n",
              "      <th></th>\n",
              "      <th></th>\n",
              "      <th></th>\n",
              "      <th></th>\n",
              "      <th></th>\n",
              "      <th></th>\n",
              "      <th></th>\n",
              "      <th></th>\n",
              "      <th></th>\n",
              "    </tr>\n",
              "  </thead>\n",
              "  <tbody>\n",
              "    <tr>\n",
              "      <th>2020-01-01</th>\n",
              "      <td>30.71</td>\n",
              "      <td>70.80</td>\n",
              "      <td>27.31</td>\n",
              "      <td>26.74</td>\n",
              "      <td>1.07</td>\n",
              "      <td>8.56</td>\n",
              "      <td>37.39</td>\n",
              "      <td>82.0</td>\n",
              "      <td>22.0</td>\n",
              "      <td>27.2</td>\n",
              "      <td>19.2</td>\n",
              "      <td>75</td>\n",
              "      <td>6.9</td>\n",
              "      <td>3.3</td>\n",
              "    </tr>\n",
              "    <tr>\n",
              "      <th>2020-01-02</th>\n",
              "      <td>25.78</td>\n",
              "      <td>62.73</td>\n",
              "      <td>28.05</td>\n",
              "      <td>30.18</td>\n",
              "      <td>1.16</td>\n",
              "      <td>7.52</td>\n",
              "      <td>33.11</td>\n",
              "      <td>81.0</td>\n",
              "      <td>22.2</td>\n",
              "      <td>26.0</td>\n",
              "      <td>19.4</td>\n",
              "      <td>77</td>\n",
              "      <td>5.5</td>\n",
              "      <td>2.0</td>\n",
              "    </tr>\n",
              "    <tr>\n",
              "      <th>2020-01-03</th>\n",
              "      <td>29.66</td>\n",
              "      <td>69.62</td>\n",
              "      <td>26.26</td>\n",
              "      <td>26.92</td>\n",
              "      <td>0.99</td>\n",
              "      <td>6.40</td>\n",
              "      <td>32.98</td>\n",
              "      <td>85.0</td>\n",
              "      <td>23.4</td>\n",
              "      <td>28.4</td>\n",
              "      <td>19.4</td>\n",
              "      <td>68</td>\n",
              "      <td>6.9</td>\n",
              "      <td>3.5</td>\n",
              "    </tr>\n",
              "    <tr>\n",
              "      <th>2020-01-04</th>\n",
              "      <td>52.62</td>\n",
              "      <td>106.81</td>\n",
              "      <td>31.56</td>\n",
              "      <td>41.89</td>\n",
              "      <td>1.39</td>\n",
              "      <td>6.94</td>\n",
              "      <td>37.35</td>\n",
              "      <td>95.0</td>\n",
              "      <td>23.6</td>\n",
              "      <td>30.5</td>\n",
              "      <td>19.0</td>\n",
              "      <td>63</td>\n",
              "      <td>6.3</td>\n",
              "      <td>1.3</td>\n",
              "    </tr>\n",
              "    <tr>\n",
              "      <th>2020-01-05</th>\n",
              "      <td>52.64</td>\n",
              "      <td>97.94</td>\n",
              "      <td>29.10</td>\n",
              "      <td>29.52</td>\n",
              "      <td>1.01</td>\n",
              "      <td>7.01</td>\n",
              "      <td>45.10</td>\n",
              "      <td>118.0</td>\n",
              "      <td>24.2</td>\n",
              "      <td>30.5</td>\n",
              "      <td>20.4</td>\n",
              "      <td>63</td>\n",
              "      <td>6.3</td>\n",
              "      <td>1.3</td>\n",
              "    </tr>\n",
              "  </tbody>\n",
              "</table>\n",
              "</div>"
            ],
            "text/plain": [
              "            PM2.5    PM10    NO2    NOx    CO  ...    TM    Tm   H   VV    V\n",
              "Date                                           ...                          \n",
              "2020-01-01  30.71   70.80  27.31  26.74  1.07  ...  27.2  19.2  75  6.9  3.3\n",
              "2020-01-02  25.78   62.73  28.05  30.18  1.16  ...  26.0  19.4  77  5.5  2.0\n",
              "2020-01-03  29.66   69.62  26.26  26.92  0.99  ...  28.4  19.4  68  6.9  3.5\n",
              "2020-01-04  52.62  106.81  31.56  41.89  1.39  ...  30.5  19.0  63  6.3  1.3\n",
              "2020-01-05  52.64   97.94  29.10  29.52  1.01  ...  30.5  20.4  63  6.3  1.3\n",
              "\n",
              "[5 rows x 14 columns]"
            ]
          },
          "metadata": {},
          "execution_count": 84
        }
      ]
    },
    {
      "cell_type": "code",
      "metadata": {
        "colab": {
          "base_uri": "https://localhost:8080/"
        },
        "id": "gJQh8EEjb8YX",
        "outputId": "01c1d4e2-8026-4960-b15e-67cd015d3472"
      },
      "source": [
        "test_df.shape"
      ],
      "execution_count": null,
      "outputs": [
        {
          "output_type": "execute_result",
          "data": {
            "text/plain": [
              "(182, 14)"
            ]
          },
          "metadata": {},
          "execution_count": 85
        }
      ]
    },
    {
      "cell_type": "code",
      "metadata": {
        "colab": {
          "base_uri": "https://localhost:8080/"
        },
        "id": "aaS2qZh4b8WL",
        "outputId": "c197faf5-d37f-44f2-9e97-6285e8a073b8"
      },
      "source": [
        "test_target = test_df['AQI']\n",
        "test_target.head()"
      ],
      "execution_count": null,
      "outputs": [
        {
          "output_type": "execute_result",
          "data": {
            "text/plain": [
              "Date\n",
              "2020-01-01     82.0\n",
              "2020-01-02     81.0\n",
              "2020-01-03     85.0\n",
              "2020-01-04     95.0\n",
              "2020-01-05    118.0\n",
              "Name: AQI, dtype: float64"
            ]
          },
          "metadata": {},
          "execution_count": 86
        }
      ]
    },
    {
      "cell_type": "code",
      "metadata": {
        "colab": {
          "base_uri": "https://localhost:8080/"
        },
        "id": "qFiNxcLpb8Tv",
        "outputId": "aaffb5d0-cc2b-44ab-a12a-840a92f815f7"
      },
      "source": [
        "test_target.shape"
      ],
      "execution_count": null,
      "outputs": [
        {
          "output_type": "execute_result",
          "data": {
            "text/plain": [
              "(182,)"
            ]
          },
          "metadata": {},
          "execution_count": 87
        }
      ]
    },
    {
      "cell_type": "code",
      "metadata": {
        "id": "KLEgaOr_b8Ra"
      },
      "source": [
        "test_df.rename(columns={'T':'temp', 'TM':'max_temp','Tm':'min_temp','H':'humid','VV':'visible','V':'wind'}, inplace = True)"
      ],
      "execution_count": null,
      "outputs": []
    },
    {
      "cell_type": "code",
      "metadata": {
        "colab": {
          "base_uri": "https://localhost:8080/"
        },
        "id": "3TvWVzOwYuFo",
        "outputId": "0518b396-607e-46a6-d300-bb636311e591"
      },
      "source": [
        "test_df.head()"
      ],
      "execution_count": null,
      "outputs": [
        {
          "output_type": "execute_result",
          "data": {
            "text/html": [
              "<div>\n",
              "<style scoped>\n",
              "    .dataframe tbody tr th:only-of-type {\n",
              "        vertical-align: middle;\n",
              "    }\n",
              "\n",
              "    .dataframe tbody tr th {\n",
              "        vertical-align: top;\n",
              "    }\n",
              "\n",
              "    .dataframe thead th {\n",
              "        text-align: right;\n",
              "    }\n",
              "</style>\n",
              "<table border=\"1\" class=\"dataframe\">\n",
              "  <thead>\n",
              "    <tr style=\"text-align: right;\">\n",
              "      <th></th>\n",
              "      <th>PM2.5</th>\n",
              "      <th>PM10</th>\n",
              "      <th>NO2</th>\n",
              "      <th>NOx</th>\n",
              "      <th>CO</th>\n",
              "      <th>SO2</th>\n",
              "      <th>O3</th>\n",
              "      <th>AQI</th>\n",
              "      <th>temp</th>\n",
              "      <th>max_temp</th>\n",
              "      <th>min_temp</th>\n",
              "      <th>humid</th>\n",
              "      <th>visible</th>\n",
              "      <th>wind</th>\n",
              "    </tr>\n",
              "    <tr>\n",
              "      <th>Date</th>\n",
              "      <th></th>\n",
              "      <th></th>\n",
              "      <th></th>\n",
              "      <th></th>\n",
              "      <th></th>\n",
              "      <th></th>\n",
              "      <th></th>\n",
              "      <th></th>\n",
              "      <th></th>\n",
              "      <th></th>\n",
              "      <th></th>\n",
              "      <th></th>\n",
              "      <th></th>\n",
              "      <th></th>\n",
              "    </tr>\n",
              "  </thead>\n",
              "  <tbody>\n",
              "    <tr>\n",
              "      <th>2020-01-01</th>\n",
              "      <td>30.71</td>\n",
              "      <td>70.80</td>\n",
              "      <td>27.31</td>\n",
              "      <td>26.74</td>\n",
              "      <td>1.07</td>\n",
              "      <td>8.56</td>\n",
              "      <td>37.39</td>\n",
              "      <td>82.0</td>\n",
              "      <td>22.0</td>\n",
              "      <td>27.2</td>\n",
              "      <td>19.2</td>\n",
              "      <td>75</td>\n",
              "      <td>6.9</td>\n",
              "      <td>3.3</td>\n",
              "    </tr>\n",
              "    <tr>\n",
              "      <th>2020-01-02</th>\n",
              "      <td>25.78</td>\n",
              "      <td>62.73</td>\n",
              "      <td>28.05</td>\n",
              "      <td>30.18</td>\n",
              "      <td>1.16</td>\n",
              "      <td>7.52</td>\n",
              "      <td>33.11</td>\n",
              "      <td>81.0</td>\n",
              "      <td>22.2</td>\n",
              "      <td>26.0</td>\n",
              "      <td>19.4</td>\n",
              "      <td>77</td>\n",
              "      <td>5.5</td>\n",
              "      <td>2.0</td>\n",
              "    </tr>\n",
              "    <tr>\n",
              "      <th>2020-01-03</th>\n",
              "      <td>29.66</td>\n",
              "      <td>69.62</td>\n",
              "      <td>26.26</td>\n",
              "      <td>26.92</td>\n",
              "      <td>0.99</td>\n",
              "      <td>6.40</td>\n",
              "      <td>32.98</td>\n",
              "      <td>85.0</td>\n",
              "      <td>23.4</td>\n",
              "      <td>28.4</td>\n",
              "      <td>19.4</td>\n",
              "      <td>68</td>\n",
              "      <td>6.9</td>\n",
              "      <td>3.5</td>\n",
              "    </tr>\n",
              "    <tr>\n",
              "      <th>2020-01-04</th>\n",
              "      <td>52.62</td>\n",
              "      <td>106.81</td>\n",
              "      <td>31.56</td>\n",
              "      <td>41.89</td>\n",
              "      <td>1.39</td>\n",
              "      <td>6.94</td>\n",
              "      <td>37.35</td>\n",
              "      <td>95.0</td>\n",
              "      <td>23.6</td>\n",
              "      <td>30.5</td>\n",
              "      <td>19.0</td>\n",
              "      <td>63</td>\n",
              "      <td>6.3</td>\n",
              "      <td>1.3</td>\n",
              "    </tr>\n",
              "    <tr>\n",
              "      <th>2020-01-05</th>\n",
              "      <td>52.64</td>\n",
              "      <td>97.94</td>\n",
              "      <td>29.10</td>\n",
              "      <td>29.52</td>\n",
              "      <td>1.01</td>\n",
              "      <td>7.01</td>\n",
              "      <td>45.10</td>\n",
              "      <td>118.0</td>\n",
              "      <td>24.2</td>\n",
              "      <td>30.5</td>\n",
              "      <td>20.4</td>\n",
              "      <td>63</td>\n",
              "      <td>6.3</td>\n",
              "      <td>1.3</td>\n",
              "    </tr>\n",
              "  </tbody>\n",
              "</table>\n",
              "</div>"
            ],
            "text/plain": [
              "            PM2.5    PM10    NO2    NOx  ...  min_temp  humid  visible  wind\n",
              "Date                                     ...                                \n",
              "2020-01-01  30.71   70.80  27.31  26.74  ...      19.2     75      6.9   3.3\n",
              "2020-01-02  25.78   62.73  28.05  30.18  ...      19.4     77      5.5   2.0\n",
              "2020-01-03  29.66   69.62  26.26  26.92  ...      19.4     68      6.9   3.5\n",
              "2020-01-04  52.62  106.81  31.56  41.89  ...      19.0     63      6.3   1.3\n",
              "2020-01-05  52.64   97.94  29.10  29.52  ...      20.4     63      6.3   1.3\n",
              "\n",
              "[5 rows x 14 columns]"
            ]
          },
          "metadata": {},
          "execution_count": 89
        }
      ]
    },
    {
      "cell_type": "code",
      "metadata": {
        "colab": {
          "base_uri": "https://localhost:8080/"
        },
        "id": "kbn1Bwz-cWbS",
        "outputId": "d53414fd-eba0-48e8-9146-848ba35c05e8"
      },
      "source": [
        "test_df.info()"
      ],
      "execution_count": null,
      "outputs": [
        {
          "output_type": "stream",
          "name": "stdout",
          "text": [
            "<class 'pandas.core.frame.DataFrame'>\n",
            "DatetimeIndex: 182 entries, 2020-01-01 to 2020-06-30\n",
            "Data columns (total 14 columns):\n",
            " #   Column    Non-Null Count  Dtype  \n",
            "---  ------    --------------  -----  \n",
            " 0   PM2.5     182 non-null    float64\n",
            " 1   PM10      182 non-null    float64\n",
            " 2   NO2       182 non-null    float64\n",
            " 3   NOx       182 non-null    float64\n",
            " 4   CO        182 non-null    float64\n",
            " 5   SO2       182 non-null    float64\n",
            " 6   O3        182 non-null    float64\n",
            " 7   AQI       182 non-null    float64\n",
            " 8   temp      182 non-null    float64\n",
            " 9   max_temp  182 non-null    float64\n",
            " 10  min_temp  182 non-null    float64\n",
            " 11  humid     182 non-null    int64  \n",
            " 12  visible   182 non-null    float64\n",
            " 13  wind      182 non-null    float64\n",
            "dtypes: float64(13), int64(1)\n",
            "memory usage: 21.3 KB\n"
          ]
        }
      ]
    },
    {
      "cell_type": "code",
      "metadata": {
        "colab": {
          "base_uri": "https://localhost:8080/"
        },
        "id": "or7hlOa4cYN8",
        "outputId": "04c56149-8da1-4272-8180-ff34bb74e630"
      },
      "source": [
        "df['humid'].astype('float64')\n",
        "test_df.head()"
      ],
      "execution_count": null,
      "outputs": [
        {
          "output_type": "execute_result",
          "data": {
            "text/html": [
              "<div>\n",
              "<style scoped>\n",
              "    .dataframe tbody tr th:only-of-type {\n",
              "        vertical-align: middle;\n",
              "    }\n",
              "\n",
              "    .dataframe tbody tr th {\n",
              "        vertical-align: top;\n",
              "    }\n",
              "\n",
              "    .dataframe thead th {\n",
              "        text-align: right;\n",
              "    }\n",
              "</style>\n",
              "<table border=\"1\" class=\"dataframe\">\n",
              "  <thead>\n",
              "    <tr style=\"text-align: right;\">\n",
              "      <th></th>\n",
              "      <th>PM2.5</th>\n",
              "      <th>PM10</th>\n",
              "      <th>NO2</th>\n",
              "      <th>NOx</th>\n",
              "      <th>CO</th>\n",
              "      <th>SO2</th>\n",
              "      <th>O3</th>\n",
              "      <th>AQI</th>\n",
              "      <th>temp</th>\n",
              "      <th>max_temp</th>\n",
              "      <th>min_temp</th>\n",
              "      <th>humid</th>\n",
              "      <th>visible</th>\n",
              "      <th>wind</th>\n",
              "    </tr>\n",
              "    <tr>\n",
              "      <th>Date</th>\n",
              "      <th></th>\n",
              "      <th></th>\n",
              "      <th></th>\n",
              "      <th></th>\n",
              "      <th></th>\n",
              "      <th></th>\n",
              "      <th></th>\n",
              "      <th></th>\n",
              "      <th></th>\n",
              "      <th></th>\n",
              "      <th></th>\n",
              "      <th></th>\n",
              "      <th></th>\n",
              "      <th></th>\n",
              "    </tr>\n",
              "  </thead>\n",
              "  <tbody>\n",
              "    <tr>\n",
              "      <th>2020-01-01</th>\n",
              "      <td>30.71</td>\n",
              "      <td>70.80</td>\n",
              "      <td>27.31</td>\n",
              "      <td>26.74</td>\n",
              "      <td>1.07</td>\n",
              "      <td>8.56</td>\n",
              "      <td>37.39</td>\n",
              "      <td>82.0</td>\n",
              "      <td>22.0</td>\n",
              "      <td>27.2</td>\n",
              "      <td>19.2</td>\n",
              "      <td>75</td>\n",
              "      <td>6.9</td>\n",
              "      <td>3.3</td>\n",
              "    </tr>\n",
              "    <tr>\n",
              "      <th>2020-01-02</th>\n",
              "      <td>25.78</td>\n",
              "      <td>62.73</td>\n",
              "      <td>28.05</td>\n",
              "      <td>30.18</td>\n",
              "      <td>1.16</td>\n",
              "      <td>7.52</td>\n",
              "      <td>33.11</td>\n",
              "      <td>81.0</td>\n",
              "      <td>22.2</td>\n",
              "      <td>26.0</td>\n",
              "      <td>19.4</td>\n",
              "      <td>77</td>\n",
              "      <td>5.5</td>\n",
              "      <td>2.0</td>\n",
              "    </tr>\n",
              "    <tr>\n",
              "      <th>2020-01-03</th>\n",
              "      <td>29.66</td>\n",
              "      <td>69.62</td>\n",
              "      <td>26.26</td>\n",
              "      <td>26.92</td>\n",
              "      <td>0.99</td>\n",
              "      <td>6.40</td>\n",
              "      <td>32.98</td>\n",
              "      <td>85.0</td>\n",
              "      <td>23.4</td>\n",
              "      <td>28.4</td>\n",
              "      <td>19.4</td>\n",
              "      <td>68</td>\n",
              "      <td>6.9</td>\n",
              "      <td>3.5</td>\n",
              "    </tr>\n",
              "    <tr>\n",
              "      <th>2020-01-04</th>\n",
              "      <td>52.62</td>\n",
              "      <td>106.81</td>\n",
              "      <td>31.56</td>\n",
              "      <td>41.89</td>\n",
              "      <td>1.39</td>\n",
              "      <td>6.94</td>\n",
              "      <td>37.35</td>\n",
              "      <td>95.0</td>\n",
              "      <td>23.6</td>\n",
              "      <td>30.5</td>\n",
              "      <td>19.0</td>\n",
              "      <td>63</td>\n",
              "      <td>6.3</td>\n",
              "      <td>1.3</td>\n",
              "    </tr>\n",
              "    <tr>\n",
              "      <th>2020-01-05</th>\n",
              "      <td>52.64</td>\n",
              "      <td>97.94</td>\n",
              "      <td>29.10</td>\n",
              "      <td>29.52</td>\n",
              "      <td>1.01</td>\n",
              "      <td>7.01</td>\n",
              "      <td>45.10</td>\n",
              "      <td>118.0</td>\n",
              "      <td>24.2</td>\n",
              "      <td>30.5</td>\n",
              "      <td>20.4</td>\n",
              "      <td>63</td>\n",
              "      <td>6.3</td>\n",
              "      <td>1.3</td>\n",
              "    </tr>\n",
              "  </tbody>\n",
              "</table>\n",
              "</div>"
            ],
            "text/plain": [
              "            PM2.5    PM10    NO2    NOx  ...  min_temp  humid  visible  wind\n",
              "Date                                     ...                                \n",
              "2020-01-01  30.71   70.80  27.31  26.74  ...      19.2     75      6.9   3.3\n",
              "2020-01-02  25.78   62.73  28.05  30.18  ...      19.4     77      5.5   2.0\n",
              "2020-01-03  29.66   69.62  26.26  26.92  ...      19.4     68      6.9   3.5\n",
              "2020-01-04  52.62  106.81  31.56  41.89  ...      19.0     63      6.3   1.3\n",
              "2020-01-05  52.64   97.94  29.10  29.52  ...      20.4     63      6.3   1.3\n",
              "\n",
              "[5 rows x 14 columns]"
            ]
          },
          "metadata": {},
          "execution_count": 91
        }
      ]
    },
    {
      "cell_type": "code",
      "metadata": {
        "colab": {
          "base_uri": "https://localhost:8080/"
        },
        "id": "ZiOpcjiKcwx1",
        "outputId": "c6a134fc-6ea2-4bf4-94e6-8b85c97211c9"
      },
      "source": [
        "test_df.info()"
      ],
      "execution_count": null,
      "outputs": [
        {
          "output_type": "stream",
          "name": "stdout",
          "text": [
            "<class 'pandas.core.frame.DataFrame'>\n",
            "DatetimeIndex: 182 entries, 2020-01-01 to 2020-06-30\n",
            "Data columns (total 14 columns):\n",
            " #   Column    Non-Null Count  Dtype  \n",
            "---  ------    --------------  -----  \n",
            " 0   PM2.5     182 non-null    float64\n",
            " 1   PM10      182 non-null    float64\n",
            " 2   NO2       182 non-null    float64\n",
            " 3   NOx       182 non-null    float64\n",
            " 4   CO        182 non-null    float64\n",
            " 5   SO2       182 non-null    float64\n",
            " 6   O3        182 non-null    float64\n",
            " 7   AQI       182 non-null    float64\n",
            " 8   temp      182 non-null    float64\n",
            " 9   max_temp  182 non-null    float64\n",
            " 10  min_temp  182 non-null    float64\n",
            " 11  humid     182 non-null    int64  \n",
            " 12  visible   182 non-null    float64\n",
            " 13  wind      182 non-null    float64\n",
            "dtypes: float64(13), int64(1)\n",
            "memory usage: 21.3 KB\n"
          ]
        }
      ]
    },
    {
      "cell_type": "code",
      "metadata": {
        "colab": {
          "base_uri": "https://localhost:8080/"
        },
        "id": "lqfgvdiVdARf",
        "outputId": "2abd34b9-9155-46e1-ad9f-339f0a9cf2bf"
      },
      "source": [
        "test_df.describe()"
      ],
      "execution_count": null,
      "outputs": [
        {
          "output_type": "execute_result",
          "data": {
            "text/html": [
              "<div>\n",
              "<style scoped>\n",
              "    .dataframe tbody tr th:only-of-type {\n",
              "        vertical-align: middle;\n",
              "    }\n",
              "\n",
              "    .dataframe tbody tr th {\n",
              "        vertical-align: top;\n",
              "    }\n",
              "\n",
              "    .dataframe thead th {\n",
              "        text-align: right;\n",
              "    }\n",
              "</style>\n",
              "<table border=\"1\" class=\"dataframe\">\n",
              "  <thead>\n",
              "    <tr style=\"text-align: right;\">\n",
              "      <th></th>\n",
              "      <th>PM2.5</th>\n",
              "      <th>PM10</th>\n",
              "      <th>NO2</th>\n",
              "      <th>NOx</th>\n",
              "      <th>CO</th>\n",
              "      <th>SO2</th>\n",
              "      <th>O3</th>\n",
              "      <th>AQI</th>\n",
              "      <th>temp</th>\n",
              "      <th>max_temp</th>\n",
              "      <th>min_temp</th>\n",
              "      <th>humid</th>\n",
              "      <th>visible</th>\n",
              "      <th>wind</th>\n",
              "    </tr>\n",
              "  </thead>\n",
              "  <tbody>\n",
              "    <tr>\n",
              "      <th>count</th>\n",
              "      <td>182.000000</td>\n",
              "      <td>182.000000</td>\n",
              "      <td>182.000000</td>\n",
              "      <td>182.000000</td>\n",
              "      <td>182.000000</td>\n",
              "      <td>182.000000</td>\n",
              "      <td>182.000000</td>\n",
              "      <td>182.000000</td>\n",
              "      <td>182.000000</td>\n",
              "      <td>182.000000</td>\n",
              "      <td>182.000000</td>\n",
              "      <td>182.000000</td>\n",
              "      <td>182.000000</td>\n",
              "      <td>182.000000</td>\n",
              "    </tr>\n",
              "    <tr>\n",
              "      <th>mean</th>\n",
              "      <td>30.536703</td>\n",
              "      <td>67.232473</td>\n",
              "      <td>21.455000</td>\n",
              "      <td>22.636154</td>\n",
              "      <td>0.873132</td>\n",
              "      <td>6.875495</td>\n",
              "      <td>35.748626</td>\n",
              "      <td>79.917582</td>\n",
              "      <td>25.422527</td>\n",
              "      <td>32.191209</td>\n",
              "      <td>20.293407</td>\n",
              "      <td>56.510989</td>\n",
              "      <td>6.662637</td>\n",
              "      <td>3.563736</td>\n",
              "    </tr>\n",
              "    <tr>\n",
              "      <th>std</th>\n",
              "      <td>12.255324</td>\n",
              "      <td>24.453075</td>\n",
              "      <td>10.194596</td>\n",
              "      <td>10.470600</td>\n",
              "      <td>0.198321</td>\n",
              "      <td>1.090536</td>\n",
              "      <td>11.404644</td>\n",
              "      <td>19.336760</td>\n",
              "      <td>2.068492</td>\n",
              "      <td>2.322299</td>\n",
              "      <td>2.314442</td>\n",
              "      <td>14.027494</td>\n",
              "      <td>0.619864</td>\n",
              "      <td>2.092925</td>\n",
              "    </tr>\n",
              "    <tr>\n",
              "      <th>min</th>\n",
              "      <td>8.950000</td>\n",
              "      <td>19.340000</td>\n",
              "      <td>8.990000</td>\n",
              "      <td>9.400000</td>\n",
              "      <td>0.540000</td>\n",
              "      <td>4.440000</td>\n",
              "      <td>12.340000</td>\n",
              "      <td>40.000000</td>\n",
              "      <td>20.800000</td>\n",
              "      <td>26.000000</td>\n",
              "      <td>12.300000</td>\n",
              "      <td>29.000000</td>\n",
              "      <td>4.000000</td>\n",
              "      <td>0.000000</td>\n",
              "    </tr>\n",
              "    <tr>\n",
              "      <th>25%</th>\n",
              "      <td>20.620000</td>\n",
              "      <td>49.900000</td>\n",
              "      <td>13.127500</td>\n",
              "      <td>14.505000</td>\n",
              "      <td>0.720000</td>\n",
              "      <td>6.192500</td>\n",
              "      <td>29.947500</td>\n",
              "      <td>66.000000</td>\n",
              "      <td>23.725000</td>\n",
              "      <td>30.400000</td>\n",
              "      <td>18.650000</td>\n",
              "      <td>46.000000</td>\n",
              "      <td>6.300000</td>\n",
              "      <td>2.000000</td>\n",
              "    </tr>\n",
              "    <tr>\n",
              "      <th>50%</th>\n",
              "      <td>28.010000</td>\n",
              "      <td>65.310000</td>\n",
              "      <td>17.340000</td>\n",
              "      <td>17.230000</td>\n",
              "      <td>0.850000</td>\n",
              "      <td>6.850000</td>\n",
              "      <td>36.870000</td>\n",
              "      <td>77.000000</td>\n",
              "      <td>25.200000</td>\n",
              "      <td>32.400000</td>\n",
              "      <td>20.750000</td>\n",
              "      <td>55.000000</td>\n",
              "      <td>6.900000</td>\n",
              "      <td>3.100000</td>\n",
              "    </tr>\n",
              "    <tr>\n",
              "      <th>75%</th>\n",
              "      <td>39.472500</td>\n",
              "      <td>84.680000</td>\n",
              "      <td>29.072500</td>\n",
              "      <td>30.342500</td>\n",
              "      <td>1.037500</td>\n",
              "      <td>7.285000</td>\n",
              "      <td>43.837500</td>\n",
              "      <td>94.750000</td>\n",
              "      <td>27.175000</td>\n",
              "      <td>34.000000</td>\n",
              "      <td>22.000000</td>\n",
              "      <td>68.000000</td>\n",
              "      <td>6.900000</td>\n",
              "      <td>4.375000</td>\n",
              "    </tr>\n",
              "    <tr>\n",
              "      <th>max</th>\n",
              "      <td>70.780000</td>\n",
              "      <td>154.340000</td>\n",
              "      <td>54.430000</td>\n",
              "      <td>56.070000</td>\n",
              "      <td>1.390000</td>\n",
              "      <td>13.040000</td>\n",
              "      <td>61.010000</td>\n",
              "      <td>137.000000</td>\n",
              "      <td>29.600000</td>\n",
              "      <td>36.400000</td>\n",
              "      <td>24.600000</td>\n",
              "      <td>83.000000</td>\n",
              "      <td>8.900000</td>\n",
              "      <td>11.300000</td>\n",
              "    </tr>\n",
              "  </tbody>\n",
              "</table>\n",
              "</div>"
            ],
            "text/plain": [
              "            PM2.5        PM10         NO2  ...       humid     visible        wind\n",
              "count  182.000000  182.000000  182.000000  ...  182.000000  182.000000  182.000000\n",
              "mean    30.536703   67.232473   21.455000  ...   56.510989    6.662637    3.563736\n",
              "std     12.255324   24.453075   10.194596  ...   14.027494    0.619864    2.092925\n",
              "min      8.950000   19.340000    8.990000  ...   29.000000    4.000000    0.000000\n",
              "25%     20.620000   49.900000   13.127500  ...   46.000000    6.300000    2.000000\n",
              "50%     28.010000   65.310000   17.340000  ...   55.000000    6.900000    3.100000\n",
              "75%     39.472500   84.680000   29.072500  ...   68.000000    6.900000    4.375000\n",
              "max     70.780000  154.340000   54.430000  ...   83.000000    8.900000   11.300000\n",
              "\n",
              "[8 rows x 14 columns]"
            ]
          },
          "metadata": {},
          "execution_count": 93
        }
      ]
    },
    {
      "cell_type": "code",
      "metadata": {
        "colab": {
          "base_uri": "https://localhost:8080/"
        },
        "id": "hTqzLfSwdALi",
        "outputId": "f3e6454a-e93a-4eb5-d1bd-bb8121b710eb"
      },
      "source": [
        "test_df.isnull().sum(axis=0)"
      ],
      "execution_count": null,
      "outputs": [
        {
          "output_type": "execute_result",
          "data": {
            "text/plain": [
              "PM2.5       0\n",
              "PM10        0\n",
              "NO2         0\n",
              "NOx         0\n",
              "CO          0\n",
              "SO2         0\n",
              "O3          0\n",
              "AQI         0\n",
              "temp        0\n",
              "max_temp    0\n",
              "min_temp    0\n",
              "humid       0\n",
              "visible     0\n",
              "wind        0\n",
              "dtype: int64"
            ]
          },
          "metadata": {},
          "execution_count": 94
        }
      ]
    },
    {
      "cell_type": "code",
      "metadata": {
        "colab": {
          "base_uri": "https://localhost:8080/"
        },
        "id": "1K1I-AUodAI9",
        "outputId": "6c10985b-d2bb-4ad5-dfb0-82bde6bd9dcc"
      },
      "source": [
        "test_df = test_df.drop(columns=['AQI'])\n",
        "test_df.head()"
      ],
      "execution_count": null,
      "outputs": [
        {
          "output_type": "execute_result",
          "data": {
            "text/html": [
              "<div>\n",
              "<style scoped>\n",
              "    .dataframe tbody tr th:only-of-type {\n",
              "        vertical-align: middle;\n",
              "    }\n",
              "\n",
              "    .dataframe tbody tr th {\n",
              "        vertical-align: top;\n",
              "    }\n",
              "\n",
              "    .dataframe thead th {\n",
              "        text-align: right;\n",
              "    }\n",
              "</style>\n",
              "<table border=\"1\" class=\"dataframe\">\n",
              "  <thead>\n",
              "    <tr style=\"text-align: right;\">\n",
              "      <th></th>\n",
              "      <th>PM2.5</th>\n",
              "      <th>PM10</th>\n",
              "      <th>NO2</th>\n",
              "      <th>NOx</th>\n",
              "      <th>CO</th>\n",
              "      <th>SO2</th>\n",
              "      <th>O3</th>\n",
              "      <th>temp</th>\n",
              "      <th>max_temp</th>\n",
              "      <th>min_temp</th>\n",
              "      <th>humid</th>\n",
              "      <th>visible</th>\n",
              "      <th>wind</th>\n",
              "    </tr>\n",
              "    <tr>\n",
              "      <th>Date</th>\n",
              "      <th></th>\n",
              "      <th></th>\n",
              "      <th></th>\n",
              "      <th></th>\n",
              "      <th></th>\n",
              "      <th></th>\n",
              "      <th></th>\n",
              "      <th></th>\n",
              "      <th></th>\n",
              "      <th></th>\n",
              "      <th></th>\n",
              "      <th></th>\n",
              "      <th></th>\n",
              "    </tr>\n",
              "  </thead>\n",
              "  <tbody>\n",
              "    <tr>\n",
              "      <th>2020-01-01</th>\n",
              "      <td>30.71</td>\n",
              "      <td>70.80</td>\n",
              "      <td>27.31</td>\n",
              "      <td>26.74</td>\n",
              "      <td>1.07</td>\n",
              "      <td>8.56</td>\n",
              "      <td>37.39</td>\n",
              "      <td>22.0</td>\n",
              "      <td>27.2</td>\n",
              "      <td>19.2</td>\n",
              "      <td>75</td>\n",
              "      <td>6.9</td>\n",
              "      <td>3.3</td>\n",
              "    </tr>\n",
              "    <tr>\n",
              "      <th>2020-01-02</th>\n",
              "      <td>25.78</td>\n",
              "      <td>62.73</td>\n",
              "      <td>28.05</td>\n",
              "      <td>30.18</td>\n",
              "      <td>1.16</td>\n",
              "      <td>7.52</td>\n",
              "      <td>33.11</td>\n",
              "      <td>22.2</td>\n",
              "      <td>26.0</td>\n",
              "      <td>19.4</td>\n",
              "      <td>77</td>\n",
              "      <td>5.5</td>\n",
              "      <td>2.0</td>\n",
              "    </tr>\n",
              "    <tr>\n",
              "      <th>2020-01-03</th>\n",
              "      <td>29.66</td>\n",
              "      <td>69.62</td>\n",
              "      <td>26.26</td>\n",
              "      <td>26.92</td>\n",
              "      <td>0.99</td>\n",
              "      <td>6.40</td>\n",
              "      <td>32.98</td>\n",
              "      <td>23.4</td>\n",
              "      <td>28.4</td>\n",
              "      <td>19.4</td>\n",
              "      <td>68</td>\n",
              "      <td>6.9</td>\n",
              "      <td>3.5</td>\n",
              "    </tr>\n",
              "    <tr>\n",
              "      <th>2020-01-04</th>\n",
              "      <td>52.62</td>\n",
              "      <td>106.81</td>\n",
              "      <td>31.56</td>\n",
              "      <td>41.89</td>\n",
              "      <td>1.39</td>\n",
              "      <td>6.94</td>\n",
              "      <td>37.35</td>\n",
              "      <td>23.6</td>\n",
              "      <td>30.5</td>\n",
              "      <td>19.0</td>\n",
              "      <td>63</td>\n",
              "      <td>6.3</td>\n",
              "      <td>1.3</td>\n",
              "    </tr>\n",
              "    <tr>\n",
              "      <th>2020-01-05</th>\n",
              "      <td>52.64</td>\n",
              "      <td>97.94</td>\n",
              "      <td>29.10</td>\n",
              "      <td>29.52</td>\n",
              "      <td>1.01</td>\n",
              "      <td>7.01</td>\n",
              "      <td>45.10</td>\n",
              "      <td>24.2</td>\n",
              "      <td>30.5</td>\n",
              "      <td>20.4</td>\n",
              "      <td>63</td>\n",
              "      <td>6.3</td>\n",
              "      <td>1.3</td>\n",
              "    </tr>\n",
              "  </tbody>\n",
              "</table>\n",
              "</div>"
            ],
            "text/plain": [
              "            PM2.5    PM10    NO2    NOx  ...  min_temp  humid  visible  wind\n",
              "Date                                     ...                                \n",
              "2020-01-01  30.71   70.80  27.31  26.74  ...      19.2     75      6.9   3.3\n",
              "2020-01-02  25.78   62.73  28.05  30.18  ...      19.4     77      5.5   2.0\n",
              "2020-01-03  29.66   69.62  26.26  26.92  ...      19.4     68      6.9   3.5\n",
              "2020-01-04  52.62  106.81  31.56  41.89  ...      19.0     63      6.3   1.3\n",
              "2020-01-05  52.64   97.94  29.10  29.52  ...      20.4     63      6.3   1.3\n",
              "\n",
              "[5 rows x 13 columns]"
            ]
          },
          "metadata": {},
          "execution_count": 95
        }
      ]
    },
    {
      "cell_type": "code",
      "metadata": {
        "colab": {
          "base_uri": "https://localhost:8080/"
        },
        "id": "GrcHNaCLdAGe",
        "outputId": "a267763c-c913-4c5a-ad26-cbf113a3fb3b"
      },
      "source": [
        "test_df.shape, test_target.shape, "
      ],
      "execution_count": null,
      "outputs": [
        {
          "output_type": "execute_result",
          "data": {
            "text/plain": [
              "((182, 13), (182,))"
            ]
          },
          "metadata": {},
          "execution_count": 96
        }
      ]
    },
    {
      "cell_type": "code",
      "metadata": {
        "id": "livN7C58dAEF"
      },
      "source": [
        "# test_df.to_csv('test_x.csv')\n",
        "# test_target.to_csv('test_y.csv')"
      ],
      "execution_count": null,
      "outputs": []
    },
    {
      "cell_type": "markdown",
      "metadata": {
        "id": "1f_Nf4cgi6rn"
      },
      "source": [
        "# Predict"
      ]
    },
    {
      "cell_type": "code",
      "metadata": {
        "id": "9PYqrvu1dAB6"
      },
      "source": [
        "X_test_scaler = sc.transform(test_df)\n",
        "Y_test_scaler = sc_target.transform(test_target.values.reshape(-1,1))\n",
        "# StandardScaler take 2D array"
      ],
      "execution_count": null,
      "outputs": []
    },
    {
      "cell_type": "code",
      "metadata": {
        "colab": {
          "base_uri": "https://localhost:8080/"
        },
        "id": "ctF2wXeY3Emv",
        "outputId": "3e52d954-5bf7-4517-ac3f-267fc6825db3"
      },
      "source": [
        "prev = 7\n",
        "future = 1\n",
        "start = 0\n",
        "end = X_test_scaler.shape[0]-1\n",
        "\n",
        "X_test, Y_test = custom_dataset(X_test_scaler, Y_test_scaler, start, end, prev, future)\n",
        "X_test[:1]"
      ],
      "execution_count": null,
      "outputs": [
        {
          "output_type": "execute_result",
          "data": {
            "text/plain": [
              "array([[[-0.30608406, -0.401794  , -0.28244328,  0.3561131 ,\n",
              "          0.00853702,  1.51029735,  0.14968843, -0.99177223,\n",
              "         -1.07949334, -0.28642997,  0.72217157,  0.46374624,\n",
              "         -0.47013156],\n",
              "        [-0.49939129, -0.609596  , -0.22470681,  0.57869583,\n",
              "          0.05325295,  1.04411409, -0.09110081, -0.90495093,\n",
              "         -1.48879921, -0.20027528,  0.85166595, -1.73990861,\n",
              "         -0.95248086],\n",
              "        [-0.34725497, -0.43217893, -0.36436665,  0.36775987,\n",
              "         -0.03121047,  0.54207057, -0.0984145 , -0.3840231 ,\n",
              "         -0.67018747, -0.20027528,  0.26894123,  0.46374624,\n",
              "         -0.39592398],\n",
              "        [ 0.55301565,  0.52546125,  0.04915132,  1.33638297,\n",
              "          0.167527  ,  0.78412726,  0.14743806, -0.2972018 ,\n",
              "          0.0460978 , -0.37258466, -0.05479473, -0.48067727,\n",
              "         -1.2122074 ],\n",
              "        [ 0.55379986,  0.2970593 , -0.14278344,  0.53599101,\n",
              "         -0.0212736 ,  0.81550498,  0.58344662, -0.03673788,\n",
              "          0.0460978 ,  0.23049818, -0.05479473, -0.48067727,\n",
              "         -1.2122074 ],\n",
              "        [-0.5401701 , -0.62633346, -0.26215749,  0.64340011,\n",
              "          0.0184739 ,  0.79757486, -0.53498565, -0.94836158,\n",
              "          0.14842427,  0.23049818,  0.91641314,  0.46374624,\n",
              "         -0.24750881],\n",
              "        [-0.62721717, -0.60393102, -0.07802496,  0.70486918,\n",
              "          0.00356859,  0.96791105, -0.34145411, -0.90495093,\n",
              "         -1.42058157, -0.45873935,  0.26894123, -0.48067727,\n",
              "          0.1606329 ]]])"
            ]
          },
          "metadata": {},
          "execution_count": 99
        }
      ]
    },
    {
      "cell_type": "code",
      "metadata": {
        "colab": {
          "base_uri": "https://localhost:8080/"
        },
        "id": "cYhIAcaX3Eha",
        "outputId": "524583a9-8554-454b-a67d-6be9b5432410"
      },
      "source": [
        "X_test.shape, Y_test.shape"
      ],
      "execution_count": null,
      "outputs": [
        {
          "output_type": "execute_result",
          "data": {
            "text/plain": [
              "((174, 7, 13), (174, 1, 1))"
            ]
          },
          "metadata": {},
          "execution_count": 100
        }
      ]
    },
    {
      "cell_type": "code",
      "metadata": {
        "id": "s1ZoaHM1c__y",
        "colab": {
          "base_uri": "https://localhost:8080/"
        },
        "outputId": "06ddfdd9-8276-4015-e1a1-628561fe61cb"
      },
      "source": [
        "X_test_tensor = Variable(torch.Tensor(X_test)) #converting to Tensors\n",
        "Y_test_tensor = Variable(torch.Tensor(Y_test))\n",
        "Y_test_tensor = torch.reshape(Y_test_tensor, (-1,future))\n",
        "Y_test_tensor[:2]"
      ],
      "execution_count": null,
      "outputs": [
        {
          "output_type": "execute_result",
          "data": {
            "text/plain": [
              "tensor([[0.0118],\n",
              "        [0.2212]])"
            ]
          },
          "metadata": {},
          "execution_count": 101
        }
      ]
    },
    {
      "cell_type": "code",
      "metadata": {
        "colab": {
          "base_uri": "https://localhost:8080/"
        },
        "id": "l0TjoVKfflk4",
        "outputId": "c7711208-cf43-4027-b903-65df88ca6681"
      },
      "source": [
        "X_test_tensor.size(), Y_test_tensor.size()\n",
        "# 3d, 2d"
      ],
      "execution_count": null,
      "outputs": [
        {
          "output_type": "execute_result",
          "data": {
            "text/plain": [
              "(torch.Size([174, 7, 13]), torch.Size([174, 1]))"
            ]
          },
          "metadata": {},
          "execution_count": 102
        }
      ]
    },
    {
      "cell_type": "code",
      "metadata": {
        "colab": {
          "base_uri": "https://localhost:8080/"
        },
        "id": "CQqM69p5flha",
        "outputId": "dbcd115e-94bc-4901-ae79-963e63d50690"
      },
      "source": [
        "test_predict = lstm1(X_test_tensor)\n",
        "test_predict[:10]"
      ],
      "execution_count": null,
      "outputs": [
        {
          "output_type": "execute_result",
          "data": {
            "text/plain": [
              "tensor([[-0.3328],\n",
              "        [-0.0480],\n",
              "        [ 0.0983],\n",
              "        [-0.0853],\n",
              "        [-0.4000],\n",
              "        [-0.1554],\n",
              "        [ 0.6985],\n",
              "        [ 0.7761],\n",
              "        [-0.0296],\n",
              "        [ 0.2397]], grad_fn=<SliceBackward0>)"
            ]
          },
          "metadata": {},
          "execution_count": 103
        }
      ]
    },
    {
      "cell_type": "code",
      "metadata": {
        "id": "154ndGzJnEkN"
      },
      "source": [
        "# Y_test_tensor = Y_test_tensor.reshape(-1,3)"
      ],
      "execution_count": null,
      "outputs": []
    },
    {
      "cell_type": "code",
      "metadata": {
        "colab": {
          "base_uri": "https://localhost:8080/"
        },
        "id": "1d8e8ogIflfU",
        "outputId": "396271a5-074e-4d81-aeeb-3593b986cba8"
      },
      "source": [
        "test_predict.size(), Y_test_tensor.size()"
      ],
      "execution_count": null,
      "outputs": [
        {
          "output_type": "execute_result",
          "data": {
            "text/plain": [
              "(torch.Size([174, 1]), torch.Size([174, 1]))"
            ]
          },
          "metadata": {},
          "execution_count": 105
        }
      ]
    },
    {
      "cell_type": "code",
      "metadata": {
        "colab": {
          "base_uri": "https://localhost:8080/"
        },
        "id": "cIMFtcWZflc8",
        "outputId": "6cae3727-144c-4035-b0ae-e5a7b0d3cf09"
      },
      "source": [
        "data_predict = test_predict.data.numpy() #numpy conversion\n",
        "\n",
        "data_predict = sc_target.inverse_transform(data_predict) \n",
        "data_predict[:10]"
      ],
      "execution_count": null,
      "outputs": [
        {
          "output_type": "execute_result",
          "data": {
            "text/plain": [
              "array([[ 79.8341  ],\n",
              "       [ 90.716225],\n",
              "       [ 96.30618 ],\n",
              "       [ 89.29163 ],\n",
              "       [ 77.264694],\n",
              "       [ 86.610535],\n",
              "       [119.238716],\n",
              "       [122.20153 ],\n",
              "       [ 91.420525],\n",
              "       [101.70818 ]], dtype=float32)"
            ]
          },
          "metadata": {},
          "execution_count": 106
        }
      ]
    },
    {
      "cell_type": "code",
      "metadata": {
        "colab": {
          "base_uri": "https://localhost:8080/"
        },
        "id": "iDvjbXIbflal",
        "outputId": "0f026025-65e0-4935-87f0-472ffd3245a6"
      },
      "source": [
        "data_actual = Y_test_tensor.data.numpy()\n",
        "data_actual = sc_target.inverse_transform(data_actual)\n",
        "data_actual[:10]"
      ],
      "execution_count": null,
      "outputs": [
        {
          "output_type": "execute_result",
          "data": {
            "text/plain": [
              "array([[ 93.],\n",
              "       [101.],\n",
              "       [ 94.],\n",
              "       [ 78.],\n",
              "       [ 79.],\n",
              "       [106.],\n",
              "       [121.],\n",
              "       [111.],\n",
              "       [114.],\n",
              "       [106.]], dtype=float32)"
            ]
          },
          "metadata": {},
          "execution_count": 107
        }
      ]
    },
    {
      "cell_type": "code",
      "metadata": {
        "colab": {
          "base_uri": "https://localhost:8080/"
        },
        "id": "mJ0421YehlA0",
        "outputId": "c9e7557c-acb2-4702-e463-e5256c3dd05a"
      },
      "source": [
        "data_predict.shape,data_actual.shape"
      ],
      "execution_count": null,
      "outputs": [
        {
          "output_type": "execute_result",
          "data": {
            "text/plain": [
              "((174, 1), (174, 1))"
            ]
          },
          "metadata": {},
          "execution_count": 108
        }
      ]
    },
    {
      "cell_type": "code",
      "metadata": {
        "id": "3H0x2xcl8ZBM"
      },
      "source": [
        "# data_predict = data_predict.flatten()\n",
        "# data_actual = data_actual.flatten()"
      ],
      "execution_count": null,
      "outputs": []
    },
    {
      "cell_type": "code",
      "metadata": {
        "id": "_rdLU9Co84cn"
      },
      "source": [
        "prediction = sc_target.transform(data_predict)\n",
        "test = sc_target.transform(data_actual)"
      ],
      "execution_count": null,
      "outputs": []
    },
    {
      "cell_type": "code",
      "metadata": {
        "colab": {
          "base_uri": "https://localhost:8080/"
        },
        "id": "PrBTr9ir84NB",
        "outputId": "1f1b5b3f-117b-4f51-dc73-bbc27cb98678"
      },
      "source": [
        "from sklearn.metrics import r2_score\n",
        "from sklearn.metrics import mean_absolute_error\n",
        "from sklearn.metrics import mean_squared_error\n",
        "\n",
        "r2 = r2_score(test,prediction)\n",
        "mse = mean_squared_error(test,prediction)\n",
        "mae = mean_absolute_error(test,prediction)\n",
        "rmse = np.sqrt(mse)\n",
        "\n",
        "print(\"R2 SCORE is\", r2)\n",
        "print(\"Mean Absolute Error is \", mae)\n",
        "print(\"Root mean squared error\",np.sqrt(rmse))"
      ],
      "execution_count": null,
      "outputs": [
        {
          "output_type": "stream",
          "name": "stdout",
          "text": [
            "R2 SCORE is 0.8024079292752164\n",
            "Mean Absolute Error is  0.1743705\n",
            "Root mean squared error 0.4753665\n"
          ]
        }
      ]
    },
    {
      "cell_type": "code",
      "metadata": {
        "colab": {
          "base_uri": "https://localhost:8080/",
          "height": 520
        },
        "id": "jSvlNCSD89I5",
        "outputId": "aaaaaa88-dacf-4911-8618-3ed83c37aaf3"
      },
      "source": [
        "result = pd.DataFrame()\n",
        "result[\"ACTUAL AQI\"] = data_actual.flatten()\n",
        "result[\"PREDICTED AQI\"] = data_predict\n",
        "result[\"DIFFERENCE\"] = result[\"ACTUAL AQI\"] - result[\"PREDICTED AQI\"]\n",
        "result[\"PERCENTAGE ERROR\"] = ( abs(result[\"ACTUAL AQI\"] - result[\"PREDICTED AQI\"] ) / result[\"ACTUAL AQI\"] ) * 100\n",
        "result.head(15)"
      ],
      "execution_count": null,
      "outputs": [
        {
          "output_type": "execute_result",
          "data": {
            "text/html": [
              "<div>\n",
              "<style scoped>\n",
              "    .dataframe tbody tr th:only-of-type {\n",
              "        vertical-align: middle;\n",
              "    }\n",
              "\n",
              "    .dataframe tbody tr th {\n",
              "        vertical-align: top;\n",
              "    }\n",
              "\n",
              "    .dataframe thead th {\n",
              "        text-align: right;\n",
              "    }\n",
              "</style>\n",
              "<table border=\"1\" class=\"dataframe\">\n",
              "  <thead>\n",
              "    <tr style=\"text-align: right;\">\n",
              "      <th></th>\n",
              "      <th>ACTUAL AQI</th>\n",
              "      <th>PREDICTED AQI</th>\n",
              "      <th>DIFFERENCE</th>\n",
              "      <th>PERCENTAGE ERROR</th>\n",
              "    </tr>\n",
              "  </thead>\n",
              "  <tbody>\n",
              "    <tr>\n",
              "      <th>0</th>\n",
              "      <td>93.0</td>\n",
              "      <td>79.834099</td>\n",
              "      <td>13.165901</td>\n",
              "      <td>14.156882</td>\n",
              "    </tr>\n",
              "    <tr>\n",
              "      <th>1</th>\n",
              "      <td>101.0</td>\n",
              "      <td>90.716225</td>\n",
              "      <td>10.283775</td>\n",
              "      <td>10.181956</td>\n",
              "    </tr>\n",
              "    <tr>\n",
              "      <th>2</th>\n",
              "      <td>94.0</td>\n",
              "      <td>96.306183</td>\n",
              "      <td>-2.306183</td>\n",
              "      <td>2.453386</td>\n",
              "    </tr>\n",
              "    <tr>\n",
              "      <th>3</th>\n",
              "      <td>78.0</td>\n",
              "      <td>89.291634</td>\n",
              "      <td>-11.291634</td>\n",
              "      <td>14.476453</td>\n",
              "    </tr>\n",
              "    <tr>\n",
              "      <th>4</th>\n",
              "      <td>79.0</td>\n",
              "      <td>77.264694</td>\n",
              "      <td>1.735306</td>\n",
              "      <td>2.196590</td>\n",
              "    </tr>\n",
              "    <tr>\n",
              "      <th>5</th>\n",
              "      <td>106.0</td>\n",
              "      <td>86.610535</td>\n",
              "      <td>19.389465</td>\n",
              "      <td>18.291948</td>\n",
              "    </tr>\n",
              "    <tr>\n",
              "      <th>6</th>\n",
              "      <td>121.0</td>\n",
              "      <td>119.238716</td>\n",
              "      <td>1.761284</td>\n",
              "      <td>1.455606</td>\n",
              "    </tr>\n",
              "    <tr>\n",
              "      <th>7</th>\n",
              "      <td>111.0</td>\n",
              "      <td>122.201530</td>\n",
              "      <td>-11.201530</td>\n",
              "      <td>10.091469</td>\n",
              "    </tr>\n",
              "    <tr>\n",
              "      <th>8</th>\n",
              "      <td>114.0</td>\n",
              "      <td>91.420525</td>\n",
              "      <td>22.579475</td>\n",
              "      <td>19.806559</td>\n",
              "    </tr>\n",
              "    <tr>\n",
              "      <th>9</th>\n",
              "      <td>106.0</td>\n",
              "      <td>101.708183</td>\n",
              "      <td>4.291817</td>\n",
              "      <td>4.048883</td>\n",
              "    </tr>\n",
              "    <tr>\n",
              "      <th>10</th>\n",
              "      <td>86.0</td>\n",
              "      <td>94.254997</td>\n",
              "      <td>-8.254997</td>\n",
              "      <td>9.598834</td>\n",
              "    </tr>\n",
              "    <tr>\n",
              "      <th>11</th>\n",
              "      <td>66.0</td>\n",
              "      <td>74.919205</td>\n",
              "      <td>-8.919205</td>\n",
              "      <td>13.513947</td>\n",
              "    </tr>\n",
              "    <tr>\n",
              "      <th>12</th>\n",
              "      <td>81.0</td>\n",
              "      <td>80.816925</td>\n",
              "      <td>0.183075</td>\n",
              "      <td>0.226018</td>\n",
              "    </tr>\n",
              "    <tr>\n",
              "      <th>13</th>\n",
              "      <td>90.0</td>\n",
              "      <td>92.619576</td>\n",
              "      <td>-2.619576</td>\n",
              "      <td>2.910640</td>\n",
              "    </tr>\n",
              "    <tr>\n",
              "      <th>14</th>\n",
              "      <td>87.0</td>\n",
              "      <td>91.858055</td>\n",
              "      <td>-4.858055</td>\n",
              "      <td>5.583972</td>\n",
              "    </tr>\n",
              "  </tbody>\n",
              "</table>\n",
              "</div>"
            ],
            "text/plain": [
              "    ACTUAL AQI  PREDICTED AQI  DIFFERENCE  PERCENTAGE ERROR\n",
              "0         93.0      79.834099   13.165901         14.156882\n",
              "1        101.0      90.716225   10.283775         10.181956\n",
              "2         94.0      96.306183   -2.306183          2.453386\n",
              "3         78.0      89.291634  -11.291634         14.476453\n",
              "4         79.0      77.264694    1.735306          2.196590\n",
              "5        106.0      86.610535   19.389465         18.291948\n",
              "6        121.0     119.238716    1.761284          1.455606\n",
              "7        111.0     122.201530  -11.201530         10.091469\n",
              "8        114.0      91.420525   22.579475         19.806559\n",
              "9        106.0     101.708183    4.291817          4.048883\n",
              "10        86.0      94.254997   -8.254997          9.598834\n",
              "11        66.0      74.919205   -8.919205         13.513947\n",
              "12        81.0      80.816925    0.183075          0.226018\n",
              "13        90.0      92.619576   -2.619576          2.910640\n",
              "14        87.0      91.858055   -4.858055          5.583972"
            ]
          },
          "metadata": {},
          "execution_count": 112
        }
      ]
    },
    {
      "cell_type": "code",
      "metadata": {
        "id": "7JBJUrJw6MI0",
        "colab": {
          "base_uri": "https://localhost:8080/",
          "height": 499
        },
        "outputId": "026d561a-984d-420d-9cb8-cb6306365fc2"
      },
      "source": [
        "df1 = pd.DataFrame({'Actual': data_actual[:135].flatten(), 'Predicted': data_predict[:135].flatten()})\n",
        "df1.plot(kind='line',figsize=(16,8))\n",
        "plt.grid(which='major', linestyle='-', linewidth='0.5', color='green')\n",
        "plt.grid(which='minor', linestyle=':', linewidth='0.5', color='black')\n",
        "plt.title('Actual vs Predicted AQI values in the year 2020')\n",
        "plt.ylabel('AQI')\n",
        "plt.show()"
      ],
      "execution_count": null,
      "outputs": [
        {
          "output_type": "display_data",
          "data": {
            "image/png": "[encoded data removed]",
            "text/plain": [
              "<Figure size 1152x576 with 1 Axes>"
            ]
          },
          "metadata": {
            "needs_background": "light"
          }
        }
      ]
    },
    {
      "cell_type": "code",
      "metadata": {
        "id": "ACemM7Nd8_xX"
      },
      "source": [
        ""
      ],
      "execution_count": null,
      "outputs": []
    }
  ]
}